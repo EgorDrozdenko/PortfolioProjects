{
 "cells": [
  {
   "cell_type": "markdown",
   "metadata": {},
   "source": [
    "## Some storytelling for a crowdfunding platform"
   ]
  },
  {
   "cell_type": "markdown",
   "metadata": {},
   "source": [
    "### Background information\n",
    "\n",
    "A start up has opened a year ago and now they want to take the next step and expand the services. The business model is to run a platform where people who have a business idea, but not the money needed, can sign up and raise money for their project within a given time. On the other hand, there are funders who would like to invest their money in projects. As an intermediary, the platform brings borrowers and lenders together. It earns money with a commission for each project that lands on the platform.\n",
    "\n",
    "The database is the history of the platform and consists of 2 parts that belong together. All projects are completed projects, i.e. the time to collect money for each of them has expired. The business model is to pay out the collected money even if the target amount was not reached. \n",
    "\n",
    "There are no duplicates in the data set.\n",
    "\n",
    "\n",
    "The split record contains the following columns (including description):\n",
    "\n",
    "    - funded_amount ... amount received at the end of the project collection period in USD\n",
    "    - loan_amount ... target amount (amount necessary for the project) in USD\n",
    "    - activity ... subcategory to which the goal of the project belongs thematically\n",
    "    - sector ... upper category to which the project belongs thematically\n",
    "    - use ... short description of what the money will be used for\n",
    "    - country_code ... country code according to ISO 3166 alpha-2 standard\n",
    "    - country ... country name according to ISO standard\n",
    "    - region ... region\n",
    "    - currency ... currency in which the funded_amount was then paid out\n",
    "    - term in months ... duration over which the loan was disbursed\n",
    "    - lender_count ... lender (i.e. how many people have given money for the project)\n",
    "    - borrower_genders ... gender and number of borrowers, i.e. those who initiated the project\n",
    "    - repayment interval ... repayment modalities/rhythm\n",
    "    \n",
    "\n",
    "#### The main question is: based on the facts represented in the dataset, where could opportunities for growth be found? Where can the company win or save money?"
   ]
  },
  {
   "cell_type": "markdown",
   "metadata": {},
   "source": [
    "#### Installing needed software"
   ]
  },
  {
   "cell_type": "code",
   "execution_count": 1,
   "metadata": {},
   "outputs": [
    {
     "data": {
      "text/html": [
       "        <script type=\"text/javascript\">\n",
       "        window.PlotlyConfig = {MathJaxConfig: 'local'};\n",
       "        if (window.MathJax) {MathJax.Hub.Config({SVG: {font: \"STIX-Web\"}});}\n",
       "        if (typeof require !== 'undefined') {\n",
       "        require.undef(\"plotly\");\n",
       "        requirejs.config({\n",
       "            paths: {\n",
       "                'plotly': ['https://cdn.plot.ly/plotly-latest.min']\n",
       "            }\n",
       "        });\n",
       "        require(['plotly'], function(Plotly) {\n",
       "            window._Plotly = Plotly;\n",
       "        });\n",
       "        }\n",
       "        </script>\n",
       "        "
      ]
     },
     "metadata": {},
     "output_type": "display_data"
    }
   ],
   "source": [
    "import pandas as pd\n",
    "import numpy as np\n",
    "import plotly.graph_objects as go\n",
    "import plotly.express as px\n",
    "from plotly.offline import init_notebook_mode, iplot\n",
    "init_notebook_mode(connected=True)"
   ]
  },
  {
   "cell_type": "code",
   "execution_count": 2,
   "metadata": {},
   "outputs": [
    {
     "name": "stdout",
     "output_type": "stream",
     "text": [
      "Requirement already satisfied: pycountry-convert in c:\\users\\user\\anaconda3\\lib\\site-packages (0.7.2)\n",
      "Requirement already satisfied: repoze.lru>=0.7 in c:\\users\\user\\anaconda3\\lib\\site-packages (from pycountry-convert) (0.7)\n",
      "Requirement already satisfied: pprintpp>=0.3.0 in c:\\users\\user\\anaconda3\\lib\\site-packages (from pycountry-convert) (0.4.0)\n",
      "Requirement already satisfied: pytest-mock>=1.6.3 in c:\\users\\user\\anaconda3\\lib\\site-packages (from pycountry-convert) (3.6.1)\n",
      "Requirement already satisfied: wheel>=0.30.0 in c:\\users\\user\\anaconda3\\lib\\site-packages (from pycountry-convert) (0.33.6)\n",
      "Requirement already satisfied: pycountry>=16.11.27.1 in c:\\users\\user\\anaconda3\\lib\\site-packages (from pycountry-convert) (20.7.3)\n",
      "Requirement already satisfied: pytest-cov>=2.5.1 in c:\\users\\user\\anaconda3\\lib\\site-packages (from pycountry-convert) (2.12.0)\n",
      "Requirement already satisfied: pytest>=3.4.0 in c:\\users\\user\\anaconda3\\lib\\site-packages (from pycountry-convert) (5.2.1)\n",
      "Requirement already satisfied: coverage[toml]>=5.2.1 in c:\\users\\user\\anaconda3\\lib\\site-packages (from pytest-cov>=2.5.1->pycountry-convert) (5.5)\n",
      "Requirement already satisfied: py>=1.5.0 in c:\\users\\user\\anaconda3\\lib\\site-packages (from pytest>=3.4.0->pycountry-convert) (1.8.0)\n",
      "Requirement already satisfied: packaging in c:\\users\\user\\anaconda3\\lib\\site-packages (from pytest>=3.4.0->pycountry-convert) (20.9)\n",
      "Requirement already satisfied: attrs>=17.4.0 in c:\\users\\user\\anaconda3\\lib\\site-packages (from pytest>=3.4.0->pycountry-convert) (19.2.0)\n",
      "Requirement already satisfied: more-itertools>=4.0.0 in c:\\users\\user\\anaconda3\\lib\\site-packages (from pytest>=3.4.0->pycountry-convert) (7.2.0)\n",
      "Requirement already satisfied: atomicwrites>=1.0 in c:\\users\\user\\anaconda3\\lib\\site-packages (from pytest>=3.4.0->pycountry-convert) (1.3.0)\n",
      "Requirement already satisfied: pluggy<1.0,>=0.12 in c:\\users\\user\\anaconda3\\lib\\site-packages (from pytest>=3.4.0->pycountry-convert) (0.13.0)\n",
      "Requirement already satisfied: wcwidth in c:\\users\\user\\anaconda3\\lib\\site-packages (from pytest>=3.4.0->pycountry-convert) (0.1.7)\n",
      "Requirement already satisfied: importlib-metadata>=0.12 in c:\\users\\user\\anaconda3\\lib\\site-packages (from pytest>=3.4.0->pycountry-convert) (0.23)\n",
      "Requirement already satisfied: colorama in c:\\users\\user\\anaconda3\\lib\\site-packages (from pytest>=3.4.0->pycountry-convert) (0.4.1)\n",
      "Requirement already satisfied: toml; extra == \"toml\" in c:\\users\\user\\anaconda3\\lib\\site-packages (from coverage[toml]>=5.2.1->pytest-cov>=2.5.1->pycountry-convert) (0.10.2)\n",
      "Requirement already satisfied: pyparsing>=2.0.2 in c:\\users\\user\\anaconda3\\lib\\site-packages (from packaging->pytest>=3.4.0->pycountry-convert) (2.4.2)\n",
      "Requirement already satisfied: zipp>=0.5 in c:\\users\\user\\anaconda3\\lib\\site-packages (from importlib-metadata>=0.12->pytest>=3.4.0->pycountry-convert) (0.6.0)\n"
     ]
    }
   ],
   "source": [
    "# Installing a convertor which will later generate ISO 3166-1 alpha-3 country codes.\n",
    "\n",
    "# Choropleth maps can work with country names (available in the dataset)\n",
    "# but in case of several dozens of countries the probability is high that some names won't be recognized by Plotly,\n",
    "# therefore I want to create ISO 3166 alpha-3 country codes based on existing alpha-2 country codes \n",
    "# - this should help reach unambiguity.\n",
    "\n",
    "!pip install pycountry-convert\n",
    "\n",
    "from pycountry_convert import country_alpha2_to_country_name, country_name_to_country_alpha3"
   ]
  },
  {
   "cell_type": "markdown",
   "metadata": {},
   "source": [
    "### Data preprocessing"
   ]
  },
  {
   "cell_type": "markdown",
   "metadata": {},
   "source": [
    "#### Examining the dataset"
   ]
  },
  {
   "cell_type": "code",
   "execution_count": 3,
   "metadata": {},
   "outputs": [],
   "source": [
    "# Reading the data\n",
    "df1 = pd.read_csv(\"part1.csv\", index_col=0)"
   ]
  },
  {
   "cell_type": "code",
   "execution_count": 4,
   "metadata": {
    "scrolled": true
   },
   "outputs": [
    {
     "name": "stdout",
     "output_type": "stream",
     "text": [
      "<class 'pandas.core.frame.DataFrame'>\n",
      "Int64Index: 335000 entries, 0 to 334999\n",
      "Data columns (total 13 columns):\n",
      "funded_amount         335000 non-null float64\n",
      "loan_amount           335000 non-null float64\n",
      "activity              335000 non-null object\n",
      "sector                335000 non-null object\n",
      "use                   331291 non-null object\n",
      "country_code          334998 non-null object\n",
      "country               335000 non-null object\n",
      "region                296293 non-null object\n",
      "currency              335000 non-null object\n",
      "term_in_months        335000 non-null float64\n",
      "lender_count          335000 non-null int64\n",
      "borrower_genders      331299 non-null object\n",
      "repayment_interval    335000 non-null object\n",
      "dtypes: float64(3), int64(1), object(9)\n",
      "memory usage: 35.8+ MB\n"
     ]
    }
   ],
   "source": [
    "df1.info()"
   ]
  },
  {
   "cell_type": "code",
   "execution_count": 5,
   "metadata": {},
   "outputs": [],
   "source": [
    "df2 = pd.read_csv(\"part2.csv\", sep=\"#\", index_col=0) # Specifying the separator - another one than in the first part"
   ]
  },
  {
   "cell_type": "code",
   "execution_count": 6,
   "metadata": {
    "scrolled": true
   },
   "outputs": [
    {
     "name": "stdout",
     "output_type": "stream",
     "text": [
      "<class 'pandas.core.frame.DataFrame'>\n",
      "Int64Index: 336205 entries, 0 to 336204\n",
      "Data columns (total 13 columns):\n",
      "funded_amount         336205 non-null float64\n",
      "loan_amount           336205 non-null float64\n",
      "activity              336205 non-null object\n",
      "sector                336205 non-null object\n",
      "use                   335682 non-null object\n",
      "country_code          336199 non-null object\n",
      "country               336205 non-null object\n",
      "region                318112 non-null object\n",
      "currency              336205 non-null object\n",
      "term_in_months        336205 non-null float64\n",
      "lender_count          336205 non-null int64\n",
      "borrower_genders      335685 non-null object\n",
      "repayment_interval    336205 non-null object\n",
      "dtypes: float64(3), int64(1), object(9)\n",
      "memory usage: 35.9+ MB\n"
     ]
    }
   ],
   "source": [
    "df2.info()"
   ]
  },
  {
   "cell_type": "code",
   "execution_count": 7,
   "metadata": {},
   "outputs": [],
   "source": [
    "# The datasets have the same structure. Concatenating them:\n",
    "df = pd.concat([df1, df2],ignore_index=True)"
   ]
  },
  {
   "cell_type": "code",
   "execution_count": 8,
   "metadata": {},
   "outputs": [
    {
     "name": "stdout",
     "output_type": "stream",
     "text": [
      "<class 'pandas.core.frame.DataFrame'>\n",
      "RangeIndex: 671205 entries, 0 to 671204\n",
      "Data columns (total 13 columns):\n",
      "funded_amount         671205 non-null float64\n",
      "loan_amount           671205 non-null float64\n",
      "activity              671205 non-null object\n",
      "sector                671205 non-null object\n",
      "use                   666973 non-null object\n",
      "country_code          671197 non-null object\n",
      "country               671205 non-null object\n",
      "region                614405 non-null object\n",
      "currency              671205 non-null object\n",
      "term_in_months        671205 non-null float64\n",
      "lender_count          671205 non-null int64\n",
      "borrower_genders      666984 non-null object\n",
      "repayment_interval    671205 non-null object\n",
      "dtypes: float64(3), int64(1), object(9)\n",
      "memory usage: 66.6+ MB\n"
     ]
    }
   ],
   "source": [
    "# examining the resulting dataset\n",
    "df.info()"
   ]
  },
  {
   "cell_type": "markdown",
   "metadata": {},
   "source": [
    "There are some missing values in \"use\", \"country_code\", \"region\", and \"borrower_genders\"."
   ]
  },
  {
   "cell_type": "code",
   "execution_count": 9,
   "metadata": {},
   "outputs": [
    {
     "data": {
      "text/html": [
       "<div>\n",
       "<style scoped>\n",
       "    .dataframe tbody tr th:only-of-type {\n",
       "        vertical-align: middle;\n",
       "    }\n",
       "\n",
       "    .dataframe tbody tr th {\n",
       "        vertical-align: top;\n",
       "    }\n",
       "\n",
       "    .dataframe thead th {\n",
       "        text-align: right;\n",
       "    }\n",
       "</style>\n",
       "<table border=\"1\" class=\"dataframe\">\n",
       "  <thead>\n",
       "    <tr style=\"text-align: right;\">\n",
       "      <th></th>\n",
       "      <th>funded_amount</th>\n",
       "      <th>loan_amount</th>\n",
       "      <th>term_in_months</th>\n",
       "      <th>lender_count</th>\n",
       "    </tr>\n",
       "  </thead>\n",
       "  <tbody>\n",
       "    <tr>\n",
       "      <td>count</td>\n",
       "      <td>671205.000000</td>\n",
       "      <td>671205.000000</td>\n",
       "      <td>671205.000000</td>\n",
       "      <td>671205.000000</td>\n",
       "    </tr>\n",
       "    <tr>\n",
       "      <td>mean</td>\n",
       "      <td>785.995061</td>\n",
       "      <td>842.397107</td>\n",
       "      <td>13.739022</td>\n",
       "      <td>20.590922</td>\n",
       "    </tr>\n",
       "    <tr>\n",
       "      <td>std</td>\n",
       "      <td>1130.398941</td>\n",
       "      <td>1198.660073</td>\n",
       "      <td>8.598919</td>\n",
       "      <td>28.459551</td>\n",
       "    </tr>\n",
       "    <tr>\n",
       "      <td>min</td>\n",
       "      <td>0.000000</td>\n",
       "      <td>25.000000</td>\n",
       "      <td>1.000000</td>\n",
       "      <td>0.000000</td>\n",
       "    </tr>\n",
       "    <tr>\n",
       "      <td>25%</td>\n",
       "      <td>250.000000</td>\n",
       "      <td>275.000000</td>\n",
       "      <td>8.000000</td>\n",
       "      <td>7.000000</td>\n",
       "    </tr>\n",
       "    <tr>\n",
       "      <td>50%</td>\n",
       "      <td>450.000000</td>\n",
       "      <td>500.000000</td>\n",
       "      <td>13.000000</td>\n",
       "      <td>13.000000</td>\n",
       "    </tr>\n",
       "    <tr>\n",
       "      <td>75%</td>\n",
       "      <td>900.000000</td>\n",
       "      <td>1000.000000</td>\n",
       "      <td>14.000000</td>\n",
       "      <td>24.000000</td>\n",
       "    </tr>\n",
       "    <tr>\n",
       "      <td>max</td>\n",
       "      <td>100000.000000</td>\n",
       "      <td>100000.000000</td>\n",
       "      <td>158.000000</td>\n",
       "      <td>2986.000000</td>\n",
       "    </tr>\n",
       "  </tbody>\n",
       "</table>\n",
       "</div>"
      ],
      "text/plain": [
       "       funded_amount    loan_amount  term_in_months   lender_count\n",
       "count  671205.000000  671205.000000   671205.000000  671205.000000\n",
       "mean      785.995061     842.397107       13.739022      20.590922\n",
       "std      1130.398941    1198.660073        8.598919      28.459551\n",
       "min         0.000000      25.000000        1.000000       0.000000\n",
       "25%       250.000000     275.000000        8.000000       7.000000\n",
       "50%       450.000000     500.000000       13.000000      13.000000\n",
       "75%       900.000000    1000.000000       14.000000      24.000000\n",
       "max    100000.000000  100000.000000      158.000000    2986.000000"
      ]
     },
     "execution_count": 9,
     "metadata": {},
     "output_type": "execute_result"
    }
   ],
   "source": [
    "df.describe()"
   ]
  },
  {
   "cell_type": "markdown",
   "metadata": {},
   "source": [
    "#### Dealing with missing values"
   ]
  },
  {
   "cell_type": "markdown",
   "metadata": {},
   "source": [
    "Missings in 'use', 'borrower_genders', and 'region' - ignore them for now, probably I won't use these columns.\n",
    "\n",
    "Missings in 'country_code' - will be dealt with now: I want to impute values."
   ]
  },
  {
   "cell_type": "code",
   "execution_count": 10,
   "metadata": {},
   "outputs": [
    {
     "data": {
      "text/html": [
       "<div>\n",
       "<style scoped>\n",
       "    .dataframe tbody tr th:only-of-type {\n",
       "        vertical-align: middle;\n",
       "    }\n",
       "\n",
       "    .dataframe tbody tr th {\n",
       "        vertical-align: top;\n",
       "    }\n",
       "\n",
       "    .dataframe thead th {\n",
       "        text-align: right;\n",
       "    }\n",
       "</style>\n",
       "<table border=\"1\" class=\"dataframe\">\n",
       "  <thead>\n",
       "    <tr style=\"text-align: right;\">\n",
       "      <th></th>\n",
       "      <th>funded_amount</th>\n",
       "      <th>loan_amount</th>\n",
       "      <th>activity</th>\n",
       "      <th>sector</th>\n",
       "      <th>use</th>\n",
       "      <th>country_code</th>\n",
       "      <th>country</th>\n",
       "      <th>region</th>\n",
       "      <th>currency</th>\n",
       "      <th>term_in_months</th>\n",
       "      <th>lender_count</th>\n",
       "      <th>borrower_genders</th>\n",
       "      <th>repayment_interval</th>\n",
       "    </tr>\n",
       "  </thead>\n",
       "  <tbody>\n",
       "    <tr>\n",
       "      <td>202537</td>\n",
       "      <td>4150.0</td>\n",
       "      <td>4150.0</td>\n",
       "      <td>Wholesale</td>\n",
       "      <td>Wholesale</td>\n",
       "      <td>To purchase lighting products for sale to loca...</td>\n",
       "      <td>NaN</td>\n",
       "      <td>Namibia</td>\n",
       "      <td>EEnhana</td>\n",
       "      <td>NAD</td>\n",
       "      <td>6.0</td>\n",
       "      <td>162</td>\n",
       "      <td>female</td>\n",
       "      <td>bullet</td>\n",
       "    </tr>\n",
       "    <tr>\n",
       "      <td>202823</td>\n",
       "      <td>4150.0</td>\n",
       "      <td>4150.0</td>\n",
       "      <td>Wholesale</td>\n",
       "      <td>Wholesale</td>\n",
       "      <td>To purchase lighting products for sale to loca...</td>\n",
       "      <td>NaN</td>\n",
       "      <td>Namibia</td>\n",
       "      <td>Rundu</td>\n",
       "      <td>NAD</td>\n",
       "      <td>6.0</td>\n",
       "      <td>159</td>\n",
       "      <td>male</td>\n",
       "      <td>bullet</td>\n",
       "    </tr>\n",
       "    <tr>\n",
       "      <td>344929</td>\n",
       "      <td>3325.0</td>\n",
       "      <td>3325.0</td>\n",
       "      <td>Wholesale</td>\n",
       "      <td>Wholesale</td>\n",
       "      <td>To purchase lighting products for sale to loca...</td>\n",
       "      <td>NaN</td>\n",
       "      <td>Namibia</td>\n",
       "      <td>EEnhana</td>\n",
       "      <td>NAD</td>\n",
       "      <td>7.0</td>\n",
       "      <td>120</td>\n",
       "      <td>female</td>\n",
       "      <td>bullet</td>\n",
       "    </tr>\n",
       "    <tr>\n",
       "      <td>351177</td>\n",
       "      <td>3325.0</td>\n",
       "      <td>3325.0</td>\n",
       "      <td>Wholesale</td>\n",
       "      <td>Wholesale</td>\n",
       "      <td>To purchase lighting products for sale to loca...</td>\n",
       "      <td>NaN</td>\n",
       "      <td>Namibia</td>\n",
       "      <td>Rundu</td>\n",
       "      <td>NAD</td>\n",
       "      <td>7.0</td>\n",
       "      <td>126</td>\n",
       "      <td>male</td>\n",
       "      <td>bullet</td>\n",
       "    </tr>\n",
       "    <tr>\n",
       "      <td>420953</td>\n",
       "      <td>3325.0</td>\n",
       "      <td>3325.0</td>\n",
       "      <td>Wholesale</td>\n",
       "      <td>Wholesale</td>\n",
       "      <td>To purchase lighting products for sale to loca...</td>\n",
       "      <td>NaN</td>\n",
       "      <td>Namibia</td>\n",
       "      <td>EEnhana</td>\n",
       "      <td>NAD</td>\n",
       "      <td>7.0</td>\n",
       "      <td>118</td>\n",
       "      <td>female</td>\n",
       "      <td>bullet</td>\n",
       "    </tr>\n",
       "    <tr>\n",
       "      <td>421218</td>\n",
       "      <td>4000.0</td>\n",
       "      <td>4000.0</td>\n",
       "      <td>Wholesale</td>\n",
       "      <td>Wholesale</td>\n",
       "      <td>purchase solar lighting products for sale to l...</td>\n",
       "      <td>NaN</td>\n",
       "      <td>Namibia</td>\n",
       "      <td>Rundu</td>\n",
       "      <td>NAD</td>\n",
       "      <td>7.0</td>\n",
       "      <td>150</td>\n",
       "      <td>male</td>\n",
       "      <td>bullet</td>\n",
       "    </tr>\n",
       "    <tr>\n",
       "      <td>487207</td>\n",
       "      <td>5100.0</td>\n",
       "      <td>5100.0</td>\n",
       "      <td>Renewable Energy Products</td>\n",
       "      <td>Retail</td>\n",
       "      <td>to pay for stock of solar lights and cell phon...</td>\n",
       "      <td>NaN</td>\n",
       "      <td>Namibia</td>\n",
       "      <td>Katima Mulilo</td>\n",
       "      <td>NAD</td>\n",
       "      <td>7.0</td>\n",
       "      <td>183</td>\n",
       "      <td>male</td>\n",
       "      <td>bullet</td>\n",
       "    </tr>\n",
       "    <tr>\n",
       "      <td>487653</td>\n",
       "      <td>5000.0</td>\n",
       "      <td>5000.0</td>\n",
       "      <td>Wholesale</td>\n",
       "      <td>Wholesale</td>\n",
       "      <td>to maintain a stock of solar lights and cell p...</td>\n",
       "      <td>NaN</td>\n",
       "      <td>Namibia</td>\n",
       "      <td>Oshakati</td>\n",
       "      <td>NAD</td>\n",
       "      <td>7.0</td>\n",
       "      <td>183</td>\n",
       "      <td>female</td>\n",
       "      <td>bullet</td>\n",
       "    </tr>\n",
       "  </tbody>\n",
       "</table>\n",
       "</div>"
      ],
      "text/plain": [
       "        funded_amount  loan_amount                   activity     sector  \\\n",
       "202537         4150.0       4150.0                  Wholesale  Wholesale   \n",
       "202823         4150.0       4150.0                  Wholesale  Wholesale   \n",
       "344929         3325.0       3325.0                  Wholesale  Wholesale   \n",
       "351177         3325.0       3325.0                  Wholesale  Wholesale   \n",
       "420953         3325.0       3325.0                  Wholesale  Wholesale   \n",
       "421218         4000.0       4000.0                  Wholesale  Wholesale   \n",
       "487207         5100.0       5100.0  Renewable Energy Products     Retail   \n",
       "487653         5000.0       5000.0                  Wholesale  Wholesale   \n",
       "\n",
       "                                                      use country_code  \\\n",
       "202537  To purchase lighting products for sale to loca...          NaN   \n",
       "202823  To purchase lighting products for sale to loca...          NaN   \n",
       "344929  To purchase lighting products for sale to loca...          NaN   \n",
       "351177  To purchase lighting products for sale to loca...          NaN   \n",
       "420953  To purchase lighting products for sale to loca...          NaN   \n",
       "421218  purchase solar lighting products for sale to l...          NaN   \n",
       "487207  to pay for stock of solar lights and cell phon...          NaN   \n",
       "487653  to maintain a stock of solar lights and cell p...          NaN   \n",
       "\n",
       "        country         region currency  term_in_months  lender_count  \\\n",
       "202537  Namibia        EEnhana      NAD             6.0           162   \n",
       "202823  Namibia          Rundu      NAD             6.0           159   \n",
       "344929  Namibia        EEnhana      NAD             7.0           120   \n",
       "351177  Namibia          Rundu      NAD             7.0           126   \n",
       "420953  Namibia        EEnhana      NAD             7.0           118   \n",
       "421218  Namibia          Rundu      NAD             7.0           150   \n",
       "487207  Namibia  Katima Mulilo      NAD             7.0           183   \n",
       "487653  Namibia       Oshakati      NAD             7.0           183   \n",
       "\n",
       "       borrower_genders repayment_interval  \n",
       "202537           female             bullet  \n",
       "202823             male             bullet  \n",
       "344929           female             bullet  \n",
       "351177             male             bullet  \n",
       "420953           female             bullet  \n",
       "421218             male             bullet  \n",
       "487207             male             bullet  \n",
       "487653           female             bullet  "
      ]
     },
     "execution_count": 10,
     "metadata": {},
     "output_type": "execute_result"
    }
   ],
   "source": [
    "df.loc[df['country_code'].isnull()]"
   ]
  },
  {
   "cell_type": "code",
   "execution_count": 11,
   "metadata": {},
   "outputs": [],
   "source": [
    "# They are all from Namibia, its code is NA (according to ISO 3166 ALPHA-2), so now I will impute this code instead ot NaNs:\n",
    "df.loc[df['country']=='Namibia', ['country_code']] = 'NA'"
   ]
  },
  {
   "cell_type": "code",
   "execution_count": 12,
   "metadata": {},
   "outputs": [
    {
     "data": {
      "text/html": [
       "<div>\n",
       "<style scoped>\n",
       "    .dataframe tbody tr th:only-of-type {\n",
       "        vertical-align: middle;\n",
       "    }\n",
       "\n",
       "    .dataframe tbody tr th {\n",
       "        vertical-align: top;\n",
       "    }\n",
       "\n",
       "    .dataframe thead th {\n",
       "        text-align: right;\n",
       "    }\n",
       "</style>\n",
       "<table border=\"1\" class=\"dataframe\">\n",
       "  <thead>\n",
       "    <tr style=\"text-align: right;\">\n",
       "      <th></th>\n",
       "      <th>funded_amount</th>\n",
       "      <th>loan_amount</th>\n",
       "      <th>activity</th>\n",
       "      <th>sector</th>\n",
       "      <th>use</th>\n",
       "      <th>country_code</th>\n",
       "      <th>country</th>\n",
       "      <th>region</th>\n",
       "      <th>currency</th>\n",
       "      <th>term_in_months</th>\n",
       "      <th>lender_count</th>\n",
       "      <th>borrower_genders</th>\n",
       "      <th>repayment_interval</th>\n",
       "    </tr>\n",
       "  </thead>\n",
       "  <tbody>\n",
       "    <tr>\n",
       "      <td>202537</td>\n",
       "      <td>4150.0</td>\n",
       "      <td>4150.0</td>\n",
       "      <td>Wholesale</td>\n",
       "      <td>Wholesale</td>\n",
       "      <td>To purchase lighting products for sale to loca...</td>\n",
       "      <td>NA</td>\n",
       "      <td>Namibia</td>\n",
       "      <td>EEnhana</td>\n",
       "      <td>NAD</td>\n",
       "      <td>6.0</td>\n",
       "      <td>162</td>\n",
       "      <td>female</td>\n",
       "      <td>bullet</td>\n",
       "    </tr>\n",
       "    <tr>\n",
       "      <td>202823</td>\n",
       "      <td>4150.0</td>\n",
       "      <td>4150.0</td>\n",
       "      <td>Wholesale</td>\n",
       "      <td>Wholesale</td>\n",
       "      <td>To purchase lighting products for sale to loca...</td>\n",
       "      <td>NA</td>\n",
       "      <td>Namibia</td>\n",
       "      <td>Rundu</td>\n",
       "      <td>NAD</td>\n",
       "      <td>6.0</td>\n",
       "      <td>159</td>\n",
       "      <td>male</td>\n",
       "      <td>bullet</td>\n",
       "    </tr>\n",
       "    <tr>\n",
       "      <td>344929</td>\n",
       "      <td>3325.0</td>\n",
       "      <td>3325.0</td>\n",
       "      <td>Wholesale</td>\n",
       "      <td>Wholesale</td>\n",
       "      <td>To purchase lighting products for sale to loca...</td>\n",
       "      <td>NA</td>\n",
       "      <td>Namibia</td>\n",
       "      <td>EEnhana</td>\n",
       "      <td>NAD</td>\n",
       "      <td>7.0</td>\n",
       "      <td>120</td>\n",
       "      <td>female</td>\n",
       "      <td>bullet</td>\n",
       "    </tr>\n",
       "    <tr>\n",
       "      <td>351177</td>\n",
       "      <td>3325.0</td>\n",
       "      <td>3325.0</td>\n",
       "      <td>Wholesale</td>\n",
       "      <td>Wholesale</td>\n",
       "      <td>To purchase lighting products for sale to loca...</td>\n",
       "      <td>NA</td>\n",
       "      <td>Namibia</td>\n",
       "      <td>Rundu</td>\n",
       "      <td>NAD</td>\n",
       "      <td>7.0</td>\n",
       "      <td>126</td>\n",
       "      <td>male</td>\n",
       "      <td>bullet</td>\n",
       "    </tr>\n",
       "    <tr>\n",
       "      <td>420953</td>\n",
       "      <td>3325.0</td>\n",
       "      <td>3325.0</td>\n",
       "      <td>Wholesale</td>\n",
       "      <td>Wholesale</td>\n",
       "      <td>To purchase lighting products for sale to loca...</td>\n",
       "      <td>NA</td>\n",
       "      <td>Namibia</td>\n",
       "      <td>EEnhana</td>\n",
       "      <td>NAD</td>\n",
       "      <td>7.0</td>\n",
       "      <td>118</td>\n",
       "      <td>female</td>\n",
       "      <td>bullet</td>\n",
       "    </tr>\n",
       "    <tr>\n",
       "      <td>421218</td>\n",
       "      <td>4000.0</td>\n",
       "      <td>4000.0</td>\n",
       "      <td>Wholesale</td>\n",
       "      <td>Wholesale</td>\n",
       "      <td>purchase solar lighting products for sale to l...</td>\n",
       "      <td>NA</td>\n",
       "      <td>Namibia</td>\n",
       "      <td>Rundu</td>\n",
       "      <td>NAD</td>\n",
       "      <td>7.0</td>\n",
       "      <td>150</td>\n",
       "      <td>male</td>\n",
       "      <td>bullet</td>\n",
       "    </tr>\n",
       "    <tr>\n",
       "      <td>487207</td>\n",
       "      <td>5100.0</td>\n",
       "      <td>5100.0</td>\n",
       "      <td>Renewable Energy Products</td>\n",
       "      <td>Retail</td>\n",
       "      <td>to pay for stock of solar lights and cell phon...</td>\n",
       "      <td>NA</td>\n",
       "      <td>Namibia</td>\n",
       "      <td>Katima Mulilo</td>\n",
       "      <td>NAD</td>\n",
       "      <td>7.0</td>\n",
       "      <td>183</td>\n",
       "      <td>male</td>\n",
       "      <td>bullet</td>\n",
       "    </tr>\n",
       "    <tr>\n",
       "      <td>487653</td>\n",
       "      <td>5000.0</td>\n",
       "      <td>5000.0</td>\n",
       "      <td>Wholesale</td>\n",
       "      <td>Wholesale</td>\n",
       "      <td>to maintain a stock of solar lights and cell p...</td>\n",
       "      <td>NA</td>\n",
       "      <td>Namibia</td>\n",
       "      <td>Oshakati</td>\n",
       "      <td>NAD</td>\n",
       "      <td>7.0</td>\n",
       "      <td>183</td>\n",
       "      <td>female</td>\n",
       "      <td>bullet</td>\n",
       "    </tr>\n",
       "  </tbody>\n",
       "</table>\n",
       "</div>"
      ],
      "text/plain": [
       "        funded_amount  loan_amount                   activity     sector  \\\n",
       "202537         4150.0       4150.0                  Wholesale  Wholesale   \n",
       "202823         4150.0       4150.0                  Wholesale  Wholesale   \n",
       "344929         3325.0       3325.0                  Wholesale  Wholesale   \n",
       "351177         3325.0       3325.0                  Wholesale  Wholesale   \n",
       "420953         3325.0       3325.0                  Wholesale  Wholesale   \n",
       "421218         4000.0       4000.0                  Wholesale  Wholesale   \n",
       "487207         5100.0       5100.0  Renewable Energy Products     Retail   \n",
       "487653         5000.0       5000.0                  Wholesale  Wholesale   \n",
       "\n",
       "                                                      use country_code  \\\n",
       "202537  To purchase lighting products for sale to loca...           NA   \n",
       "202823  To purchase lighting products for sale to loca...           NA   \n",
       "344929  To purchase lighting products for sale to loca...           NA   \n",
       "351177  To purchase lighting products for sale to loca...           NA   \n",
       "420953  To purchase lighting products for sale to loca...           NA   \n",
       "421218  purchase solar lighting products for sale to l...           NA   \n",
       "487207  to pay for stock of solar lights and cell phon...           NA   \n",
       "487653  to maintain a stock of solar lights and cell p...           NA   \n",
       "\n",
       "        country         region currency  term_in_months  lender_count  \\\n",
       "202537  Namibia        EEnhana      NAD             6.0           162   \n",
       "202823  Namibia          Rundu      NAD             6.0           159   \n",
       "344929  Namibia        EEnhana      NAD             7.0           120   \n",
       "351177  Namibia          Rundu      NAD             7.0           126   \n",
       "420953  Namibia        EEnhana      NAD             7.0           118   \n",
       "421218  Namibia          Rundu      NAD             7.0           150   \n",
       "487207  Namibia  Katima Mulilo      NAD             7.0           183   \n",
       "487653  Namibia       Oshakati      NAD             7.0           183   \n",
       "\n",
       "       borrower_genders repayment_interval  \n",
       "202537           female             bullet  \n",
       "202823             male             bullet  \n",
       "344929           female             bullet  \n",
       "351177             male             bullet  \n",
       "420953           female             bullet  \n",
       "421218             male             bullet  \n",
       "487207             male             bullet  \n",
       "487653           female             bullet  "
      ]
     },
     "execution_count": 12,
     "metadata": {},
     "output_type": "execute_result"
    }
   ],
   "source": [
    "# Checking if the codes were correctly assigned:\n",
    "df.loc[df['country']=='Namibia']\n",
    "# Yes, they were."
   ]
  },
  {
   "cell_type": "markdown",
   "metadata": {},
   "source": [
    "#### Feature engineering"
   ]
  },
  {
   "cell_type": "markdown",
   "metadata": {},
   "source": [
    "To use choroplet maps, I'll need country codes in ISO alpha-3 format. For this, I will use a convertor."
   ]
  },
  {
   "cell_type": "code",
   "execution_count": 13,
   "metadata": {},
   "outputs": [],
   "source": [
    "# Country_code 'XK' for Kosovo will not be accepted by the ISO alpha-2 to ISO alpha-3 convertor and by choroplet. \n",
    "# I am changing it to RS (Serbia) - sorry, Kosovar.\n",
    "\n",
    "df.loc[df['country_code'] == 'XK', ['country_code']] = 'RS'"
   ]
  },
  {
   "cell_type": "code",
   "execution_count": 14,
   "metadata": {},
   "outputs": [],
   "source": [
    "# Applying the convertor and adding the column 'country_alpha_3':\n",
    "df['country_alpha_3'] = df.country_code.apply(lambda x: country_name_to_country_alpha3(country_alpha2_to_country_name(x)))"
   ]
  },
  {
   "cell_type": "markdown",
   "metadata": {},
   "source": [
    "Now, I create a separate variable measuring success of the crowdfunding for each separate project. \n",
    "\n",
    "It will be calculated as follows: (funded_amount / loan_amount) * 100%...\n",
    "\n",
    "...and then grouped into 4 categories: <br>\n",
    "- unsuccessful = 0-10% money gathered, <br> \n",
    "- partially successfull - more than 10% but equal or less than 50% from what was needed, <br> \n",
    "- mostly successful - more than 50% but equal or less than 90%, <br> \n",
    "- successful - more than 90% was gathered."
   ]
  },
  {
   "cell_type": "code",
   "execution_count": 15,
   "metadata": {},
   "outputs": [],
   "source": [
    "# First, calculating %% of how much money were gathered:\n",
    "df.loc[:, 'share_gathered'] = df.loc[:, 'funded_amount'] / df.loc[:, 'loan_amount'] * 100"
   ]
  },
  {
   "cell_type": "code",
   "execution_count": 16,
   "metadata": {},
   "outputs": [],
   "source": [
    "# Second, grouping the variable and creating another variable 'success' with text labels:\n",
    "\n",
    "categories = ['unsuccessful','partly successful','mostly successful','successful']\n",
    "\n",
    "min_value = df['share_gathered'].min()\n",
    "max_value = df['share_gathered'].max()\n",
    "distribution = [min_value, 10, 50, 90, max_value]\n",
    "\n",
    "df['success'] = pd.cut(df['share_gathered'], include_lowest=True, bins=distribution, labels=categories)"
   ]
  },
  {
   "cell_type": "code",
   "execution_count": 17,
   "metadata": {},
   "outputs": [
    {
     "data": {
      "text/plain": [
       "[successful, mostly successful, partly successful, unsuccessful]\n",
       "Categories (4, object): [unsuccessful < partly successful < mostly successful < successful]"
      ]
     },
     "execution_count": 17,
     "metadata": {},
     "output_type": "execute_result"
    }
   ],
   "source": [
    "df.success.unique() # it has worked"
   ]
  },
  {
   "cell_type": "markdown",
   "metadata": {},
   "source": [
    "#### Optimizing memory usage"
   ]
  },
  {
   "cell_type": "markdown",
   "metadata": {},
   "source": [
    "Reducing the size of the dataset."
   ]
  },
  {
   "cell_type": "code",
   "execution_count": 18,
   "metadata": {},
   "outputs": [
    {
     "name": "stdout",
     "output_type": "stream",
     "text": [
      "<class 'pandas.core.frame.DataFrame'>\n",
      "RangeIndex: 671205 entries, 0 to 671204\n",
      "Data columns (total 16 columns):\n",
      "funded_amount         671205 non-null float64\n",
      "loan_amount           671205 non-null float64\n",
      "activity              671205 non-null object\n",
      "sector                671205 non-null object\n",
      "use                   666973 non-null object\n",
      "country_code          671205 non-null object\n",
      "country               671205 non-null object\n",
      "region                614405 non-null object\n",
      "currency              671205 non-null object\n",
      "term_in_months        671205 non-null float64\n",
      "lender_count          671205 non-null int64\n",
      "borrower_genders      666984 non-null object\n",
      "repayment_interval    671205 non-null object\n",
      "country_alpha_3       671205 non-null object\n",
      "share_gathered        671205 non-null float64\n",
      "success               671205 non-null category\n",
      "dtypes: category(1), float64(4), int64(1), object(10)\n",
      "memory usage: 77.5+ MB\n"
     ]
    }
   ],
   "source": [
    "df.info() # initial memory usage: 77.5+ MB"
   ]
  },
  {
   "cell_type": "code",
   "execution_count": 19,
   "metadata": {},
   "outputs": [],
   "source": [
    "mem1 = df.memory_usage(deep=True).sum()"
   ]
  },
  {
   "cell_type": "code",
   "execution_count": 20,
   "metadata": {},
   "outputs": [],
   "source": [
    "# Dropping some columns which I believe won't be needed.\n",
    "df.drop(columns=['region', 'currency', 'borrower_genders'], inplace=True)"
   ]
  },
  {
   "cell_type": "code",
   "execution_count": 21,
   "metadata": {},
   "outputs": [],
   "source": [
    "# Re-formatting some columns to \"category\"\n",
    "df.loc[:, ['activity', 'sector', 'country_code', 'country', 'repayment_interval', 'country_alpha_3']] = df.loc[:, ['activity', 'sector', 'country_code', 'country', 'repayment_interval', 'country_alpha_3']].astype('category')"
   ]
  },
  {
   "cell_type": "code",
   "execution_count": 22,
   "metadata": {},
   "outputs": [],
   "source": [
    "# Converting all floats to integers \n",
    "df.loc[:, [\"funded_amount\",\"loan_amount\",\"term_in_months\", \"lender_count\"]] = df.loc[:, [\"funded_amount\",\"loan_amount\",\"term_in_months\", \"lender_count\"]].apply(pd.to_numeric, downcast=\"integer\")"
   ]
  },
  {
   "cell_type": "code",
   "execution_count": 23,
   "metadata": {},
   "outputs": [
    {
     "name": "stdout",
     "output_type": "stream",
     "text": [
      "<class 'pandas.core.frame.DataFrame'>\n",
      "RangeIndex: 671205 entries, 0 to 671204\n",
      "Data columns (total 13 columns):\n",
      "funded_amount         671205 non-null int32\n",
      "loan_amount           671205 non-null int32\n",
      "activity              671205 non-null category\n",
      "sector                671205 non-null category\n",
      "use                   666973 non-null object\n",
      "country_code          671205 non-null category\n",
      "country               671205 non-null category\n",
      "term_in_months        671205 non-null int16\n",
      "lender_count          671205 non-null int16\n",
      "repayment_interval    671205 non-null category\n",
      "country_alpha_3       671205 non-null category\n",
      "share_gathered        671205 non-null float64\n",
      "success               671205 non-null category\n",
      "dtypes: category(7), float64(1), int16(2), int32(2), object(1)\n",
      "memory usage: 23.1+ MB\n"
     ]
    }
   ],
   "source": [
    "df.info() # memory usage after optimization: 23.1+ MB"
   ]
  },
  {
   "cell_type": "code",
   "execution_count": 24,
   "metadata": {},
   "outputs": [],
   "source": [
    "mem2 = df.memory_usage(deep=True).sum()"
   ]
  },
  {
   "cell_type": "code",
   "execution_count": 25,
   "metadata": {},
   "outputs": [
    {
     "name": "stdout",
     "output_type": "stream",
     "text": [
      "The memory usage has been reduced by 80.3%.\n"
     ]
    }
   ],
   "source": [
    "reduction = (mem1 - mem2) / mem1 * 100\n",
    "print(f\"The memory usage has been reduced by {reduction:0.1f}%.\")"
   ]
  },
  {
   "cell_type": "markdown",
   "metadata": {},
   "source": [
    "### Analysis"
   ]
  },
  {
   "cell_type": "markdown",
   "metadata": {},
   "source": [
    "The main question - why are some projects successful and others not? Will try to understand."
   ]
  },
  {
   "cell_type": "markdown",
   "metadata": {},
   "source": [
    "#### Our geography"
   ]
  },
  {
   "cell_type": "markdown",
   "metadata": {},
   "source": [
    "With which countries do we work?"
   ]
  },
  {
   "cell_type": "code",
   "execution_count": 26,
   "metadata": {},
   "outputs": [],
   "source": [
    "# Preparing a separate dataframe for the map\n",
    "countries = df.groupby(['country', 'country_alpha_3']).agg({'funded_amount': ['size', 'sum', 'mean'], 'lender_count':'mean', 'share_gathered':'mean'})\n",
    "countries.reset_index(inplace=True)\n",
    "countries.columns = countries.columns.get_level_values(1)\n",
    "countries.columns = ['Country', 'Country code', '# of projects', 'Total money raised, $', 'Avg money raised pro project, $', 'Avg investors', 'Avg share gathered, %']\n",
    "countries = countries.dropna()"
   ]
  },
  {
   "cell_type": "code",
   "execution_count": 27,
   "metadata": {},
   "outputs": [
    {
     "data": {
      "text/html": [
       "<div>\n",
       "<style scoped>\n",
       "    .dataframe tbody tr th:only-of-type {\n",
       "        vertical-align: middle;\n",
       "    }\n",
       "\n",
       "    .dataframe tbody tr th {\n",
       "        vertical-align: top;\n",
       "    }\n",
       "\n",
       "    .dataframe thead th {\n",
       "        text-align: right;\n",
       "    }\n",
       "</style>\n",
       "<table border=\"1\" class=\"dataframe\">\n",
       "  <thead>\n",
       "    <tr style=\"text-align: right;\">\n",
       "      <th></th>\n",
       "      <th>Country</th>\n",
       "      <th>Country code</th>\n",
       "      <th># of projects</th>\n",
       "      <th>Total money raised, $</th>\n",
       "      <th>Avg money raised pro project, $</th>\n",
       "      <th>Avg investors</th>\n",
       "      <th>Avg share gathered, %</th>\n",
       "    </tr>\n",
       "  </thead>\n",
       "  <tbody>\n",
       "    <tr>\n",
       "      <td>0</td>\n",
       "      <td>Afghanistan</td>\n",
       "      <td>AFG</td>\n",
       "      <td>2.0</td>\n",
       "      <td>14000.0</td>\n",
       "      <td>7000.000000</td>\n",
       "      <td>256.000000</td>\n",
       "      <td>100.000000</td>\n",
       "    </tr>\n",
       "    <tr>\n",
       "      <td>88</td>\n",
       "      <td>Albania</td>\n",
       "      <td>ALB</td>\n",
       "      <td>1934.0</td>\n",
       "      <td>2490000.0</td>\n",
       "      <td>1287.487073</td>\n",
       "      <td>42.904343</td>\n",
       "      <td>94.441943</td>\n",
       "    </tr>\n",
       "    <tr>\n",
       "      <td>176</td>\n",
       "      <td>Armenia</td>\n",
       "      <td>ARM</td>\n",
       "      <td>8631.0</td>\n",
       "      <td>11186675.0</td>\n",
       "      <td>1296.104159</td>\n",
       "      <td>37.140076</td>\n",
       "      <td>88.457472</td>\n",
       "    </tr>\n",
       "  </tbody>\n",
       "</table>\n",
       "</div>"
      ],
      "text/plain": [
       "         Country Country code  # of projects  Total money raised, $  \\\n",
       "0    Afghanistan          AFG            2.0                14000.0   \n",
       "88       Albania          ALB         1934.0              2490000.0   \n",
       "176      Armenia          ARM         8631.0             11186675.0   \n",
       "\n",
       "     Avg money raised pro project, $  Avg investors  Avg share gathered, %  \n",
       "0                        7000.000000     256.000000             100.000000  \n",
       "88                       1287.487073      42.904343              94.441943  \n",
       "176                      1296.104159      37.140076              88.457472  "
      ]
     },
     "execution_count": 27,
     "metadata": {},
     "output_type": "execute_result"
    }
   ],
   "source": [
    "countries.head(3)"
   ]
  },
  {
   "cell_type": "code",
   "execution_count": 28,
   "metadata": {},
   "outputs": [
    {
     "data": {
      "application/vnd.plotly.v1+json": {
       "config": {
        "plotlyServerURL": "https://plot.ly"
       },
       "data": [
        {
         "coloraxis": "coloraxis",
         "geo": "geo",
         "hoverlabel": {
          "namelength": 0
         },
         "hovertemplate": "<b>%{hovertext}</b><br><br>Country code=%{location}<br># of projects=%{z}",
         "hovertext": [
          "Afghanistan",
          "Albania",
          "Armenia",
          "Azerbaijan",
          "Belize",
          "Benin",
          "Bhutan",
          "Bolivia",
          "Brazil",
          "Burkina Faso",
          "Burundi",
          "Cambodia",
          "Cameroon",
          "Chile",
          "China",
          "Colombia",
          "Congo",
          "Costa Rica",
          "Cote D'Ivoire",
          "Dominican Republic",
          "Ecuador",
          "Egypt",
          "El Salvador",
          "Georgia",
          "Ghana",
          "Guam",
          "Guatemala",
          "Haiti",
          "Honduras",
          "India",
          "Indonesia",
          "Iraq",
          "Israel",
          "Jordan",
          "Kenya",
          "Kosovo",
          "Kyrgyzstan",
          "Lao People's Democratic Republic",
          "Lebanon",
          "Lesotho",
          "Liberia",
          "Madagascar",
          "Malawi",
          "Mali",
          "Mauritania",
          "Mexico",
          "Moldova",
          "Mongolia",
          "Mozambique",
          "Myanmar (Burma)",
          "Namibia",
          "Nepal",
          "Nicaragua",
          "Nigeria",
          "Pakistan",
          "Palestine",
          "Panama",
          "Paraguay",
          "Peru",
          "Philippines",
          "Puerto Rico",
          "Rwanda",
          "Saint Vincent and the Grenadines",
          "Samoa",
          "Senegal",
          "Sierra Leone",
          "Solomon Islands",
          "Somalia",
          "South Africa",
          "South Sudan",
          "Suriname",
          "Tajikistan",
          "Tanzania",
          "Thailand",
          "The Democratic Republic of the Congo",
          "Timor-Leste",
          "Togo",
          "Turkey",
          "Uganda",
          "Ukraine",
          "United States",
          "Vanuatu",
          "Vietnam",
          "Virgin Islands",
          "Yemen",
          "Zambia",
          "Zimbabwe"
         ],
         "locations": [
          "AFG",
          "ALB",
          "ARM",
          "AZE",
          "BLZ",
          "BEN",
          "BTN",
          "BOL",
          "BRA",
          "BFA",
          "BDI",
          "KHM",
          "CMR",
          "CHL",
          "CHN",
          "COL",
          "COG",
          "CRI",
          "CIV",
          "DOM",
          "ECU",
          "EGY",
          "SLV",
          "GEO",
          "GHA",
          "GUM",
          "GTM",
          "HTI",
          "HND",
          "IND",
          "IDN",
          "IRQ",
          "ISR",
          "JOR",
          "KEN",
          "SRB",
          "KGZ",
          "LAO",
          "LBN",
          "LSO",
          "LBR",
          "MDG",
          "MWI",
          "MLI",
          "MRT",
          "MEX",
          "MDA",
          "MNG",
          "MOZ",
          "MMR",
          "NAM",
          "NPL",
          "NIC",
          "NGA",
          "PAK",
          "PSE",
          "PAN",
          "PRY",
          "PER",
          "PHL",
          "PRI",
          "RWA",
          "VCT",
          "WSM",
          "SEN",
          "SLE",
          "SLB",
          "SOM",
          "ZAF",
          "SSD",
          "SUR",
          "TJK",
          "TZA",
          "THA",
          "COD",
          "TLS",
          "TGO",
          "TUR",
          "UGA",
          "UKR",
          "USA",
          "VUT",
          "VNM",
          "VIR",
          "YEM",
          "ZMB",
          "ZWE"
         ],
         "name": "",
         "type": "choropleth",
         "z": [
          2,
          1934,
          8631,
          1945,
          125,
          497,
          2,
          8806,
          284,
          2460,
          880,
          34836,
          2230,
          10,
          134,
          21995,
          128,
          1561,
          1,
          496,
          13521,
          1639,
          39875,
          2409,
          4374,
          1,
          7310,
          3618,
          6557,
          11237,
          6214,
          993,
          190,
          4167,
          75825,
          1419,
          5774,
          1486,
          8792,
          422,
          3682,
          3821,
          1320,
          6639,
          1,
          5741,
          348,
          964,
          3483,
          1870,
          8,
          717,
          11781,
          10136,
          26857,
          8167,
          193,
          11903,
          22233,
          160441,
          68,
          6735,
          16,
          7396,
          3269,
          5415,
          554,
          75,
          378,
          160,
          223,
          19580,
          5219,
          180,
          3073,
          2690,
          5749,
          1703,
          20601,
          963,
          6093,
          4,
          10843,
          2,
          2313,
          784,
          4034
         ]
        }
       ],
       "layout": {
        "coloraxis": {
         "colorbar": {
          "title": {
           "text": "# of projects"
          }
         },
         "colorscale": [
          [
           0,
           "#0d0887"
          ],
          [
           0.1111111111111111,
           "#46039f"
          ],
          [
           0.2222222222222222,
           "#7201a8"
          ],
          [
           0.3333333333333333,
           "#9c179e"
          ],
          [
           0.4444444444444444,
           "#bd3786"
          ],
          [
           0.5555555555555556,
           "#d8576b"
          ],
          [
           0.6666666666666666,
           "#ed7953"
          ],
          [
           0.7777777777777778,
           "#fb9f3a"
          ],
          [
           0.8888888888888888,
           "#fdca26"
          ],
          [
           1,
           "#f0f921"
          ]
         ]
        },
        "geo": {
         "center": {},
         "domain": {
          "x": [
           0,
           1
          ],
          "y": [
           0,
           1
          ]
         },
         "projection": {
          "type": "robinson"
         }
        },
        "legend": {
         "tracegroupgap": 0
        },
        "template": {
         "data": {
          "bar": [
           {
            "error_x": {
             "color": "#2a3f5f"
            },
            "error_y": {
             "color": "#2a3f5f"
            },
            "marker": {
             "line": {
              "color": "#E5ECF6",
              "width": 0.5
             }
            },
            "type": "bar"
           }
          ],
          "barpolar": [
           {
            "marker": {
             "line": {
              "color": "#E5ECF6",
              "width": 0.5
             }
            },
            "type": "barpolar"
           }
          ],
          "carpet": [
           {
            "aaxis": {
             "endlinecolor": "#2a3f5f",
             "gridcolor": "white",
             "linecolor": "white",
             "minorgridcolor": "white",
             "startlinecolor": "#2a3f5f"
            },
            "baxis": {
             "endlinecolor": "#2a3f5f",
             "gridcolor": "white",
             "linecolor": "white",
             "minorgridcolor": "white",
             "startlinecolor": "#2a3f5f"
            },
            "type": "carpet"
           }
          ],
          "choropleth": [
           {
            "colorbar": {
             "outlinewidth": 0,
             "ticks": ""
            },
            "type": "choropleth"
           }
          ],
          "contour": [
           {
            "colorbar": {
             "outlinewidth": 0,
             "ticks": ""
            },
            "colorscale": [
             [
              0,
              "#0d0887"
             ],
             [
              0.1111111111111111,
              "#46039f"
             ],
             [
              0.2222222222222222,
              "#7201a8"
             ],
             [
              0.3333333333333333,
              "#9c179e"
             ],
             [
              0.4444444444444444,
              "#bd3786"
             ],
             [
              0.5555555555555556,
              "#d8576b"
             ],
             [
              0.6666666666666666,
              "#ed7953"
             ],
             [
              0.7777777777777778,
              "#fb9f3a"
             ],
             [
              0.8888888888888888,
              "#fdca26"
             ],
             [
              1,
              "#f0f921"
             ]
            ],
            "type": "contour"
           }
          ],
          "contourcarpet": [
           {
            "colorbar": {
             "outlinewidth": 0,
             "ticks": ""
            },
            "type": "contourcarpet"
           }
          ],
          "heatmap": [
           {
            "colorbar": {
             "outlinewidth": 0,
             "ticks": ""
            },
            "colorscale": [
             [
              0,
              "#0d0887"
             ],
             [
              0.1111111111111111,
              "#46039f"
             ],
             [
              0.2222222222222222,
              "#7201a8"
             ],
             [
              0.3333333333333333,
              "#9c179e"
             ],
             [
              0.4444444444444444,
              "#bd3786"
             ],
             [
              0.5555555555555556,
              "#d8576b"
             ],
             [
              0.6666666666666666,
              "#ed7953"
             ],
             [
              0.7777777777777778,
              "#fb9f3a"
             ],
             [
              0.8888888888888888,
              "#fdca26"
             ],
             [
              1,
              "#f0f921"
             ]
            ],
            "type": "heatmap"
           }
          ],
          "heatmapgl": [
           {
            "colorbar": {
             "outlinewidth": 0,
             "ticks": ""
            },
            "colorscale": [
             [
              0,
              "#0d0887"
             ],
             [
              0.1111111111111111,
              "#46039f"
             ],
             [
              0.2222222222222222,
              "#7201a8"
             ],
             [
              0.3333333333333333,
              "#9c179e"
             ],
             [
              0.4444444444444444,
              "#bd3786"
             ],
             [
              0.5555555555555556,
              "#d8576b"
             ],
             [
              0.6666666666666666,
              "#ed7953"
             ],
             [
              0.7777777777777778,
              "#fb9f3a"
             ],
             [
              0.8888888888888888,
              "#fdca26"
             ],
             [
              1,
              "#f0f921"
             ]
            ],
            "type": "heatmapgl"
           }
          ],
          "histogram": [
           {
            "marker": {
             "colorbar": {
              "outlinewidth": 0,
              "ticks": ""
             }
            },
            "type": "histogram"
           }
          ],
          "histogram2d": [
           {
            "colorbar": {
             "outlinewidth": 0,
             "ticks": ""
            },
            "colorscale": [
             [
              0,
              "#0d0887"
             ],
             [
              0.1111111111111111,
              "#46039f"
             ],
             [
              0.2222222222222222,
              "#7201a8"
             ],
             [
              0.3333333333333333,
              "#9c179e"
             ],
             [
              0.4444444444444444,
              "#bd3786"
             ],
             [
              0.5555555555555556,
              "#d8576b"
             ],
             [
              0.6666666666666666,
              "#ed7953"
             ],
             [
              0.7777777777777778,
              "#fb9f3a"
             ],
             [
              0.8888888888888888,
              "#fdca26"
             ],
             [
              1,
              "#f0f921"
             ]
            ],
            "type": "histogram2d"
           }
          ],
          "histogram2dcontour": [
           {
            "colorbar": {
             "outlinewidth": 0,
             "ticks": ""
            },
            "colorscale": [
             [
              0,
              "#0d0887"
             ],
             [
              0.1111111111111111,
              "#46039f"
             ],
             [
              0.2222222222222222,
              "#7201a8"
             ],
             [
              0.3333333333333333,
              "#9c179e"
             ],
             [
              0.4444444444444444,
              "#bd3786"
             ],
             [
              0.5555555555555556,
              "#d8576b"
             ],
             [
              0.6666666666666666,
              "#ed7953"
             ],
             [
              0.7777777777777778,
              "#fb9f3a"
             ],
             [
              0.8888888888888888,
              "#fdca26"
             ],
             [
              1,
              "#f0f921"
             ]
            ],
            "type": "histogram2dcontour"
           }
          ],
          "mesh3d": [
           {
            "colorbar": {
             "outlinewidth": 0,
             "ticks": ""
            },
            "type": "mesh3d"
           }
          ],
          "parcoords": [
           {
            "line": {
             "colorbar": {
              "outlinewidth": 0,
              "ticks": ""
             }
            },
            "type": "parcoords"
           }
          ],
          "pie": [
           {
            "automargin": true,
            "type": "pie"
           }
          ],
          "scatter": [
           {
            "marker": {
             "colorbar": {
              "outlinewidth": 0,
              "ticks": ""
             }
            },
            "type": "scatter"
           }
          ],
          "scatter3d": [
           {
            "line": {
             "colorbar": {
              "outlinewidth": 0,
              "ticks": ""
             }
            },
            "marker": {
             "colorbar": {
              "outlinewidth": 0,
              "ticks": ""
             }
            },
            "type": "scatter3d"
           }
          ],
          "scattercarpet": [
           {
            "marker": {
             "colorbar": {
              "outlinewidth": 0,
              "ticks": ""
             }
            },
            "type": "scattercarpet"
           }
          ],
          "scattergeo": [
           {
            "marker": {
             "colorbar": {
              "outlinewidth": 0,
              "ticks": ""
             }
            },
            "type": "scattergeo"
           }
          ],
          "scattergl": [
           {
            "marker": {
             "colorbar": {
              "outlinewidth": 0,
              "ticks": ""
             }
            },
            "type": "scattergl"
           }
          ],
          "scattermapbox": [
           {
            "marker": {
             "colorbar": {
              "outlinewidth": 0,
              "ticks": ""
             }
            },
            "type": "scattermapbox"
           }
          ],
          "scatterpolar": [
           {
            "marker": {
             "colorbar": {
              "outlinewidth": 0,
              "ticks": ""
             }
            },
            "type": "scatterpolar"
           }
          ],
          "scatterpolargl": [
           {
            "marker": {
             "colorbar": {
              "outlinewidth": 0,
              "ticks": ""
             }
            },
            "type": "scatterpolargl"
           }
          ],
          "scatterternary": [
           {
            "marker": {
             "colorbar": {
              "outlinewidth": 0,
              "ticks": ""
             }
            },
            "type": "scatterternary"
           }
          ],
          "surface": [
           {
            "colorbar": {
             "outlinewidth": 0,
             "ticks": ""
            },
            "colorscale": [
             [
              0,
              "#0d0887"
             ],
             [
              0.1111111111111111,
              "#46039f"
             ],
             [
              0.2222222222222222,
              "#7201a8"
             ],
             [
              0.3333333333333333,
              "#9c179e"
             ],
             [
              0.4444444444444444,
              "#bd3786"
             ],
             [
              0.5555555555555556,
              "#d8576b"
             ],
             [
              0.6666666666666666,
              "#ed7953"
             ],
             [
              0.7777777777777778,
              "#fb9f3a"
             ],
             [
              0.8888888888888888,
              "#fdca26"
             ],
             [
              1,
              "#f0f921"
             ]
            ],
            "type": "surface"
           }
          ],
          "table": [
           {
            "cells": {
             "fill": {
              "color": "#EBF0F8"
             },
             "line": {
              "color": "white"
             }
            },
            "header": {
             "fill": {
              "color": "#C8D4E3"
             },
             "line": {
              "color": "white"
             }
            },
            "type": "table"
           }
          ]
         },
         "layout": {
          "annotationdefaults": {
           "arrowcolor": "#2a3f5f",
           "arrowhead": 0,
           "arrowwidth": 1
          },
          "coloraxis": {
           "colorbar": {
            "outlinewidth": 0,
            "ticks": ""
           }
          },
          "colorscale": {
           "diverging": [
            [
             0,
             "#8e0152"
            ],
            [
             0.1,
             "#c51b7d"
            ],
            [
             0.2,
             "#de77ae"
            ],
            [
             0.3,
             "#f1b6da"
            ],
            [
             0.4,
             "#fde0ef"
            ],
            [
             0.5,
             "#f7f7f7"
            ],
            [
             0.6,
             "#e6f5d0"
            ],
            [
             0.7,
             "#b8e186"
            ],
            [
             0.8,
             "#7fbc41"
            ],
            [
             0.9,
             "#4d9221"
            ],
            [
             1,
             "#276419"
            ]
           ],
           "sequential": [
            [
             0,
             "#0d0887"
            ],
            [
             0.1111111111111111,
             "#46039f"
            ],
            [
             0.2222222222222222,
             "#7201a8"
            ],
            [
             0.3333333333333333,
             "#9c179e"
            ],
            [
             0.4444444444444444,
             "#bd3786"
            ],
            [
             0.5555555555555556,
             "#d8576b"
            ],
            [
             0.6666666666666666,
             "#ed7953"
            ],
            [
             0.7777777777777778,
             "#fb9f3a"
            ],
            [
             0.8888888888888888,
             "#fdca26"
            ],
            [
             1,
             "#f0f921"
            ]
           ],
           "sequentialminus": [
            [
             0,
             "#0d0887"
            ],
            [
             0.1111111111111111,
             "#46039f"
            ],
            [
             0.2222222222222222,
             "#7201a8"
            ],
            [
             0.3333333333333333,
             "#9c179e"
            ],
            [
             0.4444444444444444,
             "#bd3786"
            ],
            [
             0.5555555555555556,
             "#d8576b"
            ],
            [
             0.6666666666666666,
             "#ed7953"
            ],
            [
             0.7777777777777778,
             "#fb9f3a"
            ],
            [
             0.8888888888888888,
             "#fdca26"
            ],
            [
             1,
             "#f0f921"
            ]
           ]
          },
          "colorway": [
           "#636efa",
           "#EF553B",
           "#00cc96",
           "#ab63fa",
           "#FFA15A",
           "#19d3f3",
           "#FF6692",
           "#B6E880",
           "#FF97FF",
           "#FECB52"
          ],
          "font": {
           "color": "#2a3f5f"
          },
          "geo": {
           "bgcolor": "white",
           "lakecolor": "white",
           "landcolor": "#E5ECF6",
           "showlakes": true,
           "showland": true,
           "subunitcolor": "white"
          },
          "hoverlabel": {
           "align": "left"
          },
          "hovermode": "closest",
          "mapbox": {
           "style": "light"
          },
          "paper_bgcolor": "white",
          "plot_bgcolor": "#E5ECF6",
          "polar": {
           "angularaxis": {
            "gridcolor": "white",
            "linecolor": "white",
            "ticks": ""
           },
           "bgcolor": "#E5ECF6",
           "radialaxis": {
            "gridcolor": "white",
            "linecolor": "white",
            "ticks": ""
           }
          },
          "scene": {
           "xaxis": {
            "backgroundcolor": "#E5ECF6",
            "gridcolor": "white",
            "gridwidth": 2,
            "linecolor": "white",
            "showbackground": true,
            "ticks": "",
            "zerolinecolor": "white"
           },
           "yaxis": {
            "backgroundcolor": "#E5ECF6",
            "gridcolor": "white",
            "gridwidth": 2,
            "linecolor": "white",
            "showbackground": true,
            "ticks": "",
            "zerolinecolor": "white"
           },
           "zaxis": {
            "backgroundcolor": "#E5ECF6",
            "gridcolor": "white",
            "gridwidth": 2,
            "linecolor": "white",
            "showbackground": true,
            "ticks": "",
            "zerolinecolor": "white"
           }
          },
          "shapedefaults": {
           "line": {
            "color": "#2a3f5f"
           }
          },
          "ternary": {
           "aaxis": {
            "gridcolor": "white",
            "linecolor": "white",
            "ticks": ""
           },
           "baxis": {
            "gridcolor": "white",
            "linecolor": "white",
            "ticks": ""
           },
           "bgcolor": "#E5ECF6",
           "caxis": {
            "gridcolor": "white",
            "linecolor": "white",
            "ticks": ""
           }
          },
          "title": {
           "x": 0.05
          },
          "xaxis": {
           "automargin": true,
           "gridcolor": "white",
           "linecolor": "white",
           "ticks": "",
           "title": {
            "standoff": 15
           },
           "zerolinecolor": "white",
           "zerolinewidth": 2
          },
          "yaxis": {
           "automargin": true,
           "gridcolor": "white",
           "linecolor": "white",
           "ticks": "",
           "title": {
            "standoff": 15
           },
           "zerolinecolor": "white",
           "zerolinewidth": 2
          }
         }
        },
        "title": {
         "text": "From which countries do projects come?"
        }
       }
      },
      "text/html": [
       "<div>\n",
       "        \n",
       "        \n",
       "            <div id=\"690d0844-99fa-45f8-9a54-f9b9312cbbdb\" class=\"plotly-graph-div\" style=\"height:525px; width:100%;\"></div>\n",
       "            <script type=\"text/javascript\">\n",
       "                require([\"plotly\"], function(Plotly) {\n",
       "                    window.PLOTLYENV=window.PLOTLYENV || {};\n",
       "                    \n",
       "                if (document.getElementById(\"690d0844-99fa-45f8-9a54-f9b9312cbbdb\")) {\n",
       "                    Plotly.newPlot(\n",
       "                        '690d0844-99fa-45f8-9a54-f9b9312cbbdb',\n",
       "                        [{\"coloraxis\": \"coloraxis\", \"geo\": \"geo\", \"hoverlabel\": {\"namelength\": 0}, \"hovertemplate\": \"<b>%{hovertext}</b><br><br>Country code=%{location}<br># of projects=%{z}\", \"hovertext\": [\"Afghanistan\", \"Albania\", \"Armenia\", \"Azerbaijan\", \"Belize\", \"Benin\", \"Bhutan\", \"Bolivia\", \"Brazil\", \"Burkina Faso\", \"Burundi\", \"Cambodia\", \"Cameroon\", \"Chile\", \"China\", \"Colombia\", \"Congo\", \"Costa Rica\", \"Cote D'Ivoire\", \"Dominican Republic\", \"Ecuador\", \"Egypt\", \"El Salvador\", \"Georgia\", \"Ghana\", \"Guam\", \"Guatemala\", \"Haiti\", \"Honduras\", \"India\", \"Indonesia\", \"Iraq\", \"Israel\", \"Jordan\", \"Kenya\", \"Kosovo\", \"Kyrgyzstan\", \"Lao People's Democratic Republic\", \"Lebanon\", \"Lesotho\", \"Liberia\", \"Madagascar\", \"Malawi\", \"Mali\", \"Mauritania\", \"Mexico\", \"Moldova\", \"Mongolia\", \"Mozambique\", \"Myanmar (Burma)\", \"Namibia\", \"Nepal\", \"Nicaragua\", \"Nigeria\", \"Pakistan\", \"Palestine\", \"Panama\", \"Paraguay\", \"Peru\", \"Philippines\", \"Puerto Rico\", \"Rwanda\", \"Saint Vincent and the Grenadines\", \"Samoa\", \"Senegal\", \"Sierra Leone\", \"Solomon Islands\", \"Somalia\", \"South Africa\", \"South Sudan\", \"Suriname\", \"Tajikistan\", \"Tanzania\", \"Thailand\", \"The Democratic Republic of the Congo\", \"Timor-Leste\", \"Togo\", \"Turkey\", \"Uganda\", \"Ukraine\", \"United States\", \"Vanuatu\", \"Vietnam\", \"Virgin Islands\", \"Yemen\", \"Zambia\", \"Zimbabwe\"], \"locations\": [\"AFG\", \"ALB\", \"ARM\", \"AZE\", \"BLZ\", \"BEN\", \"BTN\", \"BOL\", \"BRA\", \"BFA\", \"BDI\", \"KHM\", \"CMR\", \"CHL\", \"CHN\", \"COL\", \"COG\", \"CRI\", \"CIV\", \"DOM\", \"ECU\", \"EGY\", \"SLV\", \"GEO\", \"GHA\", \"GUM\", \"GTM\", \"HTI\", \"HND\", \"IND\", \"IDN\", \"IRQ\", \"ISR\", \"JOR\", \"KEN\", \"SRB\", \"KGZ\", \"LAO\", \"LBN\", \"LSO\", \"LBR\", \"MDG\", \"MWI\", \"MLI\", \"MRT\", \"MEX\", \"MDA\", \"MNG\", \"MOZ\", \"MMR\", \"NAM\", \"NPL\", \"NIC\", \"NGA\", \"PAK\", \"PSE\", \"PAN\", \"PRY\", \"PER\", \"PHL\", \"PRI\", \"RWA\", \"VCT\", \"WSM\", \"SEN\", \"SLE\", \"SLB\", \"SOM\", \"ZAF\", \"SSD\", \"SUR\", \"TJK\", \"TZA\", \"THA\", \"COD\", \"TLS\", \"TGO\", \"TUR\", \"UGA\", \"UKR\", \"USA\", \"VUT\", \"VNM\", \"VIR\", \"YEM\", \"ZMB\", \"ZWE\"], \"name\": \"\", \"type\": \"choropleth\", \"z\": [2.0, 1934.0, 8631.0, 1945.0, 125.0, 497.0, 2.0, 8806.0, 284.0, 2460.0, 880.0, 34836.0, 2230.0, 10.0, 134.0, 21995.0, 128.0, 1561.0, 1.0, 496.0, 13521.0, 1639.0, 39875.0, 2409.0, 4374.0, 1.0, 7310.0, 3618.0, 6557.0, 11237.0, 6214.0, 993.0, 190.0, 4167.0, 75825.0, 1419.0, 5774.0, 1486.0, 8792.0, 422.0, 3682.0, 3821.0, 1320.0, 6639.0, 1.0, 5741.0, 348.0, 964.0, 3483.0, 1870.0, 8.0, 717.0, 11781.0, 10136.0, 26857.0, 8167.0, 193.0, 11903.0, 22233.0, 160441.0, 68.0, 6735.0, 16.0, 7396.0, 3269.0, 5415.0, 554.0, 75.0, 378.0, 160.0, 223.0, 19580.0, 5219.0, 180.0, 3073.0, 2690.0, 5749.0, 1703.0, 20601.0, 963.0, 6093.0, 4.0, 10843.0, 2.0, 2313.0, 784.0, 4034.0]}],\n",
       "                        {\"coloraxis\": {\"colorbar\": {\"title\": {\"text\": \"# of projects\"}}, \"colorscale\": [[0.0, \"#0d0887\"], [0.1111111111111111, \"#46039f\"], [0.2222222222222222, \"#7201a8\"], [0.3333333333333333, \"#9c179e\"], [0.4444444444444444, \"#bd3786\"], [0.5555555555555556, \"#d8576b\"], [0.6666666666666666, \"#ed7953\"], [0.7777777777777778, \"#fb9f3a\"], [0.8888888888888888, \"#fdca26\"], [1.0, \"#f0f921\"]]}, \"geo\": {\"center\": {}, \"domain\": {\"x\": [0.0, 1.0], \"y\": [0.0, 1.0]}, \"projection\": {\"type\": \"robinson\"}}, \"legend\": {\"tracegroupgap\": 0}, \"template\": {\"data\": {\"bar\": [{\"error_x\": {\"color\": \"#2a3f5f\"}, \"error_y\": {\"color\": \"#2a3f5f\"}, \"marker\": {\"line\": {\"color\": \"#E5ECF6\", \"width\": 0.5}}, \"type\": \"bar\"}], \"barpolar\": [{\"marker\": {\"line\": {\"color\": \"#E5ECF6\", \"width\": 0.5}}, \"type\": \"barpolar\"}], \"carpet\": [{\"aaxis\": {\"endlinecolor\": \"#2a3f5f\", \"gridcolor\": \"white\", \"linecolor\": \"white\", \"minorgridcolor\": \"white\", \"startlinecolor\": \"#2a3f5f\"}, \"baxis\": {\"endlinecolor\": \"#2a3f5f\", \"gridcolor\": \"white\", \"linecolor\": \"white\", \"minorgridcolor\": \"white\", \"startlinecolor\": \"#2a3f5f\"}, \"type\": \"carpet\"}], \"choropleth\": [{\"colorbar\": {\"outlinewidth\": 0, \"ticks\": \"\"}, \"type\": \"choropleth\"}], \"contour\": [{\"colorbar\": {\"outlinewidth\": 0, \"ticks\": \"\"}, \"colorscale\": [[0.0, \"#0d0887\"], [0.1111111111111111, \"#46039f\"], [0.2222222222222222, \"#7201a8\"], [0.3333333333333333, \"#9c179e\"], [0.4444444444444444, \"#bd3786\"], [0.5555555555555556, \"#d8576b\"], [0.6666666666666666, \"#ed7953\"], [0.7777777777777778, \"#fb9f3a\"], [0.8888888888888888, \"#fdca26\"], [1.0, \"#f0f921\"]], \"type\": \"contour\"}], \"contourcarpet\": [{\"colorbar\": {\"outlinewidth\": 0, \"ticks\": \"\"}, \"type\": \"contourcarpet\"}], \"heatmap\": [{\"colorbar\": {\"outlinewidth\": 0, \"ticks\": \"\"}, \"colorscale\": [[0.0, \"#0d0887\"], [0.1111111111111111, \"#46039f\"], [0.2222222222222222, \"#7201a8\"], [0.3333333333333333, \"#9c179e\"], [0.4444444444444444, \"#bd3786\"], [0.5555555555555556, \"#d8576b\"], [0.6666666666666666, \"#ed7953\"], [0.7777777777777778, \"#fb9f3a\"], [0.8888888888888888, \"#fdca26\"], [1.0, \"#f0f921\"]], \"type\": \"heatmap\"}], \"heatmapgl\": [{\"colorbar\": {\"outlinewidth\": 0, \"ticks\": \"\"}, \"colorscale\": [[0.0, \"#0d0887\"], [0.1111111111111111, \"#46039f\"], [0.2222222222222222, \"#7201a8\"], [0.3333333333333333, \"#9c179e\"], [0.4444444444444444, \"#bd3786\"], [0.5555555555555556, \"#d8576b\"], [0.6666666666666666, \"#ed7953\"], [0.7777777777777778, \"#fb9f3a\"], [0.8888888888888888, \"#fdca26\"], [1.0, \"#f0f921\"]], \"type\": \"heatmapgl\"}], \"histogram\": [{\"marker\": {\"colorbar\": {\"outlinewidth\": 0, \"ticks\": \"\"}}, \"type\": \"histogram\"}], \"histogram2d\": [{\"colorbar\": {\"outlinewidth\": 0, \"ticks\": \"\"}, \"colorscale\": [[0.0, \"#0d0887\"], [0.1111111111111111, \"#46039f\"], [0.2222222222222222, \"#7201a8\"], [0.3333333333333333, \"#9c179e\"], [0.4444444444444444, \"#bd3786\"], [0.5555555555555556, \"#d8576b\"], [0.6666666666666666, \"#ed7953\"], [0.7777777777777778, \"#fb9f3a\"], [0.8888888888888888, \"#fdca26\"], [1.0, \"#f0f921\"]], \"type\": \"histogram2d\"}], \"histogram2dcontour\": [{\"colorbar\": {\"outlinewidth\": 0, \"ticks\": \"\"}, \"colorscale\": [[0.0, \"#0d0887\"], [0.1111111111111111, \"#46039f\"], [0.2222222222222222, \"#7201a8\"], [0.3333333333333333, \"#9c179e\"], [0.4444444444444444, \"#bd3786\"], [0.5555555555555556, \"#d8576b\"], [0.6666666666666666, \"#ed7953\"], [0.7777777777777778, \"#fb9f3a\"], [0.8888888888888888, \"#fdca26\"], [1.0, \"#f0f921\"]], \"type\": \"histogram2dcontour\"}], \"mesh3d\": [{\"colorbar\": {\"outlinewidth\": 0, \"ticks\": \"\"}, \"type\": \"mesh3d\"}], \"parcoords\": [{\"line\": {\"colorbar\": {\"outlinewidth\": 0, \"ticks\": \"\"}}, \"type\": \"parcoords\"}], \"pie\": [{\"automargin\": true, \"type\": \"pie\"}], \"scatter\": [{\"marker\": {\"colorbar\": {\"outlinewidth\": 0, \"ticks\": \"\"}}, \"type\": \"scatter\"}], \"scatter3d\": [{\"line\": {\"colorbar\": {\"outlinewidth\": 0, \"ticks\": \"\"}}, \"marker\": {\"colorbar\": {\"outlinewidth\": 0, \"ticks\": \"\"}}, \"type\": \"scatter3d\"}], \"scattercarpet\": [{\"marker\": {\"colorbar\": {\"outlinewidth\": 0, \"ticks\": \"\"}}, \"type\": \"scattercarpet\"}], \"scattergeo\": [{\"marker\": {\"colorbar\": {\"outlinewidth\": 0, \"ticks\": \"\"}}, \"type\": \"scattergeo\"}], \"scattergl\": [{\"marker\": {\"colorbar\": {\"outlinewidth\": 0, \"ticks\": \"\"}}, \"type\": \"scattergl\"}], \"scattermapbox\": [{\"marker\": {\"colorbar\": {\"outlinewidth\": 0, \"ticks\": \"\"}}, \"type\": \"scattermapbox\"}], \"scatterpolar\": [{\"marker\": {\"colorbar\": {\"outlinewidth\": 0, \"ticks\": \"\"}}, \"type\": \"scatterpolar\"}], \"scatterpolargl\": [{\"marker\": {\"colorbar\": {\"outlinewidth\": 0, \"ticks\": \"\"}}, \"type\": \"scatterpolargl\"}], \"scatterternary\": [{\"marker\": {\"colorbar\": {\"outlinewidth\": 0, \"ticks\": \"\"}}, \"type\": \"scatterternary\"}], \"surface\": [{\"colorbar\": {\"outlinewidth\": 0, \"ticks\": \"\"}, \"colorscale\": [[0.0, \"#0d0887\"], [0.1111111111111111, \"#46039f\"], [0.2222222222222222, \"#7201a8\"], [0.3333333333333333, \"#9c179e\"], [0.4444444444444444, \"#bd3786\"], [0.5555555555555556, \"#d8576b\"], [0.6666666666666666, \"#ed7953\"], [0.7777777777777778, \"#fb9f3a\"], [0.8888888888888888, \"#fdca26\"], [1.0, \"#f0f921\"]], \"type\": \"surface\"}], \"table\": [{\"cells\": {\"fill\": {\"color\": \"#EBF0F8\"}, \"line\": {\"color\": \"white\"}}, \"header\": {\"fill\": {\"color\": \"#C8D4E3\"}, \"line\": {\"color\": \"white\"}}, \"type\": \"table\"}]}, \"layout\": {\"annotationdefaults\": {\"arrowcolor\": \"#2a3f5f\", \"arrowhead\": 0, \"arrowwidth\": 1}, \"coloraxis\": {\"colorbar\": {\"outlinewidth\": 0, \"ticks\": \"\"}}, \"colorscale\": {\"diverging\": [[0, \"#8e0152\"], [0.1, \"#c51b7d\"], [0.2, \"#de77ae\"], [0.3, \"#f1b6da\"], [0.4, \"#fde0ef\"], [0.5, \"#f7f7f7\"], [0.6, \"#e6f5d0\"], [0.7, \"#b8e186\"], [0.8, \"#7fbc41\"], [0.9, \"#4d9221\"], [1, \"#276419\"]], \"sequential\": [[0.0, \"#0d0887\"], [0.1111111111111111, \"#46039f\"], [0.2222222222222222, \"#7201a8\"], [0.3333333333333333, \"#9c179e\"], [0.4444444444444444, \"#bd3786\"], [0.5555555555555556, \"#d8576b\"], [0.6666666666666666, \"#ed7953\"], [0.7777777777777778, \"#fb9f3a\"], [0.8888888888888888, \"#fdca26\"], [1.0, \"#f0f921\"]], \"sequentialminus\": [[0.0, \"#0d0887\"], [0.1111111111111111, \"#46039f\"], [0.2222222222222222, \"#7201a8\"], [0.3333333333333333, \"#9c179e\"], [0.4444444444444444, \"#bd3786\"], [0.5555555555555556, \"#d8576b\"], [0.6666666666666666, \"#ed7953\"], [0.7777777777777778, \"#fb9f3a\"], [0.8888888888888888, \"#fdca26\"], [1.0, \"#f0f921\"]]}, \"colorway\": [\"#636efa\", \"#EF553B\", \"#00cc96\", \"#ab63fa\", \"#FFA15A\", \"#19d3f3\", \"#FF6692\", \"#B6E880\", \"#FF97FF\", \"#FECB52\"], \"font\": {\"color\": \"#2a3f5f\"}, \"geo\": {\"bgcolor\": \"white\", \"lakecolor\": \"white\", \"landcolor\": \"#E5ECF6\", \"showlakes\": true, \"showland\": true, \"subunitcolor\": \"white\"}, \"hoverlabel\": {\"align\": \"left\"}, \"hovermode\": \"closest\", \"mapbox\": {\"style\": \"light\"}, \"paper_bgcolor\": \"white\", \"plot_bgcolor\": \"#E5ECF6\", \"polar\": {\"angularaxis\": {\"gridcolor\": \"white\", \"linecolor\": \"white\", \"ticks\": \"\"}, \"bgcolor\": \"#E5ECF6\", \"radialaxis\": {\"gridcolor\": \"white\", \"linecolor\": \"white\", \"ticks\": \"\"}}, \"scene\": {\"xaxis\": {\"backgroundcolor\": \"#E5ECF6\", \"gridcolor\": \"white\", \"gridwidth\": 2, \"linecolor\": \"white\", \"showbackground\": true, \"ticks\": \"\", \"zerolinecolor\": \"white\"}, \"yaxis\": {\"backgroundcolor\": \"#E5ECF6\", \"gridcolor\": \"white\", \"gridwidth\": 2, \"linecolor\": \"white\", \"showbackground\": true, \"ticks\": \"\", \"zerolinecolor\": \"white\"}, \"zaxis\": {\"backgroundcolor\": \"#E5ECF6\", \"gridcolor\": \"white\", \"gridwidth\": 2, \"linecolor\": \"white\", \"showbackground\": true, \"ticks\": \"\", \"zerolinecolor\": \"white\"}}, \"shapedefaults\": {\"line\": {\"color\": \"#2a3f5f\"}}, \"ternary\": {\"aaxis\": {\"gridcolor\": \"white\", \"linecolor\": \"white\", \"ticks\": \"\"}, \"baxis\": {\"gridcolor\": \"white\", \"linecolor\": \"white\", \"ticks\": \"\"}, \"bgcolor\": \"#E5ECF6\", \"caxis\": {\"gridcolor\": \"white\", \"linecolor\": \"white\", \"ticks\": \"\"}}, \"title\": {\"x\": 0.05}, \"xaxis\": {\"automargin\": true, \"gridcolor\": \"white\", \"linecolor\": \"white\", \"ticks\": \"\", \"title\": {\"standoff\": 15}, \"zerolinecolor\": \"white\", \"zerolinewidth\": 2}, \"yaxis\": {\"automargin\": true, \"gridcolor\": \"white\", \"linecolor\": \"white\", \"ticks\": \"\", \"title\": {\"standoff\": 15}, \"zerolinecolor\": \"white\", \"zerolinewidth\": 2}}}, \"title\": {\"text\": \"From which countries do projects come?\"}},\n",
       "                        {\"responsive\": true}\n",
       "                    ).then(function(){\n",
       "                            \n",
       "var gd = document.getElementById('690d0844-99fa-45f8-9a54-f9b9312cbbdb');\n",
       "var x = new MutationObserver(function (mutations, observer) {{\n",
       "        var display = window.getComputedStyle(gd).display;\n",
       "        if (!display || display === 'none') {{\n",
       "            console.log([gd, 'removed!']);\n",
       "            Plotly.purge(gd);\n",
       "            observer.disconnect();\n",
       "        }}\n",
       "}});\n",
       "\n",
       "// Listen for the removal of the full notebook cells\n",
       "var notebookContainer = gd.closest('#notebook-container');\n",
       "if (notebookContainer) {{\n",
       "    x.observe(notebookContainer, {childList: true});\n",
       "}}\n",
       "\n",
       "// Listen for the clearing of the current output cell\n",
       "var outputEl = gd.closest('.output');\n",
       "if (outputEl) {{\n",
       "    x.observe(outputEl, {childList: true});\n",
       "}}\n",
       "\n",
       "                        })\n",
       "                };\n",
       "                });\n",
       "            </script>\n",
       "        </div>"
      ]
     },
     "metadata": {},
     "output_type": "display_data"
    }
   ],
   "source": [
    "fig = px.choropleth(countries, locations=\"Country code\",\n",
    "                    color=\"# of projects\",\n",
    "                    hover_name=\"Country\",\n",
    "                    projection='robinson',\n",
    "                    title='From which countries do projects come?',\n",
    "                    color_continuous_scale=px.colors.sequential.Plasma)\n",
    "fig.show()"
   ]
  },
  {
   "cell_type": "markdown",
   "metadata": {},
   "source": [
    "Coloured countries are those from where business ideas are coming to us. <br>\n",
    "Many developed countries still do not take advantage of our service. Are we not known to entrepreneurs there? <br>\n",
    "We have many requests / projects from Philippines (I wonder why). <br>\n",
    "My suggestion: try to attract ventures from developed countries: EU, Japan, Australia, Canada."
   ]
  },
  {
   "cell_type": "markdown",
   "metadata": {},
   "source": [
    "#### How many of the pitched projects manage to raise funds?"
   ]
  },
  {
   "cell_type": "code",
   "execution_count": 29,
   "metadata": {},
   "outputs": [],
   "source": [
    "# Defining a function for plotting donut charts:\n",
    "\n",
    "def plotdonut(data, name, legend):\n",
    "    success_pie = px.pie(data_frame=data,\n",
    "                names=data.index,\n",
    "                values=0,\n",
    "                title=name,\n",
    "                template='simple_white',\n",
    "                labels={'0':'# of projects'},\n",
    "                color_discrete_sequence=[\"#002b80\", \"#99c2ff\", \"#c2c2d6\", \"#ff6666\"],                \n",
    "                              )\n",
    "\n",
    "    success_pie.update_traces(\n",
    "                textinfo='percent', \n",
    "                hole=0.5, \n",
    "                texttemplate='%{percent:.0%f}',\n",
    "                direction='clockwise',\n",
    "                        )\n",
    "\n",
    "    success_pie.update_layout(\n",
    "                font_family=\"Verdana\",\n",
    "                font_color=\"darkblue\",\n",
    "                font={'size':16},\n",
    "                title_font_family=\"Verdana\",\n",
    "                title={'x':0.35,\n",
    "                       'y':0.96,\n",
    "                       'xanchor':'center',\n",
    "                       'yanchor':'top'},\n",
    "                legend_title_text=legend,\n",
    "                legend_traceorder='normal'\n",
    "                     )\n",
    "\n",
    "    success_pie.show()"
   ]
  },
  {
   "cell_type": "code",
   "execution_count": 30,
   "metadata": {},
   "outputs": [
    {
     "data": {
      "text/plain": [
       "success\n",
       "unsuccessful           6614\n",
       "partly successful     20106\n",
       "mostly successful     20215\n",
       "successful           624270\n",
       "dtype: int64"
      ]
     },
     "execution_count": 30,
     "metadata": {},
     "output_type": "execute_result"
    }
   ],
   "source": [
    "# How many projects do we have, according to 'success'?\n",
    "successful = df.groupby('success').size()\n",
    "successful"
   ]
  },
  {
   "cell_type": "code",
   "execution_count": 31,
   "metadata": {},
   "outputs": [
    {
     "data": {
      "application/vnd.plotly.v1+json": {
       "config": {
        "plotlyServerURL": "https://plot.ly"
       },
       "data": [
        {
         "direction": "clockwise",
         "domain": {
          "x": [
           0,
           1
          ],
          "y": [
           0,
           1
          ]
         },
         "hole": 0.5,
         "hoverlabel": {
          "namelength": 0
         },
         "hovertemplate": "label=%{label}<br># of projects=%{value}",
         "labels": [
          "unsuccessful",
          "partly successful",
          "mostly successful",
          "successful"
         ],
         "legendgroup": "",
         "name": "",
         "showlegend": true,
         "textinfo": "percent",
         "texttemplate": "%{percent:.0%f}",
         "type": "pie",
         "values": [
          6614,
          20106,
          20215,
          624270
         ]
        }
       ],
       "layout": {
        "font": {
         "color": "darkblue",
         "family": "Verdana",
         "size": 16
        },
        "legend": {
         "title": {
          "text": "All projects:"
         },
         "tracegroupgap": 0,
         "traceorder": "normal"
        },
        "piecolorway": [
         "#002b80",
         "#99c2ff",
         "#c2c2d6",
         "#ff6666"
        ],
        "template": {
         "data": {
          "bar": [
           {
            "error_x": {
             "color": "rgb(36,36,36)"
            },
            "error_y": {
             "color": "rgb(36,36,36)"
            },
            "marker": {
             "line": {
              "color": "white",
              "width": 0.5
             }
            },
            "type": "bar"
           }
          ],
          "barpolar": [
           {
            "marker": {
             "line": {
              "color": "white",
              "width": 0.5
             }
            },
            "type": "barpolar"
           }
          ],
          "carpet": [
           {
            "aaxis": {
             "endlinecolor": "rgb(36,36,36)",
             "gridcolor": "white",
             "linecolor": "white",
             "minorgridcolor": "white",
             "startlinecolor": "rgb(36,36,36)"
            },
            "baxis": {
             "endlinecolor": "rgb(36,36,36)",
             "gridcolor": "white",
             "linecolor": "white",
             "minorgridcolor": "white",
             "startlinecolor": "rgb(36,36,36)"
            },
            "type": "carpet"
           }
          ],
          "choropleth": [
           {
            "colorbar": {
             "outlinewidth": 1,
             "tickcolor": "rgb(36,36,36)",
             "ticks": "outside"
            },
            "type": "choropleth"
           }
          ],
          "contour": [
           {
            "colorbar": {
             "outlinewidth": 1,
             "tickcolor": "rgb(36,36,36)",
             "ticks": "outside"
            },
            "colorscale": [
             [
              0,
              "#440154"
             ],
             [
              0.1111111111111111,
              "#482878"
             ],
             [
              0.2222222222222222,
              "#3e4989"
             ],
             [
              0.3333333333333333,
              "#31688e"
             ],
             [
              0.4444444444444444,
              "#26828e"
             ],
             [
              0.5555555555555556,
              "#1f9e89"
             ],
             [
              0.6666666666666666,
              "#35b779"
             ],
             [
              0.7777777777777778,
              "#6ece58"
             ],
             [
              0.8888888888888888,
              "#b5de2b"
             ],
             [
              1,
              "#fde725"
             ]
            ],
            "type": "contour"
           }
          ],
          "contourcarpet": [
           {
            "colorbar": {
             "outlinewidth": 1,
             "tickcolor": "rgb(36,36,36)",
             "ticks": "outside"
            },
            "type": "contourcarpet"
           }
          ],
          "heatmap": [
           {
            "colorbar": {
             "outlinewidth": 1,
             "tickcolor": "rgb(36,36,36)",
             "ticks": "outside"
            },
            "colorscale": [
             [
              0,
              "#440154"
             ],
             [
              0.1111111111111111,
              "#482878"
             ],
             [
              0.2222222222222222,
              "#3e4989"
             ],
             [
              0.3333333333333333,
              "#31688e"
             ],
             [
              0.4444444444444444,
              "#26828e"
             ],
             [
              0.5555555555555556,
              "#1f9e89"
             ],
             [
              0.6666666666666666,
              "#35b779"
             ],
             [
              0.7777777777777778,
              "#6ece58"
             ],
             [
              0.8888888888888888,
              "#b5de2b"
             ],
             [
              1,
              "#fde725"
             ]
            ],
            "type": "heatmap"
           }
          ],
          "heatmapgl": [
           {
            "colorbar": {
             "outlinewidth": 1,
             "tickcolor": "rgb(36,36,36)",
             "ticks": "outside"
            },
            "colorscale": [
             [
              0,
              "#440154"
             ],
             [
              0.1111111111111111,
              "#482878"
             ],
             [
              0.2222222222222222,
              "#3e4989"
             ],
             [
              0.3333333333333333,
              "#31688e"
             ],
             [
              0.4444444444444444,
              "#26828e"
             ],
             [
              0.5555555555555556,
              "#1f9e89"
             ],
             [
              0.6666666666666666,
              "#35b779"
             ],
             [
              0.7777777777777778,
              "#6ece58"
             ],
             [
              0.8888888888888888,
              "#b5de2b"
             ],
             [
              1,
              "#fde725"
             ]
            ],
            "type": "heatmapgl"
           }
          ],
          "histogram": [
           {
            "marker": {
             "line": {
              "color": "white",
              "width": 0.6
             }
            },
            "type": "histogram"
           }
          ],
          "histogram2d": [
           {
            "colorbar": {
             "outlinewidth": 1,
             "tickcolor": "rgb(36,36,36)",
             "ticks": "outside"
            },
            "colorscale": [
             [
              0,
              "#440154"
             ],
             [
              0.1111111111111111,
              "#482878"
             ],
             [
              0.2222222222222222,
              "#3e4989"
             ],
             [
              0.3333333333333333,
              "#31688e"
             ],
             [
              0.4444444444444444,
              "#26828e"
             ],
             [
              0.5555555555555556,
              "#1f9e89"
             ],
             [
              0.6666666666666666,
              "#35b779"
             ],
             [
              0.7777777777777778,
              "#6ece58"
             ],
             [
              0.8888888888888888,
              "#b5de2b"
             ],
             [
              1,
              "#fde725"
             ]
            ],
            "type": "histogram2d"
           }
          ],
          "histogram2dcontour": [
           {
            "colorbar": {
             "outlinewidth": 1,
             "tickcolor": "rgb(36,36,36)",
             "ticks": "outside"
            },
            "colorscale": [
             [
              0,
              "#440154"
             ],
             [
              0.1111111111111111,
              "#482878"
             ],
             [
              0.2222222222222222,
              "#3e4989"
             ],
             [
              0.3333333333333333,
              "#31688e"
             ],
             [
              0.4444444444444444,
              "#26828e"
             ],
             [
              0.5555555555555556,
              "#1f9e89"
             ],
             [
              0.6666666666666666,
              "#35b779"
             ],
             [
              0.7777777777777778,
              "#6ece58"
             ],
             [
              0.8888888888888888,
              "#b5de2b"
             ],
             [
              1,
              "#fde725"
             ]
            ],
            "type": "histogram2dcontour"
           }
          ],
          "mesh3d": [
           {
            "colorbar": {
             "outlinewidth": 1,
             "tickcolor": "rgb(36,36,36)",
             "ticks": "outside"
            },
            "type": "mesh3d"
           }
          ],
          "parcoords": [
           {
            "line": {
             "colorbar": {
              "outlinewidth": 1,
              "tickcolor": "rgb(36,36,36)",
              "ticks": "outside"
             }
            },
            "type": "parcoords"
           }
          ],
          "pie": [
           {
            "automargin": true,
            "type": "pie"
           }
          ],
          "scatter": [
           {
            "marker": {
             "colorbar": {
              "outlinewidth": 1,
              "tickcolor": "rgb(36,36,36)",
              "ticks": "outside"
             }
            },
            "type": "scatter"
           }
          ],
          "scatter3d": [
           {
            "line": {
             "colorbar": {
              "outlinewidth": 1,
              "tickcolor": "rgb(36,36,36)",
              "ticks": "outside"
             }
            },
            "marker": {
             "colorbar": {
              "outlinewidth": 1,
              "tickcolor": "rgb(36,36,36)",
              "ticks": "outside"
             }
            },
            "type": "scatter3d"
           }
          ],
          "scattercarpet": [
           {
            "marker": {
             "colorbar": {
              "outlinewidth": 1,
              "tickcolor": "rgb(36,36,36)",
              "ticks": "outside"
             }
            },
            "type": "scattercarpet"
           }
          ],
          "scattergeo": [
           {
            "marker": {
             "colorbar": {
              "outlinewidth": 1,
              "tickcolor": "rgb(36,36,36)",
              "ticks": "outside"
             }
            },
            "type": "scattergeo"
           }
          ],
          "scattergl": [
           {
            "marker": {
             "colorbar": {
              "outlinewidth": 1,
              "tickcolor": "rgb(36,36,36)",
              "ticks": "outside"
             }
            },
            "type": "scattergl"
           }
          ],
          "scattermapbox": [
           {
            "marker": {
             "colorbar": {
              "outlinewidth": 1,
              "tickcolor": "rgb(36,36,36)",
              "ticks": "outside"
             }
            },
            "type": "scattermapbox"
           }
          ],
          "scatterpolar": [
           {
            "marker": {
             "colorbar": {
              "outlinewidth": 1,
              "tickcolor": "rgb(36,36,36)",
              "ticks": "outside"
             }
            },
            "type": "scatterpolar"
           }
          ],
          "scatterpolargl": [
           {
            "marker": {
             "colorbar": {
              "outlinewidth": 1,
              "tickcolor": "rgb(36,36,36)",
              "ticks": "outside"
             }
            },
            "type": "scatterpolargl"
           }
          ],
          "scatterternary": [
           {
            "marker": {
             "colorbar": {
              "outlinewidth": 1,
              "tickcolor": "rgb(36,36,36)",
              "ticks": "outside"
             }
            },
            "type": "scatterternary"
           }
          ],
          "surface": [
           {
            "colorbar": {
             "outlinewidth": 1,
             "tickcolor": "rgb(36,36,36)",
             "ticks": "outside"
            },
            "colorscale": [
             [
              0,
              "#440154"
             ],
             [
              0.1111111111111111,
              "#482878"
             ],
             [
              0.2222222222222222,
              "#3e4989"
             ],
             [
              0.3333333333333333,
              "#31688e"
             ],
             [
              0.4444444444444444,
              "#26828e"
             ],
             [
              0.5555555555555556,
              "#1f9e89"
             ],
             [
              0.6666666666666666,
              "#35b779"
             ],
             [
              0.7777777777777778,
              "#6ece58"
             ],
             [
              0.8888888888888888,
              "#b5de2b"
             ],
             [
              1,
              "#fde725"
             ]
            ],
            "type": "surface"
           }
          ],
          "table": [
           {
            "cells": {
             "fill": {
              "color": "rgb(237,237,237)"
             },
             "line": {
              "color": "white"
             }
            },
            "header": {
             "fill": {
              "color": "rgb(217,217,217)"
             },
             "line": {
              "color": "white"
             }
            },
            "type": "table"
           }
          ]
         },
         "layout": {
          "annotationdefaults": {
           "arrowhead": 0,
           "arrowwidth": 1
          },
          "coloraxis": {
           "colorbar": {
            "outlinewidth": 1,
            "tickcolor": "rgb(36,36,36)",
            "ticks": "outside"
           }
          },
          "colorscale": {
           "diverging": [
            [
             0,
             "rgb(103,0,31)"
            ],
            [
             0.1,
             "rgb(178,24,43)"
            ],
            [
             0.2,
             "rgb(214,96,77)"
            ],
            [
             0.3,
             "rgb(244,165,130)"
            ],
            [
             0.4,
             "rgb(253,219,199)"
            ],
            [
             0.5,
             "rgb(247,247,247)"
            ],
            [
             0.6,
             "rgb(209,229,240)"
            ],
            [
             0.7,
             "rgb(146,197,222)"
            ],
            [
             0.8,
             "rgb(67,147,195)"
            ],
            [
             0.9,
             "rgb(33,102,172)"
            ],
            [
             1,
             "rgb(5,48,97)"
            ]
           ],
           "sequential": [
            [
             0,
             "#440154"
            ],
            [
             0.1111111111111111,
             "#482878"
            ],
            [
             0.2222222222222222,
             "#3e4989"
            ],
            [
             0.3333333333333333,
             "#31688e"
            ],
            [
             0.4444444444444444,
             "#26828e"
            ],
            [
             0.5555555555555556,
             "#1f9e89"
            ],
            [
             0.6666666666666666,
             "#35b779"
            ],
            [
             0.7777777777777778,
             "#6ece58"
            ],
            [
             0.8888888888888888,
             "#b5de2b"
            ],
            [
             1,
             "#fde725"
            ]
           ],
           "sequentialminus": [
            [
             0,
             "#440154"
            ],
            [
             0.1111111111111111,
             "#482878"
            ],
            [
             0.2222222222222222,
             "#3e4989"
            ],
            [
             0.3333333333333333,
             "#31688e"
            ],
            [
             0.4444444444444444,
             "#26828e"
            ],
            [
             0.5555555555555556,
             "#1f9e89"
            ],
            [
             0.6666666666666666,
             "#35b779"
            ],
            [
             0.7777777777777778,
             "#6ece58"
            ],
            [
             0.8888888888888888,
             "#b5de2b"
            ],
            [
             1,
             "#fde725"
            ]
           ]
          },
          "colorway": [
           "#1F77B4",
           "#FF7F0E",
           "#2CA02C",
           "#D62728",
           "#9467BD",
           "#8C564B",
           "#E377C2",
           "#7F7F7F",
           "#BCBD22",
           "#17BECF"
          ],
          "font": {
           "color": "rgb(36,36,36)"
          },
          "geo": {
           "bgcolor": "white",
           "lakecolor": "white",
           "landcolor": "white",
           "showlakes": true,
           "showland": true,
           "subunitcolor": "white"
          },
          "hoverlabel": {
           "align": "left"
          },
          "hovermode": "closest",
          "mapbox": {
           "style": "light"
          },
          "paper_bgcolor": "white",
          "plot_bgcolor": "white",
          "polar": {
           "angularaxis": {
            "gridcolor": "rgb(232,232,232)",
            "linecolor": "rgb(36,36,36)",
            "showgrid": false,
            "showline": true,
            "ticks": "outside"
           },
           "bgcolor": "white",
           "radialaxis": {
            "gridcolor": "rgb(232,232,232)",
            "linecolor": "rgb(36,36,36)",
            "showgrid": false,
            "showline": true,
            "ticks": "outside"
           }
          },
          "scene": {
           "xaxis": {
            "backgroundcolor": "white",
            "gridcolor": "rgb(232,232,232)",
            "gridwidth": 2,
            "linecolor": "rgb(36,36,36)",
            "showbackground": true,
            "showgrid": false,
            "showline": true,
            "ticks": "outside",
            "zeroline": false,
            "zerolinecolor": "rgb(36,36,36)"
           },
           "yaxis": {
            "backgroundcolor": "white",
            "gridcolor": "rgb(232,232,232)",
            "gridwidth": 2,
            "linecolor": "rgb(36,36,36)",
            "showbackground": true,
            "showgrid": false,
            "showline": true,
            "ticks": "outside",
            "zeroline": false,
            "zerolinecolor": "rgb(36,36,36)"
           },
           "zaxis": {
            "backgroundcolor": "white",
            "gridcolor": "rgb(232,232,232)",
            "gridwidth": 2,
            "linecolor": "rgb(36,36,36)",
            "showbackground": true,
            "showgrid": false,
            "showline": true,
            "ticks": "outside",
            "zeroline": false,
            "zerolinecolor": "rgb(36,36,36)"
           }
          },
          "shapedefaults": {
           "fillcolor": "black",
           "line": {
            "width": 0
           },
           "opacity": 0.3
          },
          "ternary": {
           "aaxis": {
            "gridcolor": "rgb(232,232,232)",
            "linecolor": "rgb(36,36,36)",
            "showgrid": false,
            "showline": true,
            "ticks": "outside"
           },
           "baxis": {
            "gridcolor": "rgb(232,232,232)",
            "linecolor": "rgb(36,36,36)",
            "showgrid": false,
            "showline": true,
            "ticks": "outside"
           },
           "bgcolor": "white",
           "caxis": {
            "gridcolor": "rgb(232,232,232)",
            "linecolor": "rgb(36,36,36)",
            "showgrid": false,
            "showline": true,
            "ticks": "outside"
           }
          },
          "title": {
           "x": 0.05
          },
          "xaxis": {
           "automargin": true,
           "gridcolor": "rgb(232,232,232)",
           "linecolor": "rgb(36,36,36)",
           "showgrid": false,
           "showline": true,
           "ticks": "outside",
           "title": {
            "standoff": 15
           },
           "zeroline": false,
           "zerolinecolor": "rgb(36,36,36)"
          },
          "yaxis": {
           "automargin": true,
           "gridcolor": "rgb(232,232,232)",
           "linecolor": "rgb(36,36,36)",
           "showgrid": false,
           "showline": true,
           "ticks": "outside",
           "title": {
            "standoff": 15
           },
           "zeroline": false,
           "zerolinecolor": "rgb(36,36,36)"
          }
         }
        },
        "title": {
         "font": {
          "family": "Verdana"
         },
         "text": "Share of projects by success of crowdfunding",
         "x": 0.35,
         "xanchor": "center",
         "y": 0.96,
         "yanchor": "top"
        }
       }
      },
      "text/html": [
       "<div>\n",
       "        \n",
       "        \n",
       "            <div id=\"db23874e-63a1-4017-b4e1-40ef70c5e182\" class=\"plotly-graph-div\" style=\"height:525px; width:100%;\"></div>\n",
       "            <script type=\"text/javascript\">\n",
       "                require([\"plotly\"], function(Plotly) {\n",
       "                    window.PLOTLYENV=window.PLOTLYENV || {};\n",
       "                    \n",
       "                if (document.getElementById(\"db23874e-63a1-4017-b4e1-40ef70c5e182\")) {\n",
       "                    Plotly.newPlot(\n",
       "                        'db23874e-63a1-4017-b4e1-40ef70c5e182',\n",
       "                        [{\"direction\": \"clockwise\", \"domain\": {\"x\": [0.0, 1.0], \"y\": [0.0, 1.0]}, \"hole\": 0.5, \"hoverlabel\": {\"namelength\": 0}, \"hovertemplate\": \"label=%{label}<br># of projects=%{value}\", \"labels\": [\"unsuccessful\", \"partly successful\", \"mostly successful\", \"successful\"], \"legendgroup\": \"\", \"name\": \"\", \"showlegend\": true, \"textinfo\": \"percent\", \"texttemplate\": \"%{percent:.0%f}\", \"type\": \"pie\", \"values\": [6614, 20106, 20215, 624270]}],\n",
       "                        {\"font\": {\"color\": \"darkblue\", \"family\": \"Verdana\", \"size\": 16}, \"legend\": {\"title\": {\"text\": \"All projects:\"}, \"tracegroupgap\": 0, \"traceorder\": \"normal\"}, \"piecolorway\": [\"#002b80\", \"#99c2ff\", \"#c2c2d6\", \"#ff6666\"], \"template\": {\"data\": {\"bar\": [{\"error_x\": {\"color\": \"rgb(36,36,36)\"}, \"error_y\": {\"color\": \"rgb(36,36,36)\"}, \"marker\": {\"line\": {\"color\": \"white\", \"width\": 0.5}}, \"type\": \"bar\"}], \"barpolar\": [{\"marker\": {\"line\": {\"color\": \"white\", \"width\": 0.5}}, \"type\": \"barpolar\"}], \"carpet\": [{\"aaxis\": {\"endlinecolor\": \"rgb(36,36,36)\", \"gridcolor\": \"white\", \"linecolor\": \"white\", \"minorgridcolor\": \"white\", \"startlinecolor\": \"rgb(36,36,36)\"}, \"baxis\": {\"endlinecolor\": \"rgb(36,36,36)\", \"gridcolor\": \"white\", \"linecolor\": \"white\", \"minorgridcolor\": \"white\", \"startlinecolor\": \"rgb(36,36,36)\"}, \"type\": \"carpet\"}], \"choropleth\": [{\"colorbar\": {\"outlinewidth\": 1, \"tickcolor\": \"rgb(36,36,36)\", \"ticks\": \"outside\"}, \"type\": \"choropleth\"}], \"contour\": [{\"colorbar\": {\"outlinewidth\": 1, \"tickcolor\": \"rgb(36,36,36)\", \"ticks\": \"outside\"}, \"colorscale\": [[0.0, \"#440154\"], [0.1111111111111111, \"#482878\"], [0.2222222222222222, \"#3e4989\"], [0.3333333333333333, \"#31688e\"], [0.4444444444444444, \"#26828e\"], [0.5555555555555556, \"#1f9e89\"], [0.6666666666666666, \"#35b779\"], [0.7777777777777778, \"#6ece58\"], [0.8888888888888888, \"#b5de2b\"], [1.0, \"#fde725\"]], \"type\": \"contour\"}], \"contourcarpet\": [{\"colorbar\": {\"outlinewidth\": 1, \"tickcolor\": \"rgb(36,36,36)\", \"ticks\": \"outside\"}, \"type\": \"contourcarpet\"}], \"heatmap\": [{\"colorbar\": {\"outlinewidth\": 1, \"tickcolor\": \"rgb(36,36,36)\", \"ticks\": \"outside\"}, \"colorscale\": [[0.0, \"#440154\"], [0.1111111111111111, \"#482878\"], [0.2222222222222222, \"#3e4989\"], [0.3333333333333333, \"#31688e\"], [0.4444444444444444, \"#26828e\"], [0.5555555555555556, \"#1f9e89\"], [0.6666666666666666, \"#35b779\"], [0.7777777777777778, \"#6ece58\"], [0.8888888888888888, \"#b5de2b\"], [1.0, \"#fde725\"]], \"type\": \"heatmap\"}], \"heatmapgl\": [{\"colorbar\": {\"outlinewidth\": 1, \"tickcolor\": \"rgb(36,36,36)\", \"ticks\": \"outside\"}, \"colorscale\": [[0.0, \"#440154\"], [0.1111111111111111, \"#482878\"], [0.2222222222222222, \"#3e4989\"], [0.3333333333333333, \"#31688e\"], [0.4444444444444444, \"#26828e\"], [0.5555555555555556, \"#1f9e89\"], [0.6666666666666666, \"#35b779\"], [0.7777777777777778, \"#6ece58\"], [0.8888888888888888, \"#b5de2b\"], [1.0, \"#fde725\"]], \"type\": \"heatmapgl\"}], \"histogram\": [{\"marker\": {\"line\": {\"color\": \"white\", \"width\": 0.6}}, \"type\": \"histogram\"}], \"histogram2d\": [{\"colorbar\": {\"outlinewidth\": 1, \"tickcolor\": \"rgb(36,36,36)\", \"ticks\": \"outside\"}, \"colorscale\": [[0.0, \"#440154\"], [0.1111111111111111, \"#482878\"], [0.2222222222222222, \"#3e4989\"], [0.3333333333333333, \"#31688e\"], [0.4444444444444444, \"#26828e\"], [0.5555555555555556, \"#1f9e89\"], [0.6666666666666666, \"#35b779\"], [0.7777777777777778, \"#6ece58\"], [0.8888888888888888, \"#b5de2b\"], [1.0, \"#fde725\"]], \"type\": \"histogram2d\"}], \"histogram2dcontour\": [{\"colorbar\": {\"outlinewidth\": 1, \"tickcolor\": \"rgb(36,36,36)\", \"ticks\": \"outside\"}, \"colorscale\": [[0.0, \"#440154\"], [0.1111111111111111, \"#482878\"], [0.2222222222222222, \"#3e4989\"], [0.3333333333333333, \"#31688e\"], [0.4444444444444444, \"#26828e\"], [0.5555555555555556, \"#1f9e89\"], [0.6666666666666666, \"#35b779\"], [0.7777777777777778, \"#6ece58\"], [0.8888888888888888, \"#b5de2b\"], [1.0, \"#fde725\"]], \"type\": \"histogram2dcontour\"}], \"mesh3d\": [{\"colorbar\": {\"outlinewidth\": 1, \"tickcolor\": \"rgb(36,36,36)\", \"ticks\": \"outside\"}, \"type\": \"mesh3d\"}], \"parcoords\": [{\"line\": {\"colorbar\": {\"outlinewidth\": 1, \"tickcolor\": \"rgb(36,36,36)\", \"ticks\": \"outside\"}}, \"type\": \"parcoords\"}], \"pie\": [{\"automargin\": true, \"type\": \"pie\"}], \"scatter\": [{\"marker\": {\"colorbar\": {\"outlinewidth\": 1, \"tickcolor\": \"rgb(36,36,36)\", \"ticks\": \"outside\"}}, \"type\": \"scatter\"}], \"scatter3d\": [{\"line\": {\"colorbar\": {\"outlinewidth\": 1, \"tickcolor\": \"rgb(36,36,36)\", \"ticks\": \"outside\"}}, \"marker\": {\"colorbar\": {\"outlinewidth\": 1, \"tickcolor\": \"rgb(36,36,36)\", \"ticks\": \"outside\"}}, \"type\": \"scatter3d\"}], \"scattercarpet\": [{\"marker\": {\"colorbar\": {\"outlinewidth\": 1, \"tickcolor\": \"rgb(36,36,36)\", \"ticks\": \"outside\"}}, \"type\": \"scattercarpet\"}], \"scattergeo\": [{\"marker\": {\"colorbar\": {\"outlinewidth\": 1, \"tickcolor\": \"rgb(36,36,36)\", \"ticks\": \"outside\"}}, \"type\": \"scattergeo\"}], \"scattergl\": [{\"marker\": {\"colorbar\": {\"outlinewidth\": 1, \"tickcolor\": \"rgb(36,36,36)\", \"ticks\": \"outside\"}}, \"type\": \"scattergl\"}], \"scattermapbox\": [{\"marker\": {\"colorbar\": {\"outlinewidth\": 1, \"tickcolor\": \"rgb(36,36,36)\", \"ticks\": \"outside\"}}, \"type\": \"scattermapbox\"}], \"scatterpolar\": [{\"marker\": {\"colorbar\": {\"outlinewidth\": 1, \"tickcolor\": \"rgb(36,36,36)\", \"ticks\": \"outside\"}}, \"type\": \"scatterpolar\"}], \"scatterpolargl\": [{\"marker\": {\"colorbar\": {\"outlinewidth\": 1, \"tickcolor\": \"rgb(36,36,36)\", \"ticks\": \"outside\"}}, \"type\": \"scatterpolargl\"}], \"scatterternary\": [{\"marker\": {\"colorbar\": {\"outlinewidth\": 1, \"tickcolor\": \"rgb(36,36,36)\", \"ticks\": \"outside\"}}, \"type\": \"scatterternary\"}], \"surface\": [{\"colorbar\": {\"outlinewidth\": 1, \"tickcolor\": \"rgb(36,36,36)\", \"ticks\": \"outside\"}, \"colorscale\": [[0.0, \"#440154\"], [0.1111111111111111, \"#482878\"], [0.2222222222222222, \"#3e4989\"], [0.3333333333333333, \"#31688e\"], [0.4444444444444444, \"#26828e\"], [0.5555555555555556, \"#1f9e89\"], [0.6666666666666666, \"#35b779\"], [0.7777777777777778, \"#6ece58\"], [0.8888888888888888, \"#b5de2b\"], [1.0, \"#fde725\"]], \"type\": \"surface\"}], \"table\": [{\"cells\": {\"fill\": {\"color\": \"rgb(237,237,237)\"}, \"line\": {\"color\": \"white\"}}, \"header\": {\"fill\": {\"color\": \"rgb(217,217,217)\"}, \"line\": {\"color\": \"white\"}}, \"type\": \"table\"}]}, \"layout\": {\"annotationdefaults\": {\"arrowhead\": 0, \"arrowwidth\": 1}, \"coloraxis\": {\"colorbar\": {\"outlinewidth\": 1, \"tickcolor\": \"rgb(36,36,36)\", \"ticks\": \"outside\"}}, \"colorscale\": {\"diverging\": [[0.0, \"rgb(103,0,31)\"], [0.1, \"rgb(178,24,43)\"], [0.2, \"rgb(214,96,77)\"], [0.3, \"rgb(244,165,130)\"], [0.4, \"rgb(253,219,199)\"], [0.5, \"rgb(247,247,247)\"], [0.6, \"rgb(209,229,240)\"], [0.7, \"rgb(146,197,222)\"], [0.8, \"rgb(67,147,195)\"], [0.9, \"rgb(33,102,172)\"], [1.0, \"rgb(5,48,97)\"]], \"sequential\": [[0.0, \"#440154\"], [0.1111111111111111, \"#482878\"], [0.2222222222222222, \"#3e4989\"], [0.3333333333333333, \"#31688e\"], [0.4444444444444444, \"#26828e\"], [0.5555555555555556, \"#1f9e89\"], [0.6666666666666666, \"#35b779\"], [0.7777777777777778, \"#6ece58\"], [0.8888888888888888, \"#b5de2b\"], [1.0, \"#fde725\"]], \"sequentialminus\": [[0.0, \"#440154\"], [0.1111111111111111, \"#482878\"], [0.2222222222222222, \"#3e4989\"], [0.3333333333333333, \"#31688e\"], [0.4444444444444444, \"#26828e\"], [0.5555555555555556, \"#1f9e89\"], [0.6666666666666666, \"#35b779\"], [0.7777777777777778, \"#6ece58\"], [0.8888888888888888, \"#b5de2b\"], [1.0, \"#fde725\"]]}, \"colorway\": [\"#1F77B4\", \"#FF7F0E\", \"#2CA02C\", \"#D62728\", \"#9467BD\", \"#8C564B\", \"#E377C2\", \"#7F7F7F\", \"#BCBD22\", \"#17BECF\"], \"font\": {\"color\": \"rgb(36,36,36)\"}, \"geo\": {\"bgcolor\": \"white\", \"lakecolor\": \"white\", \"landcolor\": \"white\", \"showlakes\": true, \"showland\": true, \"subunitcolor\": \"white\"}, \"hoverlabel\": {\"align\": \"left\"}, \"hovermode\": \"closest\", \"mapbox\": {\"style\": \"light\"}, \"paper_bgcolor\": \"white\", \"plot_bgcolor\": \"white\", \"polar\": {\"angularaxis\": {\"gridcolor\": \"rgb(232,232,232)\", \"linecolor\": \"rgb(36,36,36)\", \"showgrid\": false, \"showline\": true, \"ticks\": \"outside\"}, \"bgcolor\": \"white\", \"radialaxis\": {\"gridcolor\": \"rgb(232,232,232)\", \"linecolor\": \"rgb(36,36,36)\", \"showgrid\": false, \"showline\": true, \"ticks\": \"outside\"}}, \"scene\": {\"xaxis\": {\"backgroundcolor\": \"white\", \"gridcolor\": \"rgb(232,232,232)\", \"gridwidth\": 2, \"linecolor\": \"rgb(36,36,36)\", \"showbackground\": true, \"showgrid\": false, \"showline\": true, \"ticks\": \"outside\", \"zeroline\": false, \"zerolinecolor\": \"rgb(36,36,36)\"}, \"yaxis\": {\"backgroundcolor\": \"white\", \"gridcolor\": \"rgb(232,232,232)\", \"gridwidth\": 2, \"linecolor\": \"rgb(36,36,36)\", \"showbackground\": true, \"showgrid\": false, \"showline\": true, \"ticks\": \"outside\", \"zeroline\": false, \"zerolinecolor\": \"rgb(36,36,36)\"}, \"zaxis\": {\"backgroundcolor\": \"white\", \"gridcolor\": \"rgb(232,232,232)\", \"gridwidth\": 2, \"linecolor\": \"rgb(36,36,36)\", \"showbackground\": true, \"showgrid\": false, \"showline\": true, \"ticks\": \"outside\", \"zeroline\": false, \"zerolinecolor\": \"rgb(36,36,36)\"}}, \"shapedefaults\": {\"fillcolor\": \"black\", \"line\": {\"width\": 0}, \"opacity\": 0.3}, \"ternary\": {\"aaxis\": {\"gridcolor\": \"rgb(232,232,232)\", \"linecolor\": \"rgb(36,36,36)\", \"showgrid\": false, \"showline\": true, \"ticks\": \"outside\"}, \"baxis\": {\"gridcolor\": \"rgb(232,232,232)\", \"linecolor\": \"rgb(36,36,36)\", \"showgrid\": false, \"showline\": true, \"ticks\": \"outside\"}, \"bgcolor\": \"white\", \"caxis\": {\"gridcolor\": \"rgb(232,232,232)\", \"linecolor\": \"rgb(36,36,36)\", \"showgrid\": false, \"showline\": true, \"ticks\": \"outside\"}}, \"title\": {\"x\": 0.05}, \"xaxis\": {\"automargin\": true, \"gridcolor\": \"rgb(232,232,232)\", \"linecolor\": \"rgb(36,36,36)\", \"showgrid\": false, \"showline\": true, \"ticks\": \"outside\", \"title\": {\"standoff\": 15}, \"zeroline\": false, \"zerolinecolor\": \"rgb(36,36,36)\"}, \"yaxis\": {\"automargin\": true, \"gridcolor\": \"rgb(232,232,232)\", \"linecolor\": \"rgb(36,36,36)\", \"showgrid\": false, \"showline\": true, \"ticks\": \"outside\", \"title\": {\"standoff\": 15}, \"zeroline\": false, \"zerolinecolor\": \"rgb(36,36,36)\"}}}, \"title\": {\"font\": {\"family\": \"Verdana\"}, \"text\": \"Share of projects by success of crowdfunding\", \"x\": 0.35, \"xanchor\": \"center\", \"y\": 0.96, \"yanchor\": \"top\"}},\n",
       "                        {\"responsive\": true}\n",
       "                    ).then(function(){\n",
       "                            \n",
       "var gd = document.getElementById('db23874e-63a1-4017-b4e1-40ef70c5e182');\n",
       "var x = new MutationObserver(function (mutations, observer) {{\n",
       "        var display = window.getComputedStyle(gd).display;\n",
       "        if (!display || display === 'none') {{\n",
       "            console.log([gd, 'removed!']);\n",
       "            Plotly.purge(gd);\n",
       "            observer.disconnect();\n",
       "        }}\n",
       "}});\n",
       "\n",
       "// Listen for the removal of the full notebook cells\n",
       "var notebookContainer = gd.closest('#notebook-container');\n",
       "if (notebookContainer) {{\n",
       "    x.observe(notebookContainer, {childList: true});\n",
       "}}\n",
       "\n",
       "// Listen for the clearing of the current output cell\n",
       "var outputEl = gd.closest('.output');\n",
       "if (outputEl) {{\n",
       "    x.observe(outputEl, {childList: true});\n",
       "}}\n",
       "\n",
       "                        })\n",
       "                };\n",
       "                });\n",
       "            </script>\n",
       "        </div>"
      ]
     },
     "metadata": {},
     "output_type": "display_data"
    }
   ],
   "source": [
    "# Plotting it as a donut-chart:\n",
    "plotdonut(successful, 'Share of projects by success of crowdfunding', 'All projects:')"
   ]
  },
  {
   "cell_type": "markdown",
   "metadata": {},
   "source": [
    "Most projects (93%) were successful in crowdfunding - our platform does its job well."
   ]
  },
  {
   "cell_type": "markdown",
   "metadata": {},
   "source": [
    "#### Analyzing Activities"
   ]
  },
  {
   "cell_type": "code",
   "execution_count": 32,
   "metadata": {},
   "outputs": [],
   "source": [
    "# Average money gathered pro activity? Projects in which activities are most expensive ones, on average?\n",
    "\n",
    "activities = df.groupby(['sector', 'activity']).agg({'funded_amount': ['size', 'sum', 'mean'], 'lender_count':'mean', 'share_gathered':'mean'})\n",
    "activities.reset_index(inplace=True)\n",
    "activities.columns = activities.columns.get_level_values(1)\n",
    "activities.columns = ['Sector', 'Activity', '# of projects', 'Total money raised, $', 'Avg money raised pro project, $', 'Avg investors', 'Avg share gathered, %']\n",
    "activities = activities.dropna()"
   ]
  },
  {
   "cell_type": "markdown",
   "metadata": {},
   "source": [
    "The following parameter - 'Value over volume' - will reflect \n",
    "how many times the share of an activity in money (Value) is bigger or smaller \n",
    "than the share of an activity in the total number of projects (Volume).\n",
    "So if 'Value over volume' for a particular activity is 2 \n",
    "it means that projects related to this activity \"weigh\" 2 times more in money attracted than in their simple count.\n",
    "In other words, the share of such projects in all money raised through our platform is 2 times bigger \n",
    "than their share in the total number of projects."
   ]
  },
  {
   "cell_type": "code",
   "execution_count": 33,
   "metadata": {},
   "outputs": [],
   "source": [
    "activities['Share in volume, %'] = activities['# of projects'] / activities['# of projects'].sum()\n",
    "activities['Share in value, %'] = activities['Total money raised, $'] / activities['Total money raised, $'].sum()\n",
    "activities['Value over volume'] = round(activities['Share in value, %'] / activities['Share in volume, %'], 1)"
   ]
  },
  {
   "cell_type": "code",
   "execution_count": 34,
   "metadata": {},
   "outputs": [],
   "source": [
    "for c in ['Avg investors', 'Avg money raised pro project, $', 'Avg share gathered, %']:\n",
    "    activities[c] = round(activities[c], 1)"
   ]
  },
  {
   "cell_type": "code",
   "execution_count": 35,
   "metadata": {},
   "outputs": [
    {
     "data": {
      "text/html": [
       "<div>\n",
       "<style scoped>\n",
       "    .dataframe tbody tr th:only-of-type {\n",
       "        vertical-align: middle;\n",
       "    }\n",
       "\n",
       "    .dataframe tbody tr th {\n",
       "        vertical-align: top;\n",
       "    }\n",
       "\n",
       "    .dataframe thead th {\n",
       "        text-align: right;\n",
       "    }\n",
       "</style>\n",
       "<table border=\"1\" class=\"dataframe\">\n",
       "  <thead>\n",
       "    <tr style=\"text-align: right;\">\n",
       "      <th></th>\n",
       "      <th>Sector</th>\n",
       "      <th>Activity</th>\n",
       "      <th># of projects</th>\n",
       "      <th>Total money raised, $</th>\n",
       "      <th>Avg money raised pro project, $</th>\n",
       "      <th>Avg investors</th>\n",
       "      <th>Avg share gathered, %</th>\n",
       "      <th>Share in volume, %</th>\n",
       "      <th>Share in value, %</th>\n",
       "      <th>Value over volume</th>\n",
       "    </tr>\n",
       "  </thead>\n",
       "  <tbody>\n",
       "    <tr>\n",
       "      <td>1</td>\n",
       "      <td>Agriculture</td>\n",
       "      <td>Agriculture</td>\n",
       "      <td>27023.0</td>\n",
       "      <td>25530735.0</td>\n",
       "      <td>944.8</td>\n",
       "      <td>26.9</td>\n",
       "      <td>95.3</td>\n",
       "      <td>0.040260</td>\n",
       "      <td>0.048394</td>\n",
       "      <td>1.2</td>\n",
       "    </tr>\n",
       "    <tr>\n",
       "      <td>3</td>\n",
       "      <td>Agriculture</td>\n",
       "      <td>Animal Sales</td>\n",
       "      <td>9237.0</td>\n",
       "      <td>9975500.0</td>\n",
       "      <td>1080.0</td>\n",
       "      <td>27.7</td>\n",
       "      <td>96.7</td>\n",
       "      <td>0.013762</td>\n",
       "      <td>0.018909</td>\n",
       "      <td>1.4</td>\n",
       "    </tr>\n",
       "    <tr>\n",
       "      <td>4</td>\n",
       "      <td>Agriculture</td>\n",
       "      <td>Aquaculture</td>\n",
       "      <td>108.0</td>\n",
       "      <td>71300.0</td>\n",
       "      <td>660.2</td>\n",
       "      <td>19.2</td>\n",
       "      <td>93.2</td>\n",
       "      <td>0.000161</td>\n",
       "      <td>0.000135</td>\n",
       "      <td>0.8</td>\n",
       "    </tr>\n",
       "  </tbody>\n",
       "</table>\n",
       "</div>"
      ],
      "text/plain": [
       "        Sector      Activity  # of projects  Total money raised, $  \\\n",
       "1  Agriculture   Agriculture        27023.0             25530735.0   \n",
       "3  Agriculture  Animal Sales         9237.0              9975500.0   \n",
       "4  Agriculture   Aquaculture          108.0                71300.0   \n",
       "\n",
       "   Avg money raised pro project, $  Avg investors  Avg share gathered, %  \\\n",
       "1                            944.8           26.9                   95.3   \n",
       "3                           1080.0           27.7                   96.7   \n",
       "4                            660.2           19.2                   93.2   \n",
       "\n",
       "   Share in volume, %  Share in value, %  Value over volume  \n",
       "1            0.040260           0.048394                1.2  \n",
       "3            0.013762           0.018909                1.4  \n",
       "4            0.000161           0.000135                0.8  "
      ]
     },
     "execution_count": 35,
     "metadata": {},
     "output_type": "execute_result"
    }
   ],
   "source": [
    "activities.head(3)"
   ]
  },
  {
   "cell_type": "markdown",
   "metadata": {},
   "source": [
    "Which sectors and activities are represented in the projects?"
   ]
  },
  {
   "cell_type": "code",
   "execution_count": 36,
   "metadata": {},
   "outputs": [
    {
     "data": {
      "application/vnd.plotly.v1+json": {
       "config": {
        "plotlyServerURL": "https://plot.ly"
       },
       "data": [
        {
         "branchvalues": "total",
         "customdata": [
          [
           2.1,
           51.5,
           1687.5
          ],
          [
           1.2,
           26.9,
           944.8
          ],
          [
           1.5,
           32.2,
           1141.7
          ],
          [
           1.4,
           27.7,
           1080
          ],
          [
           0.8,
           19.2,
           660.2
          ],
          [
           1.3,
           26.2,
           1008.2000000000002
          ],
          [
           1.2,
           27,
           966.9
          ],
          [
           1.4,
           29.3,
           1086.2
          ],
          [
           0.5,
           11.7,
           398
          ],
          [
           1,
           23,
           815.4
          ],
          [
           1.2,
           23,
           981.3
          ],
          [
           1.8,
           42.8,
           1423
          ],
          [
           1.3,
           23,
           992.4
          ],
          [
           0.9,
           23.6,
           725.5
          ],
          [
           1.3,
           32.4,
           1031
          ],
          [
           1.1,
           24.4,
           847.7999999999998
          ],
          [
           1.2,
           34.9,
           962.9
          ],
          [
           1.8,
           33.7,
           1435
          ],
          [
           1.2,
           23.7,
           904.2
          ],
          [
           1.2,
           23.2,
           939.9
          ],
          [
           1.3,
           26.8,
           984.2
          ],
          [
           1,
           23.2,
           777
          ],
          [
           1.2,
           26.3,
           956.2
          ],
          [
           1.4,
           27.4,
           1063.6
          ],
          [
           1.2,
           26,
           924.8
          ],
          [
           0.4,
           10,
           280
          ],
          [
           1.8,
           37.8,
           1421.2
          ],
          [
           0.8,
           15.2,
           617.6
          ],
          [
           0.7,
           13.2,
           554.2
          ],
          [
           1.5,
           34.6,
           1161.5
          ],
          [
           2.9,
           61.4,
           2280.3
          ],
          [
           2.8,
           46.8,
           2228.2
          ],
          [
           0.9,
           21.1,
           746.3
          ],
          [
           1.7,
           27.1,
           1330
          ],
          [
           1.3,
           24.4,
           1010.3
          ],
          [
           0.9,
           21.4,
           726
          ],
          [
           3,
           42.1,
           2325.9
          ],
          [
           1.2,
           27.6,
           955.6
          ],
          [
           1.3,
           25.6,
           1009.6000000000001
          ],
          [
           1.3,
           28.4,
           1012.7
          ],
          [
           1.4,
           29.6,
           1107.5
          ],
          [
           1,
           17.3,
           800.9
          ],
          [
           1.4,
           24,
           1130
          ],
          [
           1.5,
           30.4,
           1182.7
          ],
          [
           0.8,
           19.1,
           630.5
          ],
          [
           1.5,
           29.6,
           1140.6
          ],
          [
           1.5,
           33.9,
           1169.8
          ],
          [
           1.6,
           36.9,
           1276.6
          ],
          [
           1.5,
           32,
           1176.3
          ],
          [
           1.2,
           27.1,
           956.1999999999999
          ],
          [
           1.1,
           23.4,
           849.2
          ],
          [
           1.2,
           25.9,
           974.4000000000001
          ],
          [
           0.8,
           19.5,
           665.9
          ],
          [
           0.9,
           27.5,
           700.5
          ],
          [
           1.8,
           33.9,
           1453.5
          ],
          [
           1.8,
           48.2,
           1435
          ],
          [
           0.9,
           21,
           724.8
          ],
          [
           0.8,
           19,
           656.6
          ],
          [
           2.7,
           62.7,
           2092.3
          ],
          [
           0.7,
           13.1,
           548.4
          ],
          [
           0.6,
           12.1,
           446.6000000000001
          ],
          [
           2.3,
           39.9,
           1829.6
          ],
          [
           1,
           21.3,
           804.2
          ],
          [
           1.2,
           20,
           970.7
          ],
          [
           1.3,
           24.3,
           1004.5
          ],
          [
           1.1,
           20,
           865.5
          ],
          [
           1.2,
           23.2,
           979.4
          ],
          [
           1,
           18.8,
           794.9
          ],
          [
           0.8,
           16,
           605.6
          ],
          [
           1.1,
           29.8,
           835.4000000000001
          ],
          [
           1.2,
           25.5,
           919.1
          ],
          [
           1.1,
           27.5,
           874.4
          ],
          [
           0.7,
           13.3,
           549.3
          ],
          [
           2.1,
           48.1,
           1670.2
          ],
          [
           1.2,
           22.9,
           946.9
          ],
          [
           1.4,
           24.3,
           1074.1
          ],
          [
           1.9,
           44.2,
           1457.3
          ],
          [
           1.2,
           30.1,
           963
          ],
          [
           0.3,
           8.3,
           266.1
          ],
          [
           0.7,
           17.5,
           563.1
          ],
          [
           1.2,
           23.9,
           955.2
          ],
          [
           1.2,
           24.7,
           938.7
          ],
          [
           1,
           19.8,
           788.2
          ],
          [
           1.3,
           20.4,
           995.6999999999999
          ],
          [
           1.7,
           35.5,
           1334.1
          ],
          [
           1,
           24.3,
           769.3
          ],
          [
           4.6,
           74.2,
           3640.1
          ],
          [
           1.3,
           23.2,
           1026.7
          ],
          [
           1.3,
           20.6,
           985.2
          ],
          [
           1.3,
           29.9,
           1046.1
          ],
          [
           1,
           25.9,
           820.3
          ],
          [
           1.1,
           26.3,
           882.4
          ],
          [
           1,
           23.4,
           804.8
          ],
          [
           1.5,
           36.9,
           1170.9
          ],
          [
           1.2,
           27.8,
           923.4
          ],
          [
           0.9,
           18.5,
           721.4
          ],
          [
           1.3,
           27.3,
           1026.6
          ],
          [
           0.9,
           24.6,
           727.7
          ],
          [
           1.1,
           24.3,
           833.9
          ],
          [
           0.6,
           12.9,
           459.2
          ],
          [
           1.1,
           22.2,
           854.1
          ],
          [
           1.4,
           29.6,
           1097.2
          ],
          [
           1.6,
           42.1,
           1254.7
          ],
          [
           1.5,
           32.2,
           1148.2
          ],
          [
           1.7,
           24.2,
           1341.2
          ],
          [
           1.3,
           26.8,
           1014.7
          ],
          [
           1.3,
           27.2,
           995.6999999999999
          ],
          [
           1.4,
           31.6,
           1129.5
          ],
          [
           0.8,
           21.7,
           643.2
          ],
          [
           2.2,
           25.5,
           1700.4000000000003
          ],
          [
           0.7,
           20.1,
           514.3
          ],
          [
           0.5,
           11.9,
           411
          ],
          [
           0.8,
           19,
           621.5
          ],
          [
           1,
           24.5,
           772.9
          ],
          [
           0.7,
           14,
           545.1
          ],
          [
           1.6,
           36.1,
           1259.1
          ],
          [
           1.1,
           22.7,
           863.8
          ],
          [
           1.4,
           28.7,
           1068.3
          ],
          [
           0.8,
           18.1,
           622.3
          ],
          [
           1.4,
           31,
           1091.7
          ],
          [
           0.6,
           12.5,
           455.6
          ],
          [
           1.1,
           21.5,
           858
          ],
          [
           1,
           24,
           812.4
          ],
          [
           1,
           22.2,
           786.8
          ],
          [
           1.4,
           26.3,
           1075.9
          ],
          [
           1.2,
           26,
           943.6
          ],
          [
           1.2,
           23.9,
           973.8
          ],
          [
           1,
           22.3,
           769.5
          ],
          [
           1,
           19.4,
           793.1
          ],
          [
           1,
           23.5,
           786.8
          ],
          [
           0.9,
           21.1,
           684.9
          ],
          [
           3.9,
           83.4,
           3074.7
          ],
          [
           1.7,
           27.6,
           1338.2
          ],
          [
           1.2,
           21.6,
           965.2999999999998
          ],
          [
           0.6,
           14.8,
           494.19999999999993
          ],
          [
           1.3,
           29.8,
           989
          ],
          [
           1.4,
           28.1,
           1123.1
          ],
          [
           1.3,
           25.9,
           1041.2
          ],
          [
           1.3,
           23.4,
           983.2
          ],
          [
           1.2,
           25.2,
           938.5
          ],
          [
           1.2,
           22.8,
           937
          ],
          [
           1,
           24.5,
           778.2
          ],
          [
           0.8,
           17.4,
           616.2
          ],
          [
           1.3,
           24.7,
           984.4
          ],
          [
           3.1,
           44.2,
           2405.9
          ],
          [
           1.8,
           42,
           1406
          ],
          [
           0.9,
           20.4,
           713.5
          ],
          [
           1.9,
           30.3,
           1465.8
          ],
          [
           1,
           19.8,
           758.6
          ],
          [
           0.9,
           20.3,
           702.8
          ],
          [
           1.2,
           26.3,
           919.3
          ],
          [
           1.1,
           21.9,
           900.3
          ],
          [
           2.4,
           35,
           1851.6
          ],
          [
           1.5,
           34.8,
           1192.6
          ],
          [
           1.2,
           27.9,
           946
          ],
          [
           1.2,
           25.1,
           976.8
          ],
          [
           1,
           21.7,
           779.2
          ],
          [
           1.1,
           26.2,
           835
          ],
          [
           1.4,
           32.3,
           1111.7
          ],
          [
           0.9,
           22,
           737.6
          ],
          [
           1,
           23,
           800
          ],
          [
           1.6,
           39.6,
           1221.4
          ],
          [
           1.6,
           39.7,
           1278
          ],
          [
           "(?)",
           "(?)",
           741.9416456833535
          ],
          [
           "(?)",
           "(?)",
           980.2010779436151
          ],
          [
           "(?)",
           "(?)",
           1063.0018325087044
          ],
          [
           "(?)",
           "(?)",
           1008.5463305679643
          ],
          [
           "(?)",
           "(?)",
           968.7645116564022
          ],
          [
           "(?)",
           "(?)",
           1232.637951807229
          ],
          [
           "(?)",
           "(?)",
           842.1683301989652
          ],
          [
           "(?)",
           "(?)",
           994.4677762116447
          ],
          [
           "(?)",
           "(?)",
           633.7514689751267
          ],
          [
           "(?)",
           "(?)",
           862.877980025773
          ],
          [
           "(?)",
           "(?)",
           389.9817754569191
          ],
          [
           "(?)",
           "(?)",
           729.8734501261105
          ],
          [
           "(?)",
           "(?)",
           951.8439654408508
          ],
          [
           "(?)",
           "(?)",
           634.2456631009151
          ],
          [
           "(?)",
           "(?)",
           1449.3555205047319
          ]
         ],
         "domain": {
          "x": [
           0,
           1
          ],
          "y": [
           0,
           1
          ]
         },
         "hoverlabel": {
          "namelength": 0
         },
         "hovertemplate": "Value over volume=%{customdata[0]}<br>Avg investors=%{customdata[1]}<br>Avg money raised pro project, $=%{color}<br>labels=%{label}<br># of projects=%{value}<br>parent=%{parent}<br>id=%{id}",
         "ids": [
          "Services/Adult Care",
          "Agriculture/Agriculture",
          "Services/Air Conditioning",
          "Agriculture/Animal Sales",
          "Agriculture/Aquaculture",
          "Arts/Arts",
          "Services/Auto Repair",
          "Food/Bakery",
          "Food/Balut-Making",
          "Services/Barber Shop",
          "Services/Beauty Salon",
          "Agriculture/Beekeeping",
          "Food/Beverages",
          "Services/Bicycle Repair",
          "Retail/Bicycle Sales",
          "Manufacturing/Blacksmith",
          "Services/Bookbinding",
          "Retail/Bookstore",
          "Construction/Bricks",
          "Food/Butcher Shop",
          "Food/Cafe",
          "Services/Call Center",
          "Construction/Carpentry",
          "Food/Catering",
          "Agriculture/Cattle",
          "Personal Use/Celebrations",
          "Construction/Cement",
          "Food/Cereals",
          "Retail/Charcoal Sales",
          "Food/Cheese Making",
          "Services/Child Care",
          "Services/Cleaning Services",
          "Retail/Cloth & Dressmaking Supplies",
          "Clothing/Clothing",
          "Clothing/Clothing Sales",
          "Services/Cobbler",
          "Services/Communications",
          "Education/Computer",
          "Services/Computers",
          "Construction/Construction",
          "Construction/Construction Supplies",
          "Personal Use/Consumer Goods",
          "Retail/Cosmetics Sales",
          "Arts/Crafts",
          "Agriculture/Dairy",
          "Retail/Decorations Sales",
          "Health/Dental",
          "Education/Education provider",
          "Retail/Electrical Goods",
          "Services/Electrician",
          "Services/Electronics Repair",
          "Retail/Electronics Sales",
          "Arts/Embroidery",
          "Services/Energy",
          "Entertainment/Entertainment",
          "Services/Event Planning",
          "Agriculture/Farm Supplies",
          "Agriculture/Farming",
          "Arts/Film",
          "Food/Fish Selling",
          "Food/Fishing",
          "Retail/Florist",
          "Agriculture/Flowers",
          "Food/Food",
          "Food/Food Market",
          "Food/Food Production/Sales",
          "Food/Food Stall",
          "Food/Fruits & Vegetables",
          "Retail/Fuel/Firewood",
          "Personal Use/Funerals",
          "Manufacturing/Furniture Making",
          "Entertainment/Games",
          "Retail/General Store",
          "Wholesale/Goods Distribution",
          "Food/Grocery Store",
          "Retail/Hardware",
          "Health/Health",
          "Education/Higher education costs",
          "Personal Use/Home Appliances",
          "Personal Use/Home Energy",
          "Retail/Home Products Sales",
          "Services/Hotel",
          "Services/Internet Cafe",
          "Retail/Jewelry",
          "Arts/Knitting",
          "Agriculture/Land Rental",
          "Services/Landscaping / Gardening",
          "Services/Laundry",
          "Food/Liquor Store / Off-License",
          "Agriculture/Livestock",
          "Manufacturing/Machine Shop",
          "Services/Machinery Rental",
          "Manufacturing/Manufacturing",
          "Health/Medical Clinic",
          "Manufacturing/Metal Shop",
          "Food/Milk Sales",
          "Retail/Mobile Phones",
          "Services/Mobile Transactions",
          "Services/Motorcycle Repair",
          "Transportation/Motorcycle Transport",
          "Retail/Movie Tapes & DVDs",
          "Retail/Music Discs & Tapes",
          "Arts/Musical Instruments",
          "Entertainment/Musical Performance",
          "Health/Natural Medicines",
          "Retail/Office Supplies",
          "Retail/Paper Sales",
          "Retail/Party Supplies",
          "Arts/Patchwork",
          "Retail/Perfumes",
          "Manufacturing/Personal Care Products",
          "Personal Use/Personal Expenses",
          "Housing/Personal Housing Expenses",
          "Health/Personal Medical Expenses",
          "Retail/Personal Products Sales",
          "Health/Pharmacy",
          "Retail/Phone Accessories",
          "Services/Phone Repair",
          "Retail/Phone Use Sales",
          "Services/Photography",
          "Agriculture/Pigs",
          "Retail/Plastics Sales",
          "Agriculture/Poultry",
          "Education/Primary/secondary school costs",
          "Services/Printing",
          "Housing/Property",
          "Food/Pub",
          "Construction/Quarrying",
          "Retail/Recycled Materials",
          "Services/Recycling",
          "Retail/Religious Articles",
          "Retail/Renewable Energy Products",
          "Food/Restaurant",
          "Retail/Retail",
          "Transportation/Rickshaw",
          "Services/Secretarial Services",
          "Services/Services",
          "Services/Sewing",
          "Retail/Shoe Sales",
          "Retail/Souvenir Sales",
          "Retail/Spare Parts",
          "Retail/Sporting Good Sales",
          "Services/Tailoring",
          "Transportation/Taxi",
          "Services/Technology",
          "Arts/Textiles",
          "Construction/Timber Sales",
          "Services/Tourism",
          "Transportation/Transportation",
          "Retail/Traveling Sales",
          "Services/Upholstery",
          "Clothing/Used Clothing",
          "Clothing/Used Shoes",
          "Services/Utilities",
          "Personal Use/Vehicle",
          "Services/Vehicle Repairs",
          "Agriculture/Veterinary Sales",
          "Services/Waste Management",
          "Services/Water Distribution",
          "Arts/Weaving",
          "Personal Use/Wedding Expenses",
          "Construction/Well digging",
          "Wholesale/Wholesale",
          "Agriculture",
          "Arts",
          "Clothing",
          "Construction",
          "Education",
          "Entertainment",
          "Food",
          "Health",
          "Housing",
          "Manufacturing",
          "Personal Use",
          "Retail",
          "Services",
          "Transportation",
          "Wholesale"
         ],
         "labels": [
          "Adult Care",
          "Agriculture",
          "Air Conditioning",
          "Animal Sales",
          "Aquaculture",
          "Arts",
          "Auto Repair",
          "Bakery",
          "Balut-Making",
          "Barber Shop",
          "Beauty Salon",
          "Beekeeping",
          "Beverages",
          "Bicycle Repair",
          "Bicycle Sales",
          "Blacksmith",
          "Bookbinding",
          "Bookstore",
          "Bricks",
          "Butcher Shop",
          "Cafe",
          "Call Center",
          "Carpentry",
          "Catering",
          "Cattle",
          "Celebrations",
          "Cement",
          "Cereals",
          "Charcoal Sales",
          "Cheese Making",
          "Child Care",
          "Cleaning Services",
          "Cloth & Dressmaking Supplies",
          "Clothing",
          "Clothing Sales",
          "Cobbler",
          "Communications",
          "Computer",
          "Computers",
          "Construction",
          "Construction Supplies",
          "Consumer Goods",
          "Cosmetics Sales",
          "Crafts",
          "Dairy",
          "Decorations Sales",
          "Dental",
          "Education provider",
          "Electrical Goods",
          "Electrician",
          "Electronics Repair",
          "Electronics Sales",
          "Embroidery",
          "Energy",
          "Entertainment",
          "Event Planning",
          "Farm Supplies",
          "Farming",
          "Film",
          "Fish Selling",
          "Fishing",
          "Florist",
          "Flowers",
          "Food",
          "Food Market",
          "Food Production/Sales",
          "Food Stall",
          "Fruits & Vegetables",
          "Fuel/Firewood",
          "Funerals",
          "Furniture Making",
          "Games",
          "General Store",
          "Goods Distribution",
          "Grocery Store",
          "Hardware",
          "Health",
          "Higher education costs",
          "Home Appliances",
          "Home Energy",
          "Home Products Sales",
          "Hotel",
          "Internet Cafe",
          "Jewelry",
          "Knitting",
          "Land Rental",
          "Landscaping / Gardening",
          "Laundry",
          "Liquor Store / Off-License",
          "Livestock",
          "Machine Shop",
          "Machinery Rental",
          "Manufacturing",
          "Medical Clinic",
          "Metal Shop",
          "Milk Sales",
          "Mobile Phones",
          "Mobile Transactions",
          "Motorcycle Repair",
          "Motorcycle Transport",
          "Movie Tapes & DVDs",
          "Music Discs & Tapes",
          "Musical Instruments",
          "Musical Performance",
          "Natural Medicines",
          "Office Supplies",
          "Paper Sales",
          "Party Supplies",
          "Patchwork",
          "Perfumes",
          "Personal Care Products",
          "Personal Expenses",
          "Personal Housing Expenses",
          "Personal Medical Expenses",
          "Personal Products Sales",
          "Pharmacy",
          "Phone Accessories",
          "Phone Repair",
          "Phone Use Sales",
          "Photography",
          "Pigs",
          "Plastics Sales",
          "Poultry",
          "Primary/secondary school costs",
          "Printing",
          "Property",
          "Pub",
          "Quarrying",
          "Recycled Materials",
          "Recycling",
          "Religious Articles",
          "Renewable Energy Products",
          "Restaurant",
          "Retail",
          "Rickshaw",
          "Secretarial Services",
          "Services",
          "Sewing",
          "Shoe Sales",
          "Souvenir Sales",
          "Spare Parts",
          "Sporting Good Sales",
          "Tailoring",
          "Taxi",
          "Technology",
          "Textiles",
          "Timber Sales",
          "Tourism",
          "Transportation",
          "Traveling Sales",
          "Upholstery",
          "Used Clothing",
          "Used Shoes",
          "Utilities",
          "Vehicle",
          "Vehicle Repairs",
          "Veterinary Sales",
          "Waste Management",
          "Water Distribution",
          "Weaving",
          "Wedding Expenses",
          "Well digging",
          "Wholesale",
          "Agriculture",
          "Arts",
          "Clothing",
          "Construction",
          "Education",
          "Entertainment",
          "Food",
          "Health",
          "Housing",
          "Manufacturing",
          "Personal Use",
          "Retail",
          "Services",
          "Transportation",
          "Wholesale"
         ],
         "marker": {
          "coloraxis": "coloraxis",
          "colors": [
           1687.5,
           944.8,
           1141.7,
           1080,
           660.2,
           1008.2000000000002,
           966.9,
           1086.2,
           398,
           815.4,
           981.3,
           1423,
           992.4,
           725.5,
           1031,
           847.7999999999998,
           962.9,
           1435,
           904.2,
           939.9,
           984.2,
           777,
           956.2,
           1063.6,
           924.8,
           280,
           1421.2,
           617.6,
           554.2,
           1161.5,
           2280.3,
           2228.2,
           746.3,
           1330,
           1010.3,
           726,
           2325.9,
           955.6,
           1009.6000000000001,
           1012.7,
           1107.5,
           800.9,
           1130,
           1182.7,
           630.5,
           1140.6,
           1169.8,
           1276.6,
           1176.3,
           956.1999999999999,
           849.2,
           974.4000000000001,
           665.9,
           700.5,
           1453.5,
           1435,
           724.8,
           656.6,
           2092.3,
           548.4,
           446.6000000000001,
           1829.6,
           804.2,
           970.7,
           1004.5,
           865.5,
           979.4,
           794.9,
           605.6,
           835.4000000000001,
           919.1,
           874.4,
           549.3,
           1670.2,
           946.9,
           1074.1,
           1457.3,
           963,
           266.1,
           563.1,
           955.2,
           938.7,
           788.2,
           995.6999999999999,
           1334.1,
           769.3,
           3640.1,
           1026.7,
           985.2,
           1046.1,
           820.3,
           882.4,
           804.8,
           1170.9,
           923.4,
           721.4,
           1026.6,
           727.7,
           833.9,
           459.2,
           854.1,
           1097.2,
           1254.7,
           1148.2,
           1341.2,
           1014.7,
           995.6999999999999,
           1129.5,
           643.2,
           1700.4000000000003,
           514.3,
           411,
           621.5,
           772.9,
           545.1,
           1259.1,
           863.8,
           1068.3,
           622.3,
           1091.7,
           455.6,
           858,
           812.4,
           786.8,
           1075.9,
           943.6,
           973.8,
           769.5,
           793.1,
           786.8,
           684.9,
           3074.7,
           1338.2,
           965.2999999999998,
           494.19999999999993,
           989,
           1123.1,
           1041.2,
           983.2,
           938.5,
           937,
           778.2,
           616.2,
           984.4,
           2405.9,
           1406,
           713.5,
           1465.8,
           758.6,
           702.8,
           919.3,
           900.3,
           1851.6,
           1192.6,
           946,
           976.8,
           779.2,
           835,
           1111.7,
           737.6,
           800,
           1221.4,
           1278,
           741.9416456833535,
           980.2010779436151,
           1063.0018325087044,
           1008.5463305679643,
           968.7645116564022,
           1232.637951807229,
           842.1683301989652,
           994.4677762116447,
           633.7514689751267,
           862.877980025773,
           389.9817754569191,
           729.8734501261105,
           951.8439654408508,
           634.2456631009151,
           1449.3555205047319
          ]
         },
         "name": "",
         "parents": [
          "Services",
          "Agriculture",
          "Services",
          "Agriculture",
          "Agriculture",
          "Arts",
          "Services",
          "Food",
          "Food",
          "Services",
          "Services",
          "Agriculture",
          "Food",
          "Services",
          "Retail",
          "Manufacturing",
          "Services",
          "Retail",
          "Construction",
          "Food",
          "Food",
          "Services",
          "Construction",
          "Food",
          "Agriculture",
          "Personal Use",
          "Construction",
          "Food",
          "Retail",
          "Food",
          "Services",
          "Services",
          "Retail",
          "Clothing",
          "Clothing",
          "Services",
          "Services",
          "Education",
          "Services",
          "Construction",
          "Construction",
          "Personal Use",
          "Retail",
          "Arts",
          "Agriculture",
          "Retail",
          "Health",
          "Education",
          "Retail",
          "Services",
          "Services",
          "Retail",
          "Arts",
          "Services",
          "Entertainment",
          "Services",
          "Agriculture",
          "Agriculture",
          "Arts",
          "Food",
          "Food",
          "Retail",
          "Agriculture",
          "Food",
          "Food",
          "Food",
          "Food",
          "Food",
          "Retail",
          "Personal Use",
          "Manufacturing",
          "Entertainment",
          "Retail",
          "Wholesale",
          "Food",
          "Retail",
          "Health",
          "Education",
          "Personal Use",
          "Personal Use",
          "Retail",
          "Services",
          "Services",
          "Retail",
          "Arts",
          "Agriculture",
          "Services",
          "Services",
          "Food",
          "Agriculture",
          "Manufacturing",
          "Services",
          "Manufacturing",
          "Health",
          "Manufacturing",
          "Food",
          "Retail",
          "Services",
          "Services",
          "Transportation",
          "Retail",
          "Retail",
          "Arts",
          "Entertainment",
          "Health",
          "Retail",
          "Retail",
          "Retail",
          "Arts",
          "Retail",
          "Manufacturing",
          "Personal Use",
          "Housing",
          "Health",
          "Retail",
          "Health",
          "Retail",
          "Services",
          "Retail",
          "Services",
          "Agriculture",
          "Retail",
          "Agriculture",
          "Education",
          "Services",
          "Housing",
          "Food",
          "Construction",
          "Retail",
          "Services",
          "Retail",
          "Retail",
          "Food",
          "Retail",
          "Transportation",
          "Services",
          "Services",
          "Services",
          "Retail",
          "Retail",
          "Retail",
          "Retail",
          "Services",
          "Transportation",
          "Services",
          "Arts",
          "Construction",
          "Services",
          "Transportation",
          "Retail",
          "Services",
          "Clothing",
          "Clothing",
          "Services",
          "Personal Use",
          "Services",
          "Agriculture",
          "Services",
          "Services",
          "Arts",
          "Personal Use",
          "Construction",
          "Wholesale",
          "",
          "",
          "",
          "",
          "",
          "",
          "",
          "",
          "",
          "",
          "",
          "",
          "",
          "",
          ""
         ],
         "type": "treemap",
         "values": [
          2,
          27023,
          36,
          9237,
          108,
          1092,
          1336,
          3620,
          61,
          951,
          6611,
          50,
          2357,
          158,
          54,
          444,
          29,
          442,
          512,
          1968,
          1404,
          74,
          754,
          653,
          7865,
          5,
          152,
          7898,
          4421,
          347,
          183,
          145,
          2071,
          5014,
          22339,
          453,
          96,
          54,
          376,
          2145,
          2003,
          613,
          4740,
          4084,
          7914,
          385,
          290,
          4401,
          409,
          284,
          400,
          546,
          2380,
          190,
          443,
          5,
          4352,
          72955,
          13,
          13060,
          10066,
          65,
          821,
          10197,
          7091,
          28106,
          8905,
          16610,
          1925,
          41,
          2051,
          238,
          64729,
          277,
          15102,
          953,
          1235,
          19742,
          20267,
          7141,
          3817,
          274,
          986,
          1371,
          416,
          277,
          34,
          295,
          1558,
          13095,
          165,
          131,
          2643,
          323,
          898,
          1771,
          657,
          216,
          449,
          5888,
          135,
          81,
          69,
          149,
          814,
          362,
          289,
          110,
          22,
          328,
          7,
          6656,
          32448,
          5549,
          3866,
          1012,
          486,
          119,
          1019,
          396,
          26624,
          568,
          9783,
          6816,
          434,
          1283,
          902,
          158,
          819,
          358,
          68,
          585,
          4981,
          24771,
          2878,
          89,
          9807,
          8414,
          2760,
          180,
          1260,
          78,
          9657,
          2631,
          178,
          1023,
          502,
          187,
          4121,
          144,
          115,
          4637,
          752,
          185,
          1257,
          615,
          198,
          308,
          564,
          2961,
          405,
          42,
          357,
          180302,
          12060,
          32742,
          6268,
          31013,
          830,
          136657,
          9223,
          33731,
          6208,
          36385,
          124494,
          45140,
          15518,
          634
         ]
        }
       ],
       "layout": {
        "coloraxis": {
         "colorbar": {
          "title": {
           "text": "Avg money raised pro project, $"
          }
         },
         "colorscale": [
          [
           0,
           "#0d0887"
          ],
          [
           0.1111111111111111,
           "#46039f"
          ],
          [
           0.2222222222222222,
           "#7201a8"
          ],
          [
           0.3333333333333333,
           "#9c179e"
          ],
          [
           0.4444444444444444,
           "#bd3786"
          ],
          [
           0.5555555555555556,
           "#d8576b"
          ],
          [
           0.6666666666666666,
           "#ed7953"
          ],
          [
           0.7777777777777778,
           "#fb9f3a"
          ],
          [
           0.8888888888888888,
           "#fdca26"
          ],
          [
           1,
           "#f0f921"
          ]
         ]
        },
        "legend": {
         "tracegroupgap": 0
        },
        "template": {
         "data": {
          "bar": [
           {
            "error_x": {
             "color": "#2a3f5f"
            },
            "error_y": {
             "color": "#2a3f5f"
            },
            "marker": {
             "line": {
              "color": "#E5ECF6",
              "width": 0.5
             }
            },
            "type": "bar"
           }
          ],
          "barpolar": [
           {
            "marker": {
             "line": {
              "color": "#E5ECF6",
              "width": 0.5
             }
            },
            "type": "barpolar"
           }
          ],
          "carpet": [
           {
            "aaxis": {
             "endlinecolor": "#2a3f5f",
             "gridcolor": "white",
             "linecolor": "white",
             "minorgridcolor": "white",
             "startlinecolor": "#2a3f5f"
            },
            "baxis": {
             "endlinecolor": "#2a3f5f",
             "gridcolor": "white",
             "linecolor": "white",
             "minorgridcolor": "white",
             "startlinecolor": "#2a3f5f"
            },
            "type": "carpet"
           }
          ],
          "choropleth": [
           {
            "colorbar": {
             "outlinewidth": 0,
             "ticks": ""
            },
            "type": "choropleth"
           }
          ],
          "contour": [
           {
            "colorbar": {
             "outlinewidth": 0,
             "ticks": ""
            },
            "colorscale": [
             [
              0,
              "#0d0887"
             ],
             [
              0.1111111111111111,
              "#46039f"
             ],
             [
              0.2222222222222222,
              "#7201a8"
             ],
             [
              0.3333333333333333,
              "#9c179e"
             ],
             [
              0.4444444444444444,
              "#bd3786"
             ],
             [
              0.5555555555555556,
              "#d8576b"
             ],
             [
              0.6666666666666666,
              "#ed7953"
             ],
             [
              0.7777777777777778,
              "#fb9f3a"
             ],
             [
              0.8888888888888888,
              "#fdca26"
             ],
             [
              1,
              "#f0f921"
             ]
            ],
            "type": "contour"
           }
          ],
          "contourcarpet": [
           {
            "colorbar": {
             "outlinewidth": 0,
             "ticks": ""
            },
            "type": "contourcarpet"
           }
          ],
          "heatmap": [
           {
            "colorbar": {
             "outlinewidth": 0,
             "ticks": ""
            },
            "colorscale": [
             [
              0,
              "#0d0887"
             ],
             [
              0.1111111111111111,
              "#46039f"
             ],
             [
              0.2222222222222222,
              "#7201a8"
             ],
             [
              0.3333333333333333,
              "#9c179e"
             ],
             [
              0.4444444444444444,
              "#bd3786"
             ],
             [
              0.5555555555555556,
              "#d8576b"
             ],
             [
              0.6666666666666666,
              "#ed7953"
             ],
             [
              0.7777777777777778,
              "#fb9f3a"
             ],
             [
              0.8888888888888888,
              "#fdca26"
             ],
             [
              1,
              "#f0f921"
             ]
            ],
            "type": "heatmap"
           }
          ],
          "heatmapgl": [
           {
            "colorbar": {
             "outlinewidth": 0,
             "ticks": ""
            },
            "colorscale": [
             [
              0,
              "#0d0887"
             ],
             [
              0.1111111111111111,
              "#46039f"
             ],
             [
              0.2222222222222222,
              "#7201a8"
             ],
             [
              0.3333333333333333,
              "#9c179e"
             ],
             [
              0.4444444444444444,
              "#bd3786"
             ],
             [
              0.5555555555555556,
              "#d8576b"
             ],
             [
              0.6666666666666666,
              "#ed7953"
             ],
             [
              0.7777777777777778,
              "#fb9f3a"
             ],
             [
              0.8888888888888888,
              "#fdca26"
             ],
             [
              1,
              "#f0f921"
             ]
            ],
            "type": "heatmapgl"
           }
          ],
          "histogram": [
           {
            "marker": {
             "colorbar": {
              "outlinewidth": 0,
              "ticks": ""
             }
            },
            "type": "histogram"
           }
          ],
          "histogram2d": [
           {
            "colorbar": {
             "outlinewidth": 0,
             "ticks": ""
            },
            "colorscale": [
             [
              0,
              "#0d0887"
             ],
             [
              0.1111111111111111,
              "#46039f"
             ],
             [
              0.2222222222222222,
              "#7201a8"
             ],
             [
              0.3333333333333333,
              "#9c179e"
             ],
             [
              0.4444444444444444,
              "#bd3786"
             ],
             [
              0.5555555555555556,
              "#d8576b"
             ],
             [
              0.6666666666666666,
              "#ed7953"
             ],
             [
              0.7777777777777778,
              "#fb9f3a"
             ],
             [
              0.8888888888888888,
              "#fdca26"
             ],
             [
              1,
              "#f0f921"
             ]
            ],
            "type": "histogram2d"
           }
          ],
          "histogram2dcontour": [
           {
            "colorbar": {
             "outlinewidth": 0,
             "ticks": ""
            },
            "colorscale": [
             [
              0,
              "#0d0887"
             ],
             [
              0.1111111111111111,
              "#46039f"
             ],
             [
              0.2222222222222222,
              "#7201a8"
             ],
             [
              0.3333333333333333,
              "#9c179e"
             ],
             [
              0.4444444444444444,
              "#bd3786"
             ],
             [
              0.5555555555555556,
              "#d8576b"
             ],
             [
              0.6666666666666666,
              "#ed7953"
             ],
             [
              0.7777777777777778,
              "#fb9f3a"
             ],
             [
              0.8888888888888888,
              "#fdca26"
             ],
             [
              1,
              "#f0f921"
             ]
            ],
            "type": "histogram2dcontour"
           }
          ],
          "mesh3d": [
           {
            "colorbar": {
             "outlinewidth": 0,
             "ticks": ""
            },
            "type": "mesh3d"
           }
          ],
          "parcoords": [
           {
            "line": {
             "colorbar": {
              "outlinewidth": 0,
              "ticks": ""
             }
            },
            "type": "parcoords"
           }
          ],
          "pie": [
           {
            "automargin": true,
            "type": "pie"
           }
          ],
          "scatter": [
           {
            "marker": {
             "colorbar": {
              "outlinewidth": 0,
              "ticks": ""
             }
            },
            "type": "scatter"
           }
          ],
          "scatter3d": [
           {
            "line": {
             "colorbar": {
              "outlinewidth": 0,
              "ticks": ""
             }
            },
            "marker": {
             "colorbar": {
              "outlinewidth": 0,
              "ticks": ""
             }
            },
            "type": "scatter3d"
           }
          ],
          "scattercarpet": [
           {
            "marker": {
             "colorbar": {
              "outlinewidth": 0,
              "ticks": ""
             }
            },
            "type": "scattercarpet"
           }
          ],
          "scattergeo": [
           {
            "marker": {
             "colorbar": {
              "outlinewidth": 0,
              "ticks": ""
             }
            },
            "type": "scattergeo"
           }
          ],
          "scattergl": [
           {
            "marker": {
             "colorbar": {
              "outlinewidth": 0,
              "ticks": ""
             }
            },
            "type": "scattergl"
           }
          ],
          "scattermapbox": [
           {
            "marker": {
             "colorbar": {
              "outlinewidth": 0,
              "ticks": ""
             }
            },
            "type": "scattermapbox"
           }
          ],
          "scatterpolar": [
           {
            "marker": {
             "colorbar": {
              "outlinewidth": 0,
              "ticks": ""
             }
            },
            "type": "scatterpolar"
           }
          ],
          "scatterpolargl": [
           {
            "marker": {
             "colorbar": {
              "outlinewidth": 0,
              "ticks": ""
             }
            },
            "type": "scatterpolargl"
           }
          ],
          "scatterternary": [
           {
            "marker": {
             "colorbar": {
              "outlinewidth": 0,
              "ticks": ""
             }
            },
            "type": "scatterternary"
           }
          ],
          "surface": [
           {
            "colorbar": {
             "outlinewidth": 0,
             "ticks": ""
            },
            "colorscale": [
             [
              0,
              "#0d0887"
             ],
             [
              0.1111111111111111,
              "#46039f"
             ],
             [
              0.2222222222222222,
              "#7201a8"
             ],
             [
              0.3333333333333333,
              "#9c179e"
             ],
             [
              0.4444444444444444,
              "#bd3786"
             ],
             [
              0.5555555555555556,
              "#d8576b"
             ],
             [
              0.6666666666666666,
              "#ed7953"
             ],
             [
              0.7777777777777778,
              "#fb9f3a"
             ],
             [
              0.8888888888888888,
              "#fdca26"
             ],
             [
              1,
              "#f0f921"
             ]
            ],
            "type": "surface"
           }
          ],
          "table": [
           {
            "cells": {
             "fill": {
              "color": "#EBF0F8"
             },
             "line": {
              "color": "white"
             }
            },
            "header": {
             "fill": {
              "color": "#C8D4E3"
             },
             "line": {
              "color": "white"
             }
            },
            "type": "table"
           }
          ]
         },
         "layout": {
          "annotationdefaults": {
           "arrowcolor": "#2a3f5f",
           "arrowhead": 0,
           "arrowwidth": 1
          },
          "coloraxis": {
           "colorbar": {
            "outlinewidth": 0,
            "ticks": ""
           }
          },
          "colorscale": {
           "diverging": [
            [
             0,
             "#8e0152"
            ],
            [
             0.1,
             "#c51b7d"
            ],
            [
             0.2,
             "#de77ae"
            ],
            [
             0.3,
             "#f1b6da"
            ],
            [
             0.4,
             "#fde0ef"
            ],
            [
             0.5,
             "#f7f7f7"
            ],
            [
             0.6,
             "#e6f5d0"
            ],
            [
             0.7,
             "#b8e186"
            ],
            [
             0.8,
             "#7fbc41"
            ],
            [
             0.9,
             "#4d9221"
            ],
            [
             1,
             "#276419"
            ]
           ],
           "sequential": [
            [
             0,
             "#0d0887"
            ],
            [
             0.1111111111111111,
             "#46039f"
            ],
            [
             0.2222222222222222,
             "#7201a8"
            ],
            [
             0.3333333333333333,
             "#9c179e"
            ],
            [
             0.4444444444444444,
             "#bd3786"
            ],
            [
             0.5555555555555556,
             "#d8576b"
            ],
            [
             0.6666666666666666,
             "#ed7953"
            ],
            [
             0.7777777777777778,
             "#fb9f3a"
            ],
            [
             0.8888888888888888,
             "#fdca26"
            ],
            [
             1,
             "#f0f921"
            ]
           ],
           "sequentialminus": [
            [
             0,
             "#0d0887"
            ],
            [
             0.1111111111111111,
             "#46039f"
            ],
            [
             0.2222222222222222,
             "#7201a8"
            ],
            [
             0.3333333333333333,
             "#9c179e"
            ],
            [
             0.4444444444444444,
             "#bd3786"
            ],
            [
             0.5555555555555556,
             "#d8576b"
            ],
            [
             0.6666666666666666,
             "#ed7953"
            ],
            [
             0.7777777777777778,
             "#fb9f3a"
            ],
            [
             0.8888888888888888,
             "#fdca26"
            ],
            [
             1,
             "#f0f921"
            ]
           ]
          },
          "colorway": [
           "#636efa",
           "#EF553B",
           "#00cc96",
           "#ab63fa",
           "#FFA15A",
           "#19d3f3",
           "#FF6692",
           "#B6E880",
           "#FF97FF",
           "#FECB52"
          ],
          "font": {
           "color": "#2a3f5f"
          },
          "geo": {
           "bgcolor": "white",
           "lakecolor": "white",
           "landcolor": "#E5ECF6",
           "showlakes": true,
           "showland": true,
           "subunitcolor": "white"
          },
          "hoverlabel": {
           "align": "left"
          },
          "hovermode": "closest",
          "mapbox": {
           "style": "light"
          },
          "paper_bgcolor": "white",
          "plot_bgcolor": "#E5ECF6",
          "polar": {
           "angularaxis": {
            "gridcolor": "white",
            "linecolor": "white",
            "ticks": ""
           },
           "bgcolor": "#E5ECF6",
           "radialaxis": {
            "gridcolor": "white",
            "linecolor": "white",
            "ticks": ""
           }
          },
          "scene": {
           "xaxis": {
            "backgroundcolor": "#E5ECF6",
            "gridcolor": "white",
            "gridwidth": 2,
            "linecolor": "white",
            "showbackground": true,
            "ticks": "",
            "zerolinecolor": "white"
           },
           "yaxis": {
            "backgroundcolor": "#E5ECF6",
            "gridcolor": "white",
            "gridwidth": 2,
            "linecolor": "white",
            "showbackground": true,
            "ticks": "",
            "zerolinecolor": "white"
           },
           "zaxis": {
            "backgroundcolor": "#E5ECF6",
            "gridcolor": "white",
            "gridwidth": 2,
            "linecolor": "white",
            "showbackground": true,
            "ticks": "",
            "zerolinecolor": "white"
           }
          },
          "shapedefaults": {
           "line": {
            "color": "#2a3f5f"
           }
          },
          "ternary": {
           "aaxis": {
            "gridcolor": "white",
            "linecolor": "white",
            "ticks": ""
           },
           "baxis": {
            "gridcolor": "white",
            "linecolor": "white",
            "ticks": ""
           },
           "bgcolor": "#E5ECF6",
           "caxis": {
            "gridcolor": "white",
            "linecolor": "white",
            "ticks": ""
           }
          },
          "title": {
           "x": 0.05
          },
          "xaxis": {
           "automargin": true,
           "gridcolor": "white",
           "linecolor": "white",
           "ticks": "",
           "title": {
            "standoff": 15
           },
           "zerolinecolor": "white",
           "zerolinewidth": 2
          },
          "yaxis": {
           "automargin": true,
           "gridcolor": "white",
           "linecolor": "white",
           "ticks": "",
           "title": {
            "standoff": 15
           },
           "zerolinecolor": "white",
           "zerolinewidth": 2
          }
         }
        },
        "title": {
         "text": "Sectors and Activities"
        }
       }
      },
      "text/html": [
       "<div>\n",
       "        \n",
       "        \n",
       "            <div id=\"870cd1bb-d1cb-4fb7-86b3-f5e18832074f\" class=\"plotly-graph-div\" style=\"height:525px; width:100%;\"></div>\n",
       "            <script type=\"text/javascript\">\n",
       "                require([\"plotly\"], function(Plotly) {\n",
       "                    window.PLOTLYENV=window.PLOTLYENV || {};\n",
       "                    \n",
       "                if (document.getElementById(\"870cd1bb-d1cb-4fb7-86b3-f5e18832074f\")) {\n",
       "                    Plotly.newPlot(\n",
       "                        '870cd1bb-d1cb-4fb7-86b3-f5e18832074f',\n",
       "                        [{\"branchvalues\": \"total\", \"customdata\": [[2.1, 51.5, 1687.5], [1.2, 26.9, 944.8], [1.5, 32.2, 1141.7], [1.4, 27.7, 1080.0], [0.8, 19.2, 660.2], [1.3, 26.2, 1008.2000000000002], [1.2, 27.0, 966.9], [1.4, 29.3, 1086.2], [0.5, 11.7, 398.0], [1.0, 23.0, 815.4], [1.2, 23.0, 981.3], [1.8, 42.8, 1423.0], [1.3, 23.0, 992.4], [0.9, 23.6, 725.5], [1.3, 32.4, 1031.0], [1.1, 24.4, 847.7999999999998], [1.2, 34.9, 962.9], [1.8, 33.7, 1435.0], [1.2, 23.7, 904.2], [1.2, 23.2, 939.9], [1.3, 26.8, 984.2], [1.0, 23.2, 777.0], [1.2, 26.3, 956.2], [1.4, 27.4, 1063.6], [1.2, 26.0, 924.8], [0.4, 10.0, 280.0], [1.8, 37.8, 1421.2], [0.8, 15.2, 617.6], [0.7, 13.2, 554.2], [1.5, 34.6, 1161.5], [2.9, 61.4, 2280.3], [2.8, 46.8, 2228.2], [0.9, 21.1, 746.3], [1.7, 27.1, 1330.0], [1.3, 24.4, 1010.3], [0.9, 21.4, 726.0], [3.0, 42.1, 2325.9], [1.2, 27.6, 955.6], [1.3, 25.6, 1009.6000000000001], [1.3, 28.4, 1012.7], [1.4, 29.6, 1107.5], [1.0, 17.3, 800.9], [1.4, 24.0, 1130.0], [1.5, 30.4, 1182.7], [0.8, 19.1, 630.5], [1.5, 29.6, 1140.6], [1.5, 33.9, 1169.8], [1.6, 36.9, 1276.6], [1.5, 32.0, 1176.3], [1.2, 27.1, 956.1999999999999], [1.1, 23.4, 849.2], [1.2, 25.9, 974.4000000000001], [0.8, 19.5, 665.9], [0.9, 27.5, 700.5], [1.8, 33.9, 1453.5], [1.8, 48.2, 1435.0], [0.9, 21.0, 724.8], [0.8, 19.0, 656.6], [2.7, 62.7, 2092.3], [0.7, 13.1, 548.4], [0.6, 12.1, 446.6000000000001], [2.3, 39.9, 1829.6], [1.0, 21.3, 804.2], [1.2, 20.0, 970.7], [1.3, 24.3, 1004.5], [1.1, 20.0, 865.5], [1.2, 23.2, 979.4], [1.0, 18.8, 794.9], [0.8, 16.0, 605.6], [1.1, 29.8, 835.4000000000001], [1.2, 25.5, 919.1], [1.1, 27.5, 874.4], [0.7, 13.3, 549.3], [2.1, 48.1, 1670.2], [1.2, 22.9, 946.9], [1.4, 24.3, 1074.1], [1.9, 44.2, 1457.3], [1.2, 30.1, 963.0], [0.3, 8.3, 266.1], [0.7, 17.5, 563.1], [1.2, 23.9, 955.2], [1.2, 24.7, 938.7], [1.0, 19.8, 788.2], [1.3, 20.4, 995.6999999999999], [1.7, 35.5, 1334.1], [1.0, 24.3, 769.3], [4.6, 74.2, 3640.1], [1.3, 23.2, 1026.7], [1.3, 20.6, 985.2], [1.3, 29.9, 1046.1], [1.0, 25.9, 820.3], [1.1, 26.3, 882.4], [1.0, 23.4, 804.8], [1.5, 36.9, 1170.9], [1.2, 27.8, 923.4], [0.9, 18.5, 721.4], [1.3, 27.3, 1026.6], [0.9, 24.6, 727.7], [1.1, 24.3, 833.9], [0.6, 12.9, 459.2], [1.1, 22.2, 854.1], [1.4, 29.6, 1097.2], [1.6, 42.1, 1254.7], [1.5, 32.2, 1148.2], [1.7, 24.2, 1341.2], [1.3, 26.8, 1014.7], [1.3, 27.2, 995.6999999999999], [1.4, 31.6, 1129.5], [0.8, 21.7, 643.2], [2.2, 25.5, 1700.4000000000003], [0.7, 20.1, 514.3], [0.5, 11.9, 411.0], [0.8, 19.0, 621.5], [1.0, 24.5, 772.9], [0.7, 14.0, 545.1], [1.6, 36.1, 1259.1], [1.1, 22.7, 863.8], [1.4, 28.7, 1068.3], [0.8, 18.1, 622.3], [1.4, 31.0, 1091.7], [0.6, 12.5, 455.6], [1.1, 21.5, 858.0], [1.0, 24.0, 812.4], [1.0, 22.2, 786.8], [1.4, 26.3, 1075.9], [1.2, 26.0, 943.6], [1.2, 23.9, 973.8], [1.0, 22.3, 769.5], [1.0, 19.4, 793.1], [1.0, 23.5, 786.8], [0.9, 21.1, 684.9], [3.9, 83.4, 3074.7], [1.7, 27.6, 1338.2], [1.2, 21.6, 965.2999999999998], [0.6, 14.8, 494.19999999999993], [1.3, 29.8, 989.0], [1.4, 28.1, 1123.1], [1.3, 25.9, 1041.2], [1.3, 23.4, 983.2], [1.2, 25.2, 938.5], [1.2, 22.8, 937.0], [1.0, 24.5, 778.2], [0.8, 17.4, 616.2], [1.3, 24.7, 984.4], [3.1, 44.2, 2405.9], [1.8, 42.0, 1406.0], [0.9, 20.4, 713.5], [1.9, 30.3, 1465.8], [1.0, 19.8, 758.6], [0.9, 20.3, 702.8], [1.2, 26.3, 919.3], [1.1, 21.9, 900.3], [2.4, 35.0, 1851.6], [1.5, 34.8, 1192.6], [1.2, 27.9, 946.0], [1.2, 25.1, 976.8], [1.0, 21.7, 779.2], [1.1, 26.2, 835.0], [1.4, 32.3, 1111.7], [0.9, 22.0, 737.6], [1.0, 23.0, 800.0], [1.6, 39.6, 1221.4], [1.6, 39.7, 1278.0], [\"(?)\", \"(?)\", 741.9416456833535], [\"(?)\", \"(?)\", 980.2010779436151], [\"(?)\", \"(?)\", 1063.0018325087044], [\"(?)\", \"(?)\", 1008.5463305679643], [\"(?)\", \"(?)\", 968.7645116564022], [\"(?)\", \"(?)\", 1232.637951807229], [\"(?)\", \"(?)\", 842.1683301989652], [\"(?)\", \"(?)\", 994.4677762116447], [\"(?)\", \"(?)\", 633.7514689751267], [\"(?)\", \"(?)\", 862.877980025773], [\"(?)\", \"(?)\", 389.9817754569191], [\"(?)\", \"(?)\", 729.8734501261105], [\"(?)\", \"(?)\", 951.8439654408508], [\"(?)\", \"(?)\", 634.2456631009151], [\"(?)\", \"(?)\", 1449.3555205047319]], \"domain\": {\"x\": [0.0, 1.0], \"y\": [0.0, 1.0]}, \"hoverlabel\": {\"namelength\": 0}, \"hovertemplate\": \"Value over volume=%{customdata[0]}<br>Avg investors=%{customdata[1]}<br>Avg money raised pro project, $=%{color}<br>labels=%{label}<br># of projects=%{value}<br>parent=%{parent}<br>id=%{id}\", \"ids\": [\"Services/Adult Care\", \"Agriculture/Agriculture\", \"Services/Air Conditioning\", \"Agriculture/Animal Sales\", \"Agriculture/Aquaculture\", \"Arts/Arts\", \"Services/Auto Repair\", \"Food/Bakery\", \"Food/Balut-Making\", \"Services/Barber Shop\", \"Services/Beauty Salon\", \"Agriculture/Beekeeping\", \"Food/Beverages\", \"Services/Bicycle Repair\", \"Retail/Bicycle Sales\", \"Manufacturing/Blacksmith\", \"Services/Bookbinding\", \"Retail/Bookstore\", \"Construction/Bricks\", \"Food/Butcher Shop\", \"Food/Cafe\", \"Services/Call Center\", \"Construction/Carpentry\", \"Food/Catering\", \"Agriculture/Cattle\", \"Personal Use/Celebrations\", \"Construction/Cement\", \"Food/Cereals\", \"Retail/Charcoal Sales\", \"Food/Cheese Making\", \"Services/Child Care\", \"Services/Cleaning Services\", \"Retail/Cloth & Dressmaking Supplies\", \"Clothing/Clothing\", \"Clothing/Clothing Sales\", \"Services/Cobbler\", \"Services/Communications\", \"Education/Computer\", \"Services/Computers\", \"Construction/Construction\", \"Construction/Construction Supplies\", \"Personal Use/Consumer Goods\", \"Retail/Cosmetics Sales\", \"Arts/Crafts\", \"Agriculture/Dairy\", \"Retail/Decorations Sales\", \"Health/Dental\", \"Education/Education provider\", \"Retail/Electrical Goods\", \"Services/Electrician\", \"Services/Electronics Repair\", \"Retail/Electronics Sales\", \"Arts/Embroidery\", \"Services/Energy\", \"Entertainment/Entertainment\", \"Services/Event Planning\", \"Agriculture/Farm Supplies\", \"Agriculture/Farming\", \"Arts/Film\", \"Food/Fish Selling\", \"Food/Fishing\", \"Retail/Florist\", \"Agriculture/Flowers\", \"Food/Food\", \"Food/Food Market\", \"Food/Food Production/Sales\", \"Food/Food Stall\", \"Food/Fruits & Vegetables\", \"Retail/Fuel/Firewood\", \"Personal Use/Funerals\", \"Manufacturing/Furniture Making\", \"Entertainment/Games\", \"Retail/General Store\", \"Wholesale/Goods Distribution\", \"Food/Grocery Store\", \"Retail/Hardware\", \"Health/Health\", \"Education/Higher education costs\", \"Personal Use/Home Appliances\", \"Personal Use/Home Energy\", \"Retail/Home Products Sales\", \"Services/Hotel\", \"Services/Internet Cafe\", \"Retail/Jewelry\", \"Arts/Knitting\", \"Agriculture/Land Rental\", \"Services/Landscaping / Gardening\", \"Services/Laundry\", \"Food/Liquor Store / Off-License\", \"Agriculture/Livestock\", \"Manufacturing/Machine Shop\", \"Services/Machinery Rental\", \"Manufacturing/Manufacturing\", \"Health/Medical Clinic\", \"Manufacturing/Metal Shop\", \"Food/Milk Sales\", \"Retail/Mobile Phones\", \"Services/Mobile Transactions\", \"Services/Motorcycle Repair\", \"Transportation/Motorcycle Transport\", \"Retail/Movie Tapes & DVDs\", \"Retail/Music Discs & Tapes\", \"Arts/Musical Instruments\", \"Entertainment/Musical Performance\", \"Health/Natural Medicines\", \"Retail/Office Supplies\", \"Retail/Paper Sales\", \"Retail/Party Supplies\", \"Arts/Patchwork\", \"Retail/Perfumes\", \"Manufacturing/Personal Care Products\", \"Personal Use/Personal Expenses\", \"Housing/Personal Housing Expenses\", \"Health/Personal Medical Expenses\", \"Retail/Personal Products Sales\", \"Health/Pharmacy\", \"Retail/Phone Accessories\", \"Services/Phone Repair\", \"Retail/Phone Use Sales\", \"Services/Photography\", \"Agriculture/Pigs\", \"Retail/Plastics Sales\", \"Agriculture/Poultry\", \"Education/Primary/secondary school costs\", \"Services/Printing\", \"Housing/Property\", \"Food/Pub\", \"Construction/Quarrying\", \"Retail/Recycled Materials\", \"Services/Recycling\", \"Retail/Religious Articles\", \"Retail/Renewable Energy Products\", \"Food/Restaurant\", \"Retail/Retail\", \"Transportation/Rickshaw\", \"Services/Secretarial Services\", \"Services/Services\", \"Services/Sewing\", \"Retail/Shoe Sales\", \"Retail/Souvenir Sales\", \"Retail/Spare Parts\", \"Retail/Sporting Good Sales\", \"Services/Tailoring\", \"Transportation/Taxi\", \"Services/Technology\", \"Arts/Textiles\", \"Construction/Timber Sales\", \"Services/Tourism\", \"Transportation/Transportation\", \"Retail/Traveling Sales\", \"Services/Upholstery\", \"Clothing/Used Clothing\", \"Clothing/Used Shoes\", \"Services/Utilities\", \"Personal Use/Vehicle\", \"Services/Vehicle Repairs\", \"Agriculture/Veterinary Sales\", \"Services/Waste Management\", \"Services/Water Distribution\", \"Arts/Weaving\", \"Personal Use/Wedding Expenses\", \"Construction/Well digging\", \"Wholesale/Wholesale\", \"Agriculture\", \"Arts\", \"Clothing\", \"Construction\", \"Education\", \"Entertainment\", \"Food\", \"Health\", \"Housing\", \"Manufacturing\", \"Personal Use\", \"Retail\", \"Services\", \"Transportation\", \"Wholesale\"], \"labels\": [\"Adult Care\", \"Agriculture\", \"Air Conditioning\", \"Animal Sales\", \"Aquaculture\", \"Arts\", \"Auto Repair\", \"Bakery\", \"Balut-Making\", \"Barber Shop\", \"Beauty Salon\", \"Beekeeping\", \"Beverages\", \"Bicycle Repair\", \"Bicycle Sales\", \"Blacksmith\", \"Bookbinding\", \"Bookstore\", \"Bricks\", \"Butcher Shop\", \"Cafe\", \"Call Center\", \"Carpentry\", \"Catering\", \"Cattle\", \"Celebrations\", \"Cement\", \"Cereals\", \"Charcoal Sales\", \"Cheese Making\", \"Child Care\", \"Cleaning Services\", \"Cloth & Dressmaking Supplies\", \"Clothing\", \"Clothing Sales\", \"Cobbler\", \"Communications\", \"Computer\", \"Computers\", \"Construction\", \"Construction Supplies\", \"Consumer Goods\", \"Cosmetics Sales\", \"Crafts\", \"Dairy\", \"Decorations Sales\", \"Dental\", \"Education provider\", \"Electrical Goods\", \"Electrician\", \"Electronics Repair\", \"Electronics Sales\", \"Embroidery\", \"Energy\", \"Entertainment\", \"Event Planning\", \"Farm Supplies\", \"Farming\", \"Film\", \"Fish Selling\", \"Fishing\", \"Florist\", \"Flowers\", \"Food\", \"Food Market\", \"Food Production/Sales\", \"Food Stall\", \"Fruits & Vegetables\", \"Fuel/Firewood\", \"Funerals\", \"Furniture Making\", \"Games\", \"General Store\", \"Goods Distribution\", \"Grocery Store\", \"Hardware\", \"Health\", \"Higher education costs\", \"Home Appliances\", \"Home Energy\", \"Home Products Sales\", \"Hotel\", \"Internet Cafe\", \"Jewelry\", \"Knitting\", \"Land Rental\", \"Landscaping / Gardening\", \"Laundry\", \"Liquor Store / Off-License\", \"Livestock\", \"Machine Shop\", \"Machinery Rental\", \"Manufacturing\", \"Medical Clinic\", \"Metal Shop\", \"Milk Sales\", \"Mobile Phones\", \"Mobile Transactions\", \"Motorcycle Repair\", \"Motorcycle Transport\", \"Movie Tapes & DVDs\", \"Music Discs & Tapes\", \"Musical Instruments\", \"Musical Performance\", \"Natural Medicines\", \"Office Supplies\", \"Paper Sales\", \"Party Supplies\", \"Patchwork\", \"Perfumes\", \"Personal Care Products\", \"Personal Expenses\", \"Personal Housing Expenses\", \"Personal Medical Expenses\", \"Personal Products Sales\", \"Pharmacy\", \"Phone Accessories\", \"Phone Repair\", \"Phone Use Sales\", \"Photography\", \"Pigs\", \"Plastics Sales\", \"Poultry\", \"Primary/secondary school costs\", \"Printing\", \"Property\", \"Pub\", \"Quarrying\", \"Recycled Materials\", \"Recycling\", \"Religious Articles\", \"Renewable Energy Products\", \"Restaurant\", \"Retail\", \"Rickshaw\", \"Secretarial Services\", \"Services\", \"Sewing\", \"Shoe Sales\", \"Souvenir Sales\", \"Spare Parts\", \"Sporting Good Sales\", \"Tailoring\", \"Taxi\", \"Technology\", \"Textiles\", \"Timber Sales\", \"Tourism\", \"Transportation\", \"Traveling Sales\", \"Upholstery\", \"Used Clothing\", \"Used Shoes\", \"Utilities\", \"Vehicle\", \"Vehicle Repairs\", \"Veterinary Sales\", \"Waste Management\", \"Water Distribution\", \"Weaving\", \"Wedding Expenses\", \"Well digging\", \"Wholesale\", \"Agriculture\", \"Arts\", \"Clothing\", \"Construction\", \"Education\", \"Entertainment\", \"Food\", \"Health\", \"Housing\", \"Manufacturing\", \"Personal Use\", \"Retail\", \"Services\", \"Transportation\", \"Wholesale\"], \"marker\": {\"coloraxis\": \"coloraxis\", \"colors\": [1687.5, 944.8, 1141.7, 1080.0, 660.2, 1008.2000000000002, 966.9, 1086.2, 398.0, 815.4, 981.3, 1423.0, 992.4, 725.5, 1031.0, 847.7999999999998, 962.9, 1435.0, 904.2, 939.9, 984.2, 777.0, 956.2, 1063.6, 924.8, 280.0, 1421.2, 617.6, 554.2, 1161.5, 2280.3, 2228.2, 746.3, 1330.0, 1010.3, 726.0, 2325.9, 955.6, 1009.6000000000001, 1012.7, 1107.5, 800.9, 1130.0, 1182.7, 630.5, 1140.6, 1169.8, 1276.6, 1176.3, 956.1999999999999, 849.2, 974.4000000000001, 665.9, 700.5, 1453.5, 1435.0, 724.8, 656.6, 2092.3, 548.4, 446.6000000000001, 1829.6, 804.2, 970.7, 1004.5, 865.5, 979.4, 794.9, 605.6, 835.4000000000001, 919.1, 874.4, 549.3, 1670.2, 946.9, 1074.1, 1457.3, 963.0, 266.1, 563.1, 955.2, 938.7, 788.2, 995.6999999999999, 1334.1, 769.3, 3640.1, 1026.7, 985.2, 1046.1, 820.3, 882.4, 804.8, 1170.9, 923.4, 721.4, 1026.6, 727.7, 833.9, 459.2, 854.1, 1097.2, 1254.7, 1148.2, 1341.2, 1014.7, 995.6999999999999, 1129.5, 643.2, 1700.4000000000003, 514.3, 411.0, 621.5, 772.9, 545.1, 1259.1, 863.8, 1068.3, 622.3, 1091.7, 455.6, 858.0, 812.4, 786.8, 1075.9, 943.6, 973.8, 769.5, 793.1, 786.8, 684.9, 3074.7, 1338.2, 965.2999999999998, 494.19999999999993, 989.0, 1123.1, 1041.2, 983.2, 938.5, 937.0, 778.2, 616.2, 984.4, 2405.9, 1406.0, 713.5, 1465.8, 758.6, 702.8, 919.3, 900.3, 1851.6, 1192.6, 946.0, 976.8, 779.2, 835.0, 1111.7, 737.6, 800.0, 1221.4, 1278.0, 741.9416456833535, 980.2010779436151, 1063.0018325087044, 1008.5463305679643, 968.7645116564022, 1232.637951807229, 842.1683301989652, 994.4677762116447, 633.7514689751267, 862.877980025773, 389.9817754569191, 729.8734501261105, 951.8439654408508, 634.2456631009151, 1449.3555205047319]}, \"name\": \"\", \"parents\": [\"Services\", \"Agriculture\", \"Services\", \"Agriculture\", \"Agriculture\", \"Arts\", \"Services\", \"Food\", \"Food\", \"Services\", \"Services\", \"Agriculture\", \"Food\", \"Services\", \"Retail\", \"Manufacturing\", \"Services\", \"Retail\", \"Construction\", \"Food\", \"Food\", \"Services\", \"Construction\", \"Food\", \"Agriculture\", \"Personal Use\", \"Construction\", \"Food\", \"Retail\", \"Food\", \"Services\", \"Services\", \"Retail\", \"Clothing\", \"Clothing\", \"Services\", \"Services\", \"Education\", \"Services\", \"Construction\", \"Construction\", \"Personal Use\", \"Retail\", \"Arts\", \"Agriculture\", \"Retail\", \"Health\", \"Education\", \"Retail\", \"Services\", \"Services\", \"Retail\", \"Arts\", \"Services\", \"Entertainment\", \"Services\", \"Agriculture\", \"Agriculture\", \"Arts\", \"Food\", \"Food\", \"Retail\", \"Agriculture\", \"Food\", \"Food\", \"Food\", \"Food\", \"Food\", \"Retail\", \"Personal Use\", \"Manufacturing\", \"Entertainment\", \"Retail\", \"Wholesale\", \"Food\", \"Retail\", \"Health\", \"Education\", \"Personal Use\", \"Personal Use\", \"Retail\", \"Services\", \"Services\", \"Retail\", \"Arts\", \"Agriculture\", \"Services\", \"Services\", \"Food\", \"Agriculture\", \"Manufacturing\", \"Services\", \"Manufacturing\", \"Health\", \"Manufacturing\", \"Food\", \"Retail\", \"Services\", \"Services\", \"Transportation\", \"Retail\", \"Retail\", \"Arts\", \"Entertainment\", \"Health\", \"Retail\", \"Retail\", \"Retail\", \"Arts\", \"Retail\", \"Manufacturing\", \"Personal Use\", \"Housing\", \"Health\", \"Retail\", \"Health\", \"Retail\", \"Services\", \"Retail\", \"Services\", \"Agriculture\", \"Retail\", \"Agriculture\", \"Education\", \"Services\", \"Housing\", \"Food\", \"Construction\", \"Retail\", \"Services\", \"Retail\", \"Retail\", \"Food\", \"Retail\", \"Transportation\", \"Services\", \"Services\", \"Services\", \"Retail\", \"Retail\", \"Retail\", \"Retail\", \"Services\", \"Transportation\", \"Services\", \"Arts\", \"Construction\", \"Services\", \"Transportation\", \"Retail\", \"Services\", \"Clothing\", \"Clothing\", \"Services\", \"Personal Use\", \"Services\", \"Agriculture\", \"Services\", \"Services\", \"Arts\", \"Personal Use\", \"Construction\", \"Wholesale\", \"\", \"\", \"\", \"\", \"\", \"\", \"\", \"\", \"\", \"\", \"\", \"\", \"\", \"\", \"\"], \"type\": \"treemap\", \"values\": [2.0, 27023.0, 36.0, 9237.0, 108.0, 1092.0, 1336.0, 3620.0, 61.0, 951.0, 6611.0, 50.0, 2357.0, 158.0, 54.0, 444.0, 29.0, 442.0, 512.0, 1968.0, 1404.0, 74.0, 754.0, 653.0, 7865.0, 5.0, 152.0, 7898.0, 4421.0, 347.0, 183.0, 145.0, 2071.0, 5014.0, 22339.0, 453.0, 96.0, 54.0, 376.0, 2145.0, 2003.0, 613.0, 4740.0, 4084.0, 7914.0, 385.0, 290.0, 4401.0, 409.0, 284.0, 400.0, 546.0, 2380.0, 190.0, 443.0, 5.0, 4352.0, 72955.0, 13.0, 13060.0, 10066.0, 65.0, 821.0, 10197.0, 7091.0, 28106.0, 8905.0, 16610.0, 1925.0, 41.0, 2051.0, 238.0, 64729.0, 277.0, 15102.0, 953.0, 1235.0, 19742.0, 20267.0, 7141.0, 3817.0, 274.0, 986.0, 1371.0, 416.0, 277.0, 34.0, 295.0, 1558.0, 13095.0, 165.0, 131.0, 2643.0, 323.0, 898.0, 1771.0, 657.0, 216.0, 449.0, 5888.0, 135.0, 81.0, 69.0, 149.0, 814.0, 362.0, 289.0, 110.0, 22.0, 328.0, 7.0, 6656.0, 32448.0, 5549.0, 3866.0, 1012.0, 486.0, 119.0, 1019.0, 396.0, 26624.0, 568.0, 9783.0, 6816.0, 434.0, 1283.0, 902.0, 158.0, 819.0, 358.0, 68.0, 585.0, 4981.0, 24771.0, 2878.0, 89.0, 9807.0, 8414.0, 2760.0, 180.0, 1260.0, 78.0, 9657.0, 2631.0, 178.0, 1023.0, 502.0, 187.0, 4121.0, 144.0, 115.0, 4637.0, 752.0, 185.0, 1257.0, 615.0, 198.0, 308.0, 564.0, 2961.0, 405.0, 42.0, 357.0, 180302.0, 12060.0, 32742.0, 6268.0, 31013.0, 830.0, 136657.0, 9223.0, 33731.0, 6208.0, 36385.0, 124494.0, 45140.0, 15518.0, 634.0]}],\n",
       "                        {\"coloraxis\": {\"colorbar\": {\"title\": {\"text\": \"Avg money raised pro project, $\"}}, \"colorscale\": [[0.0, \"#0d0887\"], [0.1111111111111111, \"#46039f\"], [0.2222222222222222, \"#7201a8\"], [0.3333333333333333, \"#9c179e\"], [0.4444444444444444, \"#bd3786\"], [0.5555555555555556, \"#d8576b\"], [0.6666666666666666, \"#ed7953\"], [0.7777777777777778, \"#fb9f3a\"], [0.8888888888888888, \"#fdca26\"], [1.0, \"#f0f921\"]]}, \"legend\": {\"tracegroupgap\": 0}, \"template\": {\"data\": {\"bar\": [{\"error_x\": {\"color\": \"#2a3f5f\"}, \"error_y\": {\"color\": \"#2a3f5f\"}, \"marker\": {\"line\": {\"color\": \"#E5ECF6\", \"width\": 0.5}}, \"type\": \"bar\"}], \"barpolar\": [{\"marker\": {\"line\": {\"color\": \"#E5ECF6\", \"width\": 0.5}}, \"type\": \"barpolar\"}], \"carpet\": [{\"aaxis\": {\"endlinecolor\": \"#2a3f5f\", \"gridcolor\": \"white\", \"linecolor\": \"white\", \"minorgridcolor\": \"white\", \"startlinecolor\": \"#2a3f5f\"}, \"baxis\": {\"endlinecolor\": \"#2a3f5f\", \"gridcolor\": \"white\", \"linecolor\": \"white\", \"minorgridcolor\": \"white\", \"startlinecolor\": \"#2a3f5f\"}, \"type\": \"carpet\"}], \"choropleth\": [{\"colorbar\": {\"outlinewidth\": 0, \"ticks\": \"\"}, \"type\": \"choropleth\"}], \"contour\": [{\"colorbar\": {\"outlinewidth\": 0, \"ticks\": \"\"}, \"colorscale\": [[0.0, \"#0d0887\"], [0.1111111111111111, \"#46039f\"], [0.2222222222222222, \"#7201a8\"], [0.3333333333333333, \"#9c179e\"], [0.4444444444444444, \"#bd3786\"], [0.5555555555555556, \"#d8576b\"], [0.6666666666666666, \"#ed7953\"], [0.7777777777777778, \"#fb9f3a\"], [0.8888888888888888, \"#fdca26\"], [1.0, \"#f0f921\"]], \"type\": \"contour\"}], \"contourcarpet\": [{\"colorbar\": {\"outlinewidth\": 0, \"ticks\": \"\"}, \"type\": \"contourcarpet\"}], \"heatmap\": [{\"colorbar\": {\"outlinewidth\": 0, \"ticks\": \"\"}, \"colorscale\": [[0.0, \"#0d0887\"], [0.1111111111111111, \"#46039f\"], [0.2222222222222222, \"#7201a8\"], [0.3333333333333333, \"#9c179e\"], [0.4444444444444444, \"#bd3786\"], [0.5555555555555556, \"#d8576b\"], [0.6666666666666666, \"#ed7953\"], [0.7777777777777778, \"#fb9f3a\"], [0.8888888888888888, \"#fdca26\"], [1.0, \"#f0f921\"]], \"type\": \"heatmap\"}], \"heatmapgl\": [{\"colorbar\": {\"outlinewidth\": 0, \"ticks\": \"\"}, \"colorscale\": [[0.0, \"#0d0887\"], [0.1111111111111111, \"#46039f\"], [0.2222222222222222, \"#7201a8\"], [0.3333333333333333, \"#9c179e\"], [0.4444444444444444, \"#bd3786\"], [0.5555555555555556, \"#d8576b\"], [0.6666666666666666, \"#ed7953\"], [0.7777777777777778, \"#fb9f3a\"], [0.8888888888888888, \"#fdca26\"], [1.0, \"#f0f921\"]], \"type\": \"heatmapgl\"}], \"histogram\": [{\"marker\": {\"colorbar\": {\"outlinewidth\": 0, \"ticks\": \"\"}}, \"type\": \"histogram\"}], \"histogram2d\": [{\"colorbar\": {\"outlinewidth\": 0, \"ticks\": \"\"}, \"colorscale\": [[0.0, \"#0d0887\"], [0.1111111111111111, \"#46039f\"], [0.2222222222222222, \"#7201a8\"], [0.3333333333333333, \"#9c179e\"], [0.4444444444444444, \"#bd3786\"], [0.5555555555555556, \"#d8576b\"], [0.6666666666666666, \"#ed7953\"], [0.7777777777777778, \"#fb9f3a\"], [0.8888888888888888, \"#fdca26\"], [1.0, \"#f0f921\"]], \"type\": \"histogram2d\"}], \"histogram2dcontour\": [{\"colorbar\": {\"outlinewidth\": 0, \"ticks\": \"\"}, \"colorscale\": [[0.0, \"#0d0887\"], [0.1111111111111111, \"#46039f\"], [0.2222222222222222, \"#7201a8\"], [0.3333333333333333, \"#9c179e\"], [0.4444444444444444, \"#bd3786\"], [0.5555555555555556, \"#d8576b\"], [0.6666666666666666, \"#ed7953\"], [0.7777777777777778, \"#fb9f3a\"], [0.8888888888888888, \"#fdca26\"], [1.0, \"#f0f921\"]], \"type\": \"histogram2dcontour\"}], \"mesh3d\": [{\"colorbar\": {\"outlinewidth\": 0, \"ticks\": \"\"}, \"type\": \"mesh3d\"}], \"parcoords\": [{\"line\": {\"colorbar\": {\"outlinewidth\": 0, \"ticks\": \"\"}}, \"type\": \"parcoords\"}], \"pie\": [{\"automargin\": true, \"type\": \"pie\"}], \"scatter\": [{\"marker\": {\"colorbar\": {\"outlinewidth\": 0, \"ticks\": \"\"}}, \"type\": \"scatter\"}], \"scatter3d\": [{\"line\": {\"colorbar\": {\"outlinewidth\": 0, \"ticks\": \"\"}}, \"marker\": {\"colorbar\": {\"outlinewidth\": 0, \"ticks\": \"\"}}, \"type\": \"scatter3d\"}], \"scattercarpet\": [{\"marker\": {\"colorbar\": {\"outlinewidth\": 0, \"ticks\": \"\"}}, \"type\": \"scattercarpet\"}], \"scattergeo\": [{\"marker\": {\"colorbar\": {\"outlinewidth\": 0, \"ticks\": \"\"}}, \"type\": \"scattergeo\"}], \"scattergl\": [{\"marker\": {\"colorbar\": {\"outlinewidth\": 0, \"ticks\": \"\"}}, \"type\": \"scattergl\"}], \"scattermapbox\": [{\"marker\": {\"colorbar\": {\"outlinewidth\": 0, \"ticks\": \"\"}}, \"type\": \"scattermapbox\"}], \"scatterpolar\": [{\"marker\": {\"colorbar\": {\"outlinewidth\": 0, \"ticks\": \"\"}}, \"type\": \"scatterpolar\"}], \"scatterpolargl\": [{\"marker\": {\"colorbar\": {\"outlinewidth\": 0, \"ticks\": \"\"}}, \"type\": \"scatterpolargl\"}], \"scatterternary\": [{\"marker\": {\"colorbar\": {\"outlinewidth\": 0, \"ticks\": \"\"}}, \"type\": \"scatterternary\"}], \"surface\": [{\"colorbar\": {\"outlinewidth\": 0, \"ticks\": \"\"}, \"colorscale\": [[0.0, \"#0d0887\"], [0.1111111111111111, \"#46039f\"], [0.2222222222222222, \"#7201a8\"], [0.3333333333333333, \"#9c179e\"], [0.4444444444444444, \"#bd3786\"], [0.5555555555555556, \"#d8576b\"], [0.6666666666666666, \"#ed7953\"], [0.7777777777777778, \"#fb9f3a\"], [0.8888888888888888, \"#fdca26\"], [1.0, \"#f0f921\"]], \"type\": \"surface\"}], \"table\": [{\"cells\": {\"fill\": {\"color\": \"#EBF0F8\"}, \"line\": {\"color\": \"white\"}}, \"header\": {\"fill\": {\"color\": \"#C8D4E3\"}, \"line\": {\"color\": \"white\"}}, \"type\": \"table\"}]}, \"layout\": {\"annotationdefaults\": {\"arrowcolor\": \"#2a3f5f\", \"arrowhead\": 0, \"arrowwidth\": 1}, \"coloraxis\": {\"colorbar\": {\"outlinewidth\": 0, \"ticks\": \"\"}}, \"colorscale\": {\"diverging\": [[0, \"#8e0152\"], [0.1, \"#c51b7d\"], [0.2, \"#de77ae\"], [0.3, \"#f1b6da\"], [0.4, \"#fde0ef\"], [0.5, \"#f7f7f7\"], [0.6, \"#e6f5d0\"], [0.7, \"#b8e186\"], [0.8, \"#7fbc41\"], [0.9, \"#4d9221\"], [1, \"#276419\"]], \"sequential\": [[0.0, \"#0d0887\"], [0.1111111111111111, \"#46039f\"], [0.2222222222222222, \"#7201a8\"], [0.3333333333333333, \"#9c179e\"], [0.4444444444444444, \"#bd3786\"], [0.5555555555555556, \"#d8576b\"], [0.6666666666666666, \"#ed7953\"], [0.7777777777777778, \"#fb9f3a\"], [0.8888888888888888, \"#fdca26\"], [1.0, \"#f0f921\"]], \"sequentialminus\": [[0.0, \"#0d0887\"], [0.1111111111111111, \"#46039f\"], [0.2222222222222222, \"#7201a8\"], [0.3333333333333333, \"#9c179e\"], [0.4444444444444444, \"#bd3786\"], [0.5555555555555556, \"#d8576b\"], [0.6666666666666666, \"#ed7953\"], [0.7777777777777778, \"#fb9f3a\"], [0.8888888888888888, \"#fdca26\"], [1.0, \"#f0f921\"]]}, \"colorway\": [\"#636efa\", \"#EF553B\", \"#00cc96\", \"#ab63fa\", \"#FFA15A\", \"#19d3f3\", \"#FF6692\", \"#B6E880\", \"#FF97FF\", \"#FECB52\"], \"font\": {\"color\": \"#2a3f5f\"}, \"geo\": {\"bgcolor\": \"white\", \"lakecolor\": \"white\", \"landcolor\": \"#E5ECF6\", \"showlakes\": true, \"showland\": true, \"subunitcolor\": \"white\"}, \"hoverlabel\": {\"align\": \"left\"}, \"hovermode\": \"closest\", \"mapbox\": {\"style\": \"light\"}, \"paper_bgcolor\": \"white\", \"plot_bgcolor\": \"#E5ECF6\", \"polar\": {\"angularaxis\": {\"gridcolor\": \"white\", \"linecolor\": \"white\", \"ticks\": \"\"}, \"bgcolor\": \"#E5ECF6\", \"radialaxis\": {\"gridcolor\": \"white\", \"linecolor\": \"white\", \"ticks\": \"\"}}, \"scene\": {\"xaxis\": {\"backgroundcolor\": \"#E5ECF6\", \"gridcolor\": \"white\", \"gridwidth\": 2, \"linecolor\": \"white\", \"showbackground\": true, \"ticks\": \"\", \"zerolinecolor\": \"white\"}, \"yaxis\": {\"backgroundcolor\": \"#E5ECF6\", \"gridcolor\": \"white\", \"gridwidth\": 2, \"linecolor\": \"white\", \"showbackground\": true, \"ticks\": \"\", \"zerolinecolor\": \"white\"}, \"zaxis\": {\"backgroundcolor\": \"#E5ECF6\", \"gridcolor\": \"white\", \"gridwidth\": 2, \"linecolor\": \"white\", \"showbackground\": true, \"ticks\": \"\", \"zerolinecolor\": \"white\"}}, \"shapedefaults\": {\"line\": {\"color\": \"#2a3f5f\"}}, \"ternary\": {\"aaxis\": {\"gridcolor\": \"white\", \"linecolor\": \"white\", \"ticks\": \"\"}, \"baxis\": {\"gridcolor\": \"white\", \"linecolor\": \"white\", \"ticks\": \"\"}, \"bgcolor\": \"#E5ECF6\", \"caxis\": {\"gridcolor\": \"white\", \"linecolor\": \"white\", \"ticks\": \"\"}}, \"title\": {\"x\": 0.05}, \"xaxis\": {\"automargin\": true, \"gridcolor\": \"white\", \"linecolor\": \"white\", \"ticks\": \"\", \"title\": {\"standoff\": 15}, \"zerolinecolor\": \"white\", \"zerolinewidth\": 2}, \"yaxis\": {\"automargin\": true, \"gridcolor\": \"white\", \"linecolor\": \"white\", \"ticks\": \"\", \"title\": {\"standoff\": 15}, \"zerolinecolor\": \"white\", \"zerolinewidth\": 2}}}, \"title\": {\"text\": \"Sectors and Activities\"}},\n",
       "                        {\"responsive\": true}\n",
       "                    ).then(function(){\n",
       "                            \n",
       "var gd = document.getElementById('870cd1bb-d1cb-4fb7-86b3-f5e18832074f');\n",
       "var x = new MutationObserver(function (mutations, observer) {{\n",
       "        var display = window.getComputedStyle(gd).display;\n",
       "        if (!display || display === 'none') {{\n",
       "            console.log([gd, 'removed!']);\n",
       "            Plotly.purge(gd);\n",
       "            observer.disconnect();\n",
       "        }}\n",
       "}});\n",
       "\n",
       "// Listen for the removal of the full notebook cells\n",
       "var notebookContainer = gd.closest('#notebook-container');\n",
       "if (notebookContainer) {{\n",
       "    x.observe(notebookContainer, {childList: true});\n",
       "}}\n",
       "\n",
       "// Listen for the clearing of the current output cell\n",
       "var outputEl = gd.closest('.output');\n",
       "if (outputEl) {{\n",
       "    x.observe(outputEl, {childList: true});\n",
       "}}\n",
       "\n",
       "                        })\n",
       "                };\n",
       "                });\n",
       "            </script>\n",
       "        </div>"
      ]
     },
     "metadata": {},
     "output_type": "display_data"
    }
   ],
   "source": [
    "fig = px.treemap(activities, \n",
    "                 path=['Sector', 'Activity'], \n",
    "                 values='# of projects', \n",
    "                 color='Avg money raised pro project, $',\n",
    "                 hover_data=[\"Value over volume\", \"Avg investors\"],\n",
    "                 title='Sectors and Activities'\n",
    "                )\n",
    "fig.show()"
   ]
  },
  {
   "cell_type": "markdown",
   "metadata": {},
   "source": [
    "This treemap shows \n",
    "\n",
    "a) shares of sectors and activities in the general volume of projects (% from the whole amount), \n",
    "represented by sizes of blocks,\n",
    "\n",
    "b) average amount of money attracted by projects related to each specific activity, \n",
    "reflected by colour (the lighter / closer to yellow, the more expensive the associated projects are).\n",
    "\n",
    "We see one small yellow block located in the Retail sector, standing out against the whole graph:\n",
    "this is 'Renewable Energy Projects'. The bright colour hints that corresponding projects are on average much more expensive than most others, coloured in hues of purple.\n",
    "\n",
    "If we click on the block 'Services' (as the segment) and magnify it, we can see some more light coloured blocks representing activities such as 'Landscaping / Gardening', 'Technology', 'Childcare', 'Communications', and 'Cleaning services' - they are also expensive but unfortunately appearing too seldom on our platform."
   ]
  },
  {
   "cell_type": "code",
   "execution_count": 37,
   "metadata": {},
   "outputs": [
    {
     "data": {
      "text/html": [
       "<div>\n",
       "<style scoped>\n",
       "    .dataframe tbody tr th:only-of-type {\n",
       "        vertical-align: middle;\n",
       "    }\n",
       "\n",
       "    .dataframe tbody tr th {\n",
       "        vertical-align: top;\n",
       "    }\n",
       "\n",
       "    .dataframe thead th {\n",
       "        text-align: right;\n",
       "    }\n",
       "</style>\n",
       "<table border=\"1\" class=\"dataframe\">\n",
       "  <thead>\n",
       "    <tr style=\"text-align: right;\">\n",
       "      <th></th>\n",
       "      <th>Sector</th>\n",
       "      <th>Activity</th>\n",
       "      <th># of projects</th>\n",
       "      <th>Total money raised, $</th>\n",
       "      <th>Avg money raised pro project, $</th>\n",
       "      <th>Avg investors</th>\n",
       "      <th>Avg share gathered, %</th>\n",
       "      <th>Share in volume, %</th>\n",
       "      <th>Share in value, %</th>\n",
       "      <th>Value over volume</th>\n",
       "    </tr>\n",
       "  </thead>\n",
       "  <tbody>\n",
       "    <tr>\n",
       "      <td>2042</td>\n",
       "      <td>Services</td>\n",
       "      <td>Landscaping / Gardening</td>\n",
       "      <td>34.0</td>\n",
       "      <td>123765.0</td>\n",
       "      <td>3640.1</td>\n",
       "      <td>74.2</td>\n",
       "      <td>81.1</td>\n",
       "      <td>0.000051</td>\n",
       "      <td>0.000235</td>\n",
       "      <td>4.6</td>\n",
       "    </tr>\n",
       "    <tr>\n",
       "      <td>1924</td>\n",
       "      <td>Retail</td>\n",
       "      <td>Renewable Energy Products</td>\n",
       "      <td>585.0</td>\n",
       "      <td>1798675.0</td>\n",
       "      <td>3074.7</td>\n",
       "      <td>83.4</td>\n",
       "      <td>99.6</td>\n",
       "      <td>0.000872</td>\n",
       "      <td>0.003409</td>\n",
       "      <td>3.9</td>\n",
       "    </tr>\n",
       "    <tr>\n",
       "      <td>2100</td>\n",
       "      <td>Services</td>\n",
       "      <td>Technology</td>\n",
       "      <td>178.0</td>\n",
       "      <td>428245.0</td>\n",
       "      <td>2405.9</td>\n",
       "      <td>44.2</td>\n",
       "      <td>47.0</td>\n",
       "      <td>0.000265</td>\n",
       "      <td>0.000812</td>\n",
       "      <td>3.1</td>\n",
       "    </tr>\n",
       "    <tr>\n",
       "      <td>1992</td>\n",
       "      <td>Services</td>\n",
       "      <td>Communications</td>\n",
       "      <td>96.0</td>\n",
       "      <td>223285.0</td>\n",
       "      <td>2325.9</td>\n",
       "      <td>42.1</td>\n",
       "      <td>62.4</td>\n",
       "      <td>0.000143</td>\n",
       "      <td>0.000423</td>\n",
       "      <td>3.0</td>\n",
       "    </tr>\n",
       "    <tr>\n",
       "      <td>1986</td>\n",
       "      <td>Services</td>\n",
       "      <td>Child Care</td>\n",
       "      <td>183.0</td>\n",
       "      <td>417300.0</td>\n",
       "      <td>2280.3</td>\n",
       "      <td>61.4</td>\n",
       "      <td>86.1</td>\n",
       "      <td>0.000273</td>\n",
       "      <td>0.000791</td>\n",
       "      <td>2.9</td>\n",
       "    </tr>\n",
       "    <tr>\n",
       "      <td>1987</td>\n",
       "      <td>Services</td>\n",
       "      <td>Cleaning Services</td>\n",
       "      <td>145.0</td>\n",
       "      <td>323085.0</td>\n",
       "      <td>2228.2</td>\n",
       "      <td>46.8</td>\n",
       "      <td>70.7</td>\n",
       "      <td>0.000216</td>\n",
       "      <td>0.000612</td>\n",
       "      <td>2.8</td>\n",
       "    </tr>\n",
       "    <tr>\n",
       "      <td>221</td>\n",
       "      <td>Arts</td>\n",
       "      <td>Film</td>\n",
       "      <td>13.0</td>\n",
       "      <td>27200.0</td>\n",
       "      <td>2092.3</td>\n",
       "      <td>62.7</td>\n",
       "      <td>100.0</td>\n",
       "      <td>0.000019</td>\n",
       "      <td>0.000052</td>\n",
       "      <td>2.7</td>\n",
       "    </tr>\n",
       "    <tr>\n",
       "      <td>478</td>\n",
       "      <td>Clothing</td>\n",
       "      <td>Used Shoes</td>\n",
       "      <td>752.0</td>\n",
       "      <td>1392400.0</td>\n",
       "      <td>1851.6</td>\n",
       "      <td>35.0</td>\n",
       "      <td>98.0</td>\n",
       "      <td>0.001120</td>\n",
       "      <td>0.002639</td>\n",
       "      <td>2.4</td>\n",
       "    </tr>\n",
       "    <tr>\n",
       "      <td>1854</td>\n",
       "      <td>Retail</td>\n",
       "      <td>Florist</td>\n",
       "      <td>65.0</td>\n",
       "      <td>118925.0</td>\n",
       "      <td>1829.6</td>\n",
       "      <td>39.9</td>\n",
       "      <td>92.1</td>\n",
       "      <td>0.000097</td>\n",
       "      <td>0.000225</td>\n",
       "      <td>2.3</td>\n",
       "    </tr>\n",
       "    <tr>\n",
       "      <td>1902</td>\n",
       "      <td>Retail</td>\n",
       "      <td>Perfumes</td>\n",
       "      <td>328.0</td>\n",
       "      <td>557725.0</td>\n",
       "      <td>1700.4</td>\n",
       "      <td>25.5</td>\n",
       "      <td>95.8</td>\n",
       "      <td>0.000489</td>\n",
       "      <td>0.001057</td>\n",
       "      <td>2.2</td>\n",
       "    </tr>\n",
       "  </tbody>\n",
       "</table>\n",
       "</div>"
      ],
      "text/plain": [
       "        Sector                   Activity  # of projects  \\\n",
       "2042  Services    Landscaping / Gardening           34.0   \n",
       "1924    Retail  Renewable Energy Products          585.0   \n",
       "2100  Services                 Technology          178.0   \n",
       "1992  Services             Communications           96.0   \n",
       "1986  Services                 Child Care          183.0   \n",
       "1987  Services          Cleaning Services          145.0   \n",
       "221       Arts                       Film           13.0   \n",
       "478   Clothing                 Used Shoes          752.0   \n",
       "1854    Retail                    Florist           65.0   \n",
       "1902    Retail                   Perfumes          328.0   \n",
       "\n",
       "      Total money raised, $  Avg money raised pro project, $  Avg investors  \\\n",
       "2042               123765.0                           3640.1           74.2   \n",
       "1924              1798675.0                           3074.7           83.4   \n",
       "2100               428245.0                           2405.9           44.2   \n",
       "1992               223285.0                           2325.9           42.1   \n",
       "1986               417300.0                           2280.3           61.4   \n",
       "1987               323085.0                           2228.2           46.8   \n",
       "221                 27200.0                           2092.3           62.7   \n",
       "478               1392400.0                           1851.6           35.0   \n",
       "1854               118925.0                           1829.6           39.9   \n",
       "1902               557725.0                           1700.4           25.5   \n",
       "\n",
       "      Avg share gathered, %  Share in volume, %  Share in value, %  \\\n",
       "2042                   81.1            0.000051           0.000235   \n",
       "1924                   99.6            0.000872           0.003409   \n",
       "2100                   47.0            0.000265           0.000812   \n",
       "1992                   62.4            0.000143           0.000423   \n",
       "1986                   86.1            0.000273           0.000791   \n",
       "1987                   70.7            0.000216           0.000612   \n",
       "221                   100.0            0.000019           0.000052   \n",
       "478                    98.0            0.001120           0.002639   \n",
       "1854                   92.1            0.000097           0.000225   \n",
       "1902                   95.8            0.000489           0.001057   \n",
       "\n",
       "      Value over volume  \n",
       "2042                4.6  \n",
       "1924                3.9  \n",
       "2100                3.1  \n",
       "1992                3.0  \n",
       "1986                2.9  \n",
       "1987                2.8  \n",
       "221                 2.7  \n",
       "478                 2.4  \n",
       "1854                2.3  \n",
       "1902                2.2  "
      ]
     },
     "execution_count": 37,
     "metadata": {},
     "output_type": "execute_result"
    }
   ],
   "source": [
    "# Which projects attract more money, on average?\n",
    "activities.sort_values(by='Avg money raised pro project, $', ascending=False).head(10)"
   ]
  },
  {
   "cell_type": "code",
   "execution_count": 38,
   "metadata": {
    "scrolled": false
   },
   "outputs": [
    {
     "data": {
      "text/html": [
       "<div>\n",
       "<style scoped>\n",
       "    .dataframe tbody tr th:only-of-type {\n",
       "        vertical-align: middle;\n",
       "    }\n",
       "\n",
       "    .dataframe tbody tr th {\n",
       "        vertical-align: top;\n",
       "    }\n",
       "\n",
       "    .dataframe thead th {\n",
       "        text-align: right;\n",
       "    }\n",
       "</style>\n",
       "<table border=\"1\" class=\"dataframe\">\n",
       "  <thead>\n",
       "    <tr style=\"text-align: right;\">\n",
       "      <th></th>\n",
       "      <th>Activity</th>\n",
       "      <th># of projects</th>\n",
       "      <th>Value over volume</th>\n",
       "      <th>Avg share gathered, %</th>\n",
       "    </tr>\n",
       "  </thead>\n",
       "  <tbody>\n",
       "    <tr>\n",
       "      <td>2042</td>\n",
       "      <td>Landscaping / Gardening</td>\n",
       "      <td>34.0</td>\n",
       "      <td>4.6</td>\n",
       "      <td>81.1</td>\n",
       "    </tr>\n",
       "    <tr>\n",
       "      <td>1924</td>\n",
       "      <td>Renewable Energy Products</td>\n",
       "      <td>585.0</td>\n",
       "      <td>3.9</td>\n",
       "      <td>99.6</td>\n",
       "    </tr>\n",
       "    <tr>\n",
       "      <td>2100</td>\n",
       "      <td>Technology</td>\n",
       "      <td>178.0</td>\n",
       "      <td>3.1</td>\n",
       "      <td>47.0</td>\n",
       "    </tr>\n",
       "    <tr>\n",
       "      <td>1992</td>\n",
       "      <td>Communications</td>\n",
       "      <td>96.0</td>\n",
       "      <td>3.0</td>\n",
       "      <td>62.4</td>\n",
       "    </tr>\n",
       "    <tr>\n",
       "      <td>1986</td>\n",
       "      <td>Child Care</td>\n",
       "      <td>183.0</td>\n",
       "      <td>2.9</td>\n",
       "      <td>86.1</td>\n",
       "    </tr>\n",
       "    <tr>\n",
       "      <td>1987</td>\n",
       "      <td>Cleaning Services</td>\n",
       "      <td>145.0</td>\n",
       "      <td>2.8</td>\n",
       "      <td>70.7</td>\n",
       "    </tr>\n",
       "    <tr>\n",
       "      <td>221</td>\n",
       "      <td>Film</td>\n",
       "      <td>13.0</td>\n",
       "      <td>2.7</td>\n",
       "      <td>100.0</td>\n",
       "    </tr>\n",
       "    <tr>\n",
       "      <td>478</td>\n",
       "      <td>Used Shoes</td>\n",
       "      <td>752.0</td>\n",
       "      <td>2.4</td>\n",
       "      <td>98.0</td>\n",
       "    </tr>\n",
       "    <tr>\n",
       "      <td>1854</td>\n",
       "      <td>Florist</td>\n",
       "      <td>65.0</td>\n",
       "      <td>2.3</td>\n",
       "      <td>92.1</td>\n",
       "    </tr>\n",
       "    <tr>\n",
       "      <td>1902</td>\n",
       "      <td>Perfumes</td>\n",
       "      <td>328.0</td>\n",
       "      <td>2.2</td>\n",
       "      <td>95.8</td>\n",
       "    </tr>\n",
       "    <tr>\n",
       "      <td>1956</td>\n",
       "      <td>Adult Care</td>\n",
       "      <td>2.0</td>\n",
       "      <td>2.1</td>\n",
       "      <td>100.0</td>\n",
       "    </tr>\n",
       "    <tr>\n",
       "      <td>2355</td>\n",
       "      <td>Goods Distribution</td>\n",
       "      <td>277.0</td>\n",
       "      <td>2.1</td>\n",
       "      <td>98.4</td>\n",
       "    </tr>\n",
       "  </tbody>\n",
       "</table>\n",
       "</div>"
      ],
      "text/plain": [
       "                       Activity  # of projects  Value over volume  \\\n",
       "2042    Landscaping / Gardening           34.0                4.6   \n",
       "1924  Renewable Energy Products          585.0                3.9   \n",
       "2100                 Technology          178.0                3.1   \n",
       "1992             Communications           96.0                3.0   \n",
       "1986                 Child Care          183.0                2.9   \n",
       "1987          Cleaning Services          145.0                2.8   \n",
       "221                        Film           13.0                2.7   \n",
       "478                  Used Shoes          752.0                2.4   \n",
       "1854                    Florist           65.0                2.3   \n",
       "1902                   Perfumes          328.0                2.2   \n",
       "1956                 Adult Care            2.0                2.1   \n",
       "2355         Goods Distribution          277.0                2.1   \n",
       "\n",
       "      Avg share gathered, %  \n",
       "2042                   81.1  \n",
       "1924                   99.6  \n",
       "2100                   47.0  \n",
       "1992                   62.4  \n",
       "1986                   86.1  \n",
       "1987                   70.7  \n",
       "221                   100.0  \n",
       "478                    98.0  \n",
       "1854                   92.1  \n",
       "1902                   95.8  \n",
       "1956                  100.0  \n",
       "2355                   98.4  "
      ]
     },
     "execution_count": 38,
     "metadata": {},
     "output_type": "execute_result"
    }
   ],
   "source": [
    "# More focussed:\n",
    "activities.loc[activities['Value over volume'] >= 2, ['Activity', '# of projects', 'Value over volume', 'Avg share gathered, %']].sort_values(by='Value over volume', ascending=False)"
   ]
  },
  {
   "cell_type": "markdown",
   "metadata": {},
   "source": [
    "There are certain activities which are seldom represented in projects we mediate \n",
    "but which attract much more money (in sum) than their simple numerical share in all projects would suggest.\n",
    "In brief, they are expensive.<br>\n",
    "Projects related to these 12 activities are all at least 2 times bigger in money/value than in volume.<br> \n",
    "Most of them manage to raise almost all needed money (with exception of Technology, Communications, and Cleaning Services)<br>\n",
    "We need more such projects on our platform."
   ]
  },
  {
   "cell_type": "code",
   "execution_count": 39,
   "metadata": {},
   "outputs": [
    {
     "data": {
      "text/html": [
       "<div>\n",
       "<style scoped>\n",
       "    .dataframe tbody tr th:only-of-type {\n",
       "        vertical-align: middle;\n",
       "    }\n",
       "\n",
       "    .dataframe tbody tr th {\n",
       "        vertical-align: top;\n",
       "    }\n",
       "\n",
       "    .dataframe thead th {\n",
       "        text-align: right;\n",
       "    }\n",
       "</style>\n",
       "<table border=\"1\" class=\"dataframe\">\n",
       "  <thead>\n",
       "    <tr style=\"text-align: right;\">\n",
       "      <th></th>\n",
       "      <th>Sector</th>\n",
       "      <th>Activity</th>\n",
       "      <th># of projects</th>\n",
       "      <th>Total money raised, $</th>\n",
       "      <th>Avg money raised pro project, $</th>\n",
       "      <th>Avg investors</th>\n",
       "      <th>Avg share gathered, %</th>\n",
       "      <th>Share in volume, %</th>\n",
       "      <th>Share in value, %</th>\n",
       "      <th>Value over volume</th>\n",
       "    </tr>\n",
       "  </thead>\n",
       "  <tbody>\n",
       "    <tr>\n",
       "      <td>1924</td>\n",
       "      <td>Retail</td>\n",
       "      <td>Renewable Energy Products</td>\n",
       "      <td>585.0</td>\n",
       "      <td>1798675.0</td>\n",
       "      <td>3074.7</td>\n",
       "      <td>83.4</td>\n",
       "      <td>99.6</td>\n",
       "      <td>0.000872</td>\n",
       "      <td>0.003409</td>\n",
       "      <td>3.9</td>\n",
       "    </tr>\n",
       "    <tr>\n",
       "      <td>2042</td>\n",
       "      <td>Services</td>\n",
       "      <td>Landscaping / Gardening</td>\n",
       "      <td>34.0</td>\n",
       "      <td>123765.0</td>\n",
       "      <td>3640.1</td>\n",
       "      <td>74.2</td>\n",
       "      <td>81.1</td>\n",
       "      <td>0.000051</td>\n",
       "      <td>0.000235</td>\n",
       "      <td>4.6</td>\n",
       "    </tr>\n",
       "    <tr>\n",
       "      <td>221</td>\n",
       "      <td>Arts</td>\n",
       "      <td>Film</td>\n",
       "      <td>13.0</td>\n",
       "      <td>27200.0</td>\n",
       "      <td>2092.3</td>\n",
       "      <td>62.7</td>\n",
       "      <td>100.0</td>\n",
       "      <td>0.000019</td>\n",
       "      <td>0.000052</td>\n",
       "      <td>2.7</td>\n",
       "    </tr>\n",
       "    <tr>\n",
       "      <td>1986</td>\n",
       "      <td>Services</td>\n",
       "      <td>Child Care</td>\n",
       "      <td>183.0</td>\n",
       "      <td>417300.0</td>\n",
       "      <td>2280.3</td>\n",
       "      <td>61.4</td>\n",
       "      <td>86.1</td>\n",
       "      <td>0.000273</td>\n",
       "      <td>0.000791</td>\n",
       "      <td>2.9</td>\n",
       "    </tr>\n",
       "    <tr>\n",
       "      <td>1956</td>\n",
       "      <td>Services</td>\n",
       "      <td>Adult Care</td>\n",
       "      <td>2.0</td>\n",
       "      <td>3375.0</td>\n",
       "      <td>1687.5</td>\n",
       "      <td>51.5</td>\n",
       "      <td>100.0</td>\n",
       "      <td>0.000003</td>\n",
       "      <td>0.000006</td>\n",
       "      <td>2.1</td>\n",
       "    </tr>\n",
       "    <tr>\n",
       "      <td>2011</td>\n",
       "      <td>Services</td>\n",
       "      <td>Event Planning</td>\n",
       "      <td>5.0</td>\n",
       "      <td>7175.0</td>\n",
       "      <td>1435.0</td>\n",
       "      <td>48.2</td>\n",
       "      <td>100.0</td>\n",
       "      <td>0.000007</td>\n",
       "      <td>0.000014</td>\n",
       "      <td>1.8</td>\n",
       "    </tr>\n",
       "    <tr>\n",
       "      <td>2355</td>\n",
       "      <td>Wholesale</td>\n",
       "      <td>Goods Distribution</td>\n",
       "      <td>277.0</td>\n",
       "      <td>462650.0</td>\n",
       "      <td>1670.2</td>\n",
       "      <td>48.1</td>\n",
       "      <td>98.4</td>\n",
       "      <td>0.000413</td>\n",
       "      <td>0.000877</td>\n",
       "      <td>2.1</td>\n",
       "    </tr>\n",
       "    <tr>\n",
       "      <td>1987</td>\n",
       "      <td>Services</td>\n",
       "      <td>Cleaning Services</td>\n",
       "      <td>145.0</td>\n",
       "      <td>323085.0</td>\n",
       "      <td>2228.2</td>\n",
       "      <td>46.8</td>\n",
       "      <td>70.7</td>\n",
       "      <td>0.000216</td>\n",
       "      <td>0.000612</td>\n",
       "      <td>2.8</td>\n",
       "    </tr>\n",
       "    <tr>\n",
       "      <td>2100</td>\n",
       "      <td>Services</td>\n",
       "      <td>Technology</td>\n",
       "      <td>178.0</td>\n",
       "      <td>428245.0</td>\n",
       "      <td>2405.9</td>\n",
       "      <td>44.2</td>\n",
       "      <td>47.0</td>\n",
       "      <td>0.000265</td>\n",
       "      <td>0.000812</td>\n",
       "      <td>3.1</td>\n",
       "    </tr>\n",
       "    <tr>\n",
       "      <td>1217</td>\n",
       "      <td>Health</td>\n",
       "      <td>Health</td>\n",
       "      <td>1235.0</td>\n",
       "      <td>1799800.0</td>\n",
       "      <td>1457.3</td>\n",
       "      <td>44.2</td>\n",
       "      <td>97.1</td>\n",
       "      <td>0.001840</td>\n",
       "      <td>0.003412</td>\n",
       "      <td>1.9</td>\n",
       "    </tr>\n",
       "  </tbody>\n",
       "</table>\n",
       "</div>"
      ],
      "text/plain": [
       "         Sector                   Activity  # of projects  \\\n",
       "1924     Retail  Renewable Energy Products          585.0   \n",
       "2042   Services    Landscaping / Gardening           34.0   \n",
       "221        Arts                       Film           13.0   \n",
       "1986   Services                 Child Care          183.0   \n",
       "1956   Services                 Adult Care            2.0   \n",
       "2011   Services             Event Planning            5.0   \n",
       "2355  Wholesale         Goods Distribution          277.0   \n",
       "1987   Services          Cleaning Services          145.0   \n",
       "2100   Services                 Technology          178.0   \n",
       "1217     Health                     Health         1235.0   \n",
       "\n",
       "      Total money raised, $  Avg money raised pro project, $  Avg investors  \\\n",
       "1924              1798675.0                           3074.7           83.4   \n",
       "2042               123765.0                           3640.1           74.2   \n",
       "221                 27200.0                           2092.3           62.7   \n",
       "1986               417300.0                           2280.3           61.4   \n",
       "1956                 3375.0                           1687.5           51.5   \n",
       "2011                 7175.0                           1435.0           48.2   \n",
       "2355               462650.0                           1670.2           48.1   \n",
       "1987               323085.0                           2228.2           46.8   \n",
       "2100               428245.0                           2405.9           44.2   \n",
       "1217              1799800.0                           1457.3           44.2   \n",
       "\n",
       "      Avg share gathered, %  Share in volume, %  Share in value, %  \\\n",
       "1924                   99.6            0.000872           0.003409   \n",
       "2042                   81.1            0.000051           0.000235   \n",
       "221                   100.0            0.000019           0.000052   \n",
       "1986                   86.1            0.000273           0.000791   \n",
       "1956                  100.0            0.000003           0.000006   \n",
       "2011                  100.0            0.000007           0.000014   \n",
       "2355                   98.4            0.000413           0.000877   \n",
       "1987                   70.7            0.000216           0.000612   \n",
       "2100                   47.0            0.000265           0.000812   \n",
       "1217                   97.1            0.001840           0.003412   \n",
       "\n",
       "      Value over volume  \n",
       "1924                3.9  \n",
       "2042                4.6  \n",
       "221                 2.7  \n",
       "1986                2.9  \n",
       "1956                2.1  \n",
       "2011                1.8  \n",
       "2355                2.1  \n",
       "1987                2.8  \n",
       "2100                3.1  \n",
       "1217                1.9  "
      ]
     },
     "execution_count": 39,
     "metadata": {},
     "output_type": "execute_result"
    }
   ],
   "source": [
    "# Which projects attract more investors, on average?\n",
    "activities.sort_values(by='Avg investors', ascending=False).head(10)"
   ]
  },
  {
   "cell_type": "markdown",
   "metadata": {},
   "source": [
    "These are again projects related to Landscaping / Gardening and Renewable Energy Products.\n",
    "Renewable Energy Products is especially remarkable because money is almost always bein gathered in full ('Avg share gathered' ~ 100%) despite expensiveness AND Renewable Energy Products are leading by the number of investors attracted on average. Seems to be a hot topic! At the same time, they are relatively seldom pitched, in comparison to most other themes / activities.\n",
    "\n",
    "##### My suggestion is to \n",
    "\n",
    "##### a) focus on ventures which are initiating projects related to Renewable Energy Products and try to make them using our service, \n",
    "\n",
    "##### b) try to attract also ventures doing projects connected to activities with Value over volume > 2,\n",
    "\n",
    "##### c) maybe change our commissioning policy and take higher commission for projects with Value over volume > 2."
   ]
  },
  {
   "cell_type": "code",
   "execution_count": 40,
   "metadata": {},
   "outputs": [
    {
     "data": {
      "application/vnd.plotly.v1+json": {
       "config": {
        "plotlyServerURL": "https://plot.ly"
       },
       "data": [
        {
         "customdata": [
          [
           1.2,
           95.3
          ],
          [
           1.4,
           96.7
          ],
          [
           0.8,
           93.2
          ],
          [
           1.8,
           96.8
          ],
          [
           1.2,
           93.1
          ],
          [
           0.8,
           97.3
          ],
          [
           0.9,
           94.1
          ],
          [
           0.8,
           95
          ],
          [
           1,
           97
          ],
          [
           1,
           96
          ],
          [
           1.3,
           94.7
          ],
          [
           0.6,
           98.7
          ],
          [
           1,
           97.3
          ],
          [
           1,
           98.7
          ]
         ],
         "hoverlabel": {
          "namelength": 0
         },
         "hovertemplate": "<b>%{hovertext}</b><br><br>Sector=Agriculture<br>Avg money raised pro project, $=%{x}<br># of projects=%{y}<br>Avg investors=%{marker.size}<br>Value over volume=%{customdata[0]}<br>Avg share gathered, %=%{customdata[1]}",
         "hovertext": [
          "Agriculture",
          "Animal Sales",
          "Aquaculture",
          "Beekeeping",
          "Cattle",
          "Dairy",
          "Farm Supplies",
          "Farming",
          "Flowers",
          "Land Rental",
          "Livestock",
          "Pigs",
          "Poultry",
          "Veterinary Sales"
         ],
         "legendgroup": "Agriculture",
         "marker": {
          "color": "#636efa",
          "opacity": 0.6,
          "size": [
           26.9,
           27.7,
           19.2,
           42.8,
           26,
           19.1,
           21,
           19,
           21.3,
           24.3,
           29.9,
           12.5,
           24,
           21.7
          ],
          "sizemode": "area",
          "sizeref": 0.20850000000000002,
          "symbol": "circle"
         },
         "mode": "markers",
         "name": "Agriculture",
         "showlegend": true,
         "type": "scatter",
         "x": [
          944.8,
          1080,
          660.2,
          1423,
          924.8,
          630.5,
          724.8,
          656.6,
          804.2,
          769.3,
          1046.1,
          455.6,
          812.4,
          779.2
         ],
         "xaxis": "x",
         "y": [
          27023,
          9237,
          108,
          50,
          7865,
          7914,
          4352,
          72955,
          821,
          277,
          13095,
          26624,
          9783,
          198
         ],
         "yaxis": "y"
        },
        {
         "customdata": [
          [
           1.3,
           97.5
          ],
          [
           1.5,
           98.2
          ],
          [
           0.8,
           97.7
          ],
          [
           2.7,
           100
          ],
          [
           1.7,
           99.9
          ],
          [
           1.6,
           100
          ],
          [
           0.8,
           100
          ],
          [
           1.8,
           99.7
          ],
          [
           0.9,
           99.9
          ]
         ],
         "hoverlabel": {
          "namelength": 0
         },
         "hovertemplate": "<b>%{hovertext}</b><br><br>Sector=Arts<br>Avg money raised pro project, $=%{x}<br># of projects=%{y}<br>Avg investors=%{marker.size}<br>Value over volume=%{customdata[0]}<br>Avg share gathered, %=%{customdata[1]}",
         "hovertext": [
          "Arts",
          "Crafts",
          "Embroidery",
          "Film",
          "Knitting",
          "Musical Instruments",
          "Patchwork",
          "Textiles",
          "Weaving"
         ],
         "legendgroup": "Arts",
         "marker": {
          "color": "#EF553B",
          "opacity": 0.6,
          "size": [
           26.2,
           30.4,
           19.5,
           62.7,
           35.5,
           42.1,
           21.7,
           42,
           22
          ],
          "sizemode": "area",
          "sizeref": 0.20850000000000002,
          "symbol": "circle"
         },
         "mode": "markers",
         "name": "Arts",
         "showlegend": true,
         "type": "scatter",
         "x": [
          1008.2,
          1182.7,
          665.9,
          2092.3,
          1334.1,
          1254.7,
          643.2,
          1406,
          737.6
         ],
         "xaxis": "x",
         "y": [
          1092,
          4084,
          2380,
          13,
          416,
          69,
          22,
          1023,
          2961
         ],
         "yaxis": "y"
        },
        {
         "customdata": [
          [
           1.7,
           95.2
          ],
          [
           1.3,
           94.7
          ],
          [
           1.1,
           96.9
          ],
          [
           2.4,
           98
          ]
         ],
         "hoverlabel": {
          "namelength": 0
         },
         "hovertemplate": "<b>%{hovertext}</b><br><br>Sector=Clothing<br>Avg money raised pro project, $=%{x}<br># of projects=%{y}<br>Avg investors=%{marker.size}<br>Value over volume=%{customdata[0]}<br>Avg share gathered, %=%{customdata[1]}",
         "hovertext": [
          "Clothing",
          "Clothing Sales",
          "Used Clothing",
          "Used Shoes"
         ],
         "legendgroup": "Clothing",
         "marker": {
          "color": "#00cc96",
          "opacity": 0.6,
          "size": [
           27.1,
           24.4,
           21.9,
           35
          ],
          "sizemode": "area",
          "sizeref": 0.20850000000000002,
          "symbol": "circle"
         },
         "mode": "markers",
         "name": "Clothing",
         "showlegend": true,
         "type": "scatter",
         "x": [
          1330,
          1010.3,
          900.3,
          1851.6
         ],
         "xaxis": "x",
         "y": [
          5014,
          22339,
          4637,
          752
         ],
         "yaxis": "y"
        },
        {
         "customdata": [
          [
           1.2,
           99
          ],
          [
           1.2,
           99.3
          ],
          [
           1.8,
           97.8
          ],
          [
           1.3,
           94.5
          ],
          [
           1.4,
           97.6
          ],
          [
           1,
           99.4
          ],
          [
           0.9,
           99.2
          ],
          [
           1.6,
           100
          ]
         ],
         "hoverlabel": {
          "namelength": 0
         },
         "hovertemplate": "<b>%{hovertext}</b><br><br>Sector=Construction<br>Avg money raised pro project, $=%{x}<br># of projects=%{y}<br>Avg investors=%{marker.size}<br>Value over volume=%{customdata[0]}<br>Avg share gathered, %=%{customdata[1]}",
         "hovertext": [
          "Bricks",
          "Carpentry",
          "Cement",
          "Construction",
          "Construction Supplies",
          "Quarrying",
          "Timber Sales",
          "Well digging"
         ],
         "legendgroup": "Construction",
         "marker": {
          "color": "#ab63fa",
          "opacity": 0.6,
          "size": [
           23.7,
           26.3,
           37.8,
           28.4,
           29.6,
           22.3,
           20.4,
           39.6
          ],
          "sizemode": "area",
          "sizeref": 0.20850000000000002,
          "symbol": "circle"
         },
         "mode": "markers",
         "name": "Construction",
         "showlegend": true,
         "type": "scatter",
         "x": [
          904.2,
          956.2,
          1421.2,
          1012.7,
          1107.5,
          769.5,
          713.5,
          1221.4
         ],
         "xaxis": "x",
         "y": [
          512,
          754,
          152,
          2145,
          2003,
          158,
          502,
          42
         ],
         "yaxis": "y"
        },
        {
         "customdata": [
          [
           1.2,
           97.5
          ],
          [
           1.6,
           97.8
          ],
          [
           1.2,
           98.6
          ],
          [
           1,
           98.9
          ]
         ],
         "hoverlabel": {
          "namelength": 0
         },
         "hovertemplate": "<b>%{hovertext}</b><br><br>Sector=Education<br>Avg money raised pro project, $=%{x}<br># of projects=%{y}<br>Avg investors=%{marker.size}<br>Value over volume=%{customdata[0]}<br>Avg share gathered, %=%{customdata[1]}",
         "hovertext": [
          "Computer",
          "Education provider",
          "Higher education costs",
          "Primary/secondary school costs"
         ],
         "legendgroup": "Education",
         "marker": {
          "color": "#FFA15A",
          "opacity": 0.6,
          "size": [
           27.6,
           36.9,
           30.1,
           22.2
          ],
          "sizemode": "area",
          "sizeref": 0.20850000000000002,
          "symbol": "circle"
         },
         "mode": "markers",
         "name": "Education",
         "showlegend": true,
         "type": "scatter",
         "x": [
          955.6,
          1276.6,
          963,
          786.8
         ],
         "xaxis": "x",
         "y": [
          54,
          4401,
          19742,
          6816
         ],
         "yaxis": "y"
        },
        {
         "customdata": [
          [
           1.8,
           79.8
          ],
          [
           1.1,
           98.4
          ],
          [
           1.5,
           100
          ]
         ],
         "hoverlabel": {
          "namelength": 0
         },
         "hovertemplate": "<b>%{hovertext}</b><br><br>Sector=Entertainment<br>Avg money raised pro project, $=%{x}<br># of projects=%{y}<br>Avg investors=%{marker.size}<br>Value over volume=%{customdata[0]}<br>Avg share gathered, %=%{customdata[1]}",
         "hovertext": [
          "Entertainment",
          "Games",
          "Musical Performance"
         ],
         "legendgroup": "Entertainment",
         "marker": {
          "color": "#19d3f3",
          "opacity": 0.6,
          "size": [
           33.9,
           27.5,
           32.2
          ],
          "sizemode": "area",
          "sizeref": 0.20850000000000002,
          "symbol": "circle"
         },
         "mode": "markers",
         "name": "Entertainment",
         "showlegend": true,
         "type": "scatter",
         "x": [
          1453.5,
          874.4,
          1148.2
         ],
         "xaxis": "x",
         "y": [
          443,
          238,
          149
         ],
         "yaxis": "y"
        },
        {
         "customdata": [
          [
           1.4,
           97.1
          ],
          [
           0.5,
           100
          ],
          [
           1.3,
           94.8
          ],
          [
           1.2,
           93.8
          ],
          [
           1.3,
           94.4
          ],
          [
           1.4,
           97.1
          ],
          [
           0.8,
           95.9
          ],
          [
           1.5,
           98.3
          ],
          [
           0.7,
           98
          ],
          [
           0.6,
           98.6
          ],
          [
           1.2,
           96.9
          ],
          [
           1.3,
           96.6
          ],
          [
           1.1,
           96.6
          ],
          [
           1.2,
           97.2
          ],
          [
           1,
           97.5
          ],
          [
           1.2,
           95.6
          ],
          [
           1.3,
           97
          ],
          [
           0.9,
           97.8
          ],
          [
           1.2,
           92.2
          ],
          [
           1.7,
           94.6
          ]
         ],
         "hoverlabel": {
          "namelength": 0
         },
         "hovertemplate": "<b>%{hovertext}</b><br><br>Sector=Food<br>Avg money raised pro project, $=%{x}<br># of projects=%{y}<br>Avg investors=%{marker.size}<br>Value over volume=%{customdata[0]}<br>Avg share gathered, %=%{customdata[1]}",
         "hovertext": [
          "Bakery",
          "Balut-Making",
          "Beverages",
          "Butcher Shop",
          "Cafe",
          "Catering",
          "Cereals",
          "Cheese Making",
          "Fish Selling",
          "Fishing",
          "Food",
          "Food Market",
          "Food Production/Sales",
          "Food Stall",
          "Fruits & Vegetables",
          "Grocery Store",
          "Liquor Store / Off-License",
          "Milk Sales",
          "Pub",
          "Restaurant"
         ],
         "legendgroup": "Food",
         "marker": {
          "color": "#FF6692",
          "opacity": 0.6,
          "size": [
           29.3,
           11.7,
           23,
           23.2,
           26.8,
           27.4,
           15.2,
           34.6,
           13.1,
           12.1,
           20,
           24.3,
           20,
           23.2,
           18.8,
           22.9,
           20.6,
           18.5,
           23.9,
           27.6
          ],
          "sizemode": "area",
          "sizeref": 0.20850000000000002,
          "symbol": "circle"
         },
         "mode": "markers",
         "name": "Food",
         "showlegend": true,
         "type": "scatter",
         "x": [
          1086.2,
          398,
          992.4,
          939.9,
          984.2,
          1063.6,
          617.6,
          1161.5,
          548.4,
          446.6,
          970.7,
          1004.5,
          865.5,
          979.4,
          794.9,
          946.9,
          985.2,
          721.4,
          973.8,
          1338.2
         ],
         "xaxis": "x",
         "y": [
          3620,
          61,
          2357,
          1968,
          1404,
          653,
          7898,
          347,
          13060,
          10066,
          10197,
          7091,
          28106,
          8905,
          16610,
          15102,
          1558,
          1771,
          902,
          4981
         ],
         "yaxis": "y"
        },
        {
         "customdata": [
          [
           1.5,
           96.5
          ],
          [
           1.9,
           97.1
          ],
          [
           1.5,
           99.6
          ],
          [
           1.7,
           99.4
          ],
          [
           1,
           94.3
          ],
          [
           1.6,
           99.9
          ]
         ],
         "hoverlabel": {
          "namelength": 0
         },
         "hovertemplate": "<b>%{hovertext}</b><br><br>Sector=Health<br>Avg money raised pro project, $=%{x}<br># of projects=%{y}<br>Avg investors=%{marker.size}<br>Value over volume=%{customdata[0]}<br>Avg share gathered, %=%{customdata[1]}",
         "hovertext": [
          "Dental",
          "Health",
          "Medical Clinic",
          "Natural Medicines",
          "Personal Medical Expenses",
          "Pharmacy"
         ],
         "legendgroup": "Health",
         "marker": {
          "color": "#B6E880",
          "opacity": 0.6,
          "size": [
           33.9,
           44.2,
           36.9,
           24.2,
           24.5,
           36.1
          ],
          "sizemode": "area",
          "sizeref": 0.20850000000000002,
          "symbol": "circle"
         },
         "mode": "markers",
         "name": "Health",
         "showlegend": true,
         "type": "scatter",
         "x": [
          1169.8,
          1457.3,
          1170.9,
          1341.2,
          772.9,
          1259.1
         ],
         "xaxis": "x",
         "y": [
          290,
          1235,
          323,
          814,
          5549,
          1012
         ],
         "yaxis": "y"
        },
        {
         "customdata": [
          [
           0.8,
           94
          ],
          [
           1.2,
           94.3
          ]
         ],
         "hoverlabel": {
          "namelength": 0
         },
         "hovertemplate": "<b>%{hovertext}</b><br><br>Sector=Housing<br>Avg money raised pro project, $=%{x}<br># of projects=%{y}<br>Avg investors=%{marker.size}<br>Value over volume=%{customdata[0]}<br>Avg share gathered, %=%{customdata[1]}",
         "hovertext": [
          "Personal Housing Expenses",
          "Property"
         ],
         "legendgroup": "Housing",
         "marker": {
          "color": "#FF97FF",
          "opacity": 0.6,
          "size": [
           19,
           26
          ],
          "sizemode": "area",
          "sizeref": 0.20850000000000002,
          "symbol": "circle"
         },
         "mode": "markers",
         "name": "Housing",
         "showlegend": true,
         "type": "scatter",
         "x": [
          621.5,
          943.6
         ],
         "xaxis": "x",
         "y": [
          32448,
          1283
         ],
         "yaxis": "y"
        },
        {
         "customdata": [
          [
           1.1,
           99.5
          ],
          [
           1.2,
           99.3
          ],
          [
           1,
           100
          ],
          [
           1,
           99.7
          ],
          [
           1.2,
           99.3
          ],
          [
           0.7,
           100
          ]
         ],
         "hoverlabel": {
          "namelength": 0
         },
         "hovertemplate": "<b>%{hovertext}</b><br><br>Sector=Manufacturing<br>Avg money raised pro project, $=%{x}<br># of projects=%{y}<br>Avg investors=%{marker.size}<br>Value over volume=%{customdata[0]}<br>Avg share gathered, %=%{customdata[1]}",
         "hovertext": [
          "Blacksmith",
          "Furniture Making",
          "Machine Shop",
          "Manufacturing",
          "Metal Shop",
          "Personal Care Products"
         ],
         "legendgroup": "Manufacturing",
         "marker": {
          "color": "#FECB52",
          "opacity": 0.6,
          "size": [
           24.4,
           25.5,
           25.9,
           23.4,
           27.8,
           20.1
          ],
          "sizemode": "area",
          "sizeref": 0.20850000000000002,
          "symbol": "circle"
         },
         "mode": "markers",
         "name": "Manufacturing",
         "showlegend": true,
         "type": "scatter",
         "x": [
          847.8,
          919.1,
          820.3,
          804.8,
          923.4,
          514.3
         ],
         "xaxis": "x",
         "y": [
          444,
          2051,
          165,
          2643,
          898,
          7
         ],
         "yaxis": "y"
        },
        {
         "customdata": [
          [
           0.4,
           100
          ],
          [
           1,
           95.3
          ],
          [
           1.1,
           100
          ],
          [
           0.3,
           99.3
          ],
          [
           0.7,
           98.9
          ],
          [
           0.5,
           94.3
          ],
          [
           1.2,
           91.3
          ],
          [
           1,
           86.2
          ]
         ],
         "hoverlabel": {
          "namelength": 0
         },
         "hovertemplate": "<b>%{hovertext}</b><br><br>Sector=Personal Use<br>Avg money raised pro project, $=%{x}<br># of projects=%{y}<br>Avg investors=%{marker.size}<br>Value over volume=%{customdata[0]}<br>Avg share gathered, %=%{customdata[1]}",
         "hovertext": [
          "Celebrations",
          "Consumer Goods",
          "Funerals",
          "Home Appliances",
          "Home Energy",
          "Personal Expenses",
          "Vehicle",
          "Wedding Expenses"
         ],
         "legendgroup": "Personal Use",
         "marker": {
          "color": "#636efa",
          "opacity": 0.6,
          "size": [
           10,
           17.3,
           29.8,
           8.3,
           17.5,
           11.9,
           27.9,
           23
          ],
          "sizemode": "area",
          "sizeref": 0.20850000000000002,
          "symbol": "circle"
         },
         "mode": "markers",
         "name": "Personal Use",
         "showlegend": true,
         "type": "scatter",
         "x": [
          280,
          800.9,
          835.4,
          266.1,
          563.1,
          411,
          946,
          800
         ],
         "xaxis": "x",
         "y": [
          5,
          613,
          41,
          20267,
          7141,
          6656,
          1257,
          405
         ],
         "yaxis": "y"
        },
        {
         "customdata": [
          [
           1.3,
           100
          ],
          [
           1.8,
           98
          ],
          [
           0.7,
           97.7
          ],
          [
           0.9,
           96.5
          ],
          [
           1.4,
           92.9
          ],
          [
           1.5,
           94.8
          ],
          [
           1.5,
           93.5
          ],
          [
           1.2,
           88.9
          ],
          [
           2.3,
           92.1
          ],
          [
           0.8,
           96.7
          ],
          [
           0.7,
           96.3
          ],
          [
           1.4,
           92.7
          ],
          [
           1.2,
           95.3
          ],
          [
           1.3,
           94.9
          ],
          [
           1.3,
           92.3
          ],
          [
           1.1,
           97.8
          ],
          [
           1.4,
           98
          ],
          [
           1.3,
           97.1
          ],
          [
           1.3,
           94.4
          ],
          [
           1.4,
           98
          ],
          [
           2.2,
           95.8
          ],
          [
           0.7,
           94.7
          ],
          [
           1.1,
           91.7
          ],
          [
           0.8,
           88.3
          ],
          [
           1.1,
           95.5
          ],
          [
           1,
           98.1
          ],
          [
           0.9,
           100
          ],
          [
           3.9,
           99.6
          ],
          [
           1.2,
           94.8
          ],
          [
           1.3,
           93.9
          ],
          [
           1.2,
           97.2
          ],
          [
           1.2,
           91.6
          ],
          [
           1,
           98.7
          ],
          [
           0.9,
           95.8
          ]
         ],
         "hoverlabel": {
          "namelength": 0
         },
         "hovertemplate": "<b>%{hovertext}</b><br><br>Sector=Retail<br>Avg money raised pro project, $=%{x}<br># of projects=%{y}<br>Avg investors=%{marker.size}<br>Value over volume=%{customdata[0]}<br>Avg share gathered, %=%{customdata[1]}",
         "hovertext": [
          "Bicycle Sales",
          "Bookstore",
          "Charcoal Sales",
          "Cloth & Dressmaking Supplies",
          "Cosmetics Sales",
          "Decorations Sales",
          "Electrical Goods",
          "Electronics Sales",
          "Florist",
          "Fuel/Firewood",
          "General Store",
          "Hardware",
          "Home Products Sales",
          "Jewelry",
          "Mobile Phones",
          "Movie Tapes & DVDs",
          "Music Discs & Tapes",
          "Office Supplies",
          "Paper Sales",
          "Party Supplies",
          "Perfumes",
          "Personal Products Sales",
          "Phone Accessories",
          "Phone Use Sales",
          "Plastics Sales",
          "Recycled Materials",
          "Religious Articles",
          "Renewable Energy Products",
          "Retail",
          "Shoe Sales",
          "Souvenir Sales",
          "Spare Parts",
          "Sporting Good Sales",
          "Traveling Sales"
         ],
         "legendgroup": "Retail",
         "marker": {
          "color": "#EF553B",
          "opacity": 0.6,
          "size": [
           32.4,
           33.7,
           13.2,
           21.1,
           24,
           29.6,
           32,
           25.9,
           39.9,
           16,
           13.3,
           24.3,
           23.9,
           20.4,
           27.3,
           22.2,
           29.6,
           26.8,
           27.2,
           31.6,
           25.5,
           14,
           22.7,
           18.1,
           21.5,
           19.4,
           21.1,
           83.4,
           21.6,
           23.4,
           25.2,
           22.8,
           24.5,
           20.3
          ],
          "sizemode": "area",
          "sizeref": 0.20850000000000002,
          "symbol": "circle"
         },
         "mode": "markers",
         "name": "Retail",
         "showlegend": true,
         "type": "scatter",
         "x": [
          1031,
          1435,
          554.2,
          746.3,
          1130,
          1140.6,
          1176.3,
          974.4,
          1829.6,
          605.6,
          549.3,
          1074.1,
          955.2,
          995.7,
          1026.6,
          854.1,
          1097.2,
          1014.7,
          995.7,
          1129.5,
          1700.4,
          545.1,
          863.8,
          622.3,
          858,
          793.1,
          684.9,
          3074.7,
          965.3,
          983.2,
          938.5,
          937,
          778.2,
          702.8
         ],
         "xaxis": "x",
         "y": [
          54,
          442,
          4421,
          2071,
          4740,
          385,
          409,
          546,
          65,
          1925,
          64729,
          953,
          3817,
          1371,
          657,
          135,
          81,
          362,
          289,
          110,
          328,
          3866,
          486,
          1019,
          568,
          819,
          68,
          585,
          24771,
          2760,
          180,
          1260,
          78,
          144
         ],
         "yaxis": "y"
        },
        {
         "customdata": [
          [
           2.1,
           100
          ],
          [
           1.5,
           98.8
          ],
          [
           1.2,
           92.1
          ],
          [
           1,
           93.1
          ],
          [
           1.2,
           94.6
          ],
          [
           0.9,
           100
          ],
          [
           1.2,
           100
          ],
          [
           1,
           100
          ],
          [
           2.9,
           86.1
          ],
          [
           2.8,
           70.7
          ],
          [
           0.9,
           97.9
          ],
          [
           3,
           62.4
          ],
          [
           1.3,
           98.5
          ],
          [
           1.2,
           95.1
          ],
          [
           1.1,
           95.1
          ],
          [
           0.9,
           95.1
          ],
          [
           1.8,
           100
          ],
          [
           1.2,
           94.7
          ],
          [
           1,
           97.7
          ],
          [
           4.6,
           81.1
          ],
          [
           1.3,
           98.2
          ],
          [
           1.1,
           99.3
          ],
          [
           0.9,
           83.5
          ],
          [
           1.1,
           95.6
          ],
          [
           1.4,
           97.2
          ],
          [
           1.4,
           96.2
          ],
          [
           1.4,
           95.9
          ],
          [
           1,
           98.2
          ],
          [
           1.3,
           100
          ],
          [
           1.4,
           90.8
          ],
          [
           1.3,
           98.2
          ],
          [
           0.8,
           96.8
          ],
          [
           3.1,
           47
          ],
          [
           1.9,
           93.1
          ],
          [
           1.2,
           98.6
          ],
          [
           1.5,
           97
          ],
          [
           1.2,
           92
          ],
          [
           1.1,
           99.9
          ],
          [
           1.4,
           98.3
          ]
         ],
         "hoverlabel": {
          "namelength": 0
         },
         "hovertemplate": "<b>%{hovertext}</b><br><br>Sector=Services<br>Avg money raised pro project, $=%{x}<br># of projects=%{y}<br>Avg investors=%{marker.size}<br>Value over volume=%{customdata[0]}<br>Avg share gathered, %=%{customdata[1]}",
         "hovertext": [
          "Adult Care",
          "Air Conditioning",
          "Auto Repair",
          "Barber Shop",
          "Beauty Salon",
          "Bicycle Repair",
          "Bookbinding",
          "Call Center",
          "Child Care",
          "Cleaning Services",
          "Cobbler",
          "Communications",
          "Computers",
          "Electrician",
          "Electronics Repair",
          "Energy",
          "Event Planning",
          "Hotel",
          "Internet Cafe",
          "Landscaping / Gardening",
          "Laundry",
          "Machinery Rental",
          "Mobile Transactions",
          "Motorcycle Repair",
          "Phone Repair",
          "Photography",
          "Printing",
          "Recycling",
          "Secretarial Services",
          "Services",
          "Sewing",
          "Tailoring",
          "Technology",
          "Tourism",
          "Upholstery",
          "Utilities",
          "Vehicle Repairs",
          "Waste Management",
          "Water Distribution"
         ],
         "legendgroup": "Services",
         "marker": {
          "color": "#00cc96",
          "opacity": 0.6,
          "size": [
           51.5,
           32.2,
           27,
           23,
           23,
           23.6,
           34.9,
           23.2,
           61.4,
           46.8,
           21.4,
           42.1,
           25.6,
           27.1,
           23.4,
           27.5,
           48.2,
           24.7,
           19.8,
           74.2,
           23.2,
           26.3,
           24.6,
           24.3,
           28.7,
           31,
           26.3,
           23.5,
           29.8,
           28.1,
           25.9,
           17.4,
           44.2,
           30.3,
           26.3,
           34.8,
           25.1,
           26.2,
           32.3
          ],
          "sizemode": "area",
          "sizeref": 0.20850000000000002,
          "symbol": "circle"
         },
         "mode": "markers",
         "name": "Services",
         "showlegend": true,
         "type": "scatter",
         "x": [
          1687.5,
          1141.7,
          966.9,
          815.4,
          981.3,
          725.5,
          962.9,
          777,
          2280.3,
          2228.2,
          726,
          2325.9,
          1009.6,
          956.2,
          849.2,
          700.5,
          1435,
          938.7,
          788.2,
          3640.1,
          1026.7,
          882.4,
          727.7,
          833.9,
          1068.3,
          1091.7,
          1075.9,
          786.8,
          989,
          1123.1,
          1041.2,
          616.2,
          2405.9,
          1465.8,
          919.3,
          1192.6,
          976.8,
          835,
          1111.7
         ],
         "xaxis": "x",
         "y": [
          2,
          36,
          1336,
          951,
          6611,
          158,
          29,
          74,
          183,
          145,
          453,
          96,
          376,
          284,
          400,
          190,
          5,
          274,
          986,
          34,
          295,
          131,
          216,
          449,
          119,
          396,
          434,
          358,
          89,
          9807,
          8414,
          9657,
          178,
          187,
          115,
          185,
          615,
          308,
          564
         ],
         "yaxis": "y"
        },
        {
         "customdata": [
          [
           0.6,
           94.6
          ],
          [
           0.6,
           94.7
          ],
          [
           1.3,
           92
          ],
          [
           1,
           94
          ]
         ],
         "hoverlabel": {
          "namelength": 0
         },
         "hovertemplate": "<b>%{hovertext}</b><br><br>Sector=Transportation<br>Avg money raised pro project, $=%{x}<br># of projects=%{y}<br>Avg investors=%{marker.size}<br>Value over volume=%{customdata[0]}<br>Avg share gathered, %=%{customdata[1]}",
         "hovertext": [
          "Motorcycle Transport",
          "Rickshaw",
          "Taxi",
          "Transportation"
         ],
         "legendgroup": "Transportation",
         "marker": {
          "color": "#ab63fa",
          "opacity": 0.6,
          "size": [
           12.9,
           14.8,
           24.7,
           19.8
          ],
          "sizemode": "area",
          "sizeref": 0.20850000000000002,
          "symbol": "circle"
         },
         "mode": "markers",
         "name": "Transportation",
         "showlegend": true,
         "type": "scatter",
         "x": [
          459.2,
          494.2,
          984.4,
          758.6
         ],
         "xaxis": "x",
         "y": [
          5888,
          2878,
          2631,
          4121
         ],
         "yaxis": "y"
        },
        {
         "customdata": [
          [
           2.1,
           98.4
          ],
          [
           1.6,
           98.7
          ]
         ],
         "hoverlabel": {
          "namelength": 0
         },
         "hovertemplate": "<b>%{hovertext}</b><br><br>Sector=Wholesale<br>Avg money raised pro project, $=%{x}<br># of projects=%{y}<br>Avg investors=%{marker.size}<br>Value over volume=%{customdata[0]}<br>Avg share gathered, %=%{customdata[1]}",
         "hovertext": [
          "Goods Distribution",
          "Wholesale"
         ],
         "legendgroup": "Wholesale",
         "marker": {
          "color": "#FFA15A",
          "opacity": 0.6,
          "size": [
           48.1,
           39.7
          ],
          "sizemode": "area",
          "sizeref": 0.20850000000000002,
          "symbol": "circle"
         },
         "mode": "markers",
         "name": "Wholesale",
         "showlegend": true,
         "type": "scatter",
         "x": [
          1670.2,
          1278
         ],
         "xaxis": "x",
         "y": [
          277,
          357
         ],
         "yaxis": "y"
        }
       ],
       "layout": {
        "legend": {
         "itemsizing": "constant",
         "title": {
          "text": "Sector"
         },
         "tracegroupgap": 0
        },
        "template": {
         "data": {
          "bar": [
           {
            "error_x": {
             "color": "#2a3f5f"
            },
            "error_y": {
             "color": "#2a3f5f"
            },
            "marker": {
             "line": {
              "color": "#E5ECF6",
              "width": 0.5
             }
            },
            "type": "bar"
           }
          ],
          "barpolar": [
           {
            "marker": {
             "line": {
              "color": "#E5ECF6",
              "width": 0.5
             }
            },
            "type": "barpolar"
           }
          ],
          "carpet": [
           {
            "aaxis": {
             "endlinecolor": "#2a3f5f",
             "gridcolor": "white",
             "linecolor": "white",
             "minorgridcolor": "white",
             "startlinecolor": "#2a3f5f"
            },
            "baxis": {
             "endlinecolor": "#2a3f5f",
             "gridcolor": "white",
             "linecolor": "white",
             "minorgridcolor": "white",
             "startlinecolor": "#2a3f5f"
            },
            "type": "carpet"
           }
          ],
          "choropleth": [
           {
            "colorbar": {
             "outlinewidth": 0,
             "ticks": ""
            },
            "type": "choropleth"
           }
          ],
          "contour": [
           {
            "colorbar": {
             "outlinewidth": 0,
             "ticks": ""
            },
            "colorscale": [
             [
              0,
              "#0d0887"
             ],
             [
              0.1111111111111111,
              "#46039f"
             ],
             [
              0.2222222222222222,
              "#7201a8"
             ],
             [
              0.3333333333333333,
              "#9c179e"
             ],
             [
              0.4444444444444444,
              "#bd3786"
             ],
             [
              0.5555555555555556,
              "#d8576b"
             ],
             [
              0.6666666666666666,
              "#ed7953"
             ],
             [
              0.7777777777777778,
              "#fb9f3a"
             ],
             [
              0.8888888888888888,
              "#fdca26"
             ],
             [
              1,
              "#f0f921"
             ]
            ],
            "type": "contour"
           }
          ],
          "contourcarpet": [
           {
            "colorbar": {
             "outlinewidth": 0,
             "ticks": ""
            },
            "type": "contourcarpet"
           }
          ],
          "heatmap": [
           {
            "colorbar": {
             "outlinewidth": 0,
             "ticks": ""
            },
            "colorscale": [
             [
              0,
              "#0d0887"
             ],
             [
              0.1111111111111111,
              "#46039f"
             ],
             [
              0.2222222222222222,
              "#7201a8"
             ],
             [
              0.3333333333333333,
              "#9c179e"
             ],
             [
              0.4444444444444444,
              "#bd3786"
             ],
             [
              0.5555555555555556,
              "#d8576b"
             ],
             [
              0.6666666666666666,
              "#ed7953"
             ],
             [
              0.7777777777777778,
              "#fb9f3a"
             ],
             [
              0.8888888888888888,
              "#fdca26"
             ],
             [
              1,
              "#f0f921"
             ]
            ],
            "type": "heatmap"
           }
          ],
          "heatmapgl": [
           {
            "colorbar": {
             "outlinewidth": 0,
             "ticks": ""
            },
            "colorscale": [
             [
              0,
              "#0d0887"
             ],
             [
              0.1111111111111111,
              "#46039f"
             ],
             [
              0.2222222222222222,
              "#7201a8"
             ],
             [
              0.3333333333333333,
              "#9c179e"
             ],
             [
              0.4444444444444444,
              "#bd3786"
             ],
             [
              0.5555555555555556,
              "#d8576b"
             ],
             [
              0.6666666666666666,
              "#ed7953"
             ],
             [
              0.7777777777777778,
              "#fb9f3a"
             ],
             [
              0.8888888888888888,
              "#fdca26"
             ],
             [
              1,
              "#f0f921"
             ]
            ],
            "type": "heatmapgl"
           }
          ],
          "histogram": [
           {
            "marker": {
             "colorbar": {
              "outlinewidth": 0,
              "ticks": ""
             }
            },
            "type": "histogram"
           }
          ],
          "histogram2d": [
           {
            "colorbar": {
             "outlinewidth": 0,
             "ticks": ""
            },
            "colorscale": [
             [
              0,
              "#0d0887"
             ],
             [
              0.1111111111111111,
              "#46039f"
             ],
             [
              0.2222222222222222,
              "#7201a8"
             ],
             [
              0.3333333333333333,
              "#9c179e"
             ],
             [
              0.4444444444444444,
              "#bd3786"
             ],
             [
              0.5555555555555556,
              "#d8576b"
             ],
             [
              0.6666666666666666,
              "#ed7953"
             ],
             [
              0.7777777777777778,
              "#fb9f3a"
             ],
             [
              0.8888888888888888,
              "#fdca26"
             ],
             [
              1,
              "#f0f921"
             ]
            ],
            "type": "histogram2d"
           }
          ],
          "histogram2dcontour": [
           {
            "colorbar": {
             "outlinewidth": 0,
             "ticks": ""
            },
            "colorscale": [
             [
              0,
              "#0d0887"
             ],
             [
              0.1111111111111111,
              "#46039f"
             ],
             [
              0.2222222222222222,
              "#7201a8"
             ],
             [
              0.3333333333333333,
              "#9c179e"
             ],
             [
              0.4444444444444444,
              "#bd3786"
             ],
             [
              0.5555555555555556,
              "#d8576b"
             ],
             [
              0.6666666666666666,
              "#ed7953"
             ],
             [
              0.7777777777777778,
              "#fb9f3a"
             ],
             [
              0.8888888888888888,
              "#fdca26"
             ],
             [
              1,
              "#f0f921"
             ]
            ],
            "type": "histogram2dcontour"
           }
          ],
          "mesh3d": [
           {
            "colorbar": {
             "outlinewidth": 0,
             "ticks": ""
            },
            "type": "mesh3d"
           }
          ],
          "parcoords": [
           {
            "line": {
             "colorbar": {
              "outlinewidth": 0,
              "ticks": ""
             }
            },
            "type": "parcoords"
           }
          ],
          "pie": [
           {
            "automargin": true,
            "type": "pie"
           }
          ],
          "scatter": [
           {
            "marker": {
             "colorbar": {
              "outlinewidth": 0,
              "ticks": ""
             }
            },
            "type": "scatter"
           }
          ],
          "scatter3d": [
           {
            "line": {
             "colorbar": {
              "outlinewidth": 0,
              "ticks": ""
             }
            },
            "marker": {
             "colorbar": {
              "outlinewidth": 0,
              "ticks": ""
             }
            },
            "type": "scatter3d"
           }
          ],
          "scattercarpet": [
           {
            "marker": {
             "colorbar": {
              "outlinewidth": 0,
              "ticks": ""
             }
            },
            "type": "scattercarpet"
           }
          ],
          "scattergeo": [
           {
            "marker": {
             "colorbar": {
              "outlinewidth": 0,
              "ticks": ""
             }
            },
            "type": "scattergeo"
           }
          ],
          "scattergl": [
           {
            "marker": {
             "colorbar": {
              "outlinewidth": 0,
              "ticks": ""
             }
            },
            "type": "scattergl"
           }
          ],
          "scattermapbox": [
           {
            "marker": {
             "colorbar": {
              "outlinewidth": 0,
              "ticks": ""
             }
            },
            "type": "scattermapbox"
           }
          ],
          "scatterpolar": [
           {
            "marker": {
             "colorbar": {
              "outlinewidth": 0,
              "ticks": ""
             }
            },
            "type": "scatterpolar"
           }
          ],
          "scatterpolargl": [
           {
            "marker": {
             "colorbar": {
              "outlinewidth": 0,
              "ticks": ""
             }
            },
            "type": "scatterpolargl"
           }
          ],
          "scatterternary": [
           {
            "marker": {
             "colorbar": {
              "outlinewidth": 0,
              "ticks": ""
             }
            },
            "type": "scatterternary"
           }
          ],
          "surface": [
           {
            "colorbar": {
             "outlinewidth": 0,
             "ticks": ""
            },
            "colorscale": [
             [
              0,
              "#0d0887"
             ],
             [
              0.1111111111111111,
              "#46039f"
             ],
             [
              0.2222222222222222,
              "#7201a8"
             ],
             [
              0.3333333333333333,
              "#9c179e"
             ],
             [
              0.4444444444444444,
              "#bd3786"
             ],
             [
              0.5555555555555556,
              "#d8576b"
             ],
             [
              0.6666666666666666,
              "#ed7953"
             ],
             [
              0.7777777777777778,
              "#fb9f3a"
             ],
             [
              0.8888888888888888,
              "#fdca26"
             ],
             [
              1,
              "#f0f921"
             ]
            ],
            "type": "surface"
           }
          ],
          "table": [
           {
            "cells": {
             "fill": {
              "color": "#EBF0F8"
             },
             "line": {
              "color": "white"
             }
            },
            "header": {
             "fill": {
              "color": "#C8D4E3"
             },
             "line": {
              "color": "white"
             }
            },
            "type": "table"
           }
          ]
         },
         "layout": {
          "annotationdefaults": {
           "arrowcolor": "#2a3f5f",
           "arrowhead": 0,
           "arrowwidth": 1
          },
          "coloraxis": {
           "colorbar": {
            "outlinewidth": 0,
            "ticks": ""
           }
          },
          "colorscale": {
           "diverging": [
            [
             0,
             "#8e0152"
            ],
            [
             0.1,
             "#c51b7d"
            ],
            [
             0.2,
             "#de77ae"
            ],
            [
             0.3,
             "#f1b6da"
            ],
            [
             0.4,
             "#fde0ef"
            ],
            [
             0.5,
             "#f7f7f7"
            ],
            [
             0.6,
             "#e6f5d0"
            ],
            [
             0.7,
             "#b8e186"
            ],
            [
             0.8,
             "#7fbc41"
            ],
            [
             0.9,
             "#4d9221"
            ],
            [
             1,
             "#276419"
            ]
           ],
           "sequential": [
            [
             0,
             "#0d0887"
            ],
            [
             0.1111111111111111,
             "#46039f"
            ],
            [
             0.2222222222222222,
             "#7201a8"
            ],
            [
             0.3333333333333333,
             "#9c179e"
            ],
            [
             0.4444444444444444,
             "#bd3786"
            ],
            [
             0.5555555555555556,
             "#d8576b"
            ],
            [
             0.6666666666666666,
             "#ed7953"
            ],
            [
             0.7777777777777778,
             "#fb9f3a"
            ],
            [
             0.8888888888888888,
             "#fdca26"
            ],
            [
             1,
             "#f0f921"
            ]
           ],
           "sequentialminus": [
            [
             0,
             "#0d0887"
            ],
            [
             0.1111111111111111,
             "#46039f"
            ],
            [
             0.2222222222222222,
             "#7201a8"
            ],
            [
             0.3333333333333333,
             "#9c179e"
            ],
            [
             0.4444444444444444,
             "#bd3786"
            ],
            [
             0.5555555555555556,
             "#d8576b"
            ],
            [
             0.6666666666666666,
             "#ed7953"
            ],
            [
             0.7777777777777778,
             "#fb9f3a"
            ],
            [
             0.8888888888888888,
             "#fdca26"
            ],
            [
             1,
             "#f0f921"
            ]
           ]
          },
          "colorway": [
           "#636efa",
           "#EF553B",
           "#00cc96",
           "#ab63fa",
           "#FFA15A",
           "#19d3f3",
           "#FF6692",
           "#B6E880",
           "#FF97FF",
           "#FECB52"
          ],
          "font": {
           "color": "#2a3f5f"
          },
          "geo": {
           "bgcolor": "white",
           "lakecolor": "white",
           "landcolor": "#E5ECF6",
           "showlakes": true,
           "showland": true,
           "subunitcolor": "white"
          },
          "hoverlabel": {
           "align": "left"
          },
          "hovermode": "closest",
          "mapbox": {
           "style": "light"
          },
          "paper_bgcolor": "white",
          "plot_bgcolor": "#E5ECF6",
          "polar": {
           "angularaxis": {
            "gridcolor": "white",
            "linecolor": "white",
            "ticks": ""
           },
           "bgcolor": "#E5ECF6",
           "radialaxis": {
            "gridcolor": "white",
            "linecolor": "white",
            "ticks": ""
           }
          },
          "scene": {
           "xaxis": {
            "backgroundcolor": "#E5ECF6",
            "gridcolor": "white",
            "gridwidth": 2,
            "linecolor": "white",
            "showbackground": true,
            "ticks": "",
            "zerolinecolor": "white"
           },
           "yaxis": {
            "backgroundcolor": "#E5ECF6",
            "gridcolor": "white",
            "gridwidth": 2,
            "linecolor": "white",
            "showbackground": true,
            "ticks": "",
            "zerolinecolor": "white"
           },
           "zaxis": {
            "backgroundcolor": "#E5ECF6",
            "gridcolor": "white",
            "gridwidth": 2,
            "linecolor": "white",
            "showbackground": true,
            "ticks": "",
            "zerolinecolor": "white"
           }
          },
          "shapedefaults": {
           "line": {
            "color": "#2a3f5f"
           }
          },
          "ternary": {
           "aaxis": {
            "gridcolor": "white",
            "linecolor": "white",
            "ticks": ""
           },
           "baxis": {
            "gridcolor": "white",
            "linecolor": "white",
            "ticks": ""
           },
           "bgcolor": "#E5ECF6",
           "caxis": {
            "gridcolor": "white",
            "linecolor": "white",
            "ticks": ""
           }
          },
          "title": {
           "x": 0.05
          },
          "xaxis": {
           "automargin": true,
           "gridcolor": "white",
           "linecolor": "white",
           "ticks": "",
           "title": {
            "standoff": 15
           },
           "zerolinecolor": "white",
           "zerolinewidth": 2
          },
          "yaxis": {
           "automargin": true,
           "gridcolor": "white",
           "linecolor": "white",
           "ticks": "",
           "title": {
            "standoff": 15
           },
           "zerolinecolor": "white",
           "zerolinewidth": 2
          }
         }
        },
        "title": {
         "text": "Activities: projects' prevalence vs. expensiveness"
        },
        "xaxis": {
         "anchor": "y",
         "domain": [
          0,
          1
         ],
         "title": {
          "text": "Avg money raised pro project, $"
         }
        },
        "yaxis": {
         "anchor": "x",
         "domain": [
          0,
          1
         ],
         "title": {
          "text": "# of projects"
         }
        }
       }
      },
      "text/html": [
       "<div>\n",
       "        \n",
       "        \n",
       "            <div id=\"8e3046d2-82c2-403f-a0c4-38331af73b18\" class=\"plotly-graph-div\" style=\"height:525px; width:100%;\"></div>\n",
       "            <script type=\"text/javascript\">\n",
       "                require([\"plotly\"], function(Plotly) {\n",
       "                    window.PLOTLYENV=window.PLOTLYENV || {};\n",
       "                    \n",
       "                if (document.getElementById(\"8e3046d2-82c2-403f-a0c4-38331af73b18\")) {\n",
       "                    Plotly.newPlot(\n",
       "                        '8e3046d2-82c2-403f-a0c4-38331af73b18',\n",
       "                        [{\"customdata\": [[1.2, 95.3], [1.4, 96.7], [0.8, 93.2], [1.8, 96.8], [1.2, 93.1], [0.8, 97.3], [0.9, 94.1], [0.8, 95.0], [1.0, 97.0], [1.0, 96.0], [1.3, 94.7], [0.6, 98.7], [1.0, 97.3], [1.0, 98.7]], \"hoverlabel\": {\"namelength\": 0}, \"hovertemplate\": \"<b>%{hovertext}</b><br><br>Sector=Agriculture<br>Avg money raised pro project, $=%{x}<br># of projects=%{y}<br>Avg investors=%{marker.size}<br>Value over volume=%{customdata[0]}<br>Avg share gathered, %=%{customdata[1]}\", \"hovertext\": [\"Agriculture\", \"Animal Sales\", \"Aquaculture\", \"Beekeeping\", \"Cattle\", \"Dairy\", \"Farm Supplies\", \"Farming\", \"Flowers\", \"Land Rental\", \"Livestock\", \"Pigs\", \"Poultry\", \"Veterinary Sales\"], \"legendgroup\": \"Agriculture\", \"marker\": {\"color\": \"#636efa\", \"opacity\": 0.6, \"size\": [26.9, 27.7, 19.2, 42.8, 26.0, 19.1, 21.0, 19.0, 21.3, 24.3, 29.9, 12.5, 24.0, 21.7], \"sizemode\": \"area\", \"sizeref\": 0.20850000000000002, \"symbol\": \"circle\"}, \"mode\": \"markers\", \"name\": \"Agriculture\", \"showlegend\": true, \"type\": \"scatter\", \"x\": [944.8, 1080.0, 660.2, 1423.0, 924.8, 630.5, 724.8, 656.6, 804.2, 769.3, 1046.1, 455.6, 812.4, 779.2], \"xaxis\": \"x\", \"y\": [27023.0, 9237.0, 108.0, 50.0, 7865.0, 7914.0, 4352.0, 72955.0, 821.0, 277.0, 13095.0, 26624.0, 9783.0, 198.0], \"yaxis\": \"y\"}, {\"customdata\": [[1.3, 97.5], [1.5, 98.2], [0.8, 97.7], [2.7, 100.0], [1.7, 99.9], [1.6, 100.0], [0.8, 100.0], [1.8, 99.7], [0.9, 99.9]], \"hoverlabel\": {\"namelength\": 0}, \"hovertemplate\": \"<b>%{hovertext}</b><br><br>Sector=Arts<br>Avg money raised pro project, $=%{x}<br># of projects=%{y}<br>Avg investors=%{marker.size}<br>Value over volume=%{customdata[0]}<br>Avg share gathered, %=%{customdata[1]}\", \"hovertext\": [\"Arts\", \"Crafts\", \"Embroidery\", \"Film\", \"Knitting\", \"Musical Instruments\", \"Patchwork\", \"Textiles\", \"Weaving\"], \"legendgroup\": \"Arts\", \"marker\": {\"color\": \"#EF553B\", \"opacity\": 0.6, \"size\": [26.2, 30.4, 19.5, 62.7, 35.5, 42.1, 21.7, 42.0, 22.0], \"sizemode\": \"area\", \"sizeref\": 0.20850000000000002, \"symbol\": \"circle\"}, \"mode\": \"markers\", \"name\": \"Arts\", \"showlegend\": true, \"type\": \"scatter\", \"x\": [1008.2, 1182.7, 665.9, 2092.3, 1334.1, 1254.7, 643.2, 1406.0, 737.6], \"xaxis\": \"x\", \"y\": [1092.0, 4084.0, 2380.0, 13.0, 416.0, 69.0, 22.0, 1023.0, 2961.0], \"yaxis\": \"y\"}, {\"customdata\": [[1.7, 95.2], [1.3, 94.7], [1.1, 96.9], [2.4, 98.0]], \"hoverlabel\": {\"namelength\": 0}, \"hovertemplate\": \"<b>%{hovertext}</b><br><br>Sector=Clothing<br>Avg money raised pro project, $=%{x}<br># of projects=%{y}<br>Avg investors=%{marker.size}<br>Value over volume=%{customdata[0]}<br>Avg share gathered, %=%{customdata[1]}\", \"hovertext\": [\"Clothing\", \"Clothing Sales\", \"Used Clothing\", \"Used Shoes\"], \"legendgroup\": \"Clothing\", \"marker\": {\"color\": \"#00cc96\", \"opacity\": 0.6, \"size\": [27.1, 24.4, 21.9, 35.0], \"sizemode\": \"area\", \"sizeref\": 0.20850000000000002, \"symbol\": \"circle\"}, \"mode\": \"markers\", \"name\": \"Clothing\", \"showlegend\": true, \"type\": \"scatter\", \"x\": [1330.0, 1010.3, 900.3, 1851.6], \"xaxis\": \"x\", \"y\": [5014.0, 22339.0, 4637.0, 752.0], \"yaxis\": \"y\"}, {\"customdata\": [[1.2, 99.0], [1.2, 99.3], [1.8, 97.8], [1.3, 94.5], [1.4, 97.6], [1.0, 99.4], [0.9, 99.2], [1.6, 100.0]], \"hoverlabel\": {\"namelength\": 0}, \"hovertemplate\": \"<b>%{hovertext}</b><br><br>Sector=Construction<br>Avg money raised pro project, $=%{x}<br># of projects=%{y}<br>Avg investors=%{marker.size}<br>Value over volume=%{customdata[0]}<br>Avg share gathered, %=%{customdata[1]}\", \"hovertext\": [\"Bricks\", \"Carpentry\", \"Cement\", \"Construction\", \"Construction Supplies\", \"Quarrying\", \"Timber Sales\", \"Well digging\"], \"legendgroup\": \"Construction\", \"marker\": {\"color\": \"#ab63fa\", \"opacity\": 0.6, \"size\": [23.7, 26.3, 37.8, 28.4, 29.6, 22.3, 20.4, 39.6], \"sizemode\": \"area\", \"sizeref\": 0.20850000000000002, \"symbol\": \"circle\"}, \"mode\": \"markers\", \"name\": \"Construction\", \"showlegend\": true, \"type\": \"scatter\", \"x\": [904.2, 956.2, 1421.2, 1012.7, 1107.5, 769.5, 713.5, 1221.4], \"xaxis\": \"x\", \"y\": [512.0, 754.0, 152.0, 2145.0, 2003.0, 158.0, 502.0, 42.0], \"yaxis\": \"y\"}, {\"customdata\": [[1.2, 97.5], [1.6, 97.8], [1.2, 98.6], [1.0, 98.9]], \"hoverlabel\": {\"namelength\": 0}, \"hovertemplate\": \"<b>%{hovertext}</b><br><br>Sector=Education<br>Avg money raised pro project, $=%{x}<br># of projects=%{y}<br>Avg investors=%{marker.size}<br>Value over volume=%{customdata[0]}<br>Avg share gathered, %=%{customdata[1]}\", \"hovertext\": [\"Computer\", \"Education provider\", \"Higher education costs\", \"Primary/secondary school costs\"], \"legendgroup\": \"Education\", \"marker\": {\"color\": \"#FFA15A\", \"opacity\": 0.6, \"size\": [27.6, 36.9, 30.1, 22.2], \"sizemode\": \"area\", \"sizeref\": 0.20850000000000002, \"symbol\": \"circle\"}, \"mode\": \"markers\", \"name\": \"Education\", \"showlegend\": true, \"type\": \"scatter\", \"x\": [955.6, 1276.6, 963.0, 786.8], \"xaxis\": \"x\", \"y\": [54.0, 4401.0, 19742.0, 6816.0], \"yaxis\": \"y\"}, {\"customdata\": [[1.8, 79.8], [1.1, 98.4], [1.5, 100.0]], \"hoverlabel\": {\"namelength\": 0}, \"hovertemplate\": \"<b>%{hovertext}</b><br><br>Sector=Entertainment<br>Avg money raised pro project, $=%{x}<br># of projects=%{y}<br>Avg investors=%{marker.size}<br>Value over volume=%{customdata[0]}<br>Avg share gathered, %=%{customdata[1]}\", \"hovertext\": [\"Entertainment\", \"Games\", \"Musical Performance\"], \"legendgroup\": \"Entertainment\", \"marker\": {\"color\": \"#19d3f3\", \"opacity\": 0.6, \"size\": [33.9, 27.5, 32.2], \"sizemode\": \"area\", \"sizeref\": 0.20850000000000002, \"symbol\": \"circle\"}, \"mode\": \"markers\", \"name\": \"Entertainment\", \"showlegend\": true, \"type\": \"scatter\", \"x\": [1453.5, 874.4, 1148.2], \"xaxis\": \"x\", \"y\": [443.0, 238.0, 149.0], \"yaxis\": \"y\"}, {\"customdata\": [[1.4, 97.1], [0.5, 100.0], [1.3, 94.8], [1.2, 93.8], [1.3, 94.4], [1.4, 97.1], [0.8, 95.9], [1.5, 98.3], [0.7, 98.0], [0.6, 98.6], [1.2, 96.9], [1.3, 96.6], [1.1, 96.6], [1.2, 97.2], [1.0, 97.5], [1.2, 95.6], [1.3, 97.0], [0.9, 97.8], [1.2, 92.2], [1.7, 94.6]], \"hoverlabel\": {\"namelength\": 0}, \"hovertemplate\": \"<b>%{hovertext}</b><br><br>Sector=Food<br>Avg money raised pro project, $=%{x}<br># of projects=%{y}<br>Avg investors=%{marker.size}<br>Value over volume=%{customdata[0]}<br>Avg share gathered, %=%{customdata[1]}\", \"hovertext\": [\"Bakery\", \"Balut-Making\", \"Beverages\", \"Butcher Shop\", \"Cafe\", \"Catering\", \"Cereals\", \"Cheese Making\", \"Fish Selling\", \"Fishing\", \"Food\", \"Food Market\", \"Food Production/Sales\", \"Food Stall\", \"Fruits & Vegetables\", \"Grocery Store\", \"Liquor Store / Off-License\", \"Milk Sales\", \"Pub\", \"Restaurant\"], \"legendgroup\": \"Food\", \"marker\": {\"color\": \"#FF6692\", \"opacity\": 0.6, \"size\": [29.3, 11.7, 23.0, 23.2, 26.8, 27.4, 15.2, 34.6, 13.1, 12.1, 20.0, 24.3, 20.0, 23.2, 18.8, 22.9, 20.6, 18.5, 23.9, 27.6], \"sizemode\": \"area\", \"sizeref\": 0.20850000000000002, \"symbol\": \"circle\"}, \"mode\": \"markers\", \"name\": \"Food\", \"showlegend\": true, \"type\": \"scatter\", \"x\": [1086.2, 398.0, 992.4, 939.9, 984.2, 1063.6, 617.6, 1161.5, 548.4, 446.6, 970.7, 1004.5, 865.5, 979.4, 794.9, 946.9, 985.2, 721.4, 973.8, 1338.2], \"xaxis\": \"x\", \"y\": [3620.0, 61.0, 2357.0, 1968.0, 1404.0, 653.0, 7898.0, 347.0, 13060.0, 10066.0, 10197.0, 7091.0, 28106.0, 8905.0, 16610.0, 15102.0, 1558.0, 1771.0, 902.0, 4981.0], \"yaxis\": \"y\"}, {\"customdata\": [[1.5, 96.5], [1.9, 97.1], [1.5, 99.6], [1.7, 99.4], [1.0, 94.3], [1.6, 99.9]], \"hoverlabel\": {\"namelength\": 0}, \"hovertemplate\": \"<b>%{hovertext}</b><br><br>Sector=Health<br>Avg money raised pro project, $=%{x}<br># of projects=%{y}<br>Avg investors=%{marker.size}<br>Value over volume=%{customdata[0]}<br>Avg share gathered, %=%{customdata[1]}\", \"hovertext\": [\"Dental\", \"Health\", \"Medical Clinic\", \"Natural Medicines\", \"Personal Medical Expenses\", \"Pharmacy\"], \"legendgroup\": \"Health\", \"marker\": {\"color\": \"#B6E880\", \"opacity\": 0.6, \"size\": [33.9, 44.2, 36.9, 24.2, 24.5, 36.1], \"sizemode\": \"area\", \"sizeref\": 0.20850000000000002, \"symbol\": \"circle\"}, \"mode\": \"markers\", \"name\": \"Health\", \"showlegend\": true, \"type\": \"scatter\", \"x\": [1169.8, 1457.3, 1170.9, 1341.2, 772.9, 1259.1], \"xaxis\": \"x\", \"y\": [290.0, 1235.0, 323.0, 814.0, 5549.0, 1012.0], \"yaxis\": \"y\"}, {\"customdata\": [[0.8, 94.0], [1.2, 94.3]], \"hoverlabel\": {\"namelength\": 0}, \"hovertemplate\": \"<b>%{hovertext}</b><br><br>Sector=Housing<br>Avg money raised pro project, $=%{x}<br># of projects=%{y}<br>Avg investors=%{marker.size}<br>Value over volume=%{customdata[0]}<br>Avg share gathered, %=%{customdata[1]}\", \"hovertext\": [\"Personal Housing Expenses\", \"Property\"], \"legendgroup\": \"Housing\", \"marker\": {\"color\": \"#FF97FF\", \"opacity\": 0.6, \"size\": [19.0, 26.0], \"sizemode\": \"area\", \"sizeref\": 0.20850000000000002, \"symbol\": \"circle\"}, \"mode\": \"markers\", \"name\": \"Housing\", \"showlegend\": true, \"type\": \"scatter\", \"x\": [621.5, 943.6], \"xaxis\": \"x\", \"y\": [32448.0, 1283.0], \"yaxis\": \"y\"}, {\"customdata\": [[1.1, 99.5], [1.2, 99.3], [1.0, 100.0], [1.0, 99.7], [1.2, 99.3], [0.7, 100.0]], \"hoverlabel\": {\"namelength\": 0}, \"hovertemplate\": \"<b>%{hovertext}</b><br><br>Sector=Manufacturing<br>Avg money raised pro project, $=%{x}<br># of projects=%{y}<br>Avg investors=%{marker.size}<br>Value over volume=%{customdata[0]}<br>Avg share gathered, %=%{customdata[1]}\", \"hovertext\": [\"Blacksmith\", \"Furniture Making\", \"Machine Shop\", \"Manufacturing\", \"Metal Shop\", \"Personal Care Products\"], \"legendgroup\": \"Manufacturing\", \"marker\": {\"color\": \"#FECB52\", \"opacity\": 0.6, \"size\": [24.4, 25.5, 25.9, 23.4, 27.8, 20.1], \"sizemode\": \"area\", \"sizeref\": 0.20850000000000002, \"symbol\": \"circle\"}, \"mode\": \"markers\", \"name\": \"Manufacturing\", \"showlegend\": true, \"type\": \"scatter\", \"x\": [847.8, 919.1, 820.3, 804.8, 923.4, 514.3], \"xaxis\": \"x\", \"y\": [444.0, 2051.0, 165.0, 2643.0, 898.0, 7.0], \"yaxis\": \"y\"}, {\"customdata\": [[0.4, 100.0], [1.0, 95.3], [1.1, 100.0], [0.3, 99.3], [0.7, 98.9], [0.5, 94.3], [1.2, 91.3], [1.0, 86.2]], \"hoverlabel\": {\"namelength\": 0}, \"hovertemplate\": \"<b>%{hovertext}</b><br><br>Sector=Personal Use<br>Avg money raised pro project, $=%{x}<br># of projects=%{y}<br>Avg investors=%{marker.size}<br>Value over volume=%{customdata[0]}<br>Avg share gathered, %=%{customdata[1]}\", \"hovertext\": [\"Celebrations\", \"Consumer Goods\", \"Funerals\", \"Home Appliances\", \"Home Energy\", \"Personal Expenses\", \"Vehicle\", \"Wedding Expenses\"], \"legendgroup\": \"Personal Use\", \"marker\": {\"color\": \"#636efa\", \"opacity\": 0.6, \"size\": [10.0, 17.3, 29.8, 8.3, 17.5, 11.9, 27.9, 23.0], \"sizemode\": \"area\", \"sizeref\": 0.20850000000000002, \"symbol\": \"circle\"}, \"mode\": \"markers\", \"name\": \"Personal Use\", \"showlegend\": true, \"type\": \"scatter\", \"x\": [280.0, 800.9, 835.4, 266.1, 563.1, 411.0, 946.0, 800.0], \"xaxis\": \"x\", \"y\": [5.0, 613.0, 41.0, 20267.0, 7141.0, 6656.0, 1257.0, 405.0], \"yaxis\": \"y\"}, {\"customdata\": [[1.3, 100.0], [1.8, 98.0], [0.7, 97.7], [0.9, 96.5], [1.4, 92.9], [1.5, 94.8], [1.5, 93.5], [1.2, 88.9], [2.3, 92.1], [0.8, 96.7], [0.7, 96.3], [1.4, 92.7], [1.2, 95.3], [1.3, 94.9], [1.3, 92.3], [1.1, 97.8], [1.4, 98.0], [1.3, 97.1], [1.3, 94.4], [1.4, 98.0], [2.2, 95.8], [0.7, 94.7], [1.1, 91.7], [0.8, 88.3], [1.1, 95.5], [1.0, 98.1], [0.9, 100.0], [3.9, 99.6], [1.2, 94.8], [1.3, 93.9], [1.2, 97.2], [1.2, 91.6], [1.0, 98.7], [0.9, 95.8]], \"hoverlabel\": {\"namelength\": 0}, \"hovertemplate\": \"<b>%{hovertext}</b><br><br>Sector=Retail<br>Avg money raised pro project, $=%{x}<br># of projects=%{y}<br>Avg investors=%{marker.size}<br>Value over volume=%{customdata[0]}<br>Avg share gathered, %=%{customdata[1]}\", \"hovertext\": [\"Bicycle Sales\", \"Bookstore\", \"Charcoal Sales\", \"Cloth & Dressmaking Supplies\", \"Cosmetics Sales\", \"Decorations Sales\", \"Electrical Goods\", \"Electronics Sales\", \"Florist\", \"Fuel/Firewood\", \"General Store\", \"Hardware\", \"Home Products Sales\", \"Jewelry\", \"Mobile Phones\", \"Movie Tapes & DVDs\", \"Music Discs & Tapes\", \"Office Supplies\", \"Paper Sales\", \"Party Supplies\", \"Perfumes\", \"Personal Products Sales\", \"Phone Accessories\", \"Phone Use Sales\", \"Plastics Sales\", \"Recycled Materials\", \"Religious Articles\", \"Renewable Energy Products\", \"Retail\", \"Shoe Sales\", \"Souvenir Sales\", \"Spare Parts\", \"Sporting Good Sales\", \"Traveling Sales\"], \"legendgroup\": \"Retail\", \"marker\": {\"color\": \"#EF553B\", \"opacity\": 0.6, \"size\": [32.4, 33.7, 13.2, 21.1, 24.0, 29.6, 32.0, 25.9, 39.9, 16.0, 13.3, 24.3, 23.9, 20.4, 27.3, 22.2, 29.6, 26.8, 27.2, 31.6, 25.5, 14.0, 22.7, 18.1, 21.5, 19.4, 21.1, 83.4, 21.6, 23.4, 25.2, 22.8, 24.5, 20.3], \"sizemode\": \"area\", \"sizeref\": 0.20850000000000002, \"symbol\": \"circle\"}, \"mode\": \"markers\", \"name\": \"Retail\", \"showlegend\": true, \"type\": \"scatter\", \"x\": [1031.0, 1435.0, 554.2, 746.3, 1130.0, 1140.6, 1176.3, 974.4, 1829.6, 605.6, 549.3, 1074.1, 955.2, 995.7, 1026.6, 854.1, 1097.2, 1014.7, 995.7, 1129.5, 1700.4, 545.1, 863.8, 622.3, 858.0, 793.1, 684.9, 3074.7, 965.3, 983.2, 938.5, 937.0, 778.2, 702.8], \"xaxis\": \"x\", \"y\": [54.0, 442.0, 4421.0, 2071.0, 4740.0, 385.0, 409.0, 546.0, 65.0, 1925.0, 64729.0, 953.0, 3817.0, 1371.0, 657.0, 135.0, 81.0, 362.0, 289.0, 110.0, 328.0, 3866.0, 486.0, 1019.0, 568.0, 819.0, 68.0, 585.0, 24771.0, 2760.0, 180.0, 1260.0, 78.0, 144.0], \"yaxis\": \"y\"}, {\"customdata\": [[2.1, 100.0], [1.5, 98.8], [1.2, 92.1], [1.0, 93.1], [1.2, 94.6], [0.9, 100.0], [1.2, 100.0], [1.0, 100.0], [2.9, 86.1], [2.8, 70.7], [0.9, 97.9], [3.0, 62.4], [1.3, 98.5], [1.2, 95.1], [1.1, 95.1], [0.9, 95.1], [1.8, 100.0], [1.2, 94.7], [1.0, 97.7], [4.6, 81.1], [1.3, 98.2], [1.1, 99.3], [0.9, 83.5], [1.1, 95.6], [1.4, 97.2], [1.4, 96.2], [1.4, 95.9], [1.0, 98.2], [1.3, 100.0], [1.4, 90.8], [1.3, 98.2], [0.8, 96.8], [3.1, 47.0], [1.9, 93.1], [1.2, 98.6], [1.5, 97.0], [1.2, 92.0], [1.1, 99.9], [1.4, 98.3]], \"hoverlabel\": {\"namelength\": 0}, \"hovertemplate\": \"<b>%{hovertext}</b><br><br>Sector=Services<br>Avg money raised pro project, $=%{x}<br># of projects=%{y}<br>Avg investors=%{marker.size}<br>Value over volume=%{customdata[0]}<br>Avg share gathered, %=%{customdata[1]}\", \"hovertext\": [\"Adult Care\", \"Air Conditioning\", \"Auto Repair\", \"Barber Shop\", \"Beauty Salon\", \"Bicycle Repair\", \"Bookbinding\", \"Call Center\", \"Child Care\", \"Cleaning Services\", \"Cobbler\", \"Communications\", \"Computers\", \"Electrician\", \"Electronics Repair\", \"Energy\", \"Event Planning\", \"Hotel\", \"Internet Cafe\", \"Landscaping / Gardening\", \"Laundry\", \"Machinery Rental\", \"Mobile Transactions\", \"Motorcycle Repair\", \"Phone Repair\", \"Photography\", \"Printing\", \"Recycling\", \"Secretarial Services\", \"Services\", \"Sewing\", \"Tailoring\", \"Technology\", \"Tourism\", \"Upholstery\", \"Utilities\", \"Vehicle Repairs\", \"Waste Management\", \"Water Distribution\"], \"legendgroup\": \"Services\", \"marker\": {\"color\": \"#00cc96\", \"opacity\": 0.6, \"size\": [51.5, 32.2, 27.0, 23.0, 23.0, 23.6, 34.9, 23.2, 61.4, 46.8, 21.4, 42.1, 25.6, 27.1, 23.4, 27.5, 48.2, 24.7, 19.8, 74.2, 23.2, 26.3, 24.6, 24.3, 28.7, 31.0, 26.3, 23.5, 29.8, 28.1, 25.9, 17.4, 44.2, 30.3, 26.3, 34.8, 25.1, 26.2, 32.3], \"sizemode\": \"area\", \"sizeref\": 0.20850000000000002, \"symbol\": \"circle\"}, \"mode\": \"markers\", \"name\": \"Services\", \"showlegend\": true, \"type\": \"scatter\", \"x\": [1687.5, 1141.7, 966.9, 815.4, 981.3, 725.5, 962.9, 777.0, 2280.3, 2228.2, 726.0, 2325.9, 1009.6, 956.2, 849.2, 700.5, 1435.0, 938.7, 788.2, 3640.1, 1026.7, 882.4, 727.7, 833.9, 1068.3, 1091.7, 1075.9, 786.8, 989.0, 1123.1, 1041.2, 616.2, 2405.9, 1465.8, 919.3, 1192.6, 976.8, 835.0, 1111.7], \"xaxis\": \"x\", \"y\": [2.0, 36.0, 1336.0, 951.0, 6611.0, 158.0, 29.0, 74.0, 183.0, 145.0, 453.0, 96.0, 376.0, 284.0, 400.0, 190.0, 5.0, 274.0, 986.0, 34.0, 295.0, 131.0, 216.0, 449.0, 119.0, 396.0, 434.0, 358.0, 89.0, 9807.0, 8414.0, 9657.0, 178.0, 187.0, 115.0, 185.0, 615.0, 308.0, 564.0], \"yaxis\": \"y\"}, {\"customdata\": [[0.6, 94.6], [0.6, 94.7], [1.3, 92.0], [1.0, 94.0]], \"hoverlabel\": {\"namelength\": 0}, \"hovertemplate\": \"<b>%{hovertext}</b><br><br>Sector=Transportation<br>Avg money raised pro project, $=%{x}<br># of projects=%{y}<br>Avg investors=%{marker.size}<br>Value over volume=%{customdata[0]}<br>Avg share gathered, %=%{customdata[1]}\", \"hovertext\": [\"Motorcycle Transport\", \"Rickshaw\", \"Taxi\", \"Transportation\"], \"legendgroup\": \"Transportation\", \"marker\": {\"color\": \"#ab63fa\", \"opacity\": 0.6, \"size\": [12.9, 14.8, 24.7, 19.8], \"sizemode\": \"area\", \"sizeref\": 0.20850000000000002, \"symbol\": \"circle\"}, \"mode\": \"markers\", \"name\": \"Transportation\", \"showlegend\": true, \"type\": \"scatter\", \"x\": [459.2, 494.2, 984.4, 758.6], \"xaxis\": \"x\", \"y\": [5888.0, 2878.0, 2631.0, 4121.0], \"yaxis\": \"y\"}, {\"customdata\": [[2.1, 98.4], [1.6, 98.7]], \"hoverlabel\": {\"namelength\": 0}, \"hovertemplate\": \"<b>%{hovertext}</b><br><br>Sector=Wholesale<br>Avg money raised pro project, $=%{x}<br># of projects=%{y}<br>Avg investors=%{marker.size}<br>Value over volume=%{customdata[0]}<br>Avg share gathered, %=%{customdata[1]}\", \"hovertext\": [\"Goods Distribution\", \"Wholesale\"], \"legendgroup\": \"Wholesale\", \"marker\": {\"color\": \"#FFA15A\", \"opacity\": 0.6, \"size\": [48.1, 39.7], \"sizemode\": \"area\", \"sizeref\": 0.20850000000000002, \"symbol\": \"circle\"}, \"mode\": \"markers\", \"name\": \"Wholesale\", \"showlegend\": true, \"type\": \"scatter\", \"x\": [1670.2, 1278.0], \"xaxis\": \"x\", \"y\": [277.0, 357.0], \"yaxis\": \"y\"}],\n",
       "                        {\"legend\": {\"itemsizing\": \"constant\", \"title\": {\"text\": \"Sector\"}, \"tracegroupgap\": 0}, \"template\": {\"data\": {\"bar\": [{\"error_x\": {\"color\": \"#2a3f5f\"}, \"error_y\": {\"color\": \"#2a3f5f\"}, \"marker\": {\"line\": {\"color\": \"#E5ECF6\", \"width\": 0.5}}, \"type\": \"bar\"}], \"barpolar\": [{\"marker\": {\"line\": {\"color\": \"#E5ECF6\", \"width\": 0.5}}, \"type\": \"barpolar\"}], \"carpet\": [{\"aaxis\": {\"endlinecolor\": \"#2a3f5f\", \"gridcolor\": \"white\", \"linecolor\": \"white\", \"minorgridcolor\": \"white\", \"startlinecolor\": \"#2a3f5f\"}, \"baxis\": {\"endlinecolor\": \"#2a3f5f\", \"gridcolor\": \"white\", \"linecolor\": \"white\", \"minorgridcolor\": \"white\", \"startlinecolor\": \"#2a3f5f\"}, \"type\": \"carpet\"}], \"choropleth\": [{\"colorbar\": {\"outlinewidth\": 0, \"ticks\": \"\"}, \"type\": \"choropleth\"}], \"contour\": [{\"colorbar\": {\"outlinewidth\": 0, \"ticks\": \"\"}, \"colorscale\": [[0.0, \"#0d0887\"], [0.1111111111111111, \"#46039f\"], [0.2222222222222222, \"#7201a8\"], [0.3333333333333333, \"#9c179e\"], [0.4444444444444444, \"#bd3786\"], [0.5555555555555556, \"#d8576b\"], [0.6666666666666666, \"#ed7953\"], [0.7777777777777778, \"#fb9f3a\"], [0.8888888888888888, \"#fdca26\"], [1.0, \"#f0f921\"]], \"type\": \"contour\"}], \"contourcarpet\": [{\"colorbar\": {\"outlinewidth\": 0, \"ticks\": \"\"}, \"type\": \"contourcarpet\"}], \"heatmap\": [{\"colorbar\": {\"outlinewidth\": 0, \"ticks\": \"\"}, \"colorscale\": [[0.0, \"#0d0887\"], [0.1111111111111111, \"#46039f\"], [0.2222222222222222, \"#7201a8\"], [0.3333333333333333, \"#9c179e\"], [0.4444444444444444, \"#bd3786\"], [0.5555555555555556, \"#d8576b\"], [0.6666666666666666, \"#ed7953\"], [0.7777777777777778, \"#fb9f3a\"], [0.8888888888888888, \"#fdca26\"], [1.0, \"#f0f921\"]], \"type\": \"heatmap\"}], \"heatmapgl\": [{\"colorbar\": {\"outlinewidth\": 0, \"ticks\": \"\"}, \"colorscale\": [[0.0, \"#0d0887\"], [0.1111111111111111, \"#46039f\"], [0.2222222222222222, \"#7201a8\"], [0.3333333333333333, \"#9c179e\"], [0.4444444444444444, \"#bd3786\"], [0.5555555555555556, \"#d8576b\"], [0.6666666666666666, \"#ed7953\"], [0.7777777777777778, \"#fb9f3a\"], [0.8888888888888888, \"#fdca26\"], [1.0, \"#f0f921\"]], \"type\": \"heatmapgl\"}], \"histogram\": [{\"marker\": {\"colorbar\": {\"outlinewidth\": 0, \"ticks\": \"\"}}, \"type\": \"histogram\"}], \"histogram2d\": [{\"colorbar\": {\"outlinewidth\": 0, \"ticks\": \"\"}, \"colorscale\": [[0.0, \"#0d0887\"], [0.1111111111111111, \"#46039f\"], [0.2222222222222222, \"#7201a8\"], [0.3333333333333333, \"#9c179e\"], [0.4444444444444444, \"#bd3786\"], [0.5555555555555556, \"#d8576b\"], [0.6666666666666666, \"#ed7953\"], [0.7777777777777778, \"#fb9f3a\"], [0.8888888888888888, \"#fdca26\"], [1.0, \"#f0f921\"]], \"type\": \"histogram2d\"}], \"histogram2dcontour\": [{\"colorbar\": {\"outlinewidth\": 0, \"ticks\": \"\"}, \"colorscale\": [[0.0, \"#0d0887\"], [0.1111111111111111, \"#46039f\"], [0.2222222222222222, \"#7201a8\"], [0.3333333333333333, \"#9c179e\"], [0.4444444444444444, \"#bd3786\"], [0.5555555555555556, \"#d8576b\"], [0.6666666666666666, \"#ed7953\"], [0.7777777777777778, \"#fb9f3a\"], [0.8888888888888888, \"#fdca26\"], [1.0, \"#f0f921\"]], \"type\": \"histogram2dcontour\"}], \"mesh3d\": [{\"colorbar\": {\"outlinewidth\": 0, \"ticks\": \"\"}, \"type\": \"mesh3d\"}], \"parcoords\": [{\"line\": {\"colorbar\": {\"outlinewidth\": 0, \"ticks\": \"\"}}, \"type\": \"parcoords\"}], \"pie\": [{\"automargin\": true, \"type\": \"pie\"}], \"scatter\": [{\"marker\": {\"colorbar\": {\"outlinewidth\": 0, \"ticks\": \"\"}}, \"type\": \"scatter\"}], \"scatter3d\": [{\"line\": {\"colorbar\": {\"outlinewidth\": 0, \"ticks\": \"\"}}, \"marker\": {\"colorbar\": {\"outlinewidth\": 0, \"ticks\": \"\"}}, \"type\": \"scatter3d\"}], \"scattercarpet\": [{\"marker\": {\"colorbar\": {\"outlinewidth\": 0, \"ticks\": \"\"}}, \"type\": \"scattercarpet\"}], \"scattergeo\": [{\"marker\": {\"colorbar\": {\"outlinewidth\": 0, \"ticks\": \"\"}}, \"type\": \"scattergeo\"}], \"scattergl\": [{\"marker\": {\"colorbar\": {\"outlinewidth\": 0, \"ticks\": \"\"}}, \"type\": \"scattergl\"}], \"scattermapbox\": [{\"marker\": {\"colorbar\": {\"outlinewidth\": 0, \"ticks\": \"\"}}, \"type\": \"scattermapbox\"}], \"scatterpolar\": [{\"marker\": {\"colorbar\": {\"outlinewidth\": 0, \"ticks\": \"\"}}, \"type\": \"scatterpolar\"}], \"scatterpolargl\": [{\"marker\": {\"colorbar\": {\"outlinewidth\": 0, \"ticks\": \"\"}}, \"type\": \"scatterpolargl\"}], \"scatterternary\": [{\"marker\": {\"colorbar\": {\"outlinewidth\": 0, \"ticks\": \"\"}}, \"type\": \"scatterternary\"}], \"surface\": [{\"colorbar\": {\"outlinewidth\": 0, \"ticks\": \"\"}, \"colorscale\": [[0.0, \"#0d0887\"], [0.1111111111111111, \"#46039f\"], [0.2222222222222222, \"#7201a8\"], [0.3333333333333333, \"#9c179e\"], [0.4444444444444444, \"#bd3786\"], [0.5555555555555556, \"#d8576b\"], [0.6666666666666666, \"#ed7953\"], [0.7777777777777778, \"#fb9f3a\"], [0.8888888888888888, \"#fdca26\"], [1.0, \"#f0f921\"]], \"type\": \"surface\"}], \"table\": [{\"cells\": {\"fill\": {\"color\": \"#EBF0F8\"}, \"line\": {\"color\": \"white\"}}, \"header\": {\"fill\": {\"color\": \"#C8D4E3\"}, \"line\": {\"color\": \"white\"}}, \"type\": \"table\"}]}, \"layout\": {\"annotationdefaults\": {\"arrowcolor\": \"#2a3f5f\", \"arrowhead\": 0, \"arrowwidth\": 1}, \"coloraxis\": {\"colorbar\": {\"outlinewidth\": 0, \"ticks\": \"\"}}, \"colorscale\": {\"diverging\": [[0, \"#8e0152\"], [0.1, \"#c51b7d\"], [0.2, \"#de77ae\"], [0.3, \"#f1b6da\"], [0.4, \"#fde0ef\"], [0.5, \"#f7f7f7\"], [0.6, \"#e6f5d0\"], [0.7, \"#b8e186\"], [0.8, \"#7fbc41\"], [0.9, \"#4d9221\"], [1, \"#276419\"]], \"sequential\": [[0.0, \"#0d0887\"], [0.1111111111111111, \"#46039f\"], [0.2222222222222222, \"#7201a8\"], [0.3333333333333333, \"#9c179e\"], [0.4444444444444444, \"#bd3786\"], [0.5555555555555556, \"#d8576b\"], [0.6666666666666666, \"#ed7953\"], [0.7777777777777778, \"#fb9f3a\"], [0.8888888888888888, \"#fdca26\"], [1.0, \"#f0f921\"]], \"sequentialminus\": [[0.0, \"#0d0887\"], [0.1111111111111111, \"#46039f\"], [0.2222222222222222, \"#7201a8\"], [0.3333333333333333, \"#9c179e\"], [0.4444444444444444, \"#bd3786\"], [0.5555555555555556, \"#d8576b\"], [0.6666666666666666, \"#ed7953\"], [0.7777777777777778, \"#fb9f3a\"], [0.8888888888888888, \"#fdca26\"], [1.0, \"#f0f921\"]]}, \"colorway\": [\"#636efa\", \"#EF553B\", \"#00cc96\", \"#ab63fa\", \"#FFA15A\", \"#19d3f3\", \"#FF6692\", \"#B6E880\", \"#FF97FF\", \"#FECB52\"], \"font\": {\"color\": \"#2a3f5f\"}, \"geo\": {\"bgcolor\": \"white\", \"lakecolor\": \"white\", \"landcolor\": \"#E5ECF6\", \"showlakes\": true, \"showland\": true, \"subunitcolor\": \"white\"}, \"hoverlabel\": {\"align\": \"left\"}, \"hovermode\": \"closest\", \"mapbox\": {\"style\": \"light\"}, \"paper_bgcolor\": \"white\", \"plot_bgcolor\": \"#E5ECF6\", \"polar\": {\"angularaxis\": {\"gridcolor\": \"white\", \"linecolor\": \"white\", \"ticks\": \"\"}, \"bgcolor\": \"#E5ECF6\", \"radialaxis\": {\"gridcolor\": \"white\", \"linecolor\": \"white\", \"ticks\": \"\"}}, \"scene\": {\"xaxis\": {\"backgroundcolor\": \"#E5ECF6\", \"gridcolor\": \"white\", \"gridwidth\": 2, \"linecolor\": \"white\", \"showbackground\": true, \"ticks\": \"\", \"zerolinecolor\": \"white\"}, \"yaxis\": {\"backgroundcolor\": \"#E5ECF6\", \"gridcolor\": \"white\", \"gridwidth\": 2, \"linecolor\": \"white\", \"showbackground\": true, \"ticks\": \"\", \"zerolinecolor\": \"white\"}, \"zaxis\": {\"backgroundcolor\": \"#E5ECF6\", \"gridcolor\": \"white\", \"gridwidth\": 2, \"linecolor\": \"white\", \"showbackground\": true, \"ticks\": \"\", \"zerolinecolor\": \"white\"}}, \"shapedefaults\": {\"line\": {\"color\": \"#2a3f5f\"}}, \"ternary\": {\"aaxis\": {\"gridcolor\": \"white\", \"linecolor\": \"white\", \"ticks\": \"\"}, \"baxis\": {\"gridcolor\": \"white\", \"linecolor\": \"white\", \"ticks\": \"\"}, \"bgcolor\": \"#E5ECF6\", \"caxis\": {\"gridcolor\": \"white\", \"linecolor\": \"white\", \"ticks\": \"\"}}, \"title\": {\"x\": 0.05}, \"xaxis\": {\"automargin\": true, \"gridcolor\": \"white\", \"linecolor\": \"white\", \"ticks\": \"\", \"title\": {\"standoff\": 15}, \"zerolinecolor\": \"white\", \"zerolinewidth\": 2}, \"yaxis\": {\"automargin\": true, \"gridcolor\": \"white\", \"linecolor\": \"white\", \"ticks\": \"\", \"title\": {\"standoff\": 15}, \"zerolinecolor\": \"white\", \"zerolinewidth\": 2}}}, \"title\": {\"text\": \"Activities: projects' prevalence vs. expensiveness\"}, \"xaxis\": {\"anchor\": \"y\", \"domain\": [0.0, 1.0], \"title\": {\"text\": \"Avg money raised pro project, $\"}}, \"yaxis\": {\"anchor\": \"x\", \"domain\": [0.0, 1.0], \"title\": {\"text\": \"# of projects\"}}},\n",
       "                        {\"responsive\": true}\n",
       "                    ).then(function(){\n",
       "                            \n",
       "var gd = document.getElementById('8e3046d2-82c2-403f-a0c4-38331af73b18');\n",
       "var x = new MutationObserver(function (mutations, observer) {{\n",
       "        var display = window.getComputedStyle(gd).display;\n",
       "        if (!display || display === 'none') {{\n",
       "            console.log([gd, 'removed!']);\n",
       "            Plotly.purge(gd);\n",
       "            observer.disconnect();\n",
       "        }}\n",
       "}});\n",
       "\n",
       "// Listen for the removal of the full notebook cells\n",
       "var notebookContainer = gd.closest('#notebook-container');\n",
       "if (notebookContainer) {{\n",
       "    x.observe(notebookContainer, {childList: true});\n",
       "}}\n",
       "\n",
       "// Listen for the clearing of the current output cell\n",
       "var outputEl = gd.closest('.output');\n",
       "if (outputEl) {{\n",
       "    x.observe(outputEl, {childList: true});\n",
       "}}\n",
       "\n",
       "                        })\n",
       "                };\n",
       "                });\n",
       "            </script>\n",
       "        </div>"
      ]
     },
     "metadata": {},
     "output_type": "display_data"
    }
   ],
   "source": [
    "fig = go.Figure(\n",
    "    px.scatter(activities, \n",
    "           x=\"Avg money raised pro project, $\", \n",
    "           y=\"# of projects\", \n",
    "           size='Avg investors', \n",
    "           color='Sector',\n",
    "           hover_name='Activity',\n",
    "           opacity=0.6,\n",
    "           #log_y=True,\n",
    "           title=\"Activities: projects' prevalence vs. expensiveness\",\n",
    "           hover_data=['Value over volume', 'Avg share gathered, %'],\n",
    "           #template=\"plotly_white\",\n",
    "          )\n",
    ")\n",
    "fig.show()"
   ]
  },
  {
   "cell_type": "markdown",
   "metadata": {},
   "source": [
    "All activities in the central and the right parts of the graph (starting approx. from 1500 $ on x-axis) tend to attract much money and many investors; we need to make them appear on our platform more often - here I see potential for good profits!"
   ]
  },
  {
   "cell_type": "code",
   "execution_count": 41,
   "metadata": {},
   "outputs": [
    {
     "data": {
      "text/html": [
       "<div>\n",
       "<style scoped>\n",
       "    .dataframe tbody tr th:only-of-type {\n",
       "        vertical-align: middle;\n",
       "    }\n",
       "\n",
       "    .dataframe tbody tr th {\n",
       "        vertical-align: top;\n",
       "    }\n",
       "\n",
       "    .dataframe thead th {\n",
       "        text-align: right;\n",
       "    }\n",
       "</style>\n",
       "<table border=\"1\" class=\"dataframe\">\n",
       "  <thead>\n",
       "    <tr style=\"text-align: right;\">\n",
       "      <th></th>\n",
       "      <th>Sector</th>\n",
       "      <th>Activity</th>\n",
       "      <th># of projects</th>\n",
       "      <th>Total money raised, $</th>\n",
       "      <th>Avg money raised pro project, $</th>\n",
       "      <th>Avg investors</th>\n",
       "      <th>Avg share gathered, %</th>\n",
       "      <th>Share in volume, %</th>\n",
       "      <th>Share in value, %</th>\n",
       "      <th>Value over volume</th>\n",
       "    </tr>\n",
       "  </thead>\n",
       "  <tbody>\n",
       "    <tr>\n",
       "      <td>2100</td>\n",
       "      <td>Services</td>\n",
       "      <td>Technology</td>\n",
       "      <td>178.0</td>\n",
       "      <td>428245.0</td>\n",
       "      <td>2405.9</td>\n",
       "      <td>44.2</td>\n",
       "      <td>47.0</td>\n",
       "      <td>0.000265</td>\n",
       "      <td>0.000812</td>\n",
       "      <td>3.1</td>\n",
       "    </tr>\n",
       "    <tr>\n",
       "      <td>1992</td>\n",
       "      <td>Services</td>\n",
       "      <td>Communications</td>\n",
       "      <td>96.0</td>\n",
       "      <td>223285.0</td>\n",
       "      <td>2325.9</td>\n",
       "      <td>42.1</td>\n",
       "      <td>62.4</td>\n",
       "      <td>0.000143</td>\n",
       "      <td>0.000423</td>\n",
       "      <td>3.0</td>\n",
       "    </tr>\n",
       "    <tr>\n",
       "      <td>1987</td>\n",
       "      <td>Services</td>\n",
       "      <td>Cleaning Services</td>\n",
       "      <td>145.0</td>\n",
       "      <td>323085.0</td>\n",
       "      <td>2228.2</td>\n",
       "      <td>46.8</td>\n",
       "      <td>70.7</td>\n",
       "      <td>0.000216</td>\n",
       "      <td>0.000612</td>\n",
       "      <td>2.8</td>\n",
       "    </tr>\n",
       "    <tr>\n",
       "      <td>869</td>\n",
       "      <td>Entertainment</td>\n",
       "      <td>Entertainment</td>\n",
       "      <td>443.0</td>\n",
       "      <td>643920.0</td>\n",
       "      <td>1453.5</td>\n",
       "      <td>33.9</td>\n",
       "      <td>79.8</td>\n",
       "      <td>0.000660</td>\n",
       "      <td>0.001221</td>\n",
       "      <td>1.8</td>\n",
       "    </tr>\n",
       "    <tr>\n",
       "      <td>2042</td>\n",
       "      <td>Services</td>\n",
       "      <td>Landscaping / Gardening</td>\n",
       "      <td>34.0</td>\n",
       "      <td>123765.0</td>\n",
       "      <td>3640.1</td>\n",
       "      <td>74.2</td>\n",
       "      <td>81.1</td>\n",
       "      <td>0.000051</td>\n",
       "      <td>0.000235</td>\n",
       "      <td>4.6</td>\n",
       "    </tr>\n",
       "  </tbody>\n",
       "</table>\n",
       "</div>"
      ],
      "text/plain": [
       "             Sector                 Activity  # of projects  \\\n",
       "2100       Services               Technology          178.0   \n",
       "1992       Services           Communications           96.0   \n",
       "1987       Services        Cleaning Services          145.0   \n",
       "869   Entertainment            Entertainment          443.0   \n",
       "2042       Services  Landscaping / Gardening           34.0   \n",
       "\n",
       "      Total money raised, $  Avg money raised pro project, $  Avg investors  \\\n",
       "2100               428245.0                           2405.9           44.2   \n",
       "1992               223285.0                           2325.9           42.1   \n",
       "1987               323085.0                           2228.2           46.8   \n",
       "869                643920.0                           1453.5           33.9   \n",
       "2042               123765.0                           3640.1           74.2   \n",
       "\n",
       "      Avg share gathered, %  Share in volume, %  Share in value, %  \\\n",
       "2100                   47.0            0.000265           0.000812   \n",
       "1992                   62.4            0.000143           0.000423   \n",
       "1987                   70.7            0.000216           0.000612   \n",
       "869                    79.8            0.000660           0.001221   \n",
       "2042                   81.1            0.000051           0.000235   \n",
       "\n",
       "      Value over volume  \n",
       "2100                3.1  \n",
       "1992                3.0  \n",
       "1987                2.8  \n",
       "869                 1.8  \n",
       "2042                4.6  "
      ]
     },
     "execution_count": 41,
     "metadata": {},
     "output_type": "execute_result"
    }
   ],
   "source": [
    "# And which projects have problems with fundrising?\n",
    "activities.sort_values(by='Avg share gathered, %', ascending=True).head(5)"
   ]
  },
  {
   "cell_type": "markdown",
   "metadata": {},
   "source": [
    "These are 'Technology', 'Communications', 'Cleaning Services' projects. They are actually quite expensive (see Value over volume)...\n",
    "What are their problems? From which countries do they come?"
   ]
  },
  {
   "cell_type": "markdown",
   "metadata": {},
   "source": [
    "#### Countries with successful / expensive projects"
   ]
  },
  {
   "cell_type": "markdown",
   "metadata": {},
   "source": [
    "What are the leaders in terms of total money funded?"
   ]
  },
  {
   "cell_type": "code",
   "execution_count": 42,
   "metadata": {},
   "outputs": [
    {
     "data": {
      "application/vnd.plotly.v1+json": {
       "config": {
        "plotlyServerURL": "https://plot.ly"
       },
       "data": [
        {
         "coloraxis": "coloraxis",
         "geo": "geo",
         "hoverlabel": {
          "namelength": 0
         },
         "hovertemplate": "<b>%{hovertext}</b><br><br>Country code=%{location}<br>Total money raised, $=%{z}",
         "hovertext": [
          "Afghanistan",
          "Albania",
          "Armenia",
          "Azerbaijan",
          "Belize",
          "Benin",
          "Bhutan",
          "Bolivia",
          "Brazil",
          "Burkina Faso",
          "Burundi",
          "Cambodia",
          "Cameroon",
          "Chile",
          "China",
          "Colombia",
          "Congo",
          "Costa Rica",
          "Cote D'Ivoire",
          "Dominican Republic",
          "Ecuador",
          "Egypt",
          "El Salvador",
          "Georgia",
          "Ghana",
          "Guam",
          "Guatemala",
          "Haiti",
          "Honduras",
          "India",
          "Indonesia",
          "Iraq",
          "Israel",
          "Jordan",
          "Kenya",
          "Kosovo",
          "Kyrgyzstan",
          "Lao People's Democratic Republic",
          "Lebanon",
          "Lesotho",
          "Liberia",
          "Madagascar",
          "Malawi",
          "Mali",
          "Mauritania",
          "Mexico",
          "Moldova",
          "Mongolia",
          "Mozambique",
          "Myanmar (Burma)",
          "Namibia",
          "Nepal",
          "Nicaragua",
          "Nigeria",
          "Pakistan",
          "Palestine",
          "Panama",
          "Paraguay",
          "Peru",
          "Philippines",
          "Puerto Rico",
          "Rwanda",
          "Saint Vincent and the Grenadines",
          "Samoa",
          "Senegal",
          "Sierra Leone",
          "Solomon Islands",
          "Somalia",
          "South Africa",
          "South Sudan",
          "Suriname",
          "Tajikistan",
          "Tanzania",
          "Thailand",
          "The Democratic Republic of the Congo",
          "Timor-Leste",
          "Togo",
          "Turkey",
          "Uganda",
          "Ukraine",
          "United States",
          "Vanuatu",
          "Vietnam",
          "Virgin Islands",
          "Yemen",
          "Zambia",
          "Zimbabwe"
         ],
         "locations": [
          "AFG",
          "ALB",
          "ARM",
          "AZE",
          "BLZ",
          "BEN",
          "BTN",
          "BOL",
          "BRA",
          "BFA",
          "BDI",
          "KHM",
          "CMR",
          "CHL",
          "CHN",
          "COL",
          "COG",
          "CRI",
          "CIV",
          "DOM",
          "ECU",
          "EGY",
          "SLV",
          "GEO",
          "GHA",
          "GUM",
          "GTM",
          "HTI",
          "HND",
          "IND",
          "IDN",
          "IRQ",
          "ISR",
          "JOR",
          "KEN",
          "SRB",
          "KGZ",
          "LAO",
          "LBN",
          "LSO",
          "LBR",
          "MDG",
          "MWI",
          "MLI",
          "MRT",
          "MEX",
          "MDA",
          "MNG",
          "MOZ",
          "MMR",
          "NAM",
          "NPL",
          "NIC",
          "NGA",
          "PAK",
          "PSE",
          "PAN",
          "PRY",
          "PER",
          "PHL",
          "PRI",
          "RWA",
          "VCT",
          "WSM",
          "SEN",
          "SLE",
          "SLB",
          "SOM",
          "ZAF",
          "SSD",
          "SUR",
          "TJK",
          "TZA",
          "THA",
          "COD",
          "TLS",
          "TGO",
          "TUR",
          "UGA",
          "UKR",
          "USA",
          "VUT",
          "VNM",
          "VIR",
          "YEM",
          "ZMB",
          "ZWE"
         ],
         "name": "",
         "type": "choropleth",
         "z": [
          14000,
          2490000,
          11186675,
          2699575,
          114025,
          516825,
          15625,
          18276200,
          661025,
          2909975,
          2558550,
          18817100,
          875500,
          76250,
          373475,
          12473775,
          786250,
          2015525,
          50000,
          2083500,
          14598900,
          1084925,
          23357725,
          3369500,
          4792475,
          395,
          10934975,
          2649475,
          5667925,
          6466850,
          4547025,
          2611225,
          719450,
          4425525,
          32248405,
          1778600,
          6728550,
          1160425,
          11556350,
          359525,
          1168225,
          1223575,
          1612500,
          8340850,
          15000,
          9391225,
          686850,
          1591400,
          1918825,
          3035850,
          32375,
          307625,
          9854375,
          1905325,
          12467100,
          12032025,
          273275,
          29412700,
          30394850,
          54476375,
          299825,
          15505600,
          49225,
          5641825,
          6819675,
          3961050,
          493875,
          225875,
          574025,
          120900,
          540475,
          13781775,
          6518075,
          423350,
          11020275,
          2326900,
          1486800,
          743625,
          14142675,
          1561350,
          23158540,
          9250,
          13661700,
          0,
          1784075,
          1147950,
          3372725
         ]
        }
       ],
       "layout": {
        "coloraxis": {
         "colorbar": {
          "title": {
           "text": "Total money raised, $"
          }
         },
         "colorscale": [
          [
           0,
           "#0d0887"
          ],
          [
           0.1111111111111111,
           "#46039f"
          ],
          [
           0.2222222222222222,
           "#7201a8"
          ],
          [
           0.3333333333333333,
           "#9c179e"
          ],
          [
           0.4444444444444444,
           "#bd3786"
          ],
          [
           0.5555555555555556,
           "#d8576b"
          ],
          [
           0.6666666666666666,
           "#ed7953"
          ],
          [
           0.7777777777777778,
           "#fb9f3a"
          ],
          [
           0.8888888888888888,
           "#fdca26"
          ],
          [
           1,
           "#f0f921"
          ]
         ]
        },
        "geo": {
         "center": {},
         "domain": {
          "x": [
           0,
           1
          ],
          "y": [
           0,
           1
          ]
         },
         "projection": {
          "type": "robinson"
         }
        },
        "legend": {
         "tracegroupgap": 0
        },
        "template": {
         "data": {
          "bar": [
           {
            "error_x": {
             "color": "#2a3f5f"
            },
            "error_y": {
             "color": "#2a3f5f"
            },
            "marker": {
             "line": {
              "color": "#E5ECF6",
              "width": 0.5
             }
            },
            "type": "bar"
           }
          ],
          "barpolar": [
           {
            "marker": {
             "line": {
              "color": "#E5ECF6",
              "width": 0.5
             }
            },
            "type": "barpolar"
           }
          ],
          "carpet": [
           {
            "aaxis": {
             "endlinecolor": "#2a3f5f",
             "gridcolor": "white",
             "linecolor": "white",
             "minorgridcolor": "white",
             "startlinecolor": "#2a3f5f"
            },
            "baxis": {
             "endlinecolor": "#2a3f5f",
             "gridcolor": "white",
             "linecolor": "white",
             "minorgridcolor": "white",
             "startlinecolor": "#2a3f5f"
            },
            "type": "carpet"
           }
          ],
          "choropleth": [
           {
            "colorbar": {
             "outlinewidth": 0,
             "ticks": ""
            },
            "type": "choropleth"
           }
          ],
          "contour": [
           {
            "colorbar": {
             "outlinewidth": 0,
             "ticks": ""
            },
            "colorscale": [
             [
              0,
              "#0d0887"
             ],
             [
              0.1111111111111111,
              "#46039f"
             ],
             [
              0.2222222222222222,
              "#7201a8"
             ],
             [
              0.3333333333333333,
              "#9c179e"
             ],
             [
              0.4444444444444444,
              "#bd3786"
             ],
             [
              0.5555555555555556,
              "#d8576b"
             ],
             [
              0.6666666666666666,
              "#ed7953"
             ],
             [
              0.7777777777777778,
              "#fb9f3a"
             ],
             [
              0.8888888888888888,
              "#fdca26"
             ],
             [
              1,
              "#f0f921"
             ]
            ],
            "type": "contour"
           }
          ],
          "contourcarpet": [
           {
            "colorbar": {
             "outlinewidth": 0,
             "ticks": ""
            },
            "type": "contourcarpet"
           }
          ],
          "heatmap": [
           {
            "colorbar": {
             "outlinewidth": 0,
             "ticks": ""
            },
            "colorscale": [
             [
              0,
              "#0d0887"
             ],
             [
              0.1111111111111111,
              "#46039f"
             ],
             [
              0.2222222222222222,
              "#7201a8"
             ],
             [
              0.3333333333333333,
              "#9c179e"
             ],
             [
              0.4444444444444444,
              "#bd3786"
             ],
             [
              0.5555555555555556,
              "#d8576b"
             ],
             [
              0.6666666666666666,
              "#ed7953"
             ],
             [
              0.7777777777777778,
              "#fb9f3a"
             ],
             [
              0.8888888888888888,
              "#fdca26"
             ],
             [
              1,
              "#f0f921"
             ]
            ],
            "type": "heatmap"
           }
          ],
          "heatmapgl": [
           {
            "colorbar": {
             "outlinewidth": 0,
             "ticks": ""
            },
            "colorscale": [
             [
              0,
              "#0d0887"
             ],
             [
              0.1111111111111111,
              "#46039f"
             ],
             [
              0.2222222222222222,
              "#7201a8"
             ],
             [
              0.3333333333333333,
              "#9c179e"
             ],
             [
              0.4444444444444444,
              "#bd3786"
             ],
             [
              0.5555555555555556,
              "#d8576b"
             ],
             [
              0.6666666666666666,
              "#ed7953"
             ],
             [
              0.7777777777777778,
              "#fb9f3a"
             ],
             [
              0.8888888888888888,
              "#fdca26"
             ],
             [
              1,
              "#f0f921"
             ]
            ],
            "type": "heatmapgl"
           }
          ],
          "histogram": [
           {
            "marker": {
             "colorbar": {
              "outlinewidth": 0,
              "ticks": ""
             }
            },
            "type": "histogram"
           }
          ],
          "histogram2d": [
           {
            "colorbar": {
             "outlinewidth": 0,
             "ticks": ""
            },
            "colorscale": [
             [
              0,
              "#0d0887"
             ],
             [
              0.1111111111111111,
              "#46039f"
             ],
             [
              0.2222222222222222,
              "#7201a8"
             ],
             [
              0.3333333333333333,
              "#9c179e"
             ],
             [
              0.4444444444444444,
              "#bd3786"
             ],
             [
              0.5555555555555556,
              "#d8576b"
             ],
             [
              0.6666666666666666,
              "#ed7953"
             ],
             [
              0.7777777777777778,
              "#fb9f3a"
             ],
             [
              0.8888888888888888,
              "#fdca26"
             ],
             [
              1,
              "#f0f921"
             ]
            ],
            "type": "histogram2d"
           }
          ],
          "histogram2dcontour": [
           {
            "colorbar": {
             "outlinewidth": 0,
             "ticks": ""
            },
            "colorscale": [
             [
              0,
              "#0d0887"
             ],
             [
              0.1111111111111111,
              "#46039f"
             ],
             [
              0.2222222222222222,
              "#7201a8"
             ],
             [
              0.3333333333333333,
              "#9c179e"
             ],
             [
              0.4444444444444444,
              "#bd3786"
             ],
             [
              0.5555555555555556,
              "#d8576b"
             ],
             [
              0.6666666666666666,
              "#ed7953"
             ],
             [
              0.7777777777777778,
              "#fb9f3a"
             ],
             [
              0.8888888888888888,
              "#fdca26"
             ],
             [
              1,
              "#f0f921"
             ]
            ],
            "type": "histogram2dcontour"
           }
          ],
          "mesh3d": [
           {
            "colorbar": {
             "outlinewidth": 0,
             "ticks": ""
            },
            "type": "mesh3d"
           }
          ],
          "parcoords": [
           {
            "line": {
             "colorbar": {
              "outlinewidth": 0,
              "ticks": ""
             }
            },
            "type": "parcoords"
           }
          ],
          "pie": [
           {
            "automargin": true,
            "type": "pie"
           }
          ],
          "scatter": [
           {
            "marker": {
             "colorbar": {
              "outlinewidth": 0,
              "ticks": ""
             }
            },
            "type": "scatter"
           }
          ],
          "scatter3d": [
           {
            "line": {
             "colorbar": {
              "outlinewidth": 0,
              "ticks": ""
             }
            },
            "marker": {
             "colorbar": {
              "outlinewidth": 0,
              "ticks": ""
             }
            },
            "type": "scatter3d"
           }
          ],
          "scattercarpet": [
           {
            "marker": {
             "colorbar": {
              "outlinewidth": 0,
              "ticks": ""
             }
            },
            "type": "scattercarpet"
           }
          ],
          "scattergeo": [
           {
            "marker": {
             "colorbar": {
              "outlinewidth": 0,
              "ticks": ""
             }
            },
            "type": "scattergeo"
           }
          ],
          "scattergl": [
           {
            "marker": {
             "colorbar": {
              "outlinewidth": 0,
              "ticks": ""
             }
            },
            "type": "scattergl"
           }
          ],
          "scattermapbox": [
           {
            "marker": {
             "colorbar": {
              "outlinewidth": 0,
              "ticks": ""
             }
            },
            "type": "scattermapbox"
           }
          ],
          "scatterpolar": [
           {
            "marker": {
             "colorbar": {
              "outlinewidth": 0,
              "ticks": ""
             }
            },
            "type": "scatterpolar"
           }
          ],
          "scatterpolargl": [
           {
            "marker": {
             "colorbar": {
              "outlinewidth": 0,
              "ticks": ""
             }
            },
            "type": "scatterpolargl"
           }
          ],
          "scatterternary": [
           {
            "marker": {
             "colorbar": {
              "outlinewidth": 0,
              "ticks": ""
             }
            },
            "type": "scatterternary"
           }
          ],
          "surface": [
           {
            "colorbar": {
             "outlinewidth": 0,
             "ticks": ""
            },
            "colorscale": [
             [
              0,
              "#0d0887"
             ],
             [
              0.1111111111111111,
              "#46039f"
             ],
             [
              0.2222222222222222,
              "#7201a8"
             ],
             [
              0.3333333333333333,
              "#9c179e"
             ],
             [
              0.4444444444444444,
              "#bd3786"
             ],
             [
              0.5555555555555556,
              "#d8576b"
             ],
             [
              0.6666666666666666,
              "#ed7953"
             ],
             [
              0.7777777777777778,
              "#fb9f3a"
             ],
             [
              0.8888888888888888,
              "#fdca26"
             ],
             [
              1,
              "#f0f921"
             ]
            ],
            "type": "surface"
           }
          ],
          "table": [
           {
            "cells": {
             "fill": {
              "color": "#EBF0F8"
             },
             "line": {
              "color": "white"
             }
            },
            "header": {
             "fill": {
              "color": "#C8D4E3"
             },
             "line": {
              "color": "white"
             }
            },
            "type": "table"
           }
          ]
         },
         "layout": {
          "annotationdefaults": {
           "arrowcolor": "#2a3f5f",
           "arrowhead": 0,
           "arrowwidth": 1
          },
          "coloraxis": {
           "colorbar": {
            "outlinewidth": 0,
            "ticks": ""
           }
          },
          "colorscale": {
           "diverging": [
            [
             0,
             "#8e0152"
            ],
            [
             0.1,
             "#c51b7d"
            ],
            [
             0.2,
             "#de77ae"
            ],
            [
             0.3,
             "#f1b6da"
            ],
            [
             0.4,
             "#fde0ef"
            ],
            [
             0.5,
             "#f7f7f7"
            ],
            [
             0.6,
             "#e6f5d0"
            ],
            [
             0.7,
             "#b8e186"
            ],
            [
             0.8,
             "#7fbc41"
            ],
            [
             0.9,
             "#4d9221"
            ],
            [
             1,
             "#276419"
            ]
           ],
           "sequential": [
            [
             0,
             "#0d0887"
            ],
            [
             0.1111111111111111,
             "#46039f"
            ],
            [
             0.2222222222222222,
             "#7201a8"
            ],
            [
             0.3333333333333333,
             "#9c179e"
            ],
            [
             0.4444444444444444,
             "#bd3786"
            ],
            [
             0.5555555555555556,
             "#d8576b"
            ],
            [
             0.6666666666666666,
             "#ed7953"
            ],
            [
             0.7777777777777778,
             "#fb9f3a"
            ],
            [
             0.8888888888888888,
             "#fdca26"
            ],
            [
             1,
             "#f0f921"
            ]
           ],
           "sequentialminus": [
            [
             0,
             "#0d0887"
            ],
            [
             0.1111111111111111,
             "#46039f"
            ],
            [
             0.2222222222222222,
             "#7201a8"
            ],
            [
             0.3333333333333333,
             "#9c179e"
            ],
            [
             0.4444444444444444,
             "#bd3786"
            ],
            [
             0.5555555555555556,
             "#d8576b"
            ],
            [
             0.6666666666666666,
             "#ed7953"
            ],
            [
             0.7777777777777778,
             "#fb9f3a"
            ],
            [
             0.8888888888888888,
             "#fdca26"
            ],
            [
             1,
             "#f0f921"
            ]
           ]
          },
          "colorway": [
           "#636efa",
           "#EF553B",
           "#00cc96",
           "#ab63fa",
           "#FFA15A",
           "#19d3f3",
           "#FF6692",
           "#B6E880",
           "#FF97FF",
           "#FECB52"
          ],
          "font": {
           "color": "#2a3f5f"
          },
          "geo": {
           "bgcolor": "white",
           "lakecolor": "white",
           "landcolor": "#E5ECF6",
           "showlakes": true,
           "showland": true,
           "subunitcolor": "white"
          },
          "hoverlabel": {
           "align": "left"
          },
          "hovermode": "closest",
          "mapbox": {
           "style": "light"
          },
          "paper_bgcolor": "white",
          "plot_bgcolor": "#E5ECF6",
          "polar": {
           "angularaxis": {
            "gridcolor": "white",
            "linecolor": "white",
            "ticks": ""
           },
           "bgcolor": "#E5ECF6",
           "radialaxis": {
            "gridcolor": "white",
            "linecolor": "white",
            "ticks": ""
           }
          },
          "scene": {
           "xaxis": {
            "backgroundcolor": "#E5ECF6",
            "gridcolor": "white",
            "gridwidth": 2,
            "linecolor": "white",
            "showbackground": true,
            "ticks": "",
            "zerolinecolor": "white"
           },
           "yaxis": {
            "backgroundcolor": "#E5ECF6",
            "gridcolor": "white",
            "gridwidth": 2,
            "linecolor": "white",
            "showbackground": true,
            "ticks": "",
            "zerolinecolor": "white"
           },
           "zaxis": {
            "backgroundcolor": "#E5ECF6",
            "gridcolor": "white",
            "gridwidth": 2,
            "linecolor": "white",
            "showbackground": true,
            "ticks": "",
            "zerolinecolor": "white"
           }
          },
          "shapedefaults": {
           "line": {
            "color": "#2a3f5f"
           }
          },
          "ternary": {
           "aaxis": {
            "gridcolor": "white",
            "linecolor": "white",
            "ticks": ""
           },
           "baxis": {
            "gridcolor": "white",
            "linecolor": "white",
            "ticks": ""
           },
           "bgcolor": "#E5ECF6",
           "caxis": {
            "gridcolor": "white",
            "linecolor": "white",
            "ticks": ""
           }
          },
          "title": {
           "x": 0.05
          },
          "xaxis": {
           "automargin": true,
           "gridcolor": "white",
           "linecolor": "white",
           "ticks": "",
           "title": {
            "standoff": 15
           },
           "zerolinecolor": "white",
           "zerolinewidth": 2
          },
          "yaxis": {
           "automargin": true,
           "gridcolor": "white",
           "linecolor": "white",
           "ticks": "",
           "title": {
            "standoff": 15
           },
           "zerolinecolor": "white",
           "zerolinewidth": 2
          }
         }
        },
        "title": {
         "text": "Which countries attract more money, in total?"
        }
       }
      },
      "text/html": [
       "<div>\n",
       "        \n",
       "        \n",
       "            <div id=\"c33743e8-b2c9-41de-a483-edd1b3cf3273\" class=\"plotly-graph-div\" style=\"height:525px; width:100%;\"></div>\n",
       "            <script type=\"text/javascript\">\n",
       "                require([\"plotly\"], function(Plotly) {\n",
       "                    window.PLOTLYENV=window.PLOTLYENV || {};\n",
       "                    \n",
       "                if (document.getElementById(\"c33743e8-b2c9-41de-a483-edd1b3cf3273\")) {\n",
       "                    Plotly.newPlot(\n",
       "                        'c33743e8-b2c9-41de-a483-edd1b3cf3273',\n",
       "                        [{\"coloraxis\": \"coloraxis\", \"geo\": \"geo\", \"hoverlabel\": {\"namelength\": 0}, \"hovertemplate\": \"<b>%{hovertext}</b><br><br>Country code=%{location}<br>Total money raised, $=%{z}\", \"hovertext\": [\"Afghanistan\", \"Albania\", \"Armenia\", \"Azerbaijan\", \"Belize\", \"Benin\", \"Bhutan\", \"Bolivia\", \"Brazil\", \"Burkina Faso\", \"Burundi\", \"Cambodia\", \"Cameroon\", \"Chile\", \"China\", \"Colombia\", \"Congo\", \"Costa Rica\", \"Cote D'Ivoire\", \"Dominican Republic\", \"Ecuador\", \"Egypt\", \"El Salvador\", \"Georgia\", \"Ghana\", \"Guam\", \"Guatemala\", \"Haiti\", \"Honduras\", \"India\", \"Indonesia\", \"Iraq\", \"Israel\", \"Jordan\", \"Kenya\", \"Kosovo\", \"Kyrgyzstan\", \"Lao People's Democratic Republic\", \"Lebanon\", \"Lesotho\", \"Liberia\", \"Madagascar\", \"Malawi\", \"Mali\", \"Mauritania\", \"Mexico\", \"Moldova\", \"Mongolia\", \"Mozambique\", \"Myanmar (Burma)\", \"Namibia\", \"Nepal\", \"Nicaragua\", \"Nigeria\", \"Pakistan\", \"Palestine\", \"Panama\", \"Paraguay\", \"Peru\", \"Philippines\", \"Puerto Rico\", \"Rwanda\", \"Saint Vincent and the Grenadines\", \"Samoa\", \"Senegal\", \"Sierra Leone\", \"Solomon Islands\", \"Somalia\", \"South Africa\", \"South Sudan\", \"Suriname\", \"Tajikistan\", \"Tanzania\", \"Thailand\", \"The Democratic Republic of the Congo\", \"Timor-Leste\", \"Togo\", \"Turkey\", \"Uganda\", \"Ukraine\", \"United States\", \"Vanuatu\", \"Vietnam\", \"Virgin Islands\", \"Yemen\", \"Zambia\", \"Zimbabwe\"], \"locations\": [\"AFG\", \"ALB\", \"ARM\", \"AZE\", \"BLZ\", \"BEN\", \"BTN\", \"BOL\", \"BRA\", \"BFA\", \"BDI\", \"KHM\", \"CMR\", \"CHL\", \"CHN\", \"COL\", \"COG\", \"CRI\", \"CIV\", \"DOM\", \"ECU\", \"EGY\", \"SLV\", \"GEO\", \"GHA\", \"GUM\", \"GTM\", \"HTI\", \"HND\", \"IND\", \"IDN\", \"IRQ\", \"ISR\", \"JOR\", \"KEN\", \"SRB\", \"KGZ\", \"LAO\", \"LBN\", \"LSO\", \"LBR\", \"MDG\", \"MWI\", \"MLI\", \"MRT\", \"MEX\", \"MDA\", \"MNG\", \"MOZ\", \"MMR\", \"NAM\", \"NPL\", \"NIC\", \"NGA\", \"PAK\", \"PSE\", \"PAN\", \"PRY\", \"PER\", \"PHL\", \"PRI\", \"RWA\", \"VCT\", \"WSM\", \"SEN\", \"SLE\", \"SLB\", \"SOM\", \"ZAF\", \"SSD\", \"SUR\", \"TJK\", \"TZA\", \"THA\", \"COD\", \"TLS\", \"TGO\", \"TUR\", \"UGA\", \"UKR\", \"USA\", \"VUT\", \"VNM\", \"VIR\", \"YEM\", \"ZMB\", \"ZWE\"], \"name\": \"\", \"type\": \"choropleth\", \"z\": [14000.0, 2490000.0, 11186675.0, 2699575.0, 114025.0, 516825.0, 15625.0, 18276200.0, 661025.0, 2909975.0, 2558550.0, 18817100.0, 875500.0, 76250.0, 373475.0, 12473775.0, 786250.0, 2015525.0, 50000.0, 2083500.0, 14598900.0, 1084925.0, 23357725.0, 3369500.0, 4792475.0, 395.0, 10934975.0, 2649475.0, 5667925.0, 6466850.0, 4547025.0, 2611225.0, 719450.0, 4425525.0, 32248405.0, 1778600.0, 6728550.0, 1160425.0, 11556350.0, 359525.0, 1168225.0, 1223575.0, 1612500.0, 8340850.0, 15000.0, 9391225.0, 686850.0, 1591400.0, 1918825.0, 3035850.0, 32375.0, 307625.0, 9854375.0, 1905325.0, 12467100.0, 12032025.0, 273275.0, 29412700.0, 30394850.0, 54476375.0, 299825.0, 15505600.0, 49225.0, 5641825.0, 6819675.0, 3961050.0, 493875.0, 225875.0, 574025.0, 120900.0, 540475.0, 13781775.0, 6518075.0, 423350.0, 11020275.0, 2326900.0, 1486800.0, 743625.0, 14142675.0, 1561350.0, 23158540.0, 9250.0, 13661700.0, 0.0, 1784075.0, 1147950.0, 3372725.0]}],\n",
       "                        {\"coloraxis\": {\"colorbar\": {\"title\": {\"text\": \"Total money raised, $\"}}, \"colorscale\": [[0.0, \"#0d0887\"], [0.1111111111111111, \"#46039f\"], [0.2222222222222222, \"#7201a8\"], [0.3333333333333333, \"#9c179e\"], [0.4444444444444444, \"#bd3786\"], [0.5555555555555556, \"#d8576b\"], [0.6666666666666666, \"#ed7953\"], [0.7777777777777778, \"#fb9f3a\"], [0.8888888888888888, \"#fdca26\"], [1.0, \"#f0f921\"]]}, \"geo\": {\"center\": {}, \"domain\": {\"x\": [0.0, 1.0], \"y\": [0.0, 1.0]}, \"projection\": {\"type\": \"robinson\"}}, \"legend\": {\"tracegroupgap\": 0}, \"template\": {\"data\": {\"bar\": [{\"error_x\": {\"color\": \"#2a3f5f\"}, \"error_y\": {\"color\": \"#2a3f5f\"}, \"marker\": {\"line\": {\"color\": \"#E5ECF6\", \"width\": 0.5}}, \"type\": \"bar\"}], \"barpolar\": [{\"marker\": {\"line\": {\"color\": \"#E5ECF6\", \"width\": 0.5}}, \"type\": \"barpolar\"}], \"carpet\": [{\"aaxis\": {\"endlinecolor\": \"#2a3f5f\", \"gridcolor\": \"white\", \"linecolor\": \"white\", \"minorgridcolor\": \"white\", \"startlinecolor\": \"#2a3f5f\"}, \"baxis\": {\"endlinecolor\": \"#2a3f5f\", \"gridcolor\": \"white\", \"linecolor\": \"white\", \"minorgridcolor\": \"white\", \"startlinecolor\": \"#2a3f5f\"}, \"type\": \"carpet\"}], \"choropleth\": [{\"colorbar\": {\"outlinewidth\": 0, \"ticks\": \"\"}, \"type\": \"choropleth\"}], \"contour\": [{\"colorbar\": {\"outlinewidth\": 0, \"ticks\": \"\"}, \"colorscale\": [[0.0, \"#0d0887\"], [0.1111111111111111, \"#46039f\"], [0.2222222222222222, \"#7201a8\"], [0.3333333333333333, \"#9c179e\"], [0.4444444444444444, \"#bd3786\"], [0.5555555555555556, \"#d8576b\"], [0.6666666666666666, \"#ed7953\"], [0.7777777777777778, \"#fb9f3a\"], [0.8888888888888888, \"#fdca26\"], [1.0, \"#f0f921\"]], \"type\": \"contour\"}], \"contourcarpet\": [{\"colorbar\": {\"outlinewidth\": 0, \"ticks\": \"\"}, \"type\": \"contourcarpet\"}], \"heatmap\": [{\"colorbar\": {\"outlinewidth\": 0, \"ticks\": \"\"}, \"colorscale\": [[0.0, \"#0d0887\"], [0.1111111111111111, \"#46039f\"], [0.2222222222222222, \"#7201a8\"], [0.3333333333333333, \"#9c179e\"], [0.4444444444444444, \"#bd3786\"], [0.5555555555555556, \"#d8576b\"], [0.6666666666666666, \"#ed7953\"], [0.7777777777777778, \"#fb9f3a\"], [0.8888888888888888, \"#fdca26\"], [1.0, \"#f0f921\"]], \"type\": \"heatmap\"}], \"heatmapgl\": [{\"colorbar\": {\"outlinewidth\": 0, \"ticks\": \"\"}, \"colorscale\": [[0.0, \"#0d0887\"], [0.1111111111111111, \"#46039f\"], [0.2222222222222222, \"#7201a8\"], [0.3333333333333333, \"#9c179e\"], [0.4444444444444444, \"#bd3786\"], [0.5555555555555556, \"#d8576b\"], [0.6666666666666666, \"#ed7953\"], [0.7777777777777778, \"#fb9f3a\"], [0.8888888888888888, \"#fdca26\"], [1.0, \"#f0f921\"]], \"type\": \"heatmapgl\"}], \"histogram\": [{\"marker\": {\"colorbar\": {\"outlinewidth\": 0, \"ticks\": \"\"}}, \"type\": \"histogram\"}], \"histogram2d\": [{\"colorbar\": {\"outlinewidth\": 0, \"ticks\": \"\"}, \"colorscale\": [[0.0, \"#0d0887\"], [0.1111111111111111, \"#46039f\"], [0.2222222222222222, \"#7201a8\"], [0.3333333333333333, \"#9c179e\"], [0.4444444444444444, \"#bd3786\"], [0.5555555555555556, \"#d8576b\"], [0.6666666666666666, \"#ed7953\"], [0.7777777777777778, \"#fb9f3a\"], [0.8888888888888888, \"#fdca26\"], [1.0, \"#f0f921\"]], \"type\": \"histogram2d\"}], \"histogram2dcontour\": [{\"colorbar\": {\"outlinewidth\": 0, \"ticks\": \"\"}, \"colorscale\": [[0.0, \"#0d0887\"], [0.1111111111111111, \"#46039f\"], [0.2222222222222222, \"#7201a8\"], [0.3333333333333333, \"#9c179e\"], [0.4444444444444444, \"#bd3786\"], [0.5555555555555556, \"#d8576b\"], [0.6666666666666666, \"#ed7953\"], [0.7777777777777778, \"#fb9f3a\"], [0.8888888888888888, \"#fdca26\"], [1.0, \"#f0f921\"]], \"type\": \"histogram2dcontour\"}], \"mesh3d\": [{\"colorbar\": {\"outlinewidth\": 0, \"ticks\": \"\"}, \"type\": \"mesh3d\"}], \"parcoords\": [{\"line\": {\"colorbar\": {\"outlinewidth\": 0, \"ticks\": \"\"}}, \"type\": \"parcoords\"}], \"pie\": [{\"automargin\": true, \"type\": \"pie\"}], \"scatter\": [{\"marker\": {\"colorbar\": {\"outlinewidth\": 0, \"ticks\": \"\"}}, \"type\": \"scatter\"}], \"scatter3d\": [{\"line\": {\"colorbar\": {\"outlinewidth\": 0, \"ticks\": \"\"}}, \"marker\": {\"colorbar\": {\"outlinewidth\": 0, \"ticks\": \"\"}}, \"type\": \"scatter3d\"}], \"scattercarpet\": [{\"marker\": {\"colorbar\": {\"outlinewidth\": 0, \"ticks\": \"\"}}, \"type\": \"scattercarpet\"}], \"scattergeo\": [{\"marker\": {\"colorbar\": {\"outlinewidth\": 0, \"ticks\": \"\"}}, \"type\": \"scattergeo\"}], \"scattergl\": [{\"marker\": {\"colorbar\": {\"outlinewidth\": 0, \"ticks\": \"\"}}, \"type\": \"scattergl\"}], \"scattermapbox\": [{\"marker\": {\"colorbar\": {\"outlinewidth\": 0, \"ticks\": \"\"}}, \"type\": \"scattermapbox\"}], \"scatterpolar\": [{\"marker\": {\"colorbar\": {\"outlinewidth\": 0, \"ticks\": \"\"}}, \"type\": \"scatterpolar\"}], \"scatterpolargl\": [{\"marker\": {\"colorbar\": {\"outlinewidth\": 0, \"ticks\": \"\"}}, \"type\": \"scatterpolargl\"}], \"scatterternary\": [{\"marker\": {\"colorbar\": {\"outlinewidth\": 0, \"ticks\": \"\"}}, \"type\": \"scatterternary\"}], \"surface\": [{\"colorbar\": {\"outlinewidth\": 0, \"ticks\": \"\"}, \"colorscale\": [[0.0, \"#0d0887\"], [0.1111111111111111, \"#46039f\"], [0.2222222222222222, \"#7201a8\"], [0.3333333333333333, \"#9c179e\"], [0.4444444444444444, \"#bd3786\"], [0.5555555555555556, \"#d8576b\"], [0.6666666666666666, \"#ed7953\"], [0.7777777777777778, \"#fb9f3a\"], [0.8888888888888888, \"#fdca26\"], [1.0, \"#f0f921\"]], \"type\": \"surface\"}], \"table\": [{\"cells\": {\"fill\": {\"color\": \"#EBF0F8\"}, \"line\": {\"color\": \"white\"}}, \"header\": {\"fill\": {\"color\": \"#C8D4E3\"}, \"line\": {\"color\": \"white\"}}, \"type\": \"table\"}]}, \"layout\": {\"annotationdefaults\": {\"arrowcolor\": \"#2a3f5f\", \"arrowhead\": 0, \"arrowwidth\": 1}, \"coloraxis\": {\"colorbar\": {\"outlinewidth\": 0, \"ticks\": \"\"}}, \"colorscale\": {\"diverging\": [[0, \"#8e0152\"], [0.1, \"#c51b7d\"], [0.2, \"#de77ae\"], [0.3, \"#f1b6da\"], [0.4, \"#fde0ef\"], [0.5, \"#f7f7f7\"], [0.6, \"#e6f5d0\"], [0.7, \"#b8e186\"], [0.8, \"#7fbc41\"], [0.9, \"#4d9221\"], [1, \"#276419\"]], \"sequential\": [[0.0, \"#0d0887\"], [0.1111111111111111, \"#46039f\"], [0.2222222222222222, \"#7201a8\"], [0.3333333333333333, \"#9c179e\"], [0.4444444444444444, \"#bd3786\"], [0.5555555555555556, \"#d8576b\"], [0.6666666666666666, \"#ed7953\"], [0.7777777777777778, \"#fb9f3a\"], [0.8888888888888888, \"#fdca26\"], [1.0, \"#f0f921\"]], \"sequentialminus\": [[0.0, \"#0d0887\"], [0.1111111111111111, \"#46039f\"], [0.2222222222222222, \"#7201a8\"], [0.3333333333333333, \"#9c179e\"], [0.4444444444444444, \"#bd3786\"], [0.5555555555555556, \"#d8576b\"], [0.6666666666666666, \"#ed7953\"], [0.7777777777777778, \"#fb9f3a\"], [0.8888888888888888, \"#fdca26\"], [1.0, \"#f0f921\"]]}, \"colorway\": [\"#636efa\", \"#EF553B\", \"#00cc96\", \"#ab63fa\", \"#FFA15A\", \"#19d3f3\", \"#FF6692\", \"#B6E880\", \"#FF97FF\", \"#FECB52\"], \"font\": {\"color\": \"#2a3f5f\"}, \"geo\": {\"bgcolor\": \"white\", \"lakecolor\": \"white\", \"landcolor\": \"#E5ECF6\", \"showlakes\": true, \"showland\": true, \"subunitcolor\": \"white\"}, \"hoverlabel\": {\"align\": \"left\"}, \"hovermode\": \"closest\", \"mapbox\": {\"style\": \"light\"}, \"paper_bgcolor\": \"white\", \"plot_bgcolor\": \"#E5ECF6\", \"polar\": {\"angularaxis\": {\"gridcolor\": \"white\", \"linecolor\": \"white\", \"ticks\": \"\"}, \"bgcolor\": \"#E5ECF6\", \"radialaxis\": {\"gridcolor\": \"white\", \"linecolor\": \"white\", \"ticks\": \"\"}}, \"scene\": {\"xaxis\": {\"backgroundcolor\": \"#E5ECF6\", \"gridcolor\": \"white\", \"gridwidth\": 2, \"linecolor\": \"white\", \"showbackground\": true, \"ticks\": \"\", \"zerolinecolor\": \"white\"}, \"yaxis\": {\"backgroundcolor\": \"#E5ECF6\", \"gridcolor\": \"white\", \"gridwidth\": 2, \"linecolor\": \"white\", \"showbackground\": true, \"ticks\": \"\", \"zerolinecolor\": \"white\"}, \"zaxis\": {\"backgroundcolor\": \"#E5ECF6\", \"gridcolor\": \"white\", \"gridwidth\": 2, \"linecolor\": \"white\", \"showbackground\": true, \"ticks\": \"\", \"zerolinecolor\": \"white\"}}, \"shapedefaults\": {\"line\": {\"color\": \"#2a3f5f\"}}, \"ternary\": {\"aaxis\": {\"gridcolor\": \"white\", \"linecolor\": \"white\", \"ticks\": \"\"}, \"baxis\": {\"gridcolor\": \"white\", \"linecolor\": \"white\", \"ticks\": \"\"}, \"bgcolor\": \"#E5ECF6\", \"caxis\": {\"gridcolor\": \"white\", \"linecolor\": \"white\", \"ticks\": \"\"}}, \"title\": {\"x\": 0.05}, \"xaxis\": {\"automargin\": true, \"gridcolor\": \"white\", \"linecolor\": \"white\", \"ticks\": \"\", \"title\": {\"standoff\": 15}, \"zerolinecolor\": \"white\", \"zerolinewidth\": 2}, \"yaxis\": {\"automargin\": true, \"gridcolor\": \"white\", \"linecolor\": \"white\", \"ticks\": \"\", \"title\": {\"standoff\": 15}, \"zerolinecolor\": \"white\", \"zerolinewidth\": 2}}}, \"title\": {\"text\": \"Which countries attract more money, in total?\"}},\n",
       "                        {\"responsive\": true}\n",
       "                    ).then(function(){\n",
       "                            \n",
       "var gd = document.getElementById('c33743e8-b2c9-41de-a483-edd1b3cf3273');\n",
       "var x = new MutationObserver(function (mutations, observer) {{\n",
       "        var display = window.getComputedStyle(gd).display;\n",
       "        if (!display || display === 'none') {{\n",
       "            console.log([gd, 'removed!']);\n",
       "            Plotly.purge(gd);\n",
       "            observer.disconnect();\n",
       "        }}\n",
       "}});\n",
       "\n",
       "// Listen for the removal of the full notebook cells\n",
       "var notebookContainer = gd.closest('#notebook-container');\n",
       "if (notebookContainer) {{\n",
       "    x.observe(notebookContainer, {childList: true});\n",
       "}}\n",
       "\n",
       "// Listen for the clearing of the current output cell\n",
       "var outputEl = gd.closest('.output');\n",
       "if (outputEl) {{\n",
       "    x.observe(outputEl, {childList: true});\n",
       "}}\n",
       "\n",
       "                        })\n",
       "                };\n",
       "                });\n",
       "            </script>\n",
       "        </div>"
      ]
     },
     "metadata": {},
     "output_type": "display_data"
    }
   ],
   "source": [
    "fig = px.choropleth(countries, locations=\"Country code\",\n",
    "                    color='Total money raised, $',\n",
    "                    hover_name=\"Country\",\n",
    "                    projection='robinson',\n",
    "                    title='Which countries attract more money, in total?', \n",
    "                    color_continuous_scale=px.colors.sequential.Plasma)\n",
    "fig.show()"
   ]
  },
  {
   "cell_type": "markdown",
   "metadata": {},
   "source": [
    "Big money is flowing to Phillipines, Kenya, Peru, Paraguay, USA."
   ]
  },
  {
   "cell_type": "markdown",
   "metadata": {},
   "source": [
    "And what is average money raised pro project, by country?\n",
    "I will sort out countries where there were less than 10 projects so that they don't make noise with their 1-2 projects."
   ]
  },
  {
   "cell_type": "code",
   "execution_count": 43,
   "metadata": {},
   "outputs": [
    {
     "data": {
      "application/vnd.plotly.v1+json": {
       "config": {
        "plotlyServerURL": "https://plot.ly"
       },
       "data": [
        {
         "coloraxis": "coloraxis",
         "customdata": [
          [
           1934
          ],
          [
           8631
          ],
          [
           1945
          ],
          [
           125
          ],
          [
           497
          ],
          [
           8806
          ],
          [
           284
          ],
          [
           2460
          ],
          [
           880
          ],
          [
           34836
          ],
          [
           2230
          ],
          [
           10
          ],
          [
           134
          ],
          [
           21995
          ],
          [
           128
          ],
          [
           1561
          ],
          [
           496
          ],
          [
           13521
          ],
          [
           1639
          ],
          [
           39875
          ],
          [
           2409
          ],
          [
           4374
          ],
          [
           7310
          ],
          [
           3618
          ],
          [
           6557
          ],
          [
           11237
          ],
          [
           6214
          ],
          [
           993
          ],
          [
           190
          ],
          [
           4167
          ],
          [
           75825
          ],
          [
           1419
          ],
          [
           5774
          ],
          [
           1486
          ],
          [
           8792
          ],
          [
           422
          ],
          [
           3682
          ],
          [
           3821
          ],
          [
           1320
          ],
          [
           6639
          ],
          [
           5741
          ],
          [
           348
          ],
          [
           964
          ],
          [
           3483
          ],
          [
           1870
          ],
          [
           717
          ],
          [
           11781
          ],
          [
           10136
          ],
          [
           26857
          ],
          [
           8167
          ],
          [
           193
          ],
          [
           11903
          ],
          [
           22233
          ],
          [
           160441
          ],
          [
           68
          ],
          [
           6735
          ],
          [
           16
          ],
          [
           7396
          ],
          [
           3269
          ],
          [
           5415
          ],
          [
           554
          ],
          [
           75
          ],
          [
           378
          ],
          [
           160
          ],
          [
           223
          ],
          [
           19580
          ],
          [
           5219
          ],
          [
           180
          ],
          [
           3073
          ],
          [
           2690
          ],
          [
           5749
          ],
          [
           1703
          ],
          [
           20601
          ],
          [
           963
          ],
          [
           6093
          ],
          [
           10843
          ],
          [
           2313
          ],
          [
           784
          ],
          [
           4034
          ]
         ],
         "geo": "geo",
         "hoverlabel": {
          "namelength": 0
         },
         "hovertemplate": "<b>%{hovertext}</b><br><br># of projects=%{customdata[0]}<br>Country code=%{location}<br>Avg money raised pro project, $=%{z}",
         "hovertext": [
          "Albania",
          "Armenia",
          "Azerbaijan",
          "Belize",
          "Benin",
          "Bolivia",
          "Brazil",
          "Burkina Faso",
          "Burundi",
          "Cambodia",
          "Cameroon",
          "Chile",
          "China",
          "Colombia",
          "Congo",
          "Costa Rica",
          "Dominican Republic",
          "Ecuador",
          "Egypt",
          "El Salvador",
          "Georgia",
          "Ghana",
          "Guatemala",
          "Haiti",
          "Honduras",
          "India",
          "Indonesia",
          "Iraq",
          "Israel",
          "Jordan",
          "Kenya",
          "Kosovo",
          "Kyrgyzstan",
          "Lao People's Democratic Republic",
          "Lebanon",
          "Lesotho",
          "Liberia",
          "Madagascar",
          "Malawi",
          "Mali",
          "Mexico",
          "Moldova",
          "Mongolia",
          "Mozambique",
          "Myanmar (Burma)",
          "Nepal",
          "Nicaragua",
          "Nigeria",
          "Pakistan",
          "Palestine",
          "Panama",
          "Paraguay",
          "Peru",
          "Philippines",
          "Puerto Rico",
          "Rwanda",
          "Saint Vincent and the Grenadines",
          "Samoa",
          "Senegal",
          "Sierra Leone",
          "Solomon Islands",
          "Somalia",
          "South Africa",
          "South Sudan",
          "Suriname",
          "Tajikistan",
          "Tanzania",
          "Thailand",
          "The Democratic Republic of the Congo",
          "Timor-Leste",
          "Togo",
          "Turkey",
          "Uganda",
          "Ukraine",
          "United States",
          "Vietnam",
          "Yemen",
          "Zambia",
          "Zimbabwe"
         ],
         "locations": [
          "ALB",
          "ARM",
          "AZE",
          "BLZ",
          "BEN",
          "BOL",
          "BRA",
          "BFA",
          "BDI",
          "KHM",
          "CMR",
          "CHL",
          "CHN",
          "COL",
          "COG",
          "CRI",
          "DOM",
          "ECU",
          "EGY",
          "SLV",
          "GEO",
          "GHA",
          "GTM",
          "HTI",
          "HND",
          "IND",
          "IDN",
          "IRQ",
          "ISR",
          "JOR",
          "KEN",
          "SRB",
          "KGZ",
          "LAO",
          "LBN",
          "LSO",
          "LBR",
          "MDG",
          "MWI",
          "MLI",
          "MEX",
          "MDA",
          "MNG",
          "MOZ",
          "MMR",
          "NPL",
          "NIC",
          "NGA",
          "PAK",
          "PSE",
          "PAN",
          "PRY",
          "PER",
          "PHL",
          "PRI",
          "RWA",
          "VCT",
          "WSM",
          "SEN",
          "SLE",
          "SLB",
          "SOM",
          "ZAF",
          "SSD",
          "SUR",
          "TJK",
          "TZA",
          "THA",
          "COD",
          "TLS",
          "TGO",
          "TUR",
          "UGA",
          "UKR",
          "USA",
          "VNM",
          "YEM",
          "ZMB",
          "ZWE"
         ],
         "name": "",
         "type": "choropleth",
         "z": [
          1287.4870734229576,
          1296.1041594253272,
          1387.956298200514,
          912.2,
          1039.8893360160966,
          2075.4258460140813,
          2327.5528169014083,
          1182.9166666666667,
          2907.443181818182,
          540.1624755999541,
          392.60089686098655,
          7625,
          2787.126865671642,
          567.1186633325756,
          6142.578125,
          1291.175528507367,
          4200.604838709677,
          1079.720434879077,
          661.9432580841977,
          585.7736677115987,
          1398.7131589871317,
          1095.6732967535436,
          1495.8926128590972,
          732.3037589828634,
          864.4082659752936,
          575.496128860016,
          731.7388155777277,
          2629.6324269889224,
          3786.5789473684213,
          1062.0410367170625,
          425.3004286185295,
          1253.417899929528,
          1165.3186698995496,
          780.9051144010767,
          1314.4165150136487,
          851.9549763033175,
          317.28001086366106,
          320.22376341271917,
          1221.590909090909,
          1256.3413164633228,
          1635.8169308482843,
          1973.7068965517242,
          1650.8298755186722,
          550.9115704852139,
          1623.4491978609626,
          429.044630404463,
          836.4633732280791,
          187.97602604577742,
          464.20300107979295,
          1473.2490510591404,
          1415.9326424870467,
          2471.032512811896,
          1367.1052039760716,
          339.5414825387526,
          4409.191176470588,
          2302.242019302153,
          3076.5625,
          762.8211195240671,
          2086.165494034873,
          731.4958448753463,
          891.471119133574,
          3011.6666666666665,
          1518.584656084656,
          755.625,
          2423.654708520179,
          703.8700204290092,
          1248.9126269400267,
          2351.9444444444443,
          3586.1617312072894,
          865.0185873605948,
          258.6188902417812,
          436.6559013505578,
          686.5042959079657,
          1621.3395638629283,
          3800.8435910060725,
          1259.9557318085401,
          771.3251188932123,
          1464.2219387755101,
          836.074615765989
         ]
        }
       ],
       "layout": {
        "coloraxis": {
         "colorbar": {
          "title": {
           "text": "Avg money raised pro project, $"
          }
         },
         "colorscale": [
          [
           0,
           "#0d0887"
          ],
          [
           0.1111111111111111,
           "#46039f"
          ],
          [
           0.2222222222222222,
           "#7201a8"
          ],
          [
           0.3333333333333333,
           "#9c179e"
          ],
          [
           0.4444444444444444,
           "#bd3786"
          ],
          [
           0.5555555555555556,
           "#d8576b"
          ],
          [
           0.6666666666666666,
           "#ed7953"
          ],
          [
           0.7777777777777778,
           "#fb9f3a"
          ],
          [
           0.8888888888888888,
           "#fdca26"
          ],
          [
           1,
           "#f0f921"
          ]
         ]
        },
        "geo": {
         "center": {},
         "domain": {
          "x": [
           0,
           1
          ],
          "y": [
           0,
           1
          ]
         },
         "projection": {
          "type": "robinson"
         }
        },
        "legend": {
         "tracegroupgap": 0
        },
        "template": {
         "data": {
          "bar": [
           {
            "error_x": {
             "color": "#2a3f5f"
            },
            "error_y": {
             "color": "#2a3f5f"
            },
            "marker": {
             "line": {
              "color": "#E5ECF6",
              "width": 0.5
             }
            },
            "type": "bar"
           }
          ],
          "barpolar": [
           {
            "marker": {
             "line": {
              "color": "#E5ECF6",
              "width": 0.5
             }
            },
            "type": "barpolar"
           }
          ],
          "carpet": [
           {
            "aaxis": {
             "endlinecolor": "#2a3f5f",
             "gridcolor": "white",
             "linecolor": "white",
             "minorgridcolor": "white",
             "startlinecolor": "#2a3f5f"
            },
            "baxis": {
             "endlinecolor": "#2a3f5f",
             "gridcolor": "white",
             "linecolor": "white",
             "minorgridcolor": "white",
             "startlinecolor": "#2a3f5f"
            },
            "type": "carpet"
           }
          ],
          "choropleth": [
           {
            "colorbar": {
             "outlinewidth": 0,
             "ticks": ""
            },
            "type": "choropleth"
           }
          ],
          "contour": [
           {
            "colorbar": {
             "outlinewidth": 0,
             "ticks": ""
            },
            "colorscale": [
             [
              0,
              "#0d0887"
             ],
             [
              0.1111111111111111,
              "#46039f"
             ],
             [
              0.2222222222222222,
              "#7201a8"
             ],
             [
              0.3333333333333333,
              "#9c179e"
             ],
             [
              0.4444444444444444,
              "#bd3786"
             ],
             [
              0.5555555555555556,
              "#d8576b"
             ],
             [
              0.6666666666666666,
              "#ed7953"
             ],
             [
              0.7777777777777778,
              "#fb9f3a"
             ],
             [
              0.8888888888888888,
              "#fdca26"
             ],
             [
              1,
              "#f0f921"
             ]
            ],
            "type": "contour"
           }
          ],
          "contourcarpet": [
           {
            "colorbar": {
             "outlinewidth": 0,
             "ticks": ""
            },
            "type": "contourcarpet"
           }
          ],
          "heatmap": [
           {
            "colorbar": {
             "outlinewidth": 0,
             "ticks": ""
            },
            "colorscale": [
             [
              0,
              "#0d0887"
             ],
             [
              0.1111111111111111,
              "#46039f"
             ],
             [
              0.2222222222222222,
              "#7201a8"
             ],
             [
              0.3333333333333333,
              "#9c179e"
             ],
             [
              0.4444444444444444,
              "#bd3786"
             ],
             [
              0.5555555555555556,
              "#d8576b"
             ],
             [
              0.6666666666666666,
              "#ed7953"
             ],
             [
              0.7777777777777778,
              "#fb9f3a"
             ],
             [
              0.8888888888888888,
              "#fdca26"
             ],
             [
              1,
              "#f0f921"
             ]
            ],
            "type": "heatmap"
           }
          ],
          "heatmapgl": [
           {
            "colorbar": {
             "outlinewidth": 0,
             "ticks": ""
            },
            "colorscale": [
             [
              0,
              "#0d0887"
             ],
             [
              0.1111111111111111,
              "#46039f"
             ],
             [
              0.2222222222222222,
              "#7201a8"
             ],
             [
              0.3333333333333333,
              "#9c179e"
             ],
             [
              0.4444444444444444,
              "#bd3786"
             ],
             [
              0.5555555555555556,
              "#d8576b"
             ],
             [
              0.6666666666666666,
              "#ed7953"
             ],
             [
              0.7777777777777778,
              "#fb9f3a"
             ],
             [
              0.8888888888888888,
              "#fdca26"
             ],
             [
              1,
              "#f0f921"
             ]
            ],
            "type": "heatmapgl"
           }
          ],
          "histogram": [
           {
            "marker": {
             "colorbar": {
              "outlinewidth": 0,
              "ticks": ""
             }
            },
            "type": "histogram"
           }
          ],
          "histogram2d": [
           {
            "colorbar": {
             "outlinewidth": 0,
             "ticks": ""
            },
            "colorscale": [
             [
              0,
              "#0d0887"
             ],
             [
              0.1111111111111111,
              "#46039f"
             ],
             [
              0.2222222222222222,
              "#7201a8"
             ],
             [
              0.3333333333333333,
              "#9c179e"
             ],
             [
              0.4444444444444444,
              "#bd3786"
             ],
             [
              0.5555555555555556,
              "#d8576b"
             ],
             [
              0.6666666666666666,
              "#ed7953"
             ],
             [
              0.7777777777777778,
              "#fb9f3a"
             ],
             [
              0.8888888888888888,
              "#fdca26"
             ],
             [
              1,
              "#f0f921"
             ]
            ],
            "type": "histogram2d"
           }
          ],
          "histogram2dcontour": [
           {
            "colorbar": {
             "outlinewidth": 0,
             "ticks": ""
            },
            "colorscale": [
             [
              0,
              "#0d0887"
             ],
             [
              0.1111111111111111,
              "#46039f"
             ],
             [
              0.2222222222222222,
              "#7201a8"
             ],
             [
              0.3333333333333333,
              "#9c179e"
             ],
             [
              0.4444444444444444,
              "#bd3786"
             ],
             [
              0.5555555555555556,
              "#d8576b"
             ],
             [
              0.6666666666666666,
              "#ed7953"
             ],
             [
              0.7777777777777778,
              "#fb9f3a"
             ],
             [
              0.8888888888888888,
              "#fdca26"
             ],
             [
              1,
              "#f0f921"
             ]
            ],
            "type": "histogram2dcontour"
           }
          ],
          "mesh3d": [
           {
            "colorbar": {
             "outlinewidth": 0,
             "ticks": ""
            },
            "type": "mesh3d"
           }
          ],
          "parcoords": [
           {
            "line": {
             "colorbar": {
              "outlinewidth": 0,
              "ticks": ""
             }
            },
            "type": "parcoords"
           }
          ],
          "pie": [
           {
            "automargin": true,
            "type": "pie"
           }
          ],
          "scatter": [
           {
            "marker": {
             "colorbar": {
              "outlinewidth": 0,
              "ticks": ""
             }
            },
            "type": "scatter"
           }
          ],
          "scatter3d": [
           {
            "line": {
             "colorbar": {
              "outlinewidth": 0,
              "ticks": ""
             }
            },
            "marker": {
             "colorbar": {
              "outlinewidth": 0,
              "ticks": ""
             }
            },
            "type": "scatter3d"
           }
          ],
          "scattercarpet": [
           {
            "marker": {
             "colorbar": {
              "outlinewidth": 0,
              "ticks": ""
             }
            },
            "type": "scattercarpet"
           }
          ],
          "scattergeo": [
           {
            "marker": {
             "colorbar": {
              "outlinewidth": 0,
              "ticks": ""
             }
            },
            "type": "scattergeo"
           }
          ],
          "scattergl": [
           {
            "marker": {
             "colorbar": {
              "outlinewidth": 0,
              "ticks": ""
             }
            },
            "type": "scattergl"
           }
          ],
          "scattermapbox": [
           {
            "marker": {
             "colorbar": {
              "outlinewidth": 0,
              "ticks": ""
             }
            },
            "type": "scattermapbox"
           }
          ],
          "scatterpolar": [
           {
            "marker": {
             "colorbar": {
              "outlinewidth": 0,
              "ticks": ""
             }
            },
            "type": "scatterpolar"
           }
          ],
          "scatterpolargl": [
           {
            "marker": {
             "colorbar": {
              "outlinewidth": 0,
              "ticks": ""
             }
            },
            "type": "scatterpolargl"
           }
          ],
          "scatterternary": [
           {
            "marker": {
             "colorbar": {
              "outlinewidth": 0,
              "ticks": ""
             }
            },
            "type": "scatterternary"
           }
          ],
          "surface": [
           {
            "colorbar": {
             "outlinewidth": 0,
             "ticks": ""
            },
            "colorscale": [
             [
              0,
              "#0d0887"
             ],
             [
              0.1111111111111111,
              "#46039f"
             ],
             [
              0.2222222222222222,
              "#7201a8"
             ],
             [
              0.3333333333333333,
              "#9c179e"
             ],
             [
              0.4444444444444444,
              "#bd3786"
             ],
             [
              0.5555555555555556,
              "#d8576b"
             ],
             [
              0.6666666666666666,
              "#ed7953"
             ],
             [
              0.7777777777777778,
              "#fb9f3a"
             ],
             [
              0.8888888888888888,
              "#fdca26"
             ],
             [
              1,
              "#f0f921"
             ]
            ],
            "type": "surface"
           }
          ],
          "table": [
           {
            "cells": {
             "fill": {
              "color": "#EBF0F8"
             },
             "line": {
              "color": "white"
             }
            },
            "header": {
             "fill": {
              "color": "#C8D4E3"
             },
             "line": {
              "color": "white"
             }
            },
            "type": "table"
           }
          ]
         },
         "layout": {
          "annotationdefaults": {
           "arrowcolor": "#2a3f5f",
           "arrowhead": 0,
           "arrowwidth": 1
          },
          "coloraxis": {
           "colorbar": {
            "outlinewidth": 0,
            "ticks": ""
           }
          },
          "colorscale": {
           "diverging": [
            [
             0,
             "#8e0152"
            ],
            [
             0.1,
             "#c51b7d"
            ],
            [
             0.2,
             "#de77ae"
            ],
            [
             0.3,
             "#f1b6da"
            ],
            [
             0.4,
             "#fde0ef"
            ],
            [
             0.5,
             "#f7f7f7"
            ],
            [
             0.6,
             "#e6f5d0"
            ],
            [
             0.7,
             "#b8e186"
            ],
            [
             0.8,
             "#7fbc41"
            ],
            [
             0.9,
             "#4d9221"
            ],
            [
             1,
             "#276419"
            ]
           ],
           "sequential": [
            [
             0,
             "#0d0887"
            ],
            [
             0.1111111111111111,
             "#46039f"
            ],
            [
             0.2222222222222222,
             "#7201a8"
            ],
            [
             0.3333333333333333,
             "#9c179e"
            ],
            [
             0.4444444444444444,
             "#bd3786"
            ],
            [
             0.5555555555555556,
             "#d8576b"
            ],
            [
             0.6666666666666666,
             "#ed7953"
            ],
            [
             0.7777777777777778,
             "#fb9f3a"
            ],
            [
             0.8888888888888888,
             "#fdca26"
            ],
            [
             1,
             "#f0f921"
            ]
           ],
           "sequentialminus": [
            [
             0,
             "#0d0887"
            ],
            [
             0.1111111111111111,
             "#46039f"
            ],
            [
             0.2222222222222222,
             "#7201a8"
            ],
            [
             0.3333333333333333,
             "#9c179e"
            ],
            [
             0.4444444444444444,
             "#bd3786"
            ],
            [
             0.5555555555555556,
             "#d8576b"
            ],
            [
             0.6666666666666666,
             "#ed7953"
            ],
            [
             0.7777777777777778,
             "#fb9f3a"
            ],
            [
             0.8888888888888888,
             "#fdca26"
            ],
            [
             1,
             "#f0f921"
            ]
           ]
          },
          "colorway": [
           "#636efa",
           "#EF553B",
           "#00cc96",
           "#ab63fa",
           "#FFA15A",
           "#19d3f3",
           "#FF6692",
           "#B6E880",
           "#FF97FF",
           "#FECB52"
          ],
          "font": {
           "color": "#2a3f5f"
          },
          "geo": {
           "bgcolor": "white",
           "lakecolor": "white",
           "landcolor": "#E5ECF6",
           "showlakes": true,
           "showland": true,
           "subunitcolor": "white"
          },
          "hoverlabel": {
           "align": "left"
          },
          "hovermode": "closest",
          "mapbox": {
           "style": "light"
          },
          "paper_bgcolor": "white",
          "plot_bgcolor": "#E5ECF6",
          "polar": {
           "angularaxis": {
            "gridcolor": "white",
            "linecolor": "white",
            "ticks": ""
           },
           "bgcolor": "#E5ECF6",
           "radialaxis": {
            "gridcolor": "white",
            "linecolor": "white",
            "ticks": ""
           }
          },
          "scene": {
           "xaxis": {
            "backgroundcolor": "#E5ECF6",
            "gridcolor": "white",
            "gridwidth": 2,
            "linecolor": "white",
            "showbackground": true,
            "ticks": "",
            "zerolinecolor": "white"
           },
           "yaxis": {
            "backgroundcolor": "#E5ECF6",
            "gridcolor": "white",
            "gridwidth": 2,
            "linecolor": "white",
            "showbackground": true,
            "ticks": "",
            "zerolinecolor": "white"
           },
           "zaxis": {
            "backgroundcolor": "#E5ECF6",
            "gridcolor": "white",
            "gridwidth": 2,
            "linecolor": "white",
            "showbackground": true,
            "ticks": "",
            "zerolinecolor": "white"
           }
          },
          "shapedefaults": {
           "line": {
            "color": "#2a3f5f"
           }
          },
          "ternary": {
           "aaxis": {
            "gridcolor": "white",
            "linecolor": "white",
            "ticks": ""
           },
           "baxis": {
            "gridcolor": "white",
            "linecolor": "white",
            "ticks": ""
           },
           "bgcolor": "#E5ECF6",
           "caxis": {
            "gridcolor": "white",
            "linecolor": "white",
            "ticks": ""
           }
          },
          "title": {
           "x": 0.05
          },
          "xaxis": {
           "automargin": true,
           "gridcolor": "white",
           "linecolor": "white",
           "ticks": "",
           "title": {
            "standoff": 15
           },
           "zerolinecolor": "white",
           "zerolinewidth": 2
          },
          "yaxis": {
           "automargin": true,
           "gridcolor": "white",
           "linecolor": "white",
           "ticks": "",
           "title": {
            "standoff": 15
           },
           "zerolinecolor": "white",
           "zerolinewidth": 2
          }
         }
        },
        "title": {
         "text": "Average sum raised pro project, $"
        }
       }
      },
      "text/html": [
       "<div>\n",
       "        \n",
       "        \n",
       "            <div id=\"c4af1c8d-369f-40a2-b423-e5b84d379264\" class=\"plotly-graph-div\" style=\"height:525px; width:100%;\"></div>\n",
       "            <script type=\"text/javascript\">\n",
       "                require([\"plotly\"], function(Plotly) {\n",
       "                    window.PLOTLYENV=window.PLOTLYENV || {};\n",
       "                    \n",
       "                if (document.getElementById(\"c4af1c8d-369f-40a2-b423-e5b84d379264\")) {\n",
       "                    Plotly.newPlot(\n",
       "                        'c4af1c8d-369f-40a2-b423-e5b84d379264',\n",
       "                        [{\"coloraxis\": \"coloraxis\", \"customdata\": [[1934.0], [8631.0], [1945.0], [125.0], [497.0], [8806.0], [284.0], [2460.0], [880.0], [34836.0], [2230.0], [10.0], [134.0], [21995.0], [128.0], [1561.0], [496.0], [13521.0], [1639.0], [39875.0], [2409.0], [4374.0], [7310.0], [3618.0], [6557.0], [11237.0], [6214.0], [993.0], [190.0], [4167.0], [75825.0], [1419.0], [5774.0], [1486.0], [8792.0], [422.0], [3682.0], [3821.0], [1320.0], [6639.0], [5741.0], [348.0], [964.0], [3483.0], [1870.0], [717.0], [11781.0], [10136.0], [26857.0], [8167.0], [193.0], [11903.0], [22233.0], [160441.0], [68.0], [6735.0], [16.0], [7396.0], [3269.0], [5415.0], [554.0], [75.0], [378.0], [160.0], [223.0], [19580.0], [5219.0], [180.0], [3073.0], [2690.0], [5749.0], [1703.0], [20601.0], [963.0], [6093.0], [10843.0], [2313.0], [784.0], [4034.0]], \"geo\": \"geo\", \"hoverlabel\": {\"namelength\": 0}, \"hovertemplate\": \"<b>%{hovertext}</b><br><br># of projects=%{customdata[0]}<br>Country code=%{location}<br>Avg money raised pro project, $=%{z}\", \"hovertext\": [\"Albania\", \"Armenia\", \"Azerbaijan\", \"Belize\", \"Benin\", \"Bolivia\", \"Brazil\", \"Burkina Faso\", \"Burundi\", \"Cambodia\", \"Cameroon\", \"Chile\", \"China\", \"Colombia\", \"Congo\", \"Costa Rica\", \"Dominican Republic\", \"Ecuador\", \"Egypt\", \"El Salvador\", \"Georgia\", \"Ghana\", \"Guatemala\", \"Haiti\", \"Honduras\", \"India\", \"Indonesia\", \"Iraq\", \"Israel\", \"Jordan\", \"Kenya\", \"Kosovo\", \"Kyrgyzstan\", \"Lao People's Democratic Republic\", \"Lebanon\", \"Lesotho\", \"Liberia\", \"Madagascar\", \"Malawi\", \"Mali\", \"Mexico\", \"Moldova\", \"Mongolia\", \"Mozambique\", \"Myanmar (Burma)\", \"Nepal\", \"Nicaragua\", \"Nigeria\", \"Pakistan\", \"Palestine\", \"Panama\", \"Paraguay\", \"Peru\", \"Philippines\", \"Puerto Rico\", \"Rwanda\", \"Saint Vincent and the Grenadines\", \"Samoa\", \"Senegal\", \"Sierra Leone\", \"Solomon Islands\", \"Somalia\", \"South Africa\", \"South Sudan\", \"Suriname\", \"Tajikistan\", \"Tanzania\", \"Thailand\", \"The Democratic Republic of the Congo\", \"Timor-Leste\", \"Togo\", \"Turkey\", \"Uganda\", \"Ukraine\", \"United States\", \"Vietnam\", \"Yemen\", \"Zambia\", \"Zimbabwe\"], \"locations\": [\"ALB\", \"ARM\", \"AZE\", \"BLZ\", \"BEN\", \"BOL\", \"BRA\", \"BFA\", \"BDI\", \"KHM\", \"CMR\", \"CHL\", \"CHN\", \"COL\", \"COG\", \"CRI\", \"DOM\", \"ECU\", \"EGY\", \"SLV\", \"GEO\", \"GHA\", \"GTM\", \"HTI\", \"HND\", \"IND\", \"IDN\", \"IRQ\", \"ISR\", \"JOR\", \"KEN\", \"SRB\", \"KGZ\", \"LAO\", \"LBN\", \"LSO\", \"LBR\", \"MDG\", \"MWI\", \"MLI\", \"MEX\", \"MDA\", \"MNG\", \"MOZ\", \"MMR\", \"NPL\", \"NIC\", \"NGA\", \"PAK\", \"PSE\", \"PAN\", \"PRY\", \"PER\", \"PHL\", \"PRI\", \"RWA\", \"VCT\", \"WSM\", \"SEN\", \"SLE\", \"SLB\", \"SOM\", \"ZAF\", \"SSD\", \"SUR\", \"TJK\", \"TZA\", \"THA\", \"COD\", \"TLS\", \"TGO\", \"TUR\", \"UGA\", \"UKR\", \"USA\", \"VNM\", \"YEM\", \"ZMB\", \"ZWE\"], \"name\": \"\", \"type\": \"choropleth\", \"z\": [1287.4870734229576, 1296.1041594253272, 1387.956298200514, 912.2, 1039.8893360160966, 2075.4258460140813, 2327.5528169014083, 1182.9166666666667, 2907.443181818182, 540.1624755999541, 392.60089686098655, 7625.0, 2787.126865671642, 567.1186633325756, 6142.578125, 1291.175528507367, 4200.604838709677, 1079.720434879077, 661.9432580841977, 585.7736677115987, 1398.7131589871317, 1095.6732967535436, 1495.8926128590972, 732.3037589828634, 864.4082659752936, 575.496128860016, 731.7388155777277, 2629.6324269889224, 3786.5789473684213, 1062.0410367170625, 425.3004286185295, 1253.417899929528, 1165.3186698995496, 780.9051144010767, 1314.4165150136487, 851.9549763033175, 317.28001086366106, 320.22376341271917, 1221.590909090909, 1256.3413164633228, 1635.8169308482843, 1973.7068965517242, 1650.8298755186722, 550.9115704852139, 1623.4491978609626, 429.044630404463, 836.4633732280791, 187.97602604577742, 464.20300107979295, 1473.2490510591404, 1415.9326424870467, 2471.032512811896, 1367.1052039760716, 339.5414825387526, 4409.191176470588, 2302.242019302153, 3076.5625, 762.8211195240671, 2086.165494034873, 731.4958448753463, 891.471119133574, 3011.6666666666665, 1518.584656084656, 755.625, 2423.654708520179, 703.8700204290092, 1248.9126269400267, 2351.9444444444443, 3586.1617312072894, 865.0185873605948, 258.6188902417812, 436.6559013505578, 686.5042959079657, 1621.3395638629283, 3800.8435910060725, 1259.9557318085401, 771.3251188932123, 1464.2219387755101, 836.074615765989]}],\n",
       "                        {\"coloraxis\": {\"colorbar\": {\"title\": {\"text\": \"Avg money raised pro project, $\"}}, \"colorscale\": [[0.0, \"#0d0887\"], [0.1111111111111111, \"#46039f\"], [0.2222222222222222, \"#7201a8\"], [0.3333333333333333, \"#9c179e\"], [0.4444444444444444, \"#bd3786\"], [0.5555555555555556, \"#d8576b\"], [0.6666666666666666, \"#ed7953\"], [0.7777777777777778, \"#fb9f3a\"], [0.8888888888888888, \"#fdca26\"], [1.0, \"#f0f921\"]]}, \"geo\": {\"center\": {}, \"domain\": {\"x\": [0.0, 1.0], \"y\": [0.0, 1.0]}, \"projection\": {\"type\": \"robinson\"}}, \"legend\": {\"tracegroupgap\": 0}, \"template\": {\"data\": {\"bar\": [{\"error_x\": {\"color\": \"#2a3f5f\"}, \"error_y\": {\"color\": \"#2a3f5f\"}, \"marker\": {\"line\": {\"color\": \"#E5ECF6\", \"width\": 0.5}}, \"type\": \"bar\"}], \"barpolar\": [{\"marker\": {\"line\": {\"color\": \"#E5ECF6\", \"width\": 0.5}}, \"type\": \"barpolar\"}], \"carpet\": [{\"aaxis\": {\"endlinecolor\": \"#2a3f5f\", \"gridcolor\": \"white\", \"linecolor\": \"white\", \"minorgridcolor\": \"white\", \"startlinecolor\": \"#2a3f5f\"}, \"baxis\": {\"endlinecolor\": \"#2a3f5f\", \"gridcolor\": \"white\", \"linecolor\": \"white\", \"minorgridcolor\": \"white\", \"startlinecolor\": \"#2a3f5f\"}, \"type\": \"carpet\"}], \"choropleth\": [{\"colorbar\": {\"outlinewidth\": 0, \"ticks\": \"\"}, \"type\": \"choropleth\"}], \"contour\": [{\"colorbar\": {\"outlinewidth\": 0, \"ticks\": \"\"}, \"colorscale\": [[0.0, \"#0d0887\"], [0.1111111111111111, \"#46039f\"], [0.2222222222222222, \"#7201a8\"], [0.3333333333333333, \"#9c179e\"], [0.4444444444444444, \"#bd3786\"], [0.5555555555555556, \"#d8576b\"], [0.6666666666666666, \"#ed7953\"], [0.7777777777777778, \"#fb9f3a\"], [0.8888888888888888, \"#fdca26\"], [1.0, \"#f0f921\"]], \"type\": \"contour\"}], \"contourcarpet\": [{\"colorbar\": {\"outlinewidth\": 0, \"ticks\": \"\"}, \"type\": \"contourcarpet\"}], \"heatmap\": [{\"colorbar\": {\"outlinewidth\": 0, \"ticks\": \"\"}, \"colorscale\": [[0.0, \"#0d0887\"], [0.1111111111111111, \"#46039f\"], [0.2222222222222222, \"#7201a8\"], [0.3333333333333333, \"#9c179e\"], [0.4444444444444444, \"#bd3786\"], [0.5555555555555556, \"#d8576b\"], [0.6666666666666666, \"#ed7953\"], [0.7777777777777778, \"#fb9f3a\"], [0.8888888888888888, \"#fdca26\"], [1.0, \"#f0f921\"]], \"type\": \"heatmap\"}], \"heatmapgl\": [{\"colorbar\": {\"outlinewidth\": 0, \"ticks\": \"\"}, \"colorscale\": [[0.0, \"#0d0887\"], [0.1111111111111111, \"#46039f\"], [0.2222222222222222, \"#7201a8\"], [0.3333333333333333, \"#9c179e\"], [0.4444444444444444, \"#bd3786\"], [0.5555555555555556, \"#d8576b\"], [0.6666666666666666, \"#ed7953\"], [0.7777777777777778, \"#fb9f3a\"], [0.8888888888888888, \"#fdca26\"], [1.0, \"#f0f921\"]], \"type\": \"heatmapgl\"}], \"histogram\": [{\"marker\": {\"colorbar\": {\"outlinewidth\": 0, \"ticks\": \"\"}}, \"type\": \"histogram\"}], \"histogram2d\": [{\"colorbar\": {\"outlinewidth\": 0, \"ticks\": \"\"}, \"colorscale\": [[0.0, \"#0d0887\"], [0.1111111111111111, \"#46039f\"], [0.2222222222222222, \"#7201a8\"], [0.3333333333333333, \"#9c179e\"], [0.4444444444444444, \"#bd3786\"], [0.5555555555555556, \"#d8576b\"], [0.6666666666666666, \"#ed7953\"], [0.7777777777777778, \"#fb9f3a\"], [0.8888888888888888, \"#fdca26\"], [1.0, \"#f0f921\"]], \"type\": \"histogram2d\"}], \"histogram2dcontour\": [{\"colorbar\": {\"outlinewidth\": 0, \"ticks\": \"\"}, \"colorscale\": [[0.0, \"#0d0887\"], [0.1111111111111111, \"#46039f\"], [0.2222222222222222, \"#7201a8\"], [0.3333333333333333, \"#9c179e\"], [0.4444444444444444, \"#bd3786\"], [0.5555555555555556, \"#d8576b\"], [0.6666666666666666, \"#ed7953\"], [0.7777777777777778, \"#fb9f3a\"], [0.8888888888888888, \"#fdca26\"], [1.0, \"#f0f921\"]], \"type\": \"histogram2dcontour\"}], \"mesh3d\": [{\"colorbar\": {\"outlinewidth\": 0, \"ticks\": \"\"}, \"type\": \"mesh3d\"}], \"parcoords\": [{\"line\": {\"colorbar\": {\"outlinewidth\": 0, \"ticks\": \"\"}}, \"type\": \"parcoords\"}], \"pie\": [{\"automargin\": true, \"type\": \"pie\"}], \"scatter\": [{\"marker\": {\"colorbar\": {\"outlinewidth\": 0, \"ticks\": \"\"}}, \"type\": \"scatter\"}], \"scatter3d\": [{\"line\": {\"colorbar\": {\"outlinewidth\": 0, \"ticks\": \"\"}}, \"marker\": {\"colorbar\": {\"outlinewidth\": 0, \"ticks\": \"\"}}, \"type\": \"scatter3d\"}], \"scattercarpet\": [{\"marker\": {\"colorbar\": {\"outlinewidth\": 0, \"ticks\": \"\"}}, \"type\": \"scattercarpet\"}], \"scattergeo\": [{\"marker\": {\"colorbar\": {\"outlinewidth\": 0, \"ticks\": \"\"}}, \"type\": \"scattergeo\"}], \"scattergl\": [{\"marker\": {\"colorbar\": {\"outlinewidth\": 0, \"ticks\": \"\"}}, \"type\": \"scattergl\"}], \"scattermapbox\": [{\"marker\": {\"colorbar\": {\"outlinewidth\": 0, \"ticks\": \"\"}}, \"type\": \"scattermapbox\"}], \"scatterpolar\": [{\"marker\": {\"colorbar\": {\"outlinewidth\": 0, \"ticks\": \"\"}}, \"type\": \"scatterpolar\"}], \"scatterpolargl\": [{\"marker\": {\"colorbar\": {\"outlinewidth\": 0, \"ticks\": \"\"}}, \"type\": \"scatterpolargl\"}], \"scatterternary\": [{\"marker\": {\"colorbar\": {\"outlinewidth\": 0, \"ticks\": \"\"}}, \"type\": \"scatterternary\"}], \"surface\": [{\"colorbar\": {\"outlinewidth\": 0, \"ticks\": \"\"}, \"colorscale\": [[0.0, \"#0d0887\"], [0.1111111111111111, \"#46039f\"], [0.2222222222222222, \"#7201a8\"], [0.3333333333333333, \"#9c179e\"], [0.4444444444444444, \"#bd3786\"], [0.5555555555555556, \"#d8576b\"], [0.6666666666666666, \"#ed7953\"], [0.7777777777777778, \"#fb9f3a\"], [0.8888888888888888, \"#fdca26\"], [1.0, \"#f0f921\"]], \"type\": \"surface\"}], \"table\": [{\"cells\": {\"fill\": {\"color\": \"#EBF0F8\"}, \"line\": {\"color\": \"white\"}}, \"header\": {\"fill\": {\"color\": \"#C8D4E3\"}, \"line\": {\"color\": \"white\"}}, \"type\": \"table\"}]}, \"layout\": {\"annotationdefaults\": {\"arrowcolor\": \"#2a3f5f\", \"arrowhead\": 0, \"arrowwidth\": 1}, \"coloraxis\": {\"colorbar\": {\"outlinewidth\": 0, \"ticks\": \"\"}}, \"colorscale\": {\"diverging\": [[0, \"#8e0152\"], [0.1, \"#c51b7d\"], [0.2, \"#de77ae\"], [0.3, \"#f1b6da\"], [0.4, \"#fde0ef\"], [0.5, \"#f7f7f7\"], [0.6, \"#e6f5d0\"], [0.7, \"#b8e186\"], [0.8, \"#7fbc41\"], [0.9, \"#4d9221\"], [1, \"#276419\"]], \"sequential\": [[0.0, \"#0d0887\"], [0.1111111111111111, \"#46039f\"], [0.2222222222222222, \"#7201a8\"], [0.3333333333333333, \"#9c179e\"], [0.4444444444444444, \"#bd3786\"], [0.5555555555555556, \"#d8576b\"], [0.6666666666666666, \"#ed7953\"], [0.7777777777777778, \"#fb9f3a\"], [0.8888888888888888, \"#fdca26\"], [1.0, \"#f0f921\"]], \"sequentialminus\": [[0.0, \"#0d0887\"], [0.1111111111111111, \"#46039f\"], [0.2222222222222222, \"#7201a8\"], [0.3333333333333333, \"#9c179e\"], [0.4444444444444444, \"#bd3786\"], [0.5555555555555556, \"#d8576b\"], [0.6666666666666666, \"#ed7953\"], [0.7777777777777778, \"#fb9f3a\"], [0.8888888888888888, \"#fdca26\"], [1.0, \"#f0f921\"]]}, \"colorway\": [\"#636efa\", \"#EF553B\", \"#00cc96\", \"#ab63fa\", \"#FFA15A\", \"#19d3f3\", \"#FF6692\", \"#B6E880\", \"#FF97FF\", \"#FECB52\"], \"font\": {\"color\": \"#2a3f5f\"}, \"geo\": {\"bgcolor\": \"white\", \"lakecolor\": \"white\", \"landcolor\": \"#E5ECF6\", \"showlakes\": true, \"showland\": true, \"subunitcolor\": \"white\"}, \"hoverlabel\": {\"align\": \"left\"}, \"hovermode\": \"closest\", \"mapbox\": {\"style\": \"light\"}, \"paper_bgcolor\": \"white\", \"plot_bgcolor\": \"#E5ECF6\", \"polar\": {\"angularaxis\": {\"gridcolor\": \"white\", \"linecolor\": \"white\", \"ticks\": \"\"}, \"bgcolor\": \"#E5ECF6\", \"radialaxis\": {\"gridcolor\": \"white\", \"linecolor\": \"white\", \"ticks\": \"\"}}, \"scene\": {\"xaxis\": {\"backgroundcolor\": \"#E5ECF6\", \"gridcolor\": \"white\", \"gridwidth\": 2, \"linecolor\": \"white\", \"showbackground\": true, \"ticks\": \"\", \"zerolinecolor\": \"white\"}, \"yaxis\": {\"backgroundcolor\": \"#E5ECF6\", \"gridcolor\": \"white\", \"gridwidth\": 2, \"linecolor\": \"white\", \"showbackground\": true, \"ticks\": \"\", \"zerolinecolor\": \"white\"}, \"zaxis\": {\"backgroundcolor\": \"#E5ECF6\", \"gridcolor\": \"white\", \"gridwidth\": 2, \"linecolor\": \"white\", \"showbackground\": true, \"ticks\": \"\", \"zerolinecolor\": \"white\"}}, \"shapedefaults\": {\"line\": {\"color\": \"#2a3f5f\"}}, \"ternary\": {\"aaxis\": {\"gridcolor\": \"white\", \"linecolor\": \"white\", \"ticks\": \"\"}, \"baxis\": {\"gridcolor\": \"white\", \"linecolor\": \"white\", \"ticks\": \"\"}, \"bgcolor\": \"#E5ECF6\", \"caxis\": {\"gridcolor\": \"white\", \"linecolor\": \"white\", \"ticks\": \"\"}}, \"title\": {\"x\": 0.05}, \"xaxis\": {\"automargin\": true, \"gridcolor\": \"white\", \"linecolor\": \"white\", \"ticks\": \"\", \"title\": {\"standoff\": 15}, \"zerolinecolor\": \"white\", \"zerolinewidth\": 2}, \"yaxis\": {\"automargin\": true, \"gridcolor\": \"white\", \"linecolor\": \"white\", \"ticks\": \"\", \"title\": {\"standoff\": 15}, \"zerolinecolor\": \"white\", \"zerolinewidth\": 2}}}, \"title\": {\"text\": \"Average sum raised pro project, $\"}},\n",
       "                        {\"responsive\": true}\n",
       "                    ).then(function(){\n",
       "                            \n",
       "var gd = document.getElementById('c4af1c8d-369f-40a2-b423-e5b84d379264');\n",
       "var x = new MutationObserver(function (mutations, observer) {{\n",
       "        var display = window.getComputedStyle(gd).display;\n",
       "        if (!display || display === 'none') {{\n",
       "            console.log([gd, 'removed!']);\n",
       "            Plotly.purge(gd);\n",
       "            observer.disconnect();\n",
       "        }}\n",
       "}});\n",
       "\n",
       "// Listen for the removal of the full notebook cells\n",
       "var notebookContainer = gd.closest('#notebook-container');\n",
       "if (notebookContainer) {{\n",
       "    x.observe(notebookContainer, {childList: true});\n",
       "}}\n",
       "\n",
       "// Listen for the clearing of the current output cell\n",
       "var outputEl = gd.closest('.output');\n",
       "if (outputEl) {{\n",
       "    x.observe(outputEl, {childList: true});\n",
       "}}\n",
       "\n",
       "                        })\n",
       "                };\n",
       "                });\n",
       "            </script>\n",
       "        </div>"
      ]
     },
     "metadata": {},
     "output_type": "display_data"
    }
   ],
   "source": [
    "data = countries.loc[countries['# of projects']>=10]\n",
    "\n",
    "fig = px.choropleth(data, locations=\"Country code\",\n",
    "                    color='Avg money raised pro project, $',\n",
    "                    hover_name=\"Country\",\n",
    "                    hover_data=[\"# of projects\"],\n",
    "                    title='Average sum raised pro project, $', \n",
    "                    color_continuous_scale=px.colors.sequential.Plasma,\n",
    "                    projection='robinson'\n",
    "    )\n",
    "fig.show()"
   ]
  },
  {
   "cell_type": "markdown",
   "metadata": {},
   "source": [
    "Chile has the most expensive projects, followed by Congo."
   ]
  },
  {
   "cell_type": "markdown",
   "metadata": {},
   "source": [
    "Projects related to 12 lucrative activities - where do they come from?"
   ]
  },
  {
   "cell_type": "code",
   "execution_count": 44,
   "metadata": {},
   "outputs": [],
   "source": [
    "data = df.loc[df['activity'].isin([\n",
    "    'Landscaping / Gardening',\n",
    "    'Renewable Energy Products',\n",
    "    'Technology',\n",
    "    'Communications',\n",
    "    'Child Care',\n",
    "    'Cleaning Services',\n",
    "    'Film',\n",
    "    'Used Shoes',\n",
    "    'Florist',\n",
    "    'Perfumes',\n",
    "    'Adult Care',\n",
    "    'Goods Distribution'\n",
    "])\n",
    "                    ]"
   ]
  },
  {
   "cell_type": "code",
   "execution_count": 45,
   "metadata": {},
   "outputs": [],
   "source": [
    "countries_sel = data.groupby(['country', 'country_alpha_3']).agg({'funded_amount': ['size', 'sum', 'mean'], 'lender_count':'mean', 'share_gathered':'mean'})\n",
    "countries_sel.reset_index(inplace=True)\n",
    "countries_sel.columns = countries_sel.columns.get_level_values(1)\n",
    "countries_sel.columns = ['Country', 'Country code', '# of projects', 'Total money raised, $', 'Avg money raised pro project, $', 'Avg investors', 'Avg share gathered, %']\n",
    "countries_sel = countries_sel.dropna()"
   ]
  },
  {
   "cell_type": "code",
   "execution_count": 46,
   "metadata": {},
   "outputs": [
    {
     "data": {
      "application/vnd.plotly.v1+json": {
       "config": {
        "plotlyServerURL": "https://plot.ly"
       },
       "data": [
        {
         "coloraxis": "coloraxis",
         "geo": "geo",
         "hoverlabel": {
          "namelength": 0
         },
         "hovertemplate": "<b>%{hovertext}</b><br><br>Country code=%{location}<br># of projects=%{z}",
         "hovertext": [
          "Albania",
          "Armenia",
          "Azerbaijan",
          "Bolivia",
          "Brazil",
          "Burkina Faso",
          "Burundi",
          "Cambodia",
          "Cameroon",
          "Colombia",
          "Costa Rica",
          "Dominican Republic",
          "Ecuador",
          "Egypt",
          "El Salvador",
          "Georgia",
          "Ghana",
          "Guatemala",
          "Haiti",
          "Honduras",
          "India",
          "Indonesia",
          "Iraq",
          "Israel",
          "Jordan",
          "Kenya",
          "Kosovo",
          "Kyrgyzstan",
          "Lao People's Democratic Republic",
          "Lebanon",
          "Liberia",
          "Madagascar",
          "Malawi",
          "Mali",
          "Mexico",
          "Moldova",
          "Mongolia",
          "Mozambique",
          "Myanmar (Burma)",
          "Namibia",
          "Nicaragua",
          "Nigeria",
          "Pakistan",
          "Palestine",
          "Paraguay",
          "Peru",
          "Philippines",
          "Puerto Rico",
          "Rwanda",
          "Samoa",
          "Senegal",
          "Sierra Leone",
          "South Africa",
          "Tajikistan",
          "Tanzania",
          "The Democratic Republic of the Congo",
          "Timor-Leste",
          "Togo",
          "Turkey",
          "Uganda",
          "Ukraine",
          "United States",
          "Vietnam",
          "Yemen",
          "Zambia",
          "Zimbabwe"
         ],
         "locations": [
          "ALB",
          "ARM",
          "AZE",
          "BOL",
          "BRA",
          "BFA",
          "BDI",
          "KHM",
          "CMR",
          "COL",
          "CRI",
          "DOM",
          "ECU",
          "EGY",
          "SLV",
          "GEO",
          "GHA",
          "GTM",
          "HTI",
          "HND",
          "IND",
          "IDN",
          "IRQ",
          "ISR",
          "JOR",
          "KEN",
          "SRB",
          "KGZ",
          "LAO",
          "LBN",
          "LBR",
          "MDG",
          "MWI",
          "MLI",
          "MEX",
          "MDA",
          "MNG",
          "MOZ",
          "MMR",
          "NAM",
          "NIC",
          "NGA",
          "PAK",
          "PSE",
          "PRY",
          "PER",
          "PHL",
          "PRI",
          "RWA",
          "WSM",
          "SEN",
          "SLE",
          "ZAF",
          "TJK",
          "TZA",
          "COD",
          "TLS",
          "TGO",
          "TUR",
          "UGA",
          "UKR",
          "USA",
          "VNM",
          "YEM",
          "ZMB",
          "ZWE"
         ],
         "name": "",
         "type": "choropleth",
         "z": [
          7,
          20,
          1,
          26,
          2,
          6,
          13,
          5,
          25,
          62,
          7,
          1,
          8,
          2,
          33,
          8,
          43,
          6,
          133,
          7,
          20,
          65,
          3,
          11,
          15,
          262,
          8,
          4,
          3,
          56,
          129,
          84,
          8,
          3,
          9,
          1,
          3,
          8,
          4,
          1,
          27,
          1,
          53,
          88,
          73,
          48,
          130,
          2,
          71,
          5,
          4,
          20,
          5,
          27,
          52,
          173,
          1,
          10,
          7,
          169,
          2,
          515,
          6,
          24,
          17,
          16
         ]
        }
       ],
       "layout": {
        "coloraxis": {
         "colorbar": {
          "title": {
           "text": "# of projects"
          }
         },
         "colorscale": [
          [
           0,
           "#0d0887"
          ],
          [
           0.1111111111111111,
           "#46039f"
          ],
          [
           0.2222222222222222,
           "#7201a8"
          ],
          [
           0.3333333333333333,
           "#9c179e"
          ],
          [
           0.4444444444444444,
           "#bd3786"
          ],
          [
           0.5555555555555556,
           "#d8576b"
          ],
          [
           0.6666666666666666,
           "#ed7953"
          ],
          [
           0.7777777777777778,
           "#fb9f3a"
          ],
          [
           0.8888888888888888,
           "#fdca26"
          ],
          [
           1,
           "#f0f921"
          ]
         ]
        },
        "geo": {
         "center": {},
         "domain": {
          "x": [
           0,
           1
          ],
          "y": [
           0,
           1
          ]
         },
         "projection": {
          "type": "robinson"
         }
        },
        "legend": {
         "tracegroupgap": 0
        },
        "template": {
         "data": {
          "bar": [
           {
            "error_x": {
             "color": "#2a3f5f"
            },
            "error_y": {
             "color": "#2a3f5f"
            },
            "marker": {
             "line": {
              "color": "#E5ECF6",
              "width": 0.5
             }
            },
            "type": "bar"
           }
          ],
          "barpolar": [
           {
            "marker": {
             "line": {
              "color": "#E5ECF6",
              "width": 0.5
             }
            },
            "type": "barpolar"
           }
          ],
          "carpet": [
           {
            "aaxis": {
             "endlinecolor": "#2a3f5f",
             "gridcolor": "white",
             "linecolor": "white",
             "minorgridcolor": "white",
             "startlinecolor": "#2a3f5f"
            },
            "baxis": {
             "endlinecolor": "#2a3f5f",
             "gridcolor": "white",
             "linecolor": "white",
             "minorgridcolor": "white",
             "startlinecolor": "#2a3f5f"
            },
            "type": "carpet"
           }
          ],
          "choropleth": [
           {
            "colorbar": {
             "outlinewidth": 0,
             "ticks": ""
            },
            "type": "choropleth"
           }
          ],
          "contour": [
           {
            "colorbar": {
             "outlinewidth": 0,
             "ticks": ""
            },
            "colorscale": [
             [
              0,
              "#0d0887"
             ],
             [
              0.1111111111111111,
              "#46039f"
             ],
             [
              0.2222222222222222,
              "#7201a8"
             ],
             [
              0.3333333333333333,
              "#9c179e"
             ],
             [
              0.4444444444444444,
              "#bd3786"
             ],
             [
              0.5555555555555556,
              "#d8576b"
             ],
             [
              0.6666666666666666,
              "#ed7953"
             ],
             [
              0.7777777777777778,
              "#fb9f3a"
             ],
             [
              0.8888888888888888,
              "#fdca26"
             ],
             [
              1,
              "#f0f921"
             ]
            ],
            "type": "contour"
           }
          ],
          "contourcarpet": [
           {
            "colorbar": {
             "outlinewidth": 0,
             "ticks": ""
            },
            "type": "contourcarpet"
           }
          ],
          "heatmap": [
           {
            "colorbar": {
             "outlinewidth": 0,
             "ticks": ""
            },
            "colorscale": [
             [
              0,
              "#0d0887"
             ],
             [
              0.1111111111111111,
              "#46039f"
             ],
             [
              0.2222222222222222,
              "#7201a8"
             ],
             [
              0.3333333333333333,
              "#9c179e"
             ],
             [
              0.4444444444444444,
              "#bd3786"
             ],
             [
              0.5555555555555556,
              "#d8576b"
             ],
             [
              0.6666666666666666,
              "#ed7953"
             ],
             [
              0.7777777777777778,
              "#fb9f3a"
             ],
             [
              0.8888888888888888,
              "#fdca26"
             ],
             [
              1,
              "#f0f921"
             ]
            ],
            "type": "heatmap"
           }
          ],
          "heatmapgl": [
           {
            "colorbar": {
             "outlinewidth": 0,
             "ticks": ""
            },
            "colorscale": [
             [
              0,
              "#0d0887"
             ],
             [
              0.1111111111111111,
              "#46039f"
             ],
             [
              0.2222222222222222,
              "#7201a8"
             ],
             [
              0.3333333333333333,
              "#9c179e"
             ],
             [
              0.4444444444444444,
              "#bd3786"
             ],
             [
              0.5555555555555556,
              "#d8576b"
             ],
             [
              0.6666666666666666,
              "#ed7953"
             ],
             [
              0.7777777777777778,
              "#fb9f3a"
             ],
             [
              0.8888888888888888,
              "#fdca26"
             ],
             [
              1,
              "#f0f921"
             ]
            ],
            "type": "heatmapgl"
           }
          ],
          "histogram": [
           {
            "marker": {
             "colorbar": {
              "outlinewidth": 0,
              "ticks": ""
             }
            },
            "type": "histogram"
           }
          ],
          "histogram2d": [
           {
            "colorbar": {
             "outlinewidth": 0,
             "ticks": ""
            },
            "colorscale": [
             [
              0,
              "#0d0887"
             ],
             [
              0.1111111111111111,
              "#46039f"
             ],
             [
              0.2222222222222222,
              "#7201a8"
             ],
             [
              0.3333333333333333,
              "#9c179e"
             ],
             [
              0.4444444444444444,
              "#bd3786"
             ],
             [
              0.5555555555555556,
              "#d8576b"
             ],
             [
              0.6666666666666666,
              "#ed7953"
             ],
             [
              0.7777777777777778,
              "#fb9f3a"
             ],
             [
              0.8888888888888888,
              "#fdca26"
             ],
             [
              1,
              "#f0f921"
             ]
            ],
            "type": "histogram2d"
           }
          ],
          "histogram2dcontour": [
           {
            "colorbar": {
             "outlinewidth": 0,
             "ticks": ""
            },
            "colorscale": [
             [
              0,
              "#0d0887"
             ],
             [
              0.1111111111111111,
              "#46039f"
             ],
             [
              0.2222222222222222,
              "#7201a8"
             ],
             [
              0.3333333333333333,
              "#9c179e"
             ],
             [
              0.4444444444444444,
              "#bd3786"
             ],
             [
              0.5555555555555556,
              "#d8576b"
             ],
             [
              0.6666666666666666,
              "#ed7953"
             ],
             [
              0.7777777777777778,
              "#fb9f3a"
             ],
             [
              0.8888888888888888,
              "#fdca26"
             ],
             [
              1,
              "#f0f921"
             ]
            ],
            "type": "histogram2dcontour"
           }
          ],
          "mesh3d": [
           {
            "colorbar": {
             "outlinewidth": 0,
             "ticks": ""
            },
            "type": "mesh3d"
           }
          ],
          "parcoords": [
           {
            "line": {
             "colorbar": {
              "outlinewidth": 0,
              "ticks": ""
             }
            },
            "type": "parcoords"
           }
          ],
          "pie": [
           {
            "automargin": true,
            "type": "pie"
           }
          ],
          "scatter": [
           {
            "marker": {
             "colorbar": {
              "outlinewidth": 0,
              "ticks": ""
             }
            },
            "type": "scatter"
           }
          ],
          "scatter3d": [
           {
            "line": {
             "colorbar": {
              "outlinewidth": 0,
              "ticks": ""
             }
            },
            "marker": {
             "colorbar": {
              "outlinewidth": 0,
              "ticks": ""
             }
            },
            "type": "scatter3d"
           }
          ],
          "scattercarpet": [
           {
            "marker": {
             "colorbar": {
              "outlinewidth": 0,
              "ticks": ""
             }
            },
            "type": "scattercarpet"
           }
          ],
          "scattergeo": [
           {
            "marker": {
             "colorbar": {
              "outlinewidth": 0,
              "ticks": ""
             }
            },
            "type": "scattergeo"
           }
          ],
          "scattergl": [
           {
            "marker": {
             "colorbar": {
              "outlinewidth": 0,
              "ticks": ""
             }
            },
            "type": "scattergl"
           }
          ],
          "scattermapbox": [
           {
            "marker": {
             "colorbar": {
              "outlinewidth": 0,
              "ticks": ""
             }
            },
            "type": "scattermapbox"
           }
          ],
          "scatterpolar": [
           {
            "marker": {
             "colorbar": {
              "outlinewidth": 0,
              "ticks": ""
             }
            },
            "type": "scatterpolar"
           }
          ],
          "scatterpolargl": [
           {
            "marker": {
             "colorbar": {
              "outlinewidth": 0,
              "ticks": ""
             }
            },
            "type": "scatterpolargl"
           }
          ],
          "scatterternary": [
           {
            "marker": {
             "colorbar": {
              "outlinewidth": 0,
              "ticks": ""
             }
            },
            "type": "scatterternary"
           }
          ],
          "surface": [
           {
            "colorbar": {
             "outlinewidth": 0,
             "ticks": ""
            },
            "colorscale": [
             [
              0,
              "#0d0887"
             ],
             [
              0.1111111111111111,
              "#46039f"
             ],
             [
              0.2222222222222222,
              "#7201a8"
             ],
             [
              0.3333333333333333,
              "#9c179e"
             ],
             [
              0.4444444444444444,
              "#bd3786"
             ],
             [
              0.5555555555555556,
              "#d8576b"
             ],
             [
              0.6666666666666666,
              "#ed7953"
             ],
             [
              0.7777777777777778,
              "#fb9f3a"
             ],
             [
              0.8888888888888888,
              "#fdca26"
             ],
             [
              1,
              "#f0f921"
             ]
            ],
            "type": "surface"
           }
          ],
          "table": [
           {
            "cells": {
             "fill": {
              "color": "#EBF0F8"
             },
             "line": {
              "color": "white"
             }
            },
            "header": {
             "fill": {
              "color": "#C8D4E3"
             },
             "line": {
              "color": "white"
             }
            },
            "type": "table"
           }
          ]
         },
         "layout": {
          "annotationdefaults": {
           "arrowcolor": "#2a3f5f",
           "arrowhead": 0,
           "arrowwidth": 1
          },
          "coloraxis": {
           "colorbar": {
            "outlinewidth": 0,
            "ticks": ""
           }
          },
          "colorscale": {
           "diverging": [
            [
             0,
             "#8e0152"
            ],
            [
             0.1,
             "#c51b7d"
            ],
            [
             0.2,
             "#de77ae"
            ],
            [
             0.3,
             "#f1b6da"
            ],
            [
             0.4,
             "#fde0ef"
            ],
            [
             0.5,
             "#f7f7f7"
            ],
            [
             0.6,
             "#e6f5d0"
            ],
            [
             0.7,
             "#b8e186"
            ],
            [
             0.8,
             "#7fbc41"
            ],
            [
             0.9,
             "#4d9221"
            ],
            [
             1,
             "#276419"
            ]
           ],
           "sequential": [
            [
             0,
             "#0d0887"
            ],
            [
             0.1111111111111111,
             "#46039f"
            ],
            [
             0.2222222222222222,
             "#7201a8"
            ],
            [
             0.3333333333333333,
             "#9c179e"
            ],
            [
             0.4444444444444444,
             "#bd3786"
            ],
            [
             0.5555555555555556,
             "#d8576b"
            ],
            [
             0.6666666666666666,
             "#ed7953"
            ],
            [
             0.7777777777777778,
             "#fb9f3a"
            ],
            [
             0.8888888888888888,
             "#fdca26"
            ],
            [
             1,
             "#f0f921"
            ]
           ],
           "sequentialminus": [
            [
             0,
             "#0d0887"
            ],
            [
             0.1111111111111111,
             "#46039f"
            ],
            [
             0.2222222222222222,
             "#7201a8"
            ],
            [
             0.3333333333333333,
             "#9c179e"
            ],
            [
             0.4444444444444444,
             "#bd3786"
            ],
            [
             0.5555555555555556,
             "#d8576b"
            ],
            [
             0.6666666666666666,
             "#ed7953"
            ],
            [
             0.7777777777777778,
             "#fb9f3a"
            ],
            [
             0.8888888888888888,
             "#fdca26"
            ],
            [
             1,
             "#f0f921"
            ]
           ]
          },
          "colorway": [
           "#636efa",
           "#EF553B",
           "#00cc96",
           "#ab63fa",
           "#FFA15A",
           "#19d3f3",
           "#FF6692",
           "#B6E880",
           "#FF97FF",
           "#FECB52"
          ],
          "font": {
           "color": "#2a3f5f"
          },
          "geo": {
           "bgcolor": "white",
           "lakecolor": "white",
           "landcolor": "#E5ECF6",
           "showlakes": true,
           "showland": true,
           "subunitcolor": "white"
          },
          "hoverlabel": {
           "align": "left"
          },
          "hovermode": "closest",
          "mapbox": {
           "style": "light"
          },
          "paper_bgcolor": "white",
          "plot_bgcolor": "#E5ECF6",
          "polar": {
           "angularaxis": {
            "gridcolor": "white",
            "linecolor": "white",
            "ticks": ""
           },
           "bgcolor": "#E5ECF6",
           "radialaxis": {
            "gridcolor": "white",
            "linecolor": "white",
            "ticks": ""
           }
          },
          "scene": {
           "xaxis": {
            "backgroundcolor": "#E5ECF6",
            "gridcolor": "white",
            "gridwidth": 2,
            "linecolor": "white",
            "showbackground": true,
            "ticks": "",
            "zerolinecolor": "white"
           },
           "yaxis": {
            "backgroundcolor": "#E5ECF6",
            "gridcolor": "white",
            "gridwidth": 2,
            "linecolor": "white",
            "showbackground": true,
            "ticks": "",
            "zerolinecolor": "white"
           },
           "zaxis": {
            "backgroundcolor": "#E5ECF6",
            "gridcolor": "white",
            "gridwidth": 2,
            "linecolor": "white",
            "showbackground": true,
            "ticks": "",
            "zerolinecolor": "white"
           }
          },
          "shapedefaults": {
           "line": {
            "color": "#2a3f5f"
           }
          },
          "ternary": {
           "aaxis": {
            "gridcolor": "white",
            "linecolor": "white",
            "ticks": ""
           },
           "baxis": {
            "gridcolor": "white",
            "linecolor": "white",
            "ticks": ""
           },
           "bgcolor": "#E5ECF6",
           "caxis": {
            "gridcolor": "white",
            "linecolor": "white",
            "ticks": ""
           }
          },
          "title": {
           "x": 0.05
          },
          "xaxis": {
           "automargin": true,
           "gridcolor": "white",
           "linecolor": "white",
           "ticks": "",
           "title": {
            "standoff": 15
           },
           "zerolinecolor": "white",
           "zerolinewidth": 2
          },
          "yaxis": {
           "automargin": true,
           "gridcolor": "white",
           "linecolor": "white",
           "ticks": "",
           "title": {
            "standoff": 15
           },
           "zerolinecolor": "white",
           "zerolinewidth": 2
          }
         }
        },
        "title": {
         "text": "Applications for particularly expensive projects - where do they come from?"
        }
       }
      },
      "text/html": [
       "<div>\n",
       "        \n",
       "        \n",
       "            <div id=\"c963e1b0-7e75-4113-98c6-de195df30035\" class=\"plotly-graph-div\" style=\"height:525px; width:100%;\"></div>\n",
       "            <script type=\"text/javascript\">\n",
       "                require([\"plotly\"], function(Plotly) {\n",
       "                    window.PLOTLYENV=window.PLOTLYENV || {};\n",
       "                    \n",
       "                if (document.getElementById(\"c963e1b0-7e75-4113-98c6-de195df30035\")) {\n",
       "                    Plotly.newPlot(\n",
       "                        'c963e1b0-7e75-4113-98c6-de195df30035',\n",
       "                        [{\"coloraxis\": \"coloraxis\", \"geo\": \"geo\", \"hoverlabel\": {\"namelength\": 0}, \"hovertemplate\": \"<b>%{hovertext}</b><br><br>Country code=%{location}<br># of projects=%{z}\", \"hovertext\": [\"Albania\", \"Armenia\", \"Azerbaijan\", \"Bolivia\", \"Brazil\", \"Burkina Faso\", \"Burundi\", \"Cambodia\", \"Cameroon\", \"Colombia\", \"Costa Rica\", \"Dominican Republic\", \"Ecuador\", \"Egypt\", \"El Salvador\", \"Georgia\", \"Ghana\", \"Guatemala\", \"Haiti\", \"Honduras\", \"India\", \"Indonesia\", \"Iraq\", \"Israel\", \"Jordan\", \"Kenya\", \"Kosovo\", \"Kyrgyzstan\", \"Lao People's Democratic Republic\", \"Lebanon\", \"Liberia\", \"Madagascar\", \"Malawi\", \"Mali\", \"Mexico\", \"Moldova\", \"Mongolia\", \"Mozambique\", \"Myanmar (Burma)\", \"Namibia\", \"Nicaragua\", \"Nigeria\", \"Pakistan\", \"Palestine\", \"Paraguay\", \"Peru\", \"Philippines\", \"Puerto Rico\", \"Rwanda\", \"Samoa\", \"Senegal\", \"Sierra Leone\", \"South Africa\", \"Tajikistan\", \"Tanzania\", \"The Democratic Republic of the Congo\", \"Timor-Leste\", \"Togo\", \"Turkey\", \"Uganda\", \"Ukraine\", \"United States\", \"Vietnam\", \"Yemen\", \"Zambia\", \"Zimbabwe\"], \"locations\": [\"ALB\", \"ARM\", \"AZE\", \"BOL\", \"BRA\", \"BFA\", \"BDI\", \"KHM\", \"CMR\", \"COL\", \"CRI\", \"DOM\", \"ECU\", \"EGY\", \"SLV\", \"GEO\", \"GHA\", \"GTM\", \"HTI\", \"HND\", \"IND\", \"IDN\", \"IRQ\", \"ISR\", \"JOR\", \"KEN\", \"SRB\", \"KGZ\", \"LAO\", \"LBN\", \"LBR\", \"MDG\", \"MWI\", \"MLI\", \"MEX\", \"MDA\", \"MNG\", \"MOZ\", \"MMR\", \"NAM\", \"NIC\", \"NGA\", \"PAK\", \"PSE\", \"PRY\", \"PER\", \"PHL\", \"PRI\", \"RWA\", \"WSM\", \"SEN\", \"SLE\", \"ZAF\", \"TJK\", \"TZA\", \"COD\", \"TLS\", \"TGO\", \"TUR\", \"UGA\", \"UKR\", \"USA\", \"VNM\", \"YEM\", \"ZMB\", \"ZWE\"], \"name\": \"\", \"type\": \"choropleth\", \"z\": [7.0, 20.0, 1.0, 26.0, 2.0, 6.0, 13.0, 5.0, 25.0, 62.0, 7.0, 1.0, 8.0, 2.0, 33.0, 8.0, 43.0, 6.0, 133.0, 7.0, 20.0, 65.0, 3.0, 11.0, 15.0, 262.0, 8.0, 4.0, 3.0, 56.0, 129.0, 84.0, 8.0, 3.0, 9.0, 1.0, 3.0, 8.0, 4.0, 1.0, 27.0, 1.0, 53.0, 88.0, 73.0, 48.0, 130.0, 2.0, 71.0, 5.0, 4.0, 20.0, 5.0, 27.0, 52.0, 173.0, 1.0, 10.0, 7.0, 169.0, 2.0, 515.0, 6.0, 24.0, 17.0, 16.0]}],\n",
       "                        {\"coloraxis\": {\"colorbar\": {\"title\": {\"text\": \"# of projects\"}}, \"colorscale\": [[0.0, \"#0d0887\"], [0.1111111111111111, \"#46039f\"], [0.2222222222222222, \"#7201a8\"], [0.3333333333333333, \"#9c179e\"], [0.4444444444444444, \"#bd3786\"], [0.5555555555555556, \"#d8576b\"], [0.6666666666666666, \"#ed7953\"], [0.7777777777777778, \"#fb9f3a\"], [0.8888888888888888, \"#fdca26\"], [1.0, \"#f0f921\"]]}, \"geo\": {\"center\": {}, \"domain\": {\"x\": [0.0, 1.0], \"y\": [0.0, 1.0]}, \"projection\": {\"type\": \"robinson\"}}, \"legend\": {\"tracegroupgap\": 0}, \"template\": {\"data\": {\"bar\": [{\"error_x\": {\"color\": \"#2a3f5f\"}, \"error_y\": {\"color\": \"#2a3f5f\"}, \"marker\": {\"line\": {\"color\": \"#E5ECF6\", \"width\": 0.5}}, \"type\": \"bar\"}], \"barpolar\": [{\"marker\": {\"line\": {\"color\": \"#E5ECF6\", \"width\": 0.5}}, \"type\": \"barpolar\"}], \"carpet\": [{\"aaxis\": {\"endlinecolor\": \"#2a3f5f\", \"gridcolor\": \"white\", \"linecolor\": \"white\", \"minorgridcolor\": \"white\", \"startlinecolor\": \"#2a3f5f\"}, \"baxis\": {\"endlinecolor\": \"#2a3f5f\", \"gridcolor\": \"white\", \"linecolor\": \"white\", \"minorgridcolor\": \"white\", \"startlinecolor\": \"#2a3f5f\"}, \"type\": \"carpet\"}], \"choropleth\": [{\"colorbar\": {\"outlinewidth\": 0, \"ticks\": \"\"}, \"type\": \"choropleth\"}], \"contour\": [{\"colorbar\": {\"outlinewidth\": 0, \"ticks\": \"\"}, \"colorscale\": [[0.0, \"#0d0887\"], [0.1111111111111111, \"#46039f\"], [0.2222222222222222, \"#7201a8\"], [0.3333333333333333, \"#9c179e\"], [0.4444444444444444, \"#bd3786\"], [0.5555555555555556, \"#d8576b\"], [0.6666666666666666, \"#ed7953\"], [0.7777777777777778, \"#fb9f3a\"], [0.8888888888888888, \"#fdca26\"], [1.0, \"#f0f921\"]], \"type\": \"contour\"}], \"contourcarpet\": [{\"colorbar\": {\"outlinewidth\": 0, \"ticks\": \"\"}, \"type\": \"contourcarpet\"}], \"heatmap\": [{\"colorbar\": {\"outlinewidth\": 0, \"ticks\": \"\"}, \"colorscale\": [[0.0, \"#0d0887\"], [0.1111111111111111, \"#46039f\"], [0.2222222222222222, \"#7201a8\"], [0.3333333333333333, \"#9c179e\"], [0.4444444444444444, \"#bd3786\"], [0.5555555555555556, \"#d8576b\"], [0.6666666666666666, \"#ed7953\"], [0.7777777777777778, \"#fb9f3a\"], [0.8888888888888888, \"#fdca26\"], [1.0, \"#f0f921\"]], \"type\": \"heatmap\"}], \"heatmapgl\": [{\"colorbar\": {\"outlinewidth\": 0, \"ticks\": \"\"}, \"colorscale\": [[0.0, \"#0d0887\"], [0.1111111111111111, \"#46039f\"], [0.2222222222222222, \"#7201a8\"], [0.3333333333333333, \"#9c179e\"], [0.4444444444444444, \"#bd3786\"], [0.5555555555555556, \"#d8576b\"], [0.6666666666666666, \"#ed7953\"], [0.7777777777777778, \"#fb9f3a\"], [0.8888888888888888, \"#fdca26\"], [1.0, \"#f0f921\"]], \"type\": \"heatmapgl\"}], \"histogram\": [{\"marker\": {\"colorbar\": {\"outlinewidth\": 0, \"ticks\": \"\"}}, \"type\": \"histogram\"}], \"histogram2d\": [{\"colorbar\": {\"outlinewidth\": 0, \"ticks\": \"\"}, \"colorscale\": [[0.0, \"#0d0887\"], [0.1111111111111111, \"#46039f\"], [0.2222222222222222, \"#7201a8\"], [0.3333333333333333, \"#9c179e\"], [0.4444444444444444, \"#bd3786\"], [0.5555555555555556, \"#d8576b\"], [0.6666666666666666, \"#ed7953\"], [0.7777777777777778, \"#fb9f3a\"], [0.8888888888888888, \"#fdca26\"], [1.0, \"#f0f921\"]], \"type\": \"histogram2d\"}], \"histogram2dcontour\": [{\"colorbar\": {\"outlinewidth\": 0, \"ticks\": \"\"}, \"colorscale\": [[0.0, \"#0d0887\"], [0.1111111111111111, \"#46039f\"], [0.2222222222222222, \"#7201a8\"], [0.3333333333333333, \"#9c179e\"], [0.4444444444444444, \"#bd3786\"], [0.5555555555555556, \"#d8576b\"], [0.6666666666666666, \"#ed7953\"], [0.7777777777777778, \"#fb9f3a\"], [0.8888888888888888, \"#fdca26\"], [1.0, \"#f0f921\"]], \"type\": \"histogram2dcontour\"}], \"mesh3d\": [{\"colorbar\": {\"outlinewidth\": 0, \"ticks\": \"\"}, \"type\": \"mesh3d\"}], \"parcoords\": [{\"line\": {\"colorbar\": {\"outlinewidth\": 0, \"ticks\": \"\"}}, \"type\": \"parcoords\"}], \"pie\": [{\"automargin\": true, \"type\": \"pie\"}], \"scatter\": [{\"marker\": {\"colorbar\": {\"outlinewidth\": 0, \"ticks\": \"\"}}, \"type\": \"scatter\"}], \"scatter3d\": [{\"line\": {\"colorbar\": {\"outlinewidth\": 0, \"ticks\": \"\"}}, \"marker\": {\"colorbar\": {\"outlinewidth\": 0, \"ticks\": \"\"}}, \"type\": \"scatter3d\"}], \"scattercarpet\": [{\"marker\": {\"colorbar\": {\"outlinewidth\": 0, \"ticks\": \"\"}}, \"type\": \"scattercarpet\"}], \"scattergeo\": [{\"marker\": {\"colorbar\": {\"outlinewidth\": 0, \"ticks\": \"\"}}, \"type\": \"scattergeo\"}], \"scattergl\": [{\"marker\": {\"colorbar\": {\"outlinewidth\": 0, \"ticks\": \"\"}}, \"type\": \"scattergl\"}], \"scattermapbox\": [{\"marker\": {\"colorbar\": {\"outlinewidth\": 0, \"ticks\": \"\"}}, \"type\": \"scattermapbox\"}], \"scatterpolar\": [{\"marker\": {\"colorbar\": {\"outlinewidth\": 0, \"ticks\": \"\"}}, \"type\": \"scatterpolar\"}], \"scatterpolargl\": [{\"marker\": {\"colorbar\": {\"outlinewidth\": 0, \"ticks\": \"\"}}, \"type\": \"scatterpolargl\"}], \"scatterternary\": [{\"marker\": {\"colorbar\": {\"outlinewidth\": 0, \"ticks\": \"\"}}, \"type\": \"scatterternary\"}], \"surface\": [{\"colorbar\": {\"outlinewidth\": 0, \"ticks\": \"\"}, \"colorscale\": [[0.0, \"#0d0887\"], [0.1111111111111111, \"#46039f\"], [0.2222222222222222, \"#7201a8\"], [0.3333333333333333, \"#9c179e\"], [0.4444444444444444, \"#bd3786\"], [0.5555555555555556, \"#d8576b\"], [0.6666666666666666, \"#ed7953\"], [0.7777777777777778, \"#fb9f3a\"], [0.8888888888888888, \"#fdca26\"], [1.0, \"#f0f921\"]], \"type\": \"surface\"}], \"table\": [{\"cells\": {\"fill\": {\"color\": \"#EBF0F8\"}, \"line\": {\"color\": \"white\"}}, \"header\": {\"fill\": {\"color\": \"#C8D4E3\"}, \"line\": {\"color\": \"white\"}}, \"type\": \"table\"}]}, \"layout\": {\"annotationdefaults\": {\"arrowcolor\": \"#2a3f5f\", \"arrowhead\": 0, \"arrowwidth\": 1}, \"coloraxis\": {\"colorbar\": {\"outlinewidth\": 0, \"ticks\": \"\"}}, \"colorscale\": {\"diverging\": [[0, \"#8e0152\"], [0.1, \"#c51b7d\"], [0.2, \"#de77ae\"], [0.3, \"#f1b6da\"], [0.4, \"#fde0ef\"], [0.5, \"#f7f7f7\"], [0.6, \"#e6f5d0\"], [0.7, \"#b8e186\"], [0.8, \"#7fbc41\"], [0.9, \"#4d9221\"], [1, \"#276419\"]], \"sequential\": [[0.0, \"#0d0887\"], [0.1111111111111111, \"#46039f\"], [0.2222222222222222, \"#7201a8\"], [0.3333333333333333, \"#9c179e\"], [0.4444444444444444, \"#bd3786\"], [0.5555555555555556, \"#d8576b\"], [0.6666666666666666, \"#ed7953\"], [0.7777777777777778, \"#fb9f3a\"], [0.8888888888888888, \"#fdca26\"], [1.0, \"#f0f921\"]], \"sequentialminus\": [[0.0, \"#0d0887\"], [0.1111111111111111, \"#46039f\"], [0.2222222222222222, \"#7201a8\"], [0.3333333333333333, \"#9c179e\"], [0.4444444444444444, \"#bd3786\"], [0.5555555555555556, \"#d8576b\"], [0.6666666666666666, \"#ed7953\"], [0.7777777777777778, \"#fb9f3a\"], [0.8888888888888888, \"#fdca26\"], [1.0, \"#f0f921\"]]}, \"colorway\": [\"#636efa\", \"#EF553B\", \"#00cc96\", \"#ab63fa\", \"#FFA15A\", \"#19d3f3\", \"#FF6692\", \"#B6E880\", \"#FF97FF\", \"#FECB52\"], \"font\": {\"color\": \"#2a3f5f\"}, \"geo\": {\"bgcolor\": \"white\", \"lakecolor\": \"white\", \"landcolor\": \"#E5ECF6\", \"showlakes\": true, \"showland\": true, \"subunitcolor\": \"white\"}, \"hoverlabel\": {\"align\": \"left\"}, \"hovermode\": \"closest\", \"mapbox\": {\"style\": \"light\"}, \"paper_bgcolor\": \"white\", \"plot_bgcolor\": \"#E5ECF6\", \"polar\": {\"angularaxis\": {\"gridcolor\": \"white\", \"linecolor\": \"white\", \"ticks\": \"\"}, \"bgcolor\": \"#E5ECF6\", \"radialaxis\": {\"gridcolor\": \"white\", \"linecolor\": \"white\", \"ticks\": \"\"}}, \"scene\": {\"xaxis\": {\"backgroundcolor\": \"#E5ECF6\", \"gridcolor\": \"white\", \"gridwidth\": 2, \"linecolor\": \"white\", \"showbackground\": true, \"ticks\": \"\", \"zerolinecolor\": \"white\"}, \"yaxis\": {\"backgroundcolor\": \"#E5ECF6\", \"gridcolor\": \"white\", \"gridwidth\": 2, \"linecolor\": \"white\", \"showbackground\": true, \"ticks\": \"\", \"zerolinecolor\": \"white\"}, \"zaxis\": {\"backgroundcolor\": \"#E5ECF6\", \"gridcolor\": \"white\", \"gridwidth\": 2, \"linecolor\": \"white\", \"showbackground\": true, \"ticks\": \"\", \"zerolinecolor\": \"white\"}}, \"shapedefaults\": {\"line\": {\"color\": \"#2a3f5f\"}}, \"ternary\": {\"aaxis\": {\"gridcolor\": \"white\", \"linecolor\": \"white\", \"ticks\": \"\"}, \"baxis\": {\"gridcolor\": \"white\", \"linecolor\": \"white\", \"ticks\": \"\"}, \"bgcolor\": \"#E5ECF6\", \"caxis\": {\"gridcolor\": \"white\", \"linecolor\": \"white\", \"ticks\": \"\"}}, \"title\": {\"x\": 0.05}, \"xaxis\": {\"automargin\": true, \"gridcolor\": \"white\", \"linecolor\": \"white\", \"ticks\": \"\", \"title\": {\"standoff\": 15}, \"zerolinecolor\": \"white\", \"zerolinewidth\": 2}, \"yaxis\": {\"automargin\": true, \"gridcolor\": \"white\", \"linecolor\": \"white\", \"ticks\": \"\", \"title\": {\"standoff\": 15}, \"zerolinecolor\": \"white\", \"zerolinewidth\": 2}}}, \"title\": {\"text\": \"Applications for particularly expensive projects - where do they come from?\"}},\n",
       "                        {\"responsive\": true}\n",
       "                    ).then(function(){\n",
       "                            \n",
       "var gd = document.getElementById('c963e1b0-7e75-4113-98c6-de195df30035');\n",
       "var x = new MutationObserver(function (mutations, observer) {{\n",
       "        var display = window.getComputedStyle(gd).display;\n",
       "        if (!display || display === 'none') {{\n",
       "            console.log([gd, 'removed!']);\n",
       "            Plotly.purge(gd);\n",
       "            observer.disconnect();\n",
       "        }}\n",
       "}});\n",
       "\n",
       "// Listen for the removal of the full notebook cells\n",
       "var notebookContainer = gd.closest('#notebook-container');\n",
       "if (notebookContainer) {{\n",
       "    x.observe(notebookContainer, {childList: true});\n",
       "}}\n",
       "\n",
       "// Listen for the clearing of the current output cell\n",
       "var outputEl = gd.closest('.output');\n",
       "if (outputEl) {{\n",
       "    x.observe(outputEl, {childList: true});\n",
       "}}\n",
       "\n",
       "                        })\n",
       "                };\n",
       "                });\n",
       "            </script>\n",
       "        </div>"
      ]
     },
     "metadata": {},
     "output_type": "display_data"
    }
   ],
   "source": [
    "fig = px.choropleth(countries_sel, locations=\"Country code\",\n",
    "                    color='# of projects',\n",
    "                    hover_name=\"Country\",\n",
    "                    title=\"Applications for particularly expensive projects - where do they come from?\", \n",
    "                    color_continuous_scale=px.colors.sequential.Plasma,\n",
    "                    projection='robinson'\n",
    "    )\n",
    "fig.show()"
   ]
  },
  {
   "cell_type": "markdown",
   "metadata": {},
   "source": [
    "Most pitches from 12 'lucrative' categories are coming from USA. \n",
    "How successful are they and what is the structure of themes / activities?"
   ]
  },
  {
   "cell_type": "code",
   "execution_count": 47,
   "metadata": {},
   "outputs": [],
   "source": [
    "usa_sel = data.loc[data['country'] == 'United States']"
   ]
  },
  {
   "cell_type": "code",
   "execution_count": 48,
   "metadata": {},
   "outputs": [
    {
     "data": {
      "text/plain": [
       "success\n",
       "unsuccessful         165\n",
       "partly successful     51\n",
       "mostly successful     20\n",
       "successful           279\n",
       "dtype: int64"
      ]
     },
     "execution_count": 48,
     "metadata": {},
     "output_type": "execute_result"
    }
   ],
   "source": [
    "successful_usa_sel = usa_sel.groupby('success').size()\n",
    "successful_usa_sel"
   ]
  },
  {
   "cell_type": "code",
   "execution_count": 49,
   "metadata": {},
   "outputs": [
    {
     "data": {
      "application/vnd.plotly.v1+json": {
       "config": {
        "plotlyServerURL": "https://plot.ly"
       },
       "data": [
        {
         "direction": "clockwise",
         "domain": {
          "x": [
           0,
           1
          ],
          "y": [
           0,
           1
          ]
         },
         "hole": 0.5,
         "hoverlabel": {
          "namelength": 0
         },
         "hovertemplate": "label=%{label}<br># of projects=%{value}",
         "labels": [
          "unsuccessful",
          "partly successful",
          "mostly successful",
          "successful"
         ],
         "legendgroup": "",
         "name": "",
         "showlegend": true,
         "textinfo": "percent",
         "texttemplate": "%{percent:.0%f}",
         "type": "pie",
         "values": [
          165,
          51,
          20,
          279
         ]
        }
       ],
       "layout": {
        "font": {
         "color": "darkblue",
         "family": "Verdana",
         "size": 16
        },
        "legend": {
         "title": {
          "text": "Big value projects:"
         },
         "tracegroupgap": 0,
         "traceorder": "normal"
        },
        "piecolorway": [
         "#002b80",
         "#99c2ff",
         "#c2c2d6",
         "#ff6666"
        ],
        "template": {
         "data": {
          "bar": [
           {
            "error_x": {
             "color": "rgb(36,36,36)"
            },
            "error_y": {
             "color": "rgb(36,36,36)"
            },
            "marker": {
             "line": {
              "color": "white",
              "width": 0.5
             }
            },
            "type": "bar"
           }
          ],
          "barpolar": [
           {
            "marker": {
             "line": {
              "color": "white",
              "width": 0.5
             }
            },
            "type": "barpolar"
           }
          ],
          "carpet": [
           {
            "aaxis": {
             "endlinecolor": "rgb(36,36,36)",
             "gridcolor": "white",
             "linecolor": "white",
             "minorgridcolor": "white",
             "startlinecolor": "rgb(36,36,36)"
            },
            "baxis": {
             "endlinecolor": "rgb(36,36,36)",
             "gridcolor": "white",
             "linecolor": "white",
             "minorgridcolor": "white",
             "startlinecolor": "rgb(36,36,36)"
            },
            "type": "carpet"
           }
          ],
          "choropleth": [
           {
            "colorbar": {
             "outlinewidth": 1,
             "tickcolor": "rgb(36,36,36)",
             "ticks": "outside"
            },
            "type": "choropleth"
           }
          ],
          "contour": [
           {
            "colorbar": {
             "outlinewidth": 1,
             "tickcolor": "rgb(36,36,36)",
             "ticks": "outside"
            },
            "colorscale": [
             [
              0,
              "#440154"
             ],
             [
              0.1111111111111111,
              "#482878"
             ],
             [
              0.2222222222222222,
              "#3e4989"
             ],
             [
              0.3333333333333333,
              "#31688e"
             ],
             [
              0.4444444444444444,
              "#26828e"
             ],
             [
              0.5555555555555556,
              "#1f9e89"
             ],
             [
              0.6666666666666666,
              "#35b779"
             ],
             [
              0.7777777777777778,
              "#6ece58"
             ],
             [
              0.8888888888888888,
              "#b5de2b"
             ],
             [
              1,
              "#fde725"
             ]
            ],
            "type": "contour"
           }
          ],
          "contourcarpet": [
           {
            "colorbar": {
             "outlinewidth": 1,
             "tickcolor": "rgb(36,36,36)",
             "ticks": "outside"
            },
            "type": "contourcarpet"
           }
          ],
          "heatmap": [
           {
            "colorbar": {
             "outlinewidth": 1,
             "tickcolor": "rgb(36,36,36)",
             "ticks": "outside"
            },
            "colorscale": [
             [
              0,
              "#440154"
             ],
             [
              0.1111111111111111,
              "#482878"
             ],
             [
              0.2222222222222222,
              "#3e4989"
             ],
             [
              0.3333333333333333,
              "#31688e"
             ],
             [
              0.4444444444444444,
              "#26828e"
             ],
             [
              0.5555555555555556,
              "#1f9e89"
             ],
             [
              0.6666666666666666,
              "#35b779"
             ],
             [
              0.7777777777777778,
              "#6ece58"
             ],
             [
              0.8888888888888888,
              "#b5de2b"
             ],
             [
              1,
              "#fde725"
             ]
            ],
            "type": "heatmap"
           }
          ],
          "heatmapgl": [
           {
            "colorbar": {
             "outlinewidth": 1,
             "tickcolor": "rgb(36,36,36)",
             "ticks": "outside"
            },
            "colorscale": [
             [
              0,
              "#440154"
             ],
             [
              0.1111111111111111,
              "#482878"
             ],
             [
              0.2222222222222222,
              "#3e4989"
             ],
             [
              0.3333333333333333,
              "#31688e"
             ],
             [
              0.4444444444444444,
              "#26828e"
             ],
             [
              0.5555555555555556,
              "#1f9e89"
             ],
             [
              0.6666666666666666,
              "#35b779"
             ],
             [
              0.7777777777777778,
              "#6ece58"
             ],
             [
              0.8888888888888888,
              "#b5de2b"
             ],
             [
              1,
              "#fde725"
             ]
            ],
            "type": "heatmapgl"
           }
          ],
          "histogram": [
           {
            "marker": {
             "line": {
              "color": "white",
              "width": 0.6
             }
            },
            "type": "histogram"
           }
          ],
          "histogram2d": [
           {
            "colorbar": {
             "outlinewidth": 1,
             "tickcolor": "rgb(36,36,36)",
             "ticks": "outside"
            },
            "colorscale": [
             [
              0,
              "#440154"
             ],
             [
              0.1111111111111111,
              "#482878"
             ],
             [
              0.2222222222222222,
              "#3e4989"
             ],
             [
              0.3333333333333333,
              "#31688e"
             ],
             [
              0.4444444444444444,
              "#26828e"
             ],
             [
              0.5555555555555556,
              "#1f9e89"
             ],
             [
              0.6666666666666666,
              "#35b779"
             ],
             [
              0.7777777777777778,
              "#6ece58"
             ],
             [
              0.8888888888888888,
              "#b5de2b"
             ],
             [
              1,
              "#fde725"
             ]
            ],
            "type": "histogram2d"
           }
          ],
          "histogram2dcontour": [
           {
            "colorbar": {
             "outlinewidth": 1,
             "tickcolor": "rgb(36,36,36)",
             "ticks": "outside"
            },
            "colorscale": [
             [
              0,
              "#440154"
             ],
             [
              0.1111111111111111,
              "#482878"
             ],
             [
              0.2222222222222222,
              "#3e4989"
             ],
             [
              0.3333333333333333,
              "#31688e"
             ],
             [
              0.4444444444444444,
              "#26828e"
             ],
             [
              0.5555555555555556,
              "#1f9e89"
             ],
             [
              0.6666666666666666,
              "#35b779"
             ],
             [
              0.7777777777777778,
              "#6ece58"
             ],
             [
              0.8888888888888888,
              "#b5de2b"
             ],
             [
              1,
              "#fde725"
             ]
            ],
            "type": "histogram2dcontour"
           }
          ],
          "mesh3d": [
           {
            "colorbar": {
             "outlinewidth": 1,
             "tickcolor": "rgb(36,36,36)",
             "ticks": "outside"
            },
            "type": "mesh3d"
           }
          ],
          "parcoords": [
           {
            "line": {
             "colorbar": {
              "outlinewidth": 1,
              "tickcolor": "rgb(36,36,36)",
              "ticks": "outside"
             }
            },
            "type": "parcoords"
           }
          ],
          "pie": [
           {
            "automargin": true,
            "type": "pie"
           }
          ],
          "scatter": [
           {
            "marker": {
             "colorbar": {
              "outlinewidth": 1,
              "tickcolor": "rgb(36,36,36)",
              "ticks": "outside"
             }
            },
            "type": "scatter"
           }
          ],
          "scatter3d": [
           {
            "line": {
             "colorbar": {
              "outlinewidth": 1,
              "tickcolor": "rgb(36,36,36)",
              "ticks": "outside"
             }
            },
            "marker": {
             "colorbar": {
              "outlinewidth": 1,
              "tickcolor": "rgb(36,36,36)",
              "ticks": "outside"
             }
            },
            "type": "scatter3d"
           }
          ],
          "scattercarpet": [
           {
            "marker": {
             "colorbar": {
              "outlinewidth": 1,
              "tickcolor": "rgb(36,36,36)",
              "ticks": "outside"
             }
            },
            "type": "scattercarpet"
           }
          ],
          "scattergeo": [
           {
            "marker": {
             "colorbar": {
              "outlinewidth": 1,
              "tickcolor": "rgb(36,36,36)",
              "ticks": "outside"
             }
            },
            "type": "scattergeo"
           }
          ],
          "scattergl": [
           {
            "marker": {
             "colorbar": {
              "outlinewidth": 1,
              "tickcolor": "rgb(36,36,36)",
              "ticks": "outside"
             }
            },
            "type": "scattergl"
           }
          ],
          "scattermapbox": [
           {
            "marker": {
             "colorbar": {
              "outlinewidth": 1,
              "tickcolor": "rgb(36,36,36)",
              "ticks": "outside"
             }
            },
            "type": "scattermapbox"
           }
          ],
          "scatterpolar": [
           {
            "marker": {
             "colorbar": {
              "outlinewidth": 1,
              "tickcolor": "rgb(36,36,36)",
              "ticks": "outside"
             }
            },
            "type": "scatterpolar"
           }
          ],
          "scatterpolargl": [
           {
            "marker": {
             "colorbar": {
              "outlinewidth": 1,
              "tickcolor": "rgb(36,36,36)",
              "ticks": "outside"
             }
            },
            "type": "scatterpolargl"
           }
          ],
          "scatterternary": [
           {
            "marker": {
             "colorbar": {
              "outlinewidth": 1,
              "tickcolor": "rgb(36,36,36)",
              "ticks": "outside"
             }
            },
            "type": "scatterternary"
           }
          ],
          "surface": [
           {
            "colorbar": {
             "outlinewidth": 1,
             "tickcolor": "rgb(36,36,36)",
             "ticks": "outside"
            },
            "colorscale": [
             [
              0,
              "#440154"
             ],
             [
              0.1111111111111111,
              "#482878"
             ],
             [
              0.2222222222222222,
              "#3e4989"
             ],
             [
              0.3333333333333333,
              "#31688e"
             ],
             [
              0.4444444444444444,
              "#26828e"
             ],
             [
              0.5555555555555556,
              "#1f9e89"
             ],
             [
              0.6666666666666666,
              "#35b779"
             ],
             [
              0.7777777777777778,
              "#6ece58"
             ],
             [
              0.8888888888888888,
              "#b5de2b"
             ],
             [
              1,
              "#fde725"
             ]
            ],
            "type": "surface"
           }
          ],
          "table": [
           {
            "cells": {
             "fill": {
              "color": "rgb(237,237,237)"
             },
             "line": {
              "color": "white"
             }
            },
            "header": {
             "fill": {
              "color": "rgb(217,217,217)"
             },
             "line": {
              "color": "white"
             }
            },
            "type": "table"
           }
          ]
         },
         "layout": {
          "annotationdefaults": {
           "arrowhead": 0,
           "arrowwidth": 1
          },
          "coloraxis": {
           "colorbar": {
            "outlinewidth": 1,
            "tickcolor": "rgb(36,36,36)",
            "ticks": "outside"
           }
          },
          "colorscale": {
           "diverging": [
            [
             0,
             "rgb(103,0,31)"
            ],
            [
             0.1,
             "rgb(178,24,43)"
            ],
            [
             0.2,
             "rgb(214,96,77)"
            ],
            [
             0.3,
             "rgb(244,165,130)"
            ],
            [
             0.4,
             "rgb(253,219,199)"
            ],
            [
             0.5,
             "rgb(247,247,247)"
            ],
            [
             0.6,
             "rgb(209,229,240)"
            ],
            [
             0.7,
             "rgb(146,197,222)"
            ],
            [
             0.8,
             "rgb(67,147,195)"
            ],
            [
             0.9,
             "rgb(33,102,172)"
            ],
            [
             1,
             "rgb(5,48,97)"
            ]
           ],
           "sequential": [
            [
             0,
             "#440154"
            ],
            [
             0.1111111111111111,
             "#482878"
            ],
            [
             0.2222222222222222,
             "#3e4989"
            ],
            [
             0.3333333333333333,
             "#31688e"
            ],
            [
             0.4444444444444444,
             "#26828e"
            ],
            [
             0.5555555555555556,
             "#1f9e89"
            ],
            [
             0.6666666666666666,
             "#35b779"
            ],
            [
             0.7777777777777778,
             "#6ece58"
            ],
            [
             0.8888888888888888,
             "#b5de2b"
            ],
            [
             1,
             "#fde725"
            ]
           ],
           "sequentialminus": [
            [
             0,
             "#440154"
            ],
            [
             0.1111111111111111,
             "#482878"
            ],
            [
             0.2222222222222222,
             "#3e4989"
            ],
            [
             0.3333333333333333,
             "#31688e"
            ],
            [
             0.4444444444444444,
             "#26828e"
            ],
            [
             0.5555555555555556,
             "#1f9e89"
            ],
            [
             0.6666666666666666,
             "#35b779"
            ],
            [
             0.7777777777777778,
             "#6ece58"
            ],
            [
             0.8888888888888888,
             "#b5de2b"
            ],
            [
             1,
             "#fde725"
            ]
           ]
          },
          "colorway": [
           "#1F77B4",
           "#FF7F0E",
           "#2CA02C",
           "#D62728",
           "#9467BD",
           "#8C564B",
           "#E377C2",
           "#7F7F7F",
           "#BCBD22",
           "#17BECF"
          ],
          "font": {
           "color": "rgb(36,36,36)"
          },
          "geo": {
           "bgcolor": "white",
           "lakecolor": "white",
           "landcolor": "white",
           "showlakes": true,
           "showland": true,
           "subunitcolor": "white"
          },
          "hoverlabel": {
           "align": "left"
          },
          "hovermode": "closest",
          "mapbox": {
           "style": "light"
          },
          "paper_bgcolor": "white",
          "plot_bgcolor": "white",
          "polar": {
           "angularaxis": {
            "gridcolor": "rgb(232,232,232)",
            "linecolor": "rgb(36,36,36)",
            "showgrid": false,
            "showline": true,
            "ticks": "outside"
           },
           "bgcolor": "white",
           "radialaxis": {
            "gridcolor": "rgb(232,232,232)",
            "linecolor": "rgb(36,36,36)",
            "showgrid": false,
            "showline": true,
            "ticks": "outside"
           }
          },
          "scene": {
           "xaxis": {
            "backgroundcolor": "white",
            "gridcolor": "rgb(232,232,232)",
            "gridwidth": 2,
            "linecolor": "rgb(36,36,36)",
            "showbackground": true,
            "showgrid": false,
            "showline": true,
            "ticks": "outside",
            "zeroline": false,
            "zerolinecolor": "rgb(36,36,36)"
           },
           "yaxis": {
            "backgroundcolor": "white",
            "gridcolor": "rgb(232,232,232)",
            "gridwidth": 2,
            "linecolor": "rgb(36,36,36)",
            "showbackground": true,
            "showgrid": false,
            "showline": true,
            "ticks": "outside",
            "zeroline": false,
            "zerolinecolor": "rgb(36,36,36)"
           },
           "zaxis": {
            "backgroundcolor": "white",
            "gridcolor": "rgb(232,232,232)",
            "gridwidth": 2,
            "linecolor": "rgb(36,36,36)",
            "showbackground": true,
            "showgrid": false,
            "showline": true,
            "ticks": "outside",
            "zeroline": false,
            "zerolinecolor": "rgb(36,36,36)"
           }
          },
          "shapedefaults": {
           "fillcolor": "black",
           "line": {
            "width": 0
           },
           "opacity": 0.3
          },
          "ternary": {
           "aaxis": {
            "gridcolor": "rgb(232,232,232)",
            "linecolor": "rgb(36,36,36)",
            "showgrid": false,
            "showline": true,
            "ticks": "outside"
           },
           "baxis": {
            "gridcolor": "rgb(232,232,232)",
            "linecolor": "rgb(36,36,36)",
            "showgrid": false,
            "showline": true,
            "ticks": "outside"
           },
           "bgcolor": "white",
           "caxis": {
            "gridcolor": "rgb(232,232,232)",
            "linecolor": "rgb(36,36,36)",
            "showgrid": false,
            "showline": true,
            "ticks": "outside"
           }
          },
          "title": {
           "x": 0.05
          },
          "xaxis": {
           "automargin": true,
           "gridcolor": "rgb(232,232,232)",
           "linecolor": "rgb(36,36,36)",
           "showgrid": false,
           "showline": true,
           "ticks": "outside",
           "title": {
            "standoff": 15
           },
           "zeroline": false,
           "zerolinecolor": "rgb(36,36,36)"
          },
          "yaxis": {
           "automargin": true,
           "gridcolor": "rgb(232,232,232)",
           "linecolor": "rgb(36,36,36)",
           "showgrid": false,
           "showline": true,
           "ticks": "outside",
           "title": {
            "standoff": 15
           },
           "zeroline": false,
           "zerolinecolor": "rgb(36,36,36)"
          }
         }
        },
        "title": {
         "font": {
          "family": "Verdana"
         },
         "text": "US-Projects in the key spheres by success of crowdfunding",
         "x": 0.35,
         "xanchor": "center",
         "y": 0.96,
         "yanchor": "top"
        }
       }
      },
      "text/html": [
       "<div>\n",
       "        \n",
       "        \n",
       "            <div id=\"ba49eced-38b8-4e8e-90d7-7ff14428586b\" class=\"plotly-graph-div\" style=\"height:525px; width:100%;\"></div>\n",
       "            <script type=\"text/javascript\">\n",
       "                require([\"plotly\"], function(Plotly) {\n",
       "                    window.PLOTLYENV=window.PLOTLYENV || {};\n",
       "                    \n",
       "                if (document.getElementById(\"ba49eced-38b8-4e8e-90d7-7ff14428586b\")) {\n",
       "                    Plotly.newPlot(\n",
       "                        'ba49eced-38b8-4e8e-90d7-7ff14428586b',\n",
       "                        [{\"direction\": \"clockwise\", \"domain\": {\"x\": [0.0, 1.0], \"y\": [0.0, 1.0]}, \"hole\": 0.5, \"hoverlabel\": {\"namelength\": 0}, \"hovertemplate\": \"label=%{label}<br># of projects=%{value}\", \"labels\": [\"unsuccessful\", \"partly successful\", \"mostly successful\", \"successful\"], \"legendgroup\": \"\", \"name\": \"\", \"showlegend\": true, \"textinfo\": \"percent\", \"texttemplate\": \"%{percent:.0%f}\", \"type\": \"pie\", \"values\": [165, 51, 20, 279]}],\n",
       "                        {\"font\": {\"color\": \"darkblue\", \"family\": \"Verdana\", \"size\": 16}, \"legend\": {\"title\": {\"text\": \"Big value projects:\"}, \"tracegroupgap\": 0, \"traceorder\": \"normal\"}, \"piecolorway\": [\"#002b80\", \"#99c2ff\", \"#c2c2d6\", \"#ff6666\"], \"template\": {\"data\": {\"bar\": [{\"error_x\": {\"color\": \"rgb(36,36,36)\"}, \"error_y\": {\"color\": \"rgb(36,36,36)\"}, \"marker\": {\"line\": {\"color\": \"white\", \"width\": 0.5}}, \"type\": \"bar\"}], \"barpolar\": [{\"marker\": {\"line\": {\"color\": \"white\", \"width\": 0.5}}, \"type\": \"barpolar\"}], \"carpet\": [{\"aaxis\": {\"endlinecolor\": \"rgb(36,36,36)\", \"gridcolor\": \"white\", \"linecolor\": \"white\", \"minorgridcolor\": \"white\", \"startlinecolor\": \"rgb(36,36,36)\"}, \"baxis\": {\"endlinecolor\": \"rgb(36,36,36)\", \"gridcolor\": \"white\", \"linecolor\": \"white\", \"minorgridcolor\": \"white\", \"startlinecolor\": \"rgb(36,36,36)\"}, \"type\": \"carpet\"}], \"choropleth\": [{\"colorbar\": {\"outlinewidth\": 1, \"tickcolor\": \"rgb(36,36,36)\", \"ticks\": \"outside\"}, \"type\": \"choropleth\"}], \"contour\": [{\"colorbar\": {\"outlinewidth\": 1, \"tickcolor\": \"rgb(36,36,36)\", \"ticks\": \"outside\"}, \"colorscale\": [[0.0, \"#440154\"], [0.1111111111111111, \"#482878\"], [0.2222222222222222, \"#3e4989\"], [0.3333333333333333, \"#31688e\"], [0.4444444444444444, \"#26828e\"], [0.5555555555555556, \"#1f9e89\"], [0.6666666666666666, \"#35b779\"], [0.7777777777777778, \"#6ece58\"], [0.8888888888888888, \"#b5de2b\"], [1.0, \"#fde725\"]], \"type\": \"contour\"}], \"contourcarpet\": [{\"colorbar\": {\"outlinewidth\": 1, \"tickcolor\": \"rgb(36,36,36)\", \"ticks\": \"outside\"}, \"type\": \"contourcarpet\"}], \"heatmap\": [{\"colorbar\": {\"outlinewidth\": 1, \"tickcolor\": \"rgb(36,36,36)\", \"ticks\": \"outside\"}, \"colorscale\": [[0.0, \"#440154\"], [0.1111111111111111, \"#482878\"], [0.2222222222222222, \"#3e4989\"], [0.3333333333333333, \"#31688e\"], [0.4444444444444444, \"#26828e\"], [0.5555555555555556, \"#1f9e89\"], [0.6666666666666666, \"#35b779\"], [0.7777777777777778, \"#6ece58\"], [0.8888888888888888, \"#b5de2b\"], [1.0, \"#fde725\"]], \"type\": \"heatmap\"}], \"heatmapgl\": [{\"colorbar\": {\"outlinewidth\": 1, \"tickcolor\": \"rgb(36,36,36)\", \"ticks\": \"outside\"}, \"colorscale\": [[0.0, \"#440154\"], [0.1111111111111111, \"#482878\"], [0.2222222222222222, \"#3e4989\"], [0.3333333333333333, \"#31688e\"], [0.4444444444444444, \"#26828e\"], [0.5555555555555556, \"#1f9e89\"], [0.6666666666666666, \"#35b779\"], [0.7777777777777778, \"#6ece58\"], [0.8888888888888888, \"#b5de2b\"], [1.0, \"#fde725\"]], \"type\": \"heatmapgl\"}], \"histogram\": [{\"marker\": {\"line\": {\"color\": \"white\", \"width\": 0.6}}, \"type\": \"histogram\"}], \"histogram2d\": [{\"colorbar\": {\"outlinewidth\": 1, \"tickcolor\": \"rgb(36,36,36)\", \"ticks\": \"outside\"}, \"colorscale\": [[0.0, \"#440154\"], [0.1111111111111111, \"#482878\"], [0.2222222222222222, \"#3e4989\"], [0.3333333333333333, \"#31688e\"], [0.4444444444444444, \"#26828e\"], [0.5555555555555556, \"#1f9e89\"], [0.6666666666666666, \"#35b779\"], [0.7777777777777778, \"#6ece58\"], [0.8888888888888888, \"#b5de2b\"], [1.0, \"#fde725\"]], \"type\": \"histogram2d\"}], \"histogram2dcontour\": [{\"colorbar\": {\"outlinewidth\": 1, \"tickcolor\": \"rgb(36,36,36)\", \"ticks\": \"outside\"}, \"colorscale\": [[0.0, \"#440154\"], [0.1111111111111111, \"#482878\"], [0.2222222222222222, \"#3e4989\"], [0.3333333333333333, \"#31688e\"], [0.4444444444444444, \"#26828e\"], [0.5555555555555556, \"#1f9e89\"], [0.6666666666666666, \"#35b779\"], [0.7777777777777778, \"#6ece58\"], [0.8888888888888888, \"#b5de2b\"], [1.0, \"#fde725\"]], \"type\": \"histogram2dcontour\"}], \"mesh3d\": [{\"colorbar\": {\"outlinewidth\": 1, \"tickcolor\": \"rgb(36,36,36)\", \"ticks\": \"outside\"}, \"type\": \"mesh3d\"}], \"parcoords\": [{\"line\": {\"colorbar\": {\"outlinewidth\": 1, \"tickcolor\": \"rgb(36,36,36)\", \"ticks\": \"outside\"}}, \"type\": \"parcoords\"}], \"pie\": [{\"automargin\": true, \"type\": \"pie\"}], \"scatter\": [{\"marker\": {\"colorbar\": {\"outlinewidth\": 1, \"tickcolor\": \"rgb(36,36,36)\", \"ticks\": \"outside\"}}, \"type\": \"scatter\"}], \"scatter3d\": [{\"line\": {\"colorbar\": {\"outlinewidth\": 1, \"tickcolor\": \"rgb(36,36,36)\", \"ticks\": \"outside\"}}, \"marker\": {\"colorbar\": {\"outlinewidth\": 1, \"tickcolor\": \"rgb(36,36,36)\", \"ticks\": \"outside\"}}, \"type\": \"scatter3d\"}], \"scattercarpet\": [{\"marker\": {\"colorbar\": {\"outlinewidth\": 1, \"tickcolor\": \"rgb(36,36,36)\", \"ticks\": \"outside\"}}, \"type\": \"scattercarpet\"}], \"scattergeo\": [{\"marker\": {\"colorbar\": {\"outlinewidth\": 1, \"tickcolor\": \"rgb(36,36,36)\", \"ticks\": \"outside\"}}, \"type\": \"scattergeo\"}], \"scattergl\": [{\"marker\": {\"colorbar\": {\"outlinewidth\": 1, \"tickcolor\": \"rgb(36,36,36)\", \"ticks\": \"outside\"}}, \"type\": \"scattergl\"}], \"scattermapbox\": [{\"marker\": {\"colorbar\": {\"outlinewidth\": 1, \"tickcolor\": \"rgb(36,36,36)\", \"ticks\": \"outside\"}}, \"type\": \"scattermapbox\"}], \"scatterpolar\": [{\"marker\": {\"colorbar\": {\"outlinewidth\": 1, \"tickcolor\": \"rgb(36,36,36)\", \"ticks\": \"outside\"}}, \"type\": \"scatterpolar\"}], \"scatterpolargl\": [{\"marker\": {\"colorbar\": {\"outlinewidth\": 1, \"tickcolor\": \"rgb(36,36,36)\", \"ticks\": \"outside\"}}, \"type\": \"scatterpolargl\"}], \"scatterternary\": [{\"marker\": {\"colorbar\": {\"outlinewidth\": 1, \"tickcolor\": \"rgb(36,36,36)\", \"ticks\": \"outside\"}}, \"type\": \"scatterternary\"}], \"surface\": [{\"colorbar\": {\"outlinewidth\": 1, \"tickcolor\": \"rgb(36,36,36)\", \"ticks\": \"outside\"}, \"colorscale\": [[0.0, \"#440154\"], [0.1111111111111111, \"#482878\"], [0.2222222222222222, \"#3e4989\"], [0.3333333333333333, \"#31688e\"], [0.4444444444444444, \"#26828e\"], [0.5555555555555556, \"#1f9e89\"], [0.6666666666666666, \"#35b779\"], [0.7777777777777778, \"#6ece58\"], [0.8888888888888888, \"#b5de2b\"], [1.0, \"#fde725\"]], \"type\": \"surface\"}], \"table\": [{\"cells\": {\"fill\": {\"color\": \"rgb(237,237,237)\"}, \"line\": {\"color\": \"white\"}}, \"header\": {\"fill\": {\"color\": \"rgb(217,217,217)\"}, \"line\": {\"color\": \"white\"}}, \"type\": \"table\"}]}, \"layout\": {\"annotationdefaults\": {\"arrowhead\": 0, \"arrowwidth\": 1}, \"coloraxis\": {\"colorbar\": {\"outlinewidth\": 1, \"tickcolor\": \"rgb(36,36,36)\", \"ticks\": \"outside\"}}, \"colorscale\": {\"diverging\": [[0.0, \"rgb(103,0,31)\"], [0.1, \"rgb(178,24,43)\"], [0.2, \"rgb(214,96,77)\"], [0.3, \"rgb(244,165,130)\"], [0.4, \"rgb(253,219,199)\"], [0.5, \"rgb(247,247,247)\"], [0.6, \"rgb(209,229,240)\"], [0.7, \"rgb(146,197,222)\"], [0.8, \"rgb(67,147,195)\"], [0.9, \"rgb(33,102,172)\"], [1.0, \"rgb(5,48,97)\"]], \"sequential\": [[0.0, \"#440154\"], [0.1111111111111111, \"#482878\"], [0.2222222222222222, \"#3e4989\"], [0.3333333333333333, \"#31688e\"], [0.4444444444444444, \"#26828e\"], [0.5555555555555556, \"#1f9e89\"], [0.6666666666666666, \"#35b779\"], [0.7777777777777778, \"#6ece58\"], [0.8888888888888888, \"#b5de2b\"], [1.0, \"#fde725\"]], \"sequentialminus\": [[0.0, \"#440154\"], [0.1111111111111111, \"#482878\"], [0.2222222222222222, \"#3e4989\"], [0.3333333333333333, \"#31688e\"], [0.4444444444444444, \"#26828e\"], [0.5555555555555556, \"#1f9e89\"], [0.6666666666666666, \"#35b779\"], [0.7777777777777778, \"#6ece58\"], [0.8888888888888888, \"#b5de2b\"], [1.0, \"#fde725\"]]}, \"colorway\": [\"#1F77B4\", \"#FF7F0E\", \"#2CA02C\", \"#D62728\", \"#9467BD\", \"#8C564B\", \"#E377C2\", \"#7F7F7F\", \"#BCBD22\", \"#17BECF\"], \"font\": {\"color\": \"rgb(36,36,36)\"}, \"geo\": {\"bgcolor\": \"white\", \"lakecolor\": \"white\", \"landcolor\": \"white\", \"showlakes\": true, \"showland\": true, \"subunitcolor\": \"white\"}, \"hoverlabel\": {\"align\": \"left\"}, \"hovermode\": \"closest\", \"mapbox\": {\"style\": \"light\"}, \"paper_bgcolor\": \"white\", \"plot_bgcolor\": \"white\", \"polar\": {\"angularaxis\": {\"gridcolor\": \"rgb(232,232,232)\", \"linecolor\": \"rgb(36,36,36)\", \"showgrid\": false, \"showline\": true, \"ticks\": \"outside\"}, \"bgcolor\": \"white\", \"radialaxis\": {\"gridcolor\": \"rgb(232,232,232)\", \"linecolor\": \"rgb(36,36,36)\", \"showgrid\": false, \"showline\": true, \"ticks\": \"outside\"}}, \"scene\": {\"xaxis\": {\"backgroundcolor\": \"white\", \"gridcolor\": \"rgb(232,232,232)\", \"gridwidth\": 2, \"linecolor\": \"rgb(36,36,36)\", \"showbackground\": true, \"showgrid\": false, \"showline\": true, \"ticks\": \"outside\", \"zeroline\": false, \"zerolinecolor\": \"rgb(36,36,36)\"}, \"yaxis\": {\"backgroundcolor\": \"white\", \"gridcolor\": \"rgb(232,232,232)\", \"gridwidth\": 2, \"linecolor\": \"rgb(36,36,36)\", \"showbackground\": true, \"showgrid\": false, \"showline\": true, \"ticks\": \"outside\", \"zeroline\": false, \"zerolinecolor\": \"rgb(36,36,36)\"}, \"zaxis\": {\"backgroundcolor\": \"white\", \"gridcolor\": \"rgb(232,232,232)\", \"gridwidth\": 2, \"linecolor\": \"rgb(36,36,36)\", \"showbackground\": true, \"showgrid\": false, \"showline\": true, \"ticks\": \"outside\", \"zeroline\": false, \"zerolinecolor\": \"rgb(36,36,36)\"}}, \"shapedefaults\": {\"fillcolor\": \"black\", \"line\": {\"width\": 0}, \"opacity\": 0.3}, \"ternary\": {\"aaxis\": {\"gridcolor\": \"rgb(232,232,232)\", \"linecolor\": \"rgb(36,36,36)\", \"showgrid\": false, \"showline\": true, \"ticks\": \"outside\"}, \"baxis\": {\"gridcolor\": \"rgb(232,232,232)\", \"linecolor\": \"rgb(36,36,36)\", \"showgrid\": false, \"showline\": true, \"ticks\": \"outside\"}, \"bgcolor\": \"white\", \"caxis\": {\"gridcolor\": \"rgb(232,232,232)\", \"linecolor\": \"rgb(36,36,36)\", \"showgrid\": false, \"showline\": true, \"ticks\": \"outside\"}}, \"title\": {\"x\": 0.05}, \"xaxis\": {\"automargin\": true, \"gridcolor\": \"rgb(232,232,232)\", \"linecolor\": \"rgb(36,36,36)\", \"showgrid\": false, \"showline\": true, \"ticks\": \"outside\", \"title\": {\"standoff\": 15}, \"zeroline\": false, \"zerolinecolor\": \"rgb(36,36,36)\"}, \"yaxis\": {\"automargin\": true, \"gridcolor\": \"rgb(232,232,232)\", \"linecolor\": \"rgb(36,36,36)\", \"showgrid\": false, \"showline\": true, \"ticks\": \"outside\", \"title\": {\"standoff\": 15}, \"zeroline\": false, \"zerolinecolor\": \"rgb(36,36,36)\"}}}, \"title\": {\"font\": {\"family\": \"Verdana\"}, \"text\": \"US-Projects in the key spheres by success of crowdfunding\", \"x\": 0.35, \"xanchor\": \"center\", \"y\": 0.96, \"yanchor\": \"top\"}},\n",
       "                        {\"responsive\": true}\n",
       "                    ).then(function(){\n",
       "                            \n",
       "var gd = document.getElementById('ba49eced-38b8-4e8e-90d7-7ff14428586b');\n",
       "var x = new MutationObserver(function (mutations, observer) {{\n",
       "        var display = window.getComputedStyle(gd).display;\n",
       "        if (!display || display === 'none') {{\n",
       "            console.log([gd, 'removed!']);\n",
       "            Plotly.purge(gd);\n",
       "            observer.disconnect();\n",
       "        }}\n",
       "}});\n",
       "\n",
       "// Listen for the removal of the full notebook cells\n",
       "var notebookContainer = gd.closest('#notebook-container');\n",
       "if (notebookContainer) {{\n",
       "    x.observe(notebookContainer, {childList: true});\n",
       "}}\n",
       "\n",
       "// Listen for the clearing of the current output cell\n",
       "var outputEl = gd.closest('.output');\n",
       "if (outputEl) {{\n",
       "    x.observe(outputEl, {childList: true});\n",
       "}}\n",
       "\n",
       "                        })\n",
       "                };\n",
       "                });\n",
       "            </script>\n",
       "        </div>"
      ]
     },
     "metadata": {},
     "output_type": "display_data"
    }
   ],
   "source": [
    "# Plot it as a pie-chart:\n",
    "plotdonut(successful_usa_sel, 'US-Projects in the key spheres by success of crowdfunding', 'Big value projects:')"
   ]
  },
  {
   "cell_type": "code",
   "execution_count": 50,
   "metadata": {},
   "outputs": [],
   "source": [
    "usa = df.loc[df['country'] == 'United States']"
   ]
  },
  {
   "cell_type": "code",
   "execution_count": 51,
   "metadata": {},
   "outputs": [
    {
     "data": {
      "text/html": [
       "<div>\n",
       "<style scoped>\n",
       "    .dataframe tbody tr th:only-of-type {\n",
       "        vertical-align: middle;\n",
       "    }\n",
       "\n",
       "    .dataframe tbody tr th {\n",
       "        vertical-align: top;\n",
       "    }\n",
       "\n",
       "    .dataframe thead th {\n",
       "        text-align: right;\n",
       "    }\n",
       "</style>\n",
       "<table border=\"1\" class=\"dataframe\">\n",
       "  <thead>\n",
       "    <tr style=\"text-align: right;\">\n",
       "      <th></th>\n",
       "      <th>funded_amount</th>\n",
       "      <th>loan_amount</th>\n",
       "      <th>activity</th>\n",
       "      <th>sector</th>\n",
       "      <th>use</th>\n",
       "      <th>country_code</th>\n",
       "      <th>country</th>\n",
       "      <th>term_in_months</th>\n",
       "      <th>lender_count</th>\n",
       "      <th>repayment_interval</th>\n",
       "      <th>country_alpha_3</th>\n",
       "      <th>share_gathered</th>\n",
       "      <th>success</th>\n",
       "    </tr>\n",
       "  </thead>\n",
       "  <tbody>\n",
       "    <tr>\n",
       "      <td>99</td>\n",
       "      <td>5000</td>\n",
       "      <td>5000</td>\n",
       "      <td>Food Production/Sales</td>\n",
       "      <td>Food</td>\n",
       "      <td>hire more staff to keep up with the volume of ...</td>\n",
       "      <td>US</td>\n",
       "      <td>United States</td>\n",
       "      <td>30</td>\n",
       "      <td>261</td>\n",
       "      <td>monthly</td>\n",
       "      <td>USA</td>\n",
       "      <td>100.0</td>\n",
       "      <td>successful</td>\n",
       "    </tr>\n",
       "    <tr>\n",
       "      <td>116</td>\n",
       "      <td>4000</td>\n",
       "      <td>4000</td>\n",
       "      <td>Cosmetics Sales</td>\n",
       "      <td>Retail</td>\n",
       "      <td>to purchase more inventory to sell</td>\n",
       "      <td>US</td>\n",
       "      <td>United States</td>\n",
       "      <td>26</td>\n",
       "      <td>93</td>\n",
       "      <td>monthly</td>\n",
       "      <td>USA</td>\n",
       "      <td>100.0</td>\n",
       "      <td>successful</td>\n",
       "    </tr>\n",
       "    <tr>\n",
       "      <td>231</td>\n",
       "      <td>10000</td>\n",
       "      <td>10000</td>\n",
       "      <td>Food Production/Sales</td>\n",
       "      <td>Food</td>\n",
       "      <td>outfit my new kitchen so that I can expand my ...</td>\n",
       "      <td>US</td>\n",
       "      <td>United States</td>\n",
       "      <td>36</td>\n",
       "      <td>280</td>\n",
       "      <td>monthly</td>\n",
       "      <td>USA</td>\n",
       "      <td>100.0</td>\n",
       "      <td>successful</td>\n",
       "    </tr>\n",
       "    <tr>\n",
       "      <td>455</td>\n",
       "      <td>5000</td>\n",
       "      <td>5000</td>\n",
       "      <td>Farming</td>\n",
       "      <td>Agriculture</td>\n",
       "      <td>to purchase a tractor</td>\n",
       "      <td>US</td>\n",
       "      <td>United States</td>\n",
       "      <td>32</td>\n",
       "      <td>158</td>\n",
       "      <td>monthly</td>\n",
       "      <td>USA</td>\n",
       "      <td>100.0</td>\n",
       "      <td>successful</td>\n",
       "    </tr>\n",
       "  </tbody>\n",
       "</table>\n",
       "</div>"
      ],
      "text/plain": [
       "     funded_amount  loan_amount               activity       sector  \\\n",
       "99            5000         5000  Food Production/Sales         Food   \n",
       "116           4000         4000        Cosmetics Sales       Retail   \n",
       "231          10000        10000  Food Production/Sales         Food   \n",
       "455           5000         5000                Farming  Agriculture   \n",
       "\n",
       "                                                   use country_code  \\\n",
       "99   hire more staff to keep up with the volume of ...           US   \n",
       "116                 to purchase more inventory to sell           US   \n",
       "231  outfit my new kitchen so that I can expand my ...           US   \n",
       "455                              to purchase a tractor           US   \n",
       "\n",
       "           country  term_in_months  lender_count repayment_interval  \\\n",
       "99   United States              30           261            monthly   \n",
       "116  United States              26            93            monthly   \n",
       "231  United States              36           280            monthly   \n",
       "455  United States              32           158            monthly   \n",
       "\n",
       "    country_alpha_3  share_gathered     success  \n",
       "99              USA           100.0  successful  \n",
       "116             USA           100.0  successful  \n",
       "231             USA           100.0  successful  \n",
       "455             USA           100.0  successful  "
      ]
     },
     "execution_count": 51,
     "metadata": {},
     "output_type": "execute_result"
    }
   ],
   "source": [
    "usa.head(4)"
   ]
  },
  {
   "cell_type": "code",
   "execution_count": 52,
   "metadata": {},
   "outputs": [
    {
     "data": {
      "text/plain": [
       "success\n",
       "unsuccessful         1409\n",
       "partly successful     463\n",
       "mostly successful     288\n",
       "successful           3933\n",
       "dtype: int64"
      ]
     },
     "execution_count": 52,
     "metadata": {},
     "output_type": "execute_result"
    }
   ],
   "source": [
    "successful_usa = usa.groupby('success').size()\n",
    "successful_usa"
   ]
  },
  {
   "cell_type": "code",
   "execution_count": 53,
   "metadata": {},
   "outputs": [
    {
     "data": {
      "application/vnd.plotly.v1+json": {
       "config": {
        "plotlyServerURL": "https://plot.ly"
       },
       "data": [
        {
         "direction": "clockwise",
         "domain": {
          "x": [
           0,
           1
          ],
          "y": [
           0,
           1
          ]
         },
         "hole": 0.5,
         "hoverlabel": {
          "namelength": 0
         },
         "hovertemplate": "label=%{label}<br># of projects=%{value}",
         "labels": [
          "unsuccessful",
          "partly successful",
          "mostly successful",
          "successful"
         ],
         "legendgroup": "",
         "name": "",
         "showlegend": true,
         "textinfo": "percent",
         "texttemplate": "%{percent:.0%f}",
         "type": "pie",
         "values": [
          1409,
          463,
          288,
          3933
         ]
        }
       ],
       "layout": {
        "font": {
         "color": "darkblue",
         "family": "Verdana",
         "size": 16
        },
        "legend": {
         "title": {
          "text": "All projects:"
         },
         "tracegroupgap": 0,
         "traceorder": "normal"
        },
        "piecolorway": [
         "#002b80",
         "#99c2ff",
         "#c2c2d6",
         "#ff6666"
        ],
        "template": {
         "data": {
          "bar": [
           {
            "error_x": {
             "color": "rgb(36,36,36)"
            },
            "error_y": {
             "color": "rgb(36,36,36)"
            },
            "marker": {
             "line": {
              "color": "white",
              "width": 0.5
             }
            },
            "type": "bar"
           }
          ],
          "barpolar": [
           {
            "marker": {
             "line": {
              "color": "white",
              "width": 0.5
             }
            },
            "type": "barpolar"
           }
          ],
          "carpet": [
           {
            "aaxis": {
             "endlinecolor": "rgb(36,36,36)",
             "gridcolor": "white",
             "linecolor": "white",
             "minorgridcolor": "white",
             "startlinecolor": "rgb(36,36,36)"
            },
            "baxis": {
             "endlinecolor": "rgb(36,36,36)",
             "gridcolor": "white",
             "linecolor": "white",
             "minorgridcolor": "white",
             "startlinecolor": "rgb(36,36,36)"
            },
            "type": "carpet"
           }
          ],
          "choropleth": [
           {
            "colorbar": {
             "outlinewidth": 1,
             "tickcolor": "rgb(36,36,36)",
             "ticks": "outside"
            },
            "type": "choropleth"
           }
          ],
          "contour": [
           {
            "colorbar": {
             "outlinewidth": 1,
             "tickcolor": "rgb(36,36,36)",
             "ticks": "outside"
            },
            "colorscale": [
             [
              0,
              "#440154"
             ],
             [
              0.1111111111111111,
              "#482878"
             ],
             [
              0.2222222222222222,
              "#3e4989"
             ],
             [
              0.3333333333333333,
              "#31688e"
             ],
             [
              0.4444444444444444,
              "#26828e"
             ],
             [
              0.5555555555555556,
              "#1f9e89"
             ],
             [
              0.6666666666666666,
              "#35b779"
             ],
             [
              0.7777777777777778,
              "#6ece58"
             ],
             [
              0.8888888888888888,
              "#b5de2b"
             ],
             [
              1,
              "#fde725"
             ]
            ],
            "type": "contour"
           }
          ],
          "contourcarpet": [
           {
            "colorbar": {
             "outlinewidth": 1,
             "tickcolor": "rgb(36,36,36)",
             "ticks": "outside"
            },
            "type": "contourcarpet"
           }
          ],
          "heatmap": [
           {
            "colorbar": {
             "outlinewidth": 1,
             "tickcolor": "rgb(36,36,36)",
             "ticks": "outside"
            },
            "colorscale": [
             [
              0,
              "#440154"
             ],
             [
              0.1111111111111111,
              "#482878"
             ],
             [
              0.2222222222222222,
              "#3e4989"
             ],
             [
              0.3333333333333333,
              "#31688e"
             ],
             [
              0.4444444444444444,
              "#26828e"
             ],
             [
              0.5555555555555556,
              "#1f9e89"
             ],
             [
              0.6666666666666666,
              "#35b779"
             ],
             [
              0.7777777777777778,
              "#6ece58"
             ],
             [
              0.8888888888888888,
              "#b5de2b"
             ],
             [
              1,
              "#fde725"
             ]
            ],
            "type": "heatmap"
           }
          ],
          "heatmapgl": [
           {
            "colorbar": {
             "outlinewidth": 1,
             "tickcolor": "rgb(36,36,36)",
             "ticks": "outside"
            },
            "colorscale": [
             [
              0,
              "#440154"
             ],
             [
              0.1111111111111111,
              "#482878"
             ],
             [
              0.2222222222222222,
              "#3e4989"
             ],
             [
              0.3333333333333333,
              "#31688e"
             ],
             [
              0.4444444444444444,
              "#26828e"
             ],
             [
              0.5555555555555556,
              "#1f9e89"
             ],
             [
              0.6666666666666666,
              "#35b779"
             ],
             [
              0.7777777777777778,
              "#6ece58"
             ],
             [
              0.8888888888888888,
              "#b5de2b"
             ],
             [
              1,
              "#fde725"
             ]
            ],
            "type": "heatmapgl"
           }
          ],
          "histogram": [
           {
            "marker": {
             "line": {
              "color": "white",
              "width": 0.6
             }
            },
            "type": "histogram"
           }
          ],
          "histogram2d": [
           {
            "colorbar": {
             "outlinewidth": 1,
             "tickcolor": "rgb(36,36,36)",
             "ticks": "outside"
            },
            "colorscale": [
             [
              0,
              "#440154"
             ],
             [
              0.1111111111111111,
              "#482878"
             ],
             [
              0.2222222222222222,
              "#3e4989"
             ],
             [
              0.3333333333333333,
              "#31688e"
             ],
             [
              0.4444444444444444,
              "#26828e"
             ],
             [
              0.5555555555555556,
              "#1f9e89"
             ],
             [
              0.6666666666666666,
              "#35b779"
             ],
             [
              0.7777777777777778,
              "#6ece58"
             ],
             [
              0.8888888888888888,
              "#b5de2b"
             ],
             [
              1,
              "#fde725"
             ]
            ],
            "type": "histogram2d"
           }
          ],
          "histogram2dcontour": [
           {
            "colorbar": {
             "outlinewidth": 1,
             "tickcolor": "rgb(36,36,36)",
             "ticks": "outside"
            },
            "colorscale": [
             [
              0,
              "#440154"
             ],
             [
              0.1111111111111111,
              "#482878"
             ],
             [
              0.2222222222222222,
              "#3e4989"
             ],
             [
              0.3333333333333333,
              "#31688e"
             ],
             [
              0.4444444444444444,
              "#26828e"
             ],
             [
              0.5555555555555556,
              "#1f9e89"
             ],
             [
              0.6666666666666666,
              "#35b779"
             ],
             [
              0.7777777777777778,
              "#6ece58"
             ],
             [
              0.8888888888888888,
              "#b5de2b"
             ],
             [
              1,
              "#fde725"
             ]
            ],
            "type": "histogram2dcontour"
           }
          ],
          "mesh3d": [
           {
            "colorbar": {
             "outlinewidth": 1,
             "tickcolor": "rgb(36,36,36)",
             "ticks": "outside"
            },
            "type": "mesh3d"
           }
          ],
          "parcoords": [
           {
            "line": {
             "colorbar": {
              "outlinewidth": 1,
              "tickcolor": "rgb(36,36,36)",
              "ticks": "outside"
             }
            },
            "type": "parcoords"
           }
          ],
          "pie": [
           {
            "automargin": true,
            "type": "pie"
           }
          ],
          "scatter": [
           {
            "marker": {
             "colorbar": {
              "outlinewidth": 1,
              "tickcolor": "rgb(36,36,36)",
              "ticks": "outside"
             }
            },
            "type": "scatter"
           }
          ],
          "scatter3d": [
           {
            "line": {
             "colorbar": {
              "outlinewidth": 1,
              "tickcolor": "rgb(36,36,36)",
              "ticks": "outside"
             }
            },
            "marker": {
             "colorbar": {
              "outlinewidth": 1,
              "tickcolor": "rgb(36,36,36)",
              "ticks": "outside"
             }
            },
            "type": "scatter3d"
           }
          ],
          "scattercarpet": [
           {
            "marker": {
             "colorbar": {
              "outlinewidth": 1,
              "tickcolor": "rgb(36,36,36)",
              "ticks": "outside"
             }
            },
            "type": "scattercarpet"
           }
          ],
          "scattergeo": [
           {
            "marker": {
             "colorbar": {
              "outlinewidth": 1,
              "tickcolor": "rgb(36,36,36)",
              "ticks": "outside"
             }
            },
            "type": "scattergeo"
           }
          ],
          "scattergl": [
           {
            "marker": {
             "colorbar": {
              "outlinewidth": 1,
              "tickcolor": "rgb(36,36,36)",
              "ticks": "outside"
             }
            },
            "type": "scattergl"
           }
          ],
          "scattermapbox": [
           {
            "marker": {
             "colorbar": {
              "outlinewidth": 1,
              "tickcolor": "rgb(36,36,36)",
              "ticks": "outside"
             }
            },
            "type": "scattermapbox"
           }
          ],
          "scatterpolar": [
           {
            "marker": {
             "colorbar": {
              "outlinewidth": 1,
              "tickcolor": "rgb(36,36,36)",
              "ticks": "outside"
             }
            },
            "type": "scatterpolar"
           }
          ],
          "scatterpolargl": [
           {
            "marker": {
             "colorbar": {
              "outlinewidth": 1,
              "tickcolor": "rgb(36,36,36)",
              "ticks": "outside"
             }
            },
            "type": "scatterpolargl"
           }
          ],
          "scatterternary": [
           {
            "marker": {
             "colorbar": {
              "outlinewidth": 1,
              "tickcolor": "rgb(36,36,36)",
              "ticks": "outside"
             }
            },
            "type": "scatterternary"
           }
          ],
          "surface": [
           {
            "colorbar": {
             "outlinewidth": 1,
             "tickcolor": "rgb(36,36,36)",
             "ticks": "outside"
            },
            "colorscale": [
             [
              0,
              "#440154"
             ],
             [
              0.1111111111111111,
              "#482878"
             ],
             [
              0.2222222222222222,
              "#3e4989"
             ],
             [
              0.3333333333333333,
              "#31688e"
             ],
             [
              0.4444444444444444,
              "#26828e"
             ],
             [
              0.5555555555555556,
              "#1f9e89"
             ],
             [
              0.6666666666666666,
              "#35b779"
             ],
             [
              0.7777777777777778,
              "#6ece58"
             ],
             [
              0.8888888888888888,
              "#b5de2b"
             ],
             [
              1,
              "#fde725"
             ]
            ],
            "type": "surface"
           }
          ],
          "table": [
           {
            "cells": {
             "fill": {
              "color": "rgb(237,237,237)"
             },
             "line": {
              "color": "white"
             }
            },
            "header": {
             "fill": {
              "color": "rgb(217,217,217)"
             },
             "line": {
              "color": "white"
             }
            },
            "type": "table"
           }
          ]
         },
         "layout": {
          "annotationdefaults": {
           "arrowhead": 0,
           "arrowwidth": 1
          },
          "coloraxis": {
           "colorbar": {
            "outlinewidth": 1,
            "tickcolor": "rgb(36,36,36)",
            "ticks": "outside"
           }
          },
          "colorscale": {
           "diverging": [
            [
             0,
             "rgb(103,0,31)"
            ],
            [
             0.1,
             "rgb(178,24,43)"
            ],
            [
             0.2,
             "rgb(214,96,77)"
            ],
            [
             0.3,
             "rgb(244,165,130)"
            ],
            [
             0.4,
             "rgb(253,219,199)"
            ],
            [
             0.5,
             "rgb(247,247,247)"
            ],
            [
             0.6,
             "rgb(209,229,240)"
            ],
            [
             0.7,
             "rgb(146,197,222)"
            ],
            [
             0.8,
             "rgb(67,147,195)"
            ],
            [
             0.9,
             "rgb(33,102,172)"
            ],
            [
             1,
             "rgb(5,48,97)"
            ]
           ],
           "sequential": [
            [
             0,
             "#440154"
            ],
            [
             0.1111111111111111,
             "#482878"
            ],
            [
             0.2222222222222222,
             "#3e4989"
            ],
            [
             0.3333333333333333,
             "#31688e"
            ],
            [
             0.4444444444444444,
             "#26828e"
            ],
            [
             0.5555555555555556,
             "#1f9e89"
            ],
            [
             0.6666666666666666,
             "#35b779"
            ],
            [
             0.7777777777777778,
             "#6ece58"
            ],
            [
             0.8888888888888888,
             "#b5de2b"
            ],
            [
             1,
             "#fde725"
            ]
           ],
           "sequentialminus": [
            [
             0,
             "#440154"
            ],
            [
             0.1111111111111111,
             "#482878"
            ],
            [
             0.2222222222222222,
             "#3e4989"
            ],
            [
             0.3333333333333333,
             "#31688e"
            ],
            [
             0.4444444444444444,
             "#26828e"
            ],
            [
             0.5555555555555556,
             "#1f9e89"
            ],
            [
             0.6666666666666666,
             "#35b779"
            ],
            [
             0.7777777777777778,
             "#6ece58"
            ],
            [
             0.8888888888888888,
             "#b5de2b"
            ],
            [
             1,
             "#fde725"
            ]
           ]
          },
          "colorway": [
           "#1F77B4",
           "#FF7F0E",
           "#2CA02C",
           "#D62728",
           "#9467BD",
           "#8C564B",
           "#E377C2",
           "#7F7F7F",
           "#BCBD22",
           "#17BECF"
          ],
          "font": {
           "color": "rgb(36,36,36)"
          },
          "geo": {
           "bgcolor": "white",
           "lakecolor": "white",
           "landcolor": "white",
           "showlakes": true,
           "showland": true,
           "subunitcolor": "white"
          },
          "hoverlabel": {
           "align": "left"
          },
          "hovermode": "closest",
          "mapbox": {
           "style": "light"
          },
          "paper_bgcolor": "white",
          "plot_bgcolor": "white",
          "polar": {
           "angularaxis": {
            "gridcolor": "rgb(232,232,232)",
            "linecolor": "rgb(36,36,36)",
            "showgrid": false,
            "showline": true,
            "ticks": "outside"
           },
           "bgcolor": "white",
           "radialaxis": {
            "gridcolor": "rgb(232,232,232)",
            "linecolor": "rgb(36,36,36)",
            "showgrid": false,
            "showline": true,
            "ticks": "outside"
           }
          },
          "scene": {
           "xaxis": {
            "backgroundcolor": "white",
            "gridcolor": "rgb(232,232,232)",
            "gridwidth": 2,
            "linecolor": "rgb(36,36,36)",
            "showbackground": true,
            "showgrid": false,
            "showline": true,
            "ticks": "outside",
            "zeroline": false,
            "zerolinecolor": "rgb(36,36,36)"
           },
           "yaxis": {
            "backgroundcolor": "white",
            "gridcolor": "rgb(232,232,232)",
            "gridwidth": 2,
            "linecolor": "rgb(36,36,36)",
            "showbackground": true,
            "showgrid": false,
            "showline": true,
            "ticks": "outside",
            "zeroline": false,
            "zerolinecolor": "rgb(36,36,36)"
           },
           "zaxis": {
            "backgroundcolor": "white",
            "gridcolor": "rgb(232,232,232)",
            "gridwidth": 2,
            "linecolor": "rgb(36,36,36)",
            "showbackground": true,
            "showgrid": false,
            "showline": true,
            "ticks": "outside",
            "zeroline": false,
            "zerolinecolor": "rgb(36,36,36)"
           }
          },
          "shapedefaults": {
           "fillcolor": "black",
           "line": {
            "width": 0
           },
           "opacity": 0.3
          },
          "ternary": {
           "aaxis": {
            "gridcolor": "rgb(232,232,232)",
            "linecolor": "rgb(36,36,36)",
            "showgrid": false,
            "showline": true,
            "ticks": "outside"
           },
           "baxis": {
            "gridcolor": "rgb(232,232,232)",
            "linecolor": "rgb(36,36,36)",
            "showgrid": false,
            "showline": true,
            "ticks": "outside"
           },
           "bgcolor": "white",
           "caxis": {
            "gridcolor": "rgb(232,232,232)",
            "linecolor": "rgb(36,36,36)",
            "showgrid": false,
            "showline": true,
            "ticks": "outside"
           }
          },
          "title": {
           "x": 0.05
          },
          "xaxis": {
           "automargin": true,
           "gridcolor": "rgb(232,232,232)",
           "linecolor": "rgb(36,36,36)",
           "showgrid": false,
           "showline": true,
           "ticks": "outside",
           "title": {
            "standoff": 15
           },
           "zeroline": false,
           "zerolinecolor": "rgb(36,36,36)"
          },
          "yaxis": {
           "automargin": true,
           "gridcolor": "rgb(232,232,232)",
           "linecolor": "rgb(36,36,36)",
           "showgrid": false,
           "showline": true,
           "ticks": "outside",
           "title": {
            "standoff": 15
           },
           "zeroline": false,
           "zerolinecolor": "rgb(36,36,36)"
          }
         }
        },
        "title": {
         "font": {
          "family": "Verdana"
         },
         "text": "All US-projects by success of crowdfunding",
         "x": 0.35,
         "xanchor": "center",
         "y": 0.96,
         "yanchor": "top"
        }
       }
      },
      "text/html": [
       "<div>\n",
       "        \n",
       "        \n",
       "            <div id=\"3b4b61e8-8567-42b7-8556-6b6ba8eec3cc\" class=\"plotly-graph-div\" style=\"height:525px; width:100%;\"></div>\n",
       "            <script type=\"text/javascript\">\n",
       "                require([\"plotly\"], function(Plotly) {\n",
       "                    window.PLOTLYENV=window.PLOTLYENV || {};\n",
       "                    \n",
       "                if (document.getElementById(\"3b4b61e8-8567-42b7-8556-6b6ba8eec3cc\")) {\n",
       "                    Plotly.newPlot(\n",
       "                        '3b4b61e8-8567-42b7-8556-6b6ba8eec3cc',\n",
       "                        [{\"direction\": \"clockwise\", \"domain\": {\"x\": [0.0, 1.0], \"y\": [0.0, 1.0]}, \"hole\": 0.5, \"hoverlabel\": {\"namelength\": 0}, \"hovertemplate\": \"label=%{label}<br># of projects=%{value}\", \"labels\": [\"unsuccessful\", \"partly successful\", \"mostly successful\", \"successful\"], \"legendgroup\": \"\", \"name\": \"\", \"showlegend\": true, \"textinfo\": \"percent\", \"texttemplate\": \"%{percent:.0%f}\", \"type\": \"pie\", \"values\": [1409, 463, 288, 3933]}],\n",
       "                        {\"font\": {\"color\": \"darkblue\", \"family\": \"Verdana\", \"size\": 16}, \"legend\": {\"title\": {\"text\": \"All projects:\"}, \"tracegroupgap\": 0, \"traceorder\": \"normal\"}, \"piecolorway\": [\"#002b80\", \"#99c2ff\", \"#c2c2d6\", \"#ff6666\"], \"template\": {\"data\": {\"bar\": [{\"error_x\": {\"color\": \"rgb(36,36,36)\"}, \"error_y\": {\"color\": \"rgb(36,36,36)\"}, \"marker\": {\"line\": {\"color\": \"white\", \"width\": 0.5}}, \"type\": \"bar\"}], \"barpolar\": [{\"marker\": {\"line\": {\"color\": \"white\", \"width\": 0.5}}, \"type\": \"barpolar\"}], \"carpet\": [{\"aaxis\": {\"endlinecolor\": \"rgb(36,36,36)\", \"gridcolor\": \"white\", \"linecolor\": \"white\", \"minorgridcolor\": \"white\", \"startlinecolor\": \"rgb(36,36,36)\"}, \"baxis\": {\"endlinecolor\": \"rgb(36,36,36)\", \"gridcolor\": \"white\", \"linecolor\": \"white\", \"minorgridcolor\": \"white\", \"startlinecolor\": \"rgb(36,36,36)\"}, \"type\": \"carpet\"}], \"choropleth\": [{\"colorbar\": {\"outlinewidth\": 1, \"tickcolor\": \"rgb(36,36,36)\", \"ticks\": \"outside\"}, \"type\": \"choropleth\"}], \"contour\": [{\"colorbar\": {\"outlinewidth\": 1, \"tickcolor\": \"rgb(36,36,36)\", \"ticks\": \"outside\"}, \"colorscale\": [[0.0, \"#440154\"], [0.1111111111111111, \"#482878\"], [0.2222222222222222, \"#3e4989\"], [0.3333333333333333, \"#31688e\"], [0.4444444444444444, \"#26828e\"], [0.5555555555555556, \"#1f9e89\"], [0.6666666666666666, \"#35b779\"], [0.7777777777777778, \"#6ece58\"], [0.8888888888888888, \"#b5de2b\"], [1.0, \"#fde725\"]], \"type\": \"contour\"}], \"contourcarpet\": [{\"colorbar\": {\"outlinewidth\": 1, \"tickcolor\": \"rgb(36,36,36)\", \"ticks\": \"outside\"}, \"type\": \"contourcarpet\"}], \"heatmap\": [{\"colorbar\": {\"outlinewidth\": 1, \"tickcolor\": \"rgb(36,36,36)\", \"ticks\": \"outside\"}, \"colorscale\": [[0.0, \"#440154\"], [0.1111111111111111, \"#482878\"], [0.2222222222222222, \"#3e4989\"], [0.3333333333333333, \"#31688e\"], [0.4444444444444444, \"#26828e\"], [0.5555555555555556, \"#1f9e89\"], [0.6666666666666666, \"#35b779\"], [0.7777777777777778, \"#6ece58\"], [0.8888888888888888, \"#b5de2b\"], [1.0, \"#fde725\"]], \"type\": \"heatmap\"}], \"heatmapgl\": [{\"colorbar\": {\"outlinewidth\": 1, \"tickcolor\": \"rgb(36,36,36)\", \"ticks\": \"outside\"}, \"colorscale\": [[0.0, \"#440154\"], [0.1111111111111111, \"#482878\"], [0.2222222222222222, \"#3e4989\"], [0.3333333333333333, \"#31688e\"], [0.4444444444444444, \"#26828e\"], [0.5555555555555556, \"#1f9e89\"], [0.6666666666666666, \"#35b779\"], [0.7777777777777778, \"#6ece58\"], [0.8888888888888888, \"#b5de2b\"], [1.0, \"#fde725\"]], \"type\": \"heatmapgl\"}], \"histogram\": [{\"marker\": {\"line\": {\"color\": \"white\", \"width\": 0.6}}, \"type\": \"histogram\"}], \"histogram2d\": [{\"colorbar\": {\"outlinewidth\": 1, \"tickcolor\": \"rgb(36,36,36)\", \"ticks\": \"outside\"}, \"colorscale\": [[0.0, \"#440154\"], [0.1111111111111111, \"#482878\"], [0.2222222222222222, \"#3e4989\"], [0.3333333333333333, \"#31688e\"], [0.4444444444444444, \"#26828e\"], [0.5555555555555556, \"#1f9e89\"], [0.6666666666666666, \"#35b779\"], [0.7777777777777778, \"#6ece58\"], [0.8888888888888888, \"#b5de2b\"], [1.0, \"#fde725\"]], \"type\": \"histogram2d\"}], \"histogram2dcontour\": [{\"colorbar\": {\"outlinewidth\": 1, \"tickcolor\": \"rgb(36,36,36)\", \"ticks\": \"outside\"}, \"colorscale\": [[0.0, \"#440154\"], [0.1111111111111111, \"#482878\"], [0.2222222222222222, \"#3e4989\"], [0.3333333333333333, \"#31688e\"], [0.4444444444444444, \"#26828e\"], [0.5555555555555556, \"#1f9e89\"], [0.6666666666666666, \"#35b779\"], [0.7777777777777778, \"#6ece58\"], [0.8888888888888888, \"#b5de2b\"], [1.0, \"#fde725\"]], \"type\": \"histogram2dcontour\"}], \"mesh3d\": [{\"colorbar\": {\"outlinewidth\": 1, \"tickcolor\": \"rgb(36,36,36)\", \"ticks\": \"outside\"}, \"type\": \"mesh3d\"}], \"parcoords\": [{\"line\": {\"colorbar\": {\"outlinewidth\": 1, \"tickcolor\": \"rgb(36,36,36)\", \"ticks\": \"outside\"}}, \"type\": \"parcoords\"}], \"pie\": [{\"automargin\": true, \"type\": \"pie\"}], \"scatter\": [{\"marker\": {\"colorbar\": {\"outlinewidth\": 1, \"tickcolor\": \"rgb(36,36,36)\", \"ticks\": \"outside\"}}, \"type\": \"scatter\"}], \"scatter3d\": [{\"line\": {\"colorbar\": {\"outlinewidth\": 1, \"tickcolor\": \"rgb(36,36,36)\", \"ticks\": \"outside\"}}, \"marker\": {\"colorbar\": {\"outlinewidth\": 1, \"tickcolor\": \"rgb(36,36,36)\", \"ticks\": \"outside\"}}, \"type\": \"scatter3d\"}], \"scattercarpet\": [{\"marker\": {\"colorbar\": {\"outlinewidth\": 1, \"tickcolor\": \"rgb(36,36,36)\", \"ticks\": \"outside\"}}, \"type\": \"scattercarpet\"}], \"scattergeo\": [{\"marker\": {\"colorbar\": {\"outlinewidth\": 1, \"tickcolor\": \"rgb(36,36,36)\", \"ticks\": \"outside\"}}, \"type\": \"scattergeo\"}], \"scattergl\": [{\"marker\": {\"colorbar\": {\"outlinewidth\": 1, \"tickcolor\": \"rgb(36,36,36)\", \"ticks\": \"outside\"}}, \"type\": \"scattergl\"}], \"scattermapbox\": [{\"marker\": {\"colorbar\": {\"outlinewidth\": 1, \"tickcolor\": \"rgb(36,36,36)\", \"ticks\": \"outside\"}}, \"type\": \"scattermapbox\"}], \"scatterpolar\": [{\"marker\": {\"colorbar\": {\"outlinewidth\": 1, \"tickcolor\": \"rgb(36,36,36)\", \"ticks\": \"outside\"}}, \"type\": \"scatterpolar\"}], \"scatterpolargl\": [{\"marker\": {\"colorbar\": {\"outlinewidth\": 1, \"tickcolor\": \"rgb(36,36,36)\", \"ticks\": \"outside\"}}, \"type\": \"scatterpolargl\"}], \"scatterternary\": [{\"marker\": {\"colorbar\": {\"outlinewidth\": 1, \"tickcolor\": \"rgb(36,36,36)\", \"ticks\": \"outside\"}}, \"type\": \"scatterternary\"}], \"surface\": [{\"colorbar\": {\"outlinewidth\": 1, \"tickcolor\": \"rgb(36,36,36)\", \"ticks\": \"outside\"}, \"colorscale\": [[0.0, \"#440154\"], [0.1111111111111111, \"#482878\"], [0.2222222222222222, \"#3e4989\"], [0.3333333333333333, \"#31688e\"], [0.4444444444444444, \"#26828e\"], [0.5555555555555556, \"#1f9e89\"], [0.6666666666666666, \"#35b779\"], [0.7777777777777778, \"#6ece58\"], [0.8888888888888888, \"#b5de2b\"], [1.0, \"#fde725\"]], \"type\": \"surface\"}], \"table\": [{\"cells\": {\"fill\": {\"color\": \"rgb(237,237,237)\"}, \"line\": {\"color\": \"white\"}}, \"header\": {\"fill\": {\"color\": \"rgb(217,217,217)\"}, \"line\": {\"color\": \"white\"}}, \"type\": \"table\"}]}, \"layout\": {\"annotationdefaults\": {\"arrowhead\": 0, \"arrowwidth\": 1}, \"coloraxis\": {\"colorbar\": {\"outlinewidth\": 1, \"tickcolor\": \"rgb(36,36,36)\", \"ticks\": \"outside\"}}, \"colorscale\": {\"diverging\": [[0.0, \"rgb(103,0,31)\"], [0.1, \"rgb(178,24,43)\"], [0.2, \"rgb(214,96,77)\"], [0.3, \"rgb(244,165,130)\"], [0.4, \"rgb(253,219,199)\"], [0.5, \"rgb(247,247,247)\"], [0.6, \"rgb(209,229,240)\"], [0.7, \"rgb(146,197,222)\"], [0.8, \"rgb(67,147,195)\"], [0.9, \"rgb(33,102,172)\"], [1.0, \"rgb(5,48,97)\"]], \"sequential\": [[0.0, \"#440154\"], [0.1111111111111111, \"#482878\"], [0.2222222222222222, \"#3e4989\"], [0.3333333333333333, \"#31688e\"], [0.4444444444444444, \"#26828e\"], [0.5555555555555556, \"#1f9e89\"], [0.6666666666666666, \"#35b779\"], [0.7777777777777778, \"#6ece58\"], [0.8888888888888888, \"#b5de2b\"], [1.0, \"#fde725\"]], \"sequentialminus\": [[0.0, \"#440154\"], [0.1111111111111111, \"#482878\"], [0.2222222222222222, \"#3e4989\"], [0.3333333333333333, \"#31688e\"], [0.4444444444444444, \"#26828e\"], [0.5555555555555556, \"#1f9e89\"], [0.6666666666666666, \"#35b779\"], [0.7777777777777778, \"#6ece58\"], [0.8888888888888888, \"#b5de2b\"], [1.0, \"#fde725\"]]}, \"colorway\": [\"#1F77B4\", \"#FF7F0E\", \"#2CA02C\", \"#D62728\", \"#9467BD\", \"#8C564B\", \"#E377C2\", \"#7F7F7F\", \"#BCBD22\", \"#17BECF\"], \"font\": {\"color\": \"rgb(36,36,36)\"}, \"geo\": {\"bgcolor\": \"white\", \"lakecolor\": \"white\", \"landcolor\": \"white\", \"showlakes\": true, \"showland\": true, \"subunitcolor\": \"white\"}, \"hoverlabel\": {\"align\": \"left\"}, \"hovermode\": \"closest\", \"mapbox\": {\"style\": \"light\"}, \"paper_bgcolor\": \"white\", \"plot_bgcolor\": \"white\", \"polar\": {\"angularaxis\": {\"gridcolor\": \"rgb(232,232,232)\", \"linecolor\": \"rgb(36,36,36)\", \"showgrid\": false, \"showline\": true, \"ticks\": \"outside\"}, \"bgcolor\": \"white\", \"radialaxis\": {\"gridcolor\": \"rgb(232,232,232)\", \"linecolor\": \"rgb(36,36,36)\", \"showgrid\": false, \"showline\": true, \"ticks\": \"outside\"}}, \"scene\": {\"xaxis\": {\"backgroundcolor\": \"white\", \"gridcolor\": \"rgb(232,232,232)\", \"gridwidth\": 2, \"linecolor\": \"rgb(36,36,36)\", \"showbackground\": true, \"showgrid\": false, \"showline\": true, \"ticks\": \"outside\", \"zeroline\": false, \"zerolinecolor\": \"rgb(36,36,36)\"}, \"yaxis\": {\"backgroundcolor\": \"white\", \"gridcolor\": \"rgb(232,232,232)\", \"gridwidth\": 2, \"linecolor\": \"rgb(36,36,36)\", \"showbackground\": true, \"showgrid\": false, \"showline\": true, \"ticks\": \"outside\", \"zeroline\": false, \"zerolinecolor\": \"rgb(36,36,36)\"}, \"zaxis\": {\"backgroundcolor\": \"white\", \"gridcolor\": \"rgb(232,232,232)\", \"gridwidth\": 2, \"linecolor\": \"rgb(36,36,36)\", \"showbackground\": true, \"showgrid\": false, \"showline\": true, \"ticks\": \"outside\", \"zeroline\": false, \"zerolinecolor\": \"rgb(36,36,36)\"}}, \"shapedefaults\": {\"fillcolor\": \"black\", \"line\": {\"width\": 0}, \"opacity\": 0.3}, \"ternary\": {\"aaxis\": {\"gridcolor\": \"rgb(232,232,232)\", \"linecolor\": \"rgb(36,36,36)\", \"showgrid\": false, \"showline\": true, \"ticks\": \"outside\"}, \"baxis\": {\"gridcolor\": \"rgb(232,232,232)\", \"linecolor\": \"rgb(36,36,36)\", \"showgrid\": false, \"showline\": true, \"ticks\": \"outside\"}, \"bgcolor\": \"white\", \"caxis\": {\"gridcolor\": \"rgb(232,232,232)\", \"linecolor\": \"rgb(36,36,36)\", \"showgrid\": false, \"showline\": true, \"ticks\": \"outside\"}}, \"title\": {\"x\": 0.05}, \"xaxis\": {\"automargin\": true, \"gridcolor\": \"rgb(232,232,232)\", \"linecolor\": \"rgb(36,36,36)\", \"showgrid\": false, \"showline\": true, \"ticks\": \"outside\", \"title\": {\"standoff\": 15}, \"zeroline\": false, \"zerolinecolor\": \"rgb(36,36,36)\"}, \"yaxis\": {\"automargin\": true, \"gridcolor\": \"rgb(232,232,232)\", \"linecolor\": \"rgb(36,36,36)\", \"showgrid\": false, \"showline\": true, \"ticks\": \"outside\", \"title\": {\"standoff\": 15}, \"zeroline\": false, \"zerolinecolor\": \"rgb(36,36,36)\"}}}, \"title\": {\"font\": {\"family\": \"Verdana\"}, \"text\": \"All US-projects by success of crowdfunding\", \"x\": 0.35, \"xanchor\": \"center\", \"y\": 0.96, \"yanchor\": \"top\"}},\n",
       "                        {\"responsive\": true}\n",
       "                    ).then(function(){\n",
       "                            \n",
       "var gd = document.getElementById('3b4b61e8-8567-42b7-8556-6b6ba8eec3cc');\n",
       "var x = new MutationObserver(function (mutations, observer) {{\n",
       "        var display = window.getComputedStyle(gd).display;\n",
       "        if (!display || display === 'none') {{\n",
       "            console.log([gd, 'removed!']);\n",
       "            Plotly.purge(gd);\n",
       "            observer.disconnect();\n",
       "        }}\n",
       "}});\n",
       "\n",
       "// Listen for the removal of the full notebook cells\n",
       "var notebookContainer = gd.closest('#notebook-container');\n",
       "if (notebookContainer) {{\n",
       "    x.observe(notebookContainer, {childList: true});\n",
       "}}\n",
       "\n",
       "// Listen for the clearing of the current output cell\n",
       "var outputEl = gd.closest('.output');\n",
       "if (outputEl) {{\n",
       "    x.observe(outputEl, {childList: true});\n",
       "}}\n",
       "\n",
       "                        })\n",
       "                };\n",
       "                });\n",
       "            </script>\n",
       "        </div>"
      ]
     },
     "metadata": {},
     "output_type": "display_data"
    }
   ],
   "source": [
    "# Plot it as a pie-chart:\n",
    "plotdonut(successful_usa, 'All US-projects by success of crowdfunding', 'All projects:')"
   ]
  },
  {
   "cell_type": "code",
   "execution_count": 54,
   "metadata": {},
   "outputs": [
    {
     "data": {
      "application/vnd.plotly.v1+json": {
       "config": {
        "plotlyServerURL": "https://plot.ly"
       },
       "data": [
        {
         "domain": {
          "x": [
           0,
           0.2888888888888889
          ],
          "y": [
           0,
           1
          ]
         },
         "hole": 0.5,
         "labels": [
          "unsuccesful",
          "partly succesful",
          "mostly succesful",
          "successful"
         ],
         "marker": {
          "colors": [
           "#ff6666",
           "#c2c2d6",
           "#99c2ff",
           "#002b80"
          ]
         },
         "name": "World",
         "pull": [
          0.05,
          0,
          0,
          0
         ],
         "textinfo": "percent",
         "texttemplate": "%{percent:.0%f}",
         "type": "pie",
         "values": [
          6614,
          20106,
          20215,
          624270
         ]
        },
        {
         "domain": {
          "x": [
           0.35555555555555557,
           0.6444444444444445
          ],
          "y": [
           0,
           1
          ]
         },
         "hole": 0.5,
         "labels": [
          "unsuccesful",
          "partly succesful",
          "mostly succesful",
          "successful"
         ],
         "marker": {
          "colors": [
           "#ff6666",
           "#c2c2d6",
           "#99c2ff",
           "#002b80"
          ]
         },
         "name": "USA all",
         "pull": [
          0.05,
          0,
          0,
          0
         ],
         "textinfo": "percent",
         "texttemplate": "%{percent:.0%f}",
         "type": "pie",
         "values": [
          1409,
          463,
          288,
          3933
         ]
        },
        {
         "domain": {
          "x": [
           0.7111111111111111,
           1
          ],
          "y": [
           0,
           1
          ]
         },
         "hole": 0.5,
         "labels": [
          "unsuccesful",
          "partly succesful",
          "mostly succesful",
          "successful"
         ],
         "marker": {
          "colors": [
           "#ff6666",
           "#c2c2d6",
           "#99c2ff",
           "#002b80"
          ]
         },
         "name": "USA key spheres",
         "pull": [
          0.05,
          0,
          0,
          0
         ],
         "textinfo": "percent",
         "texttemplate": "%{percent:.0%f}",
         "type": "pie",
         "values": [
          165,
          51,
          20,
          279
         ]
        }
       ],
       "layout": {
        "annotations": [
         {
          "font": {
           "size": 16
          },
          "showarrow": false,
          "text": "World",
          "x": 0.14444444444444446,
          "xanchor": "center",
          "xref": "paper",
          "y": 1,
          "yanchor": "bottom",
          "yref": "paper"
         },
         {
          "font": {
           "size": 16
          },
          "showarrow": false,
          "text": "USA all",
          "x": 0.5,
          "xanchor": "center",
          "xref": "paper",
          "y": 1,
          "yanchor": "bottom",
          "yref": "paper"
         },
         {
          "font": {
           "size": 16
          },
          "showarrow": false,
          "text": "USA key spheres",
          "x": 0.8555555555555556,
          "xanchor": "center",
          "xref": "paper",
          "y": 1,
          "yanchor": "bottom",
          "yref": "paper"
         }
        ],
        "template": {
         "data": {
          "bar": [
           {
            "error_x": {
             "color": "#2a3f5f"
            },
            "error_y": {
             "color": "#2a3f5f"
            },
            "marker": {
             "line": {
              "color": "#E5ECF6",
              "width": 0.5
             }
            },
            "type": "bar"
           }
          ],
          "barpolar": [
           {
            "marker": {
             "line": {
              "color": "#E5ECF6",
              "width": 0.5
             }
            },
            "type": "barpolar"
           }
          ],
          "carpet": [
           {
            "aaxis": {
             "endlinecolor": "#2a3f5f",
             "gridcolor": "white",
             "linecolor": "white",
             "minorgridcolor": "white",
             "startlinecolor": "#2a3f5f"
            },
            "baxis": {
             "endlinecolor": "#2a3f5f",
             "gridcolor": "white",
             "linecolor": "white",
             "minorgridcolor": "white",
             "startlinecolor": "#2a3f5f"
            },
            "type": "carpet"
           }
          ],
          "choropleth": [
           {
            "colorbar": {
             "outlinewidth": 0,
             "ticks": ""
            },
            "type": "choropleth"
           }
          ],
          "contour": [
           {
            "colorbar": {
             "outlinewidth": 0,
             "ticks": ""
            },
            "colorscale": [
             [
              0,
              "#0d0887"
             ],
             [
              0.1111111111111111,
              "#46039f"
             ],
             [
              0.2222222222222222,
              "#7201a8"
             ],
             [
              0.3333333333333333,
              "#9c179e"
             ],
             [
              0.4444444444444444,
              "#bd3786"
             ],
             [
              0.5555555555555556,
              "#d8576b"
             ],
             [
              0.6666666666666666,
              "#ed7953"
             ],
             [
              0.7777777777777778,
              "#fb9f3a"
             ],
             [
              0.8888888888888888,
              "#fdca26"
             ],
             [
              1,
              "#f0f921"
             ]
            ],
            "type": "contour"
           }
          ],
          "contourcarpet": [
           {
            "colorbar": {
             "outlinewidth": 0,
             "ticks": ""
            },
            "type": "contourcarpet"
           }
          ],
          "heatmap": [
           {
            "colorbar": {
             "outlinewidth": 0,
             "ticks": ""
            },
            "colorscale": [
             [
              0,
              "#0d0887"
             ],
             [
              0.1111111111111111,
              "#46039f"
             ],
             [
              0.2222222222222222,
              "#7201a8"
             ],
             [
              0.3333333333333333,
              "#9c179e"
             ],
             [
              0.4444444444444444,
              "#bd3786"
             ],
             [
              0.5555555555555556,
              "#d8576b"
             ],
             [
              0.6666666666666666,
              "#ed7953"
             ],
             [
              0.7777777777777778,
              "#fb9f3a"
             ],
             [
              0.8888888888888888,
              "#fdca26"
             ],
             [
              1,
              "#f0f921"
             ]
            ],
            "type": "heatmap"
           }
          ],
          "heatmapgl": [
           {
            "colorbar": {
             "outlinewidth": 0,
             "ticks": ""
            },
            "colorscale": [
             [
              0,
              "#0d0887"
             ],
             [
              0.1111111111111111,
              "#46039f"
             ],
             [
              0.2222222222222222,
              "#7201a8"
             ],
             [
              0.3333333333333333,
              "#9c179e"
             ],
             [
              0.4444444444444444,
              "#bd3786"
             ],
             [
              0.5555555555555556,
              "#d8576b"
             ],
             [
              0.6666666666666666,
              "#ed7953"
             ],
             [
              0.7777777777777778,
              "#fb9f3a"
             ],
             [
              0.8888888888888888,
              "#fdca26"
             ],
             [
              1,
              "#f0f921"
             ]
            ],
            "type": "heatmapgl"
           }
          ],
          "histogram": [
           {
            "marker": {
             "colorbar": {
              "outlinewidth": 0,
              "ticks": ""
             }
            },
            "type": "histogram"
           }
          ],
          "histogram2d": [
           {
            "colorbar": {
             "outlinewidth": 0,
             "ticks": ""
            },
            "colorscale": [
             [
              0,
              "#0d0887"
             ],
             [
              0.1111111111111111,
              "#46039f"
             ],
             [
              0.2222222222222222,
              "#7201a8"
             ],
             [
              0.3333333333333333,
              "#9c179e"
             ],
             [
              0.4444444444444444,
              "#bd3786"
             ],
             [
              0.5555555555555556,
              "#d8576b"
             ],
             [
              0.6666666666666666,
              "#ed7953"
             ],
             [
              0.7777777777777778,
              "#fb9f3a"
             ],
             [
              0.8888888888888888,
              "#fdca26"
             ],
             [
              1,
              "#f0f921"
             ]
            ],
            "type": "histogram2d"
           }
          ],
          "histogram2dcontour": [
           {
            "colorbar": {
             "outlinewidth": 0,
             "ticks": ""
            },
            "colorscale": [
             [
              0,
              "#0d0887"
             ],
             [
              0.1111111111111111,
              "#46039f"
             ],
             [
              0.2222222222222222,
              "#7201a8"
             ],
             [
              0.3333333333333333,
              "#9c179e"
             ],
             [
              0.4444444444444444,
              "#bd3786"
             ],
             [
              0.5555555555555556,
              "#d8576b"
             ],
             [
              0.6666666666666666,
              "#ed7953"
             ],
             [
              0.7777777777777778,
              "#fb9f3a"
             ],
             [
              0.8888888888888888,
              "#fdca26"
             ],
             [
              1,
              "#f0f921"
             ]
            ],
            "type": "histogram2dcontour"
           }
          ],
          "mesh3d": [
           {
            "colorbar": {
             "outlinewidth": 0,
             "ticks": ""
            },
            "type": "mesh3d"
           }
          ],
          "parcoords": [
           {
            "line": {
             "colorbar": {
              "outlinewidth": 0,
              "ticks": ""
             }
            },
            "type": "parcoords"
           }
          ],
          "pie": [
           {
            "automargin": true,
            "type": "pie"
           }
          ],
          "scatter": [
           {
            "marker": {
             "colorbar": {
              "outlinewidth": 0,
              "ticks": ""
             }
            },
            "type": "scatter"
           }
          ],
          "scatter3d": [
           {
            "line": {
             "colorbar": {
              "outlinewidth": 0,
              "ticks": ""
             }
            },
            "marker": {
             "colorbar": {
              "outlinewidth": 0,
              "ticks": ""
             }
            },
            "type": "scatter3d"
           }
          ],
          "scattercarpet": [
           {
            "marker": {
             "colorbar": {
              "outlinewidth": 0,
              "ticks": ""
             }
            },
            "type": "scattercarpet"
           }
          ],
          "scattergeo": [
           {
            "marker": {
             "colorbar": {
              "outlinewidth": 0,
              "ticks": ""
             }
            },
            "type": "scattergeo"
           }
          ],
          "scattergl": [
           {
            "marker": {
             "colorbar": {
              "outlinewidth": 0,
              "ticks": ""
             }
            },
            "type": "scattergl"
           }
          ],
          "scattermapbox": [
           {
            "marker": {
             "colorbar": {
              "outlinewidth": 0,
              "ticks": ""
             }
            },
            "type": "scattermapbox"
           }
          ],
          "scatterpolar": [
           {
            "marker": {
             "colorbar": {
              "outlinewidth": 0,
              "ticks": ""
             }
            },
            "type": "scatterpolar"
           }
          ],
          "scatterpolargl": [
           {
            "marker": {
             "colorbar": {
              "outlinewidth": 0,
              "ticks": ""
             }
            },
            "type": "scatterpolargl"
           }
          ],
          "scatterternary": [
           {
            "marker": {
             "colorbar": {
              "outlinewidth": 0,
              "ticks": ""
             }
            },
            "type": "scatterternary"
           }
          ],
          "surface": [
           {
            "colorbar": {
             "outlinewidth": 0,
             "ticks": ""
            },
            "colorscale": [
             [
              0,
              "#0d0887"
             ],
             [
              0.1111111111111111,
              "#46039f"
             ],
             [
              0.2222222222222222,
              "#7201a8"
             ],
             [
              0.3333333333333333,
              "#9c179e"
             ],
             [
              0.4444444444444444,
              "#bd3786"
             ],
             [
              0.5555555555555556,
              "#d8576b"
             ],
             [
              0.6666666666666666,
              "#ed7953"
             ],
             [
              0.7777777777777778,
              "#fb9f3a"
             ],
             [
              0.8888888888888888,
              "#fdca26"
             ],
             [
              1,
              "#f0f921"
             ]
            ],
            "type": "surface"
           }
          ],
          "table": [
           {
            "cells": {
             "fill": {
              "color": "#EBF0F8"
             },
             "line": {
              "color": "white"
             }
            },
            "header": {
             "fill": {
              "color": "#C8D4E3"
             },
             "line": {
              "color": "white"
             }
            },
            "type": "table"
           }
          ]
         },
         "layout": {
          "annotationdefaults": {
           "arrowcolor": "#2a3f5f",
           "arrowhead": 0,
           "arrowwidth": 1
          },
          "coloraxis": {
           "colorbar": {
            "outlinewidth": 0,
            "ticks": ""
           }
          },
          "colorscale": {
           "diverging": [
            [
             0,
             "#8e0152"
            ],
            [
             0.1,
             "#c51b7d"
            ],
            [
             0.2,
             "#de77ae"
            ],
            [
             0.3,
             "#f1b6da"
            ],
            [
             0.4,
             "#fde0ef"
            ],
            [
             0.5,
             "#f7f7f7"
            ],
            [
             0.6,
             "#e6f5d0"
            ],
            [
             0.7,
             "#b8e186"
            ],
            [
             0.8,
             "#7fbc41"
            ],
            [
             0.9,
             "#4d9221"
            ],
            [
             1,
             "#276419"
            ]
           ],
           "sequential": [
            [
             0,
             "#0d0887"
            ],
            [
             0.1111111111111111,
             "#46039f"
            ],
            [
             0.2222222222222222,
             "#7201a8"
            ],
            [
             0.3333333333333333,
             "#9c179e"
            ],
            [
             0.4444444444444444,
             "#bd3786"
            ],
            [
             0.5555555555555556,
             "#d8576b"
            ],
            [
             0.6666666666666666,
             "#ed7953"
            ],
            [
             0.7777777777777778,
             "#fb9f3a"
            ],
            [
             0.8888888888888888,
             "#fdca26"
            ],
            [
             1,
             "#f0f921"
            ]
           ],
           "sequentialminus": [
            [
             0,
             "#0d0887"
            ],
            [
             0.1111111111111111,
             "#46039f"
            ],
            [
             0.2222222222222222,
             "#7201a8"
            ],
            [
             0.3333333333333333,
             "#9c179e"
            ],
            [
             0.4444444444444444,
             "#bd3786"
            ],
            [
             0.5555555555555556,
             "#d8576b"
            ],
            [
             0.6666666666666666,
             "#ed7953"
            ],
            [
             0.7777777777777778,
             "#fb9f3a"
            ],
            [
             0.8888888888888888,
             "#fdca26"
            ],
            [
             1,
             "#f0f921"
            ]
           ]
          },
          "colorway": [
           "#636efa",
           "#EF553B",
           "#00cc96",
           "#ab63fa",
           "#FFA15A",
           "#19d3f3",
           "#FF6692",
           "#B6E880",
           "#FF97FF",
           "#FECB52"
          ],
          "font": {
           "color": "#2a3f5f"
          },
          "geo": {
           "bgcolor": "white",
           "lakecolor": "white",
           "landcolor": "#E5ECF6",
           "showlakes": true,
           "showland": true,
           "subunitcolor": "white"
          },
          "hoverlabel": {
           "align": "left"
          },
          "hovermode": "closest",
          "mapbox": {
           "style": "light"
          },
          "paper_bgcolor": "white",
          "plot_bgcolor": "#E5ECF6",
          "polar": {
           "angularaxis": {
            "gridcolor": "white",
            "linecolor": "white",
            "ticks": ""
           },
           "bgcolor": "#E5ECF6",
           "radialaxis": {
            "gridcolor": "white",
            "linecolor": "white",
            "ticks": ""
           }
          },
          "scene": {
           "xaxis": {
            "backgroundcolor": "#E5ECF6",
            "gridcolor": "white",
            "gridwidth": 2,
            "linecolor": "white",
            "showbackground": true,
            "ticks": "",
            "zerolinecolor": "white"
           },
           "yaxis": {
            "backgroundcolor": "#E5ECF6",
            "gridcolor": "white",
            "gridwidth": 2,
            "linecolor": "white",
            "showbackground": true,
            "ticks": "",
            "zerolinecolor": "white"
           },
           "zaxis": {
            "backgroundcolor": "#E5ECF6",
            "gridcolor": "white",
            "gridwidth": 2,
            "linecolor": "white",
            "showbackground": true,
            "ticks": "",
            "zerolinecolor": "white"
           }
          },
          "shapedefaults": {
           "line": {
            "color": "#2a3f5f"
           }
          },
          "ternary": {
           "aaxis": {
            "gridcolor": "white",
            "linecolor": "white",
            "ticks": ""
           },
           "baxis": {
            "gridcolor": "white",
            "linecolor": "white",
            "ticks": ""
           },
           "bgcolor": "#E5ECF6",
           "caxis": {
            "gridcolor": "white",
            "linecolor": "white",
            "ticks": ""
           }
          },
          "title": {
           "x": 0.05
          },
          "xaxis": {
           "automargin": true,
           "gridcolor": "white",
           "linecolor": "white",
           "ticks": "",
           "title": {
            "standoff": 15
           },
           "zerolinecolor": "white",
           "zerolinewidth": 2
          },
          "yaxis": {
           "automargin": true,
           "gridcolor": "white",
           "linecolor": "white",
           "ticks": "",
           "title": {
            "standoff": 15
           },
           "zerolinecolor": "white",
           "zerolinewidth": 2
          }
         }
        }
       }
      },
      "text/html": [
       "<div>\n",
       "        \n",
       "        \n",
       "            <div id=\"ca2d6ec0-4e43-4057-9365-eaaf04b66df0\" class=\"plotly-graph-div\" style=\"height:525px; width:100%;\"></div>\n",
       "            <script type=\"text/javascript\">\n",
       "                require([\"plotly\"], function(Plotly) {\n",
       "                    window.PLOTLYENV=window.PLOTLYENV || {};\n",
       "                    \n",
       "                if (document.getElementById(\"ca2d6ec0-4e43-4057-9365-eaaf04b66df0\")) {\n",
       "                    Plotly.newPlot(\n",
       "                        'ca2d6ec0-4e43-4057-9365-eaaf04b66df0',\n",
       "                        [{\"domain\": {\"x\": [0.0, 0.2888888888888889], \"y\": [0.0, 1.0]}, \"hole\": 0.5, \"labels\": [\"unsuccesful\", \"partly succesful\", \"mostly succesful\", \"successful\"], \"marker\": {\"colors\": [\"#ff6666\", \"#c2c2d6\", \"#99c2ff\", \"#002b80\"]}, \"name\": \"World\", \"pull\": [0.05, 0, 0, 0], \"textinfo\": \"percent\", \"texttemplate\": \"%{percent:.0%f}\", \"type\": \"pie\", \"values\": [6614, 20106, 20215, 624270]}, {\"domain\": {\"x\": [0.35555555555555557, 0.6444444444444445], \"y\": [0.0, 1.0]}, \"hole\": 0.5, \"labels\": [\"unsuccesful\", \"partly succesful\", \"mostly succesful\", \"successful\"], \"marker\": {\"colors\": [\"#ff6666\", \"#c2c2d6\", \"#99c2ff\", \"#002b80\"]}, \"name\": \"USA all\", \"pull\": [0.05, 0, 0, 0], \"textinfo\": \"percent\", \"texttemplate\": \"%{percent:.0%f}\", \"type\": \"pie\", \"values\": [1409, 463, 288, 3933]}, {\"domain\": {\"x\": [0.7111111111111111, 1.0], \"y\": [0.0, 1.0]}, \"hole\": 0.5, \"labels\": [\"unsuccesful\", \"partly succesful\", \"mostly succesful\", \"successful\"], \"marker\": {\"colors\": [\"#ff6666\", \"#c2c2d6\", \"#99c2ff\", \"#002b80\"]}, \"name\": \"USA key spheres\", \"pull\": [0.05, 0, 0, 0], \"textinfo\": \"percent\", \"texttemplate\": \"%{percent:.0%f}\", \"type\": \"pie\", \"values\": [165, 51, 20, 279]}],\n",
       "                        {\"annotations\": [{\"font\": {\"size\": 16}, \"showarrow\": false, \"text\": \"World\", \"x\": 0.14444444444444446, \"xanchor\": \"center\", \"xref\": \"paper\", \"y\": 1.0, \"yanchor\": \"bottom\", \"yref\": \"paper\"}, {\"font\": {\"size\": 16}, \"showarrow\": false, \"text\": \"USA all\", \"x\": 0.5, \"xanchor\": \"center\", \"xref\": \"paper\", \"y\": 1.0, \"yanchor\": \"bottom\", \"yref\": \"paper\"}, {\"font\": {\"size\": 16}, \"showarrow\": false, \"text\": \"USA key spheres\", \"x\": 0.8555555555555556, \"xanchor\": \"center\", \"xref\": \"paper\", \"y\": 1.0, \"yanchor\": \"bottom\", \"yref\": \"paper\"}], \"template\": {\"data\": {\"bar\": [{\"error_x\": {\"color\": \"#2a3f5f\"}, \"error_y\": {\"color\": \"#2a3f5f\"}, \"marker\": {\"line\": {\"color\": \"#E5ECF6\", \"width\": 0.5}}, \"type\": \"bar\"}], \"barpolar\": [{\"marker\": {\"line\": {\"color\": \"#E5ECF6\", \"width\": 0.5}}, \"type\": \"barpolar\"}], \"carpet\": [{\"aaxis\": {\"endlinecolor\": \"#2a3f5f\", \"gridcolor\": \"white\", \"linecolor\": \"white\", \"minorgridcolor\": \"white\", \"startlinecolor\": \"#2a3f5f\"}, \"baxis\": {\"endlinecolor\": \"#2a3f5f\", \"gridcolor\": \"white\", \"linecolor\": \"white\", \"minorgridcolor\": \"white\", \"startlinecolor\": \"#2a3f5f\"}, \"type\": \"carpet\"}], \"choropleth\": [{\"colorbar\": {\"outlinewidth\": 0, \"ticks\": \"\"}, \"type\": \"choropleth\"}], \"contour\": [{\"colorbar\": {\"outlinewidth\": 0, \"ticks\": \"\"}, \"colorscale\": [[0.0, \"#0d0887\"], [0.1111111111111111, \"#46039f\"], [0.2222222222222222, \"#7201a8\"], [0.3333333333333333, \"#9c179e\"], [0.4444444444444444, \"#bd3786\"], [0.5555555555555556, \"#d8576b\"], [0.6666666666666666, \"#ed7953\"], [0.7777777777777778, \"#fb9f3a\"], [0.8888888888888888, \"#fdca26\"], [1.0, \"#f0f921\"]], \"type\": \"contour\"}], \"contourcarpet\": [{\"colorbar\": {\"outlinewidth\": 0, \"ticks\": \"\"}, \"type\": \"contourcarpet\"}], \"heatmap\": [{\"colorbar\": {\"outlinewidth\": 0, \"ticks\": \"\"}, \"colorscale\": [[0.0, \"#0d0887\"], [0.1111111111111111, \"#46039f\"], [0.2222222222222222, \"#7201a8\"], [0.3333333333333333, \"#9c179e\"], [0.4444444444444444, \"#bd3786\"], [0.5555555555555556, \"#d8576b\"], [0.6666666666666666, \"#ed7953\"], [0.7777777777777778, \"#fb9f3a\"], [0.8888888888888888, \"#fdca26\"], [1.0, \"#f0f921\"]], \"type\": \"heatmap\"}], \"heatmapgl\": [{\"colorbar\": {\"outlinewidth\": 0, \"ticks\": \"\"}, \"colorscale\": [[0.0, \"#0d0887\"], [0.1111111111111111, \"#46039f\"], [0.2222222222222222, \"#7201a8\"], [0.3333333333333333, \"#9c179e\"], [0.4444444444444444, \"#bd3786\"], [0.5555555555555556, \"#d8576b\"], [0.6666666666666666, \"#ed7953\"], [0.7777777777777778, \"#fb9f3a\"], [0.8888888888888888, \"#fdca26\"], [1.0, \"#f0f921\"]], \"type\": \"heatmapgl\"}], \"histogram\": [{\"marker\": {\"colorbar\": {\"outlinewidth\": 0, \"ticks\": \"\"}}, \"type\": \"histogram\"}], \"histogram2d\": [{\"colorbar\": {\"outlinewidth\": 0, \"ticks\": \"\"}, \"colorscale\": [[0.0, \"#0d0887\"], [0.1111111111111111, \"#46039f\"], [0.2222222222222222, \"#7201a8\"], [0.3333333333333333, \"#9c179e\"], [0.4444444444444444, \"#bd3786\"], [0.5555555555555556, \"#d8576b\"], [0.6666666666666666, \"#ed7953\"], [0.7777777777777778, \"#fb9f3a\"], [0.8888888888888888, \"#fdca26\"], [1.0, \"#f0f921\"]], \"type\": \"histogram2d\"}], \"histogram2dcontour\": [{\"colorbar\": {\"outlinewidth\": 0, \"ticks\": \"\"}, \"colorscale\": [[0.0, \"#0d0887\"], [0.1111111111111111, \"#46039f\"], [0.2222222222222222, \"#7201a8\"], [0.3333333333333333, \"#9c179e\"], [0.4444444444444444, \"#bd3786\"], [0.5555555555555556, \"#d8576b\"], [0.6666666666666666, \"#ed7953\"], [0.7777777777777778, \"#fb9f3a\"], [0.8888888888888888, \"#fdca26\"], [1.0, \"#f0f921\"]], \"type\": \"histogram2dcontour\"}], \"mesh3d\": [{\"colorbar\": {\"outlinewidth\": 0, \"ticks\": \"\"}, \"type\": \"mesh3d\"}], \"parcoords\": [{\"line\": {\"colorbar\": {\"outlinewidth\": 0, \"ticks\": \"\"}}, \"type\": \"parcoords\"}], \"pie\": [{\"automargin\": true, \"type\": \"pie\"}], \"scatter\": [{\"marker\": {\"colorbar\": {\"outlinewidth\": 0, \"ticks\": \"\"}}, \"type\": \"scatter\"}], \"scatter3d\": [{\"line\": {\"colorbar\": {\"outlinewidth\": 0, \"ticks\": \"\"}}, \"marker\": {\"colorbar\": {\"outlinewidth\": 0, \"ticks\": \"\"}}, \"type\": \"scatter3d\"}], \"scattercarpet\": [{\"marker\": {\"colorbar\": {\"outlinewidth\": 0, \"ticks\": \"\"}}, \"type\": \"scattercarpet\"}], \"scattergeo\": [{\"marker\": {\"colorbar\": {\"outlinewidth\": 0, \"ticks\": \"\"}}, \"type\": \"scattergeo\"}], \"scattergl\": [{\"marker\": {\"colorbar\": {\"outlinewidth\": 0, \"ticks\": \"\"}}, \"type\": \"scattergl\"}], \"scattermapbox\": [{\"marker\": {\"colorbar\": {\"outlinewidth\": 0, \"ticks\": \"\"}}, \"type\": \"scattermapbox\"}], \"scatterpolar\": [{\"marker\": {\"colorbar\": {\"outlinewidth\": 0, \"ticks\": \"\"}}, \"type\": \"scatterpolar\"}], \"scatterpolargl\": [{\"marker\": {\"colorbar\": {\"outlinewidth\": 0, \"ticks\": \"\"}}, \"type\": \"scatterpolargl\"}], \"scatterternary\": [{\"marker\": {\"colorbar\": {\"outlinewidth\": 0, \"ticks\": \"\"}}, \"type\": \"scatterternary\"}], \"surface\": [{\"colorbar\": {\"outlinewidth\": 0, \"ticks\": \"\"}, \"colorscale\": [[0.0, \"#0d0887\"], [0.1111111111111111, \"#46039f\"], [0.2222222222222222, \"#7201a8\"], [0.3333333333333333, \"#9c179e\"], [0.4444444444444444, \"#bd3786\"], [0.5555555555555556, \"#d8576b\"], [0.6666666666666666, \"#ed7953\"], [0.7777777777777778, \"#fb9f3a\"], [0.8888888888888888, \"#fdca26\"], [1.0, \"#f0f921\"]], \"type\": \"surface\"}], \"table\": [{\"cells\": {\"fill\": {\"color\": \"#EBF0F8\"}, \"line\": {\"color\": \"white\"}}, \"header\": {\"fill\": {\"color\": \"#C8D4E3\"}, \"line\": {\"color\": \"white\"}}, \"type\": \"table\"}]}, \"layout\": {\"annotationdefaults\": {\"arrowcolor\": \"#2a3f5f\", \"arrowhead\": 0, \"arrowwidth\": 1}, \"coloraxis\": {\"colorbar\": {\"outlinewidth\": 0, \"ticks\": \"\"}}, \"colorscale\": {\"diverging\": [[0, \"#8e0152\"], [0.1, \"#c51b7d\"], [0.2, \"#de77ae\"], [0.3, \"#f1b6da\"], [0.4, \"#fde0ef\"], [0.5, \"#f7f7f7\"], [0.6, \"#e6f5d0\"], [0.7, \"#b8e186\"], [0.8, \"#7fbc41\"], [0.9, \"#4d9221\"], [1, \"#276419\"]], \"sequential\": [[0.0, \"#0d0887\"], [0.1111111111111111, \"#46039f\"], [0.2222222222222222, \"#7201a8\"], [0.3333333333333333, \"#9c179e\"], [0.4444444444444444, \"#bd3786\"], [0.5555555555555556, \"#d8576b\"], [0.6666666666666666, \"#ed7953\"], [0.7777777777777778, \"#fb9f3a\"], [0.8888888888888888, \"#fdca26\"], [1.0, \"#f0f921\"]], \"sequentialminus\": [[0.0, \"#0d0887\"], [0.1111111111111111, \"#46039f\"], [0.2222222222222222, \"#7201a8\"], [0.3333333333333333, \"#9c179e\"], [0.4444444444444444, \"#bd3786\"], [0.5555555555555556, \"#d8576b\"], [0.6666666666666666, \"#ed7953\"], [0.7777777777777778, \"#fb9f3a\"], [0.8888888888888888, \"#fdca26\"], [1.0, \"#f0f921\"]]}, \"colorway\": [\"#636efa\", \"#EF553B\", \"#00cc96\", \"#ab63fa\", \"#FFA15A\", \"#19d3f3\", \"#FF6692\", \"#B6E880\", \"#FF97FF\", \"#FECB52\"], \"font\": {\"color\": \"#2a3f5f\"}, \"geo\": {\"bgcolor\": \"white\", \"lakecolor\": \"white\", \"landcolor\": \"#E5ECF6\", \"showlakes\": true, \"showland\": true, \"subunitcolor\": \"white\"}, \"hoverlabel\": {\"align\": \"left\"}, \"hovermode\": \"closest\", \"mapbox\": {\"style\": \"light\"}, \"paper_bgcolor\": \"white\", \"plot_bgcolor\": \"#E5ECF6\", \"polar\": {\"angularaxis\": {\"gridcolor\": \"white\", \"linecolor\": \"white\", \"ticks\": \"\"}, \"bgcolor\": \"#E5ECF6\", \"radialaxis\": {\"gridcolor\": \"white\", \"linecolor\": \"white\", \"ticks\": \"\"}}, \"scene\": {\"xaxis\": {\"backgroundcolor\": \"#E5ECF6\", \"gridcolor\": \"white\", \"gridwidth\": 2, \"linecolor\": \"white\", \"showbackground\": true, \"ticks\": \"\", \"zerolinecolor\": \"white\"}, \"yaxis\": {\"backgroundcolor\": \"#E5ECF6\", \"gridcolor\": \"white\", \"gridwidth\": 2, \"linecolor\": \"white\", \"showbackground\": true, \"ticks\": \"\", \"zerolinecolor\": \"white\"}, \"zaxis\": {\"backgroundcolor\": \"#E5ECF6\", \"gridcolor\": \"white\", \"gridwidth\": 2, \"linecolor\": \"white\", \"showbackground\": true, \"ticks\": \"\", \"zerolinecolor\": \"white\"}}, \"shapedefaults\": {\"line\": {\"color\": \"#2a3f5f\"}}, \"ternary\": {\"aaxis\": {\"gridcolor\": \"white\", \"linecolor\": \"white\", \"ticks\": \"\"}, \"baxis\": {\"gridcolor\": \"white\", \"linecolor\": \"white\", \"ticks\": \"\"}, \"bgcolor\": \"#E5ECF6\", \"caxis\": {\"gridcolor\": \"white\", \"linecolor\": \"white\", \"ticks\": \"\"}}, \"title\": {\"x\": 0.05}, \"xaxis\": {\"automargin\": true, \"gridcolor\": \"white\", \"linecolor\": \"white\", \"ticks\": \"\", \"title\": {\"standoff\": 15}, \"zerolinecolor\": \"white\", \"zerolinewidth\": 2}, \"yaxis\": {\"automargin\": true, \"gridcolor\": \"white\", \"linecolor\": \"white\", \"ticks\": \"\", \"title\": {\"standoff\": 15}, \"zerolinecolor\": \"white\", \"zerolinewidth\": 2}}}},\n",
       "                        {\"responsive\": true}\n",
       "                    ).then(function(){\n",
       "                            \n",
       "var gd = document.getElementById('ca2d6ec0-4e43-4057-9365-eaaf04b66df0');\n",
       "var x = new MutationObserver(function (mutations, observer) {{\n",
       "        var display = window.getComputedStyle(gd).display;\n",
       "        if (!display || display === 'none') {{\n",
       "            console.log([gd, 'removed!']);\n",
       "            Plotly.purge(gd);\n",
       "            observer.disconnect();\n",
       "        }}\n",
       "}});\n",
       "\n",
       "// Listen for the removal of the full notebook cells\n",
       "var notebookContainer = gd.closest('#notebook-container');\n",
       "if (notebookContainer) {{\n",
       "    x.observe(notebookContainer, {childList: true});\n",
       "}}\n",
       "\n",
       "// Listen for the clearing of the current output cell\n",
       "var outputEl = gd.closest('.output');\n",
       "if (outputEl) {{\n",
       "    x.observe(outputEl, {childList: true});\n",
       "}}\n",
       "\n",
       "                        })\n",
       "                };\n",
       "                });\n",
       "            </script>\n",
       "        </div>"
      ]
     },
     "metadata": {},
     "output_type": "display_data"
    }
   ],
   "source": [
    "# And now comparing the distributions:\n",
    "\n",
    "import plotly.graph_objects as go\n",
    "from plotly.subplots import make_subplots\n",
    "\n",
    "labels = [\"unsuccesful\", \"partly succesful\", \"mostly succesful\", \"successful\"]\n",
    "specs = [[{'type':'domain'}, {'type':'domain'}, {'type':'domain'}]]\n",
    "colors = [\"#ff6666\", \"#c2c2d6\", \"#99c2ff\", \"#002b80\"]\n",
    "\n",
    "\n",
    "fig = make_subplots(rows=1, cols=3, subplot_titles=(\"World\", \"USA all\", \"USA key spheres\"), specs=specs)\n",
    "\n",
    "fig.add_trace(go.Pie(\n",
    "                labels=labels, \n",
    "                values=successful.values,\n",
    "                name=\"World\",\n",
    "                pull=[0.05, 0, 0, 0],\n",
    "                                   ), 1, 1\n",
    "                              )\n",
    "    \n",
    "fig.add_trace(go.Pie(\n",
    "                labels=labels, \n",
    "                values=successful_usa.values,\n",
    "                name=\"USA all\",\n",
    "                pull=[0.05, 0, 0, 0],\n",
    "                                   ), 1, 2\n",
    "                              )\n",
    "    \n",
    "fig.add_trace(go.Pie(\n",
    "                labels=labels, \n",
    "                values=successful_usa_sel.values,\n",
    "                name=\"USA key spheres\",\n",
    "                pull=[0.05, 0, 0, 0],\n",
    "                                   ), 1, 3\n",
    "                              )\n",
    "    \n",
    "fig.update_traces(\n",
    "                textinfo='percent', \n",
    "                hole=0.5, \n",
    "                texttemplate='%{percent:.0%f}',\n",
    "                marker_colors=colors,\n",
    "                        )\n",
    "\n",
    "fig = go.Figure(fig)\n",
    "\n",
    "fig.show()"
   ]
  },
  {
   "cell_type": "markdown",
   "metadata": {},
   "source": [
    "The USA do indeed differ markedly from the total picture: much more projects (almost 1/4 in general and 1/3 in the most attractive markets) from the States fail to raise money.<br>\n",
    "Reasons? Will attempt to explore them below."
   ]
  },
  {
   "cell_type": "markdown",
   "metadata": {},
   "source": [
    "Projects related specifically to Renewable Energy Products - where do they come from?"
   ]
  },
  {
   "cell_type": "code",
   "execution_count": 55,
   "metadata": {},
   "outputs": [],
   "source": [
    "rep = df.loc[df[\"activity\"] == 'Renewable Energy Products']\n",
    "\n",
    "renewable = rep.groupby(['country', 'country_alpha_3']).agg({'funded_amount': ['size', 'sum', 'mean'], 'lender_count':'mean', 'share_gathered':'mean'})\n",
    "renewable.reset_index(inplace=True)\n",
    "renewable.columns = renewable.columns.get_level_values(1)\n",
    "renewable.columns = ['Country', 'Country code', '# of projects', 'Total money raised, $', 'Avg money raised pro project, $', 'Avg investors', 'Avg share gathered, %']\n",
    "renewable = renewable.dropna()"
   ]
  },
  {
   "cell_type": "code",
   "execution_count": 56,
   "metadata": {},
   "outputs": [
    {
     "data": {
      "text/plain": [
       "585.0"
      ]
     },
     "execution_count": 56,
     "metadata": {},
     "output_type": "execute_result"
    }
   ],
   "source": [
    "renewable.loc[:, '# of projects'].sum()"
   ]
  },
  {
   "cell_type": "code",
   "execution_count": 57,
   "metadata": {},
   "outputs": [
    {
     "data": {
      "application/vnd.plotly.v1+json": {
       "config": {
        "plotlyServerURL": "https://plot.ly"
       },
       "data": [
        {
         "coloraxis": "coloraxis",
         "customdata": [
          [
           875,
           100
          ],
          [
           3179.5454545454545,
           100
          ],
          [
           30000,
           100
          ],
          [
           2096.9101123595506,
           100
          ],
          [
           741.6666666666666,
           100
          ],
          [
           4715.625,
           100
          ],
          [
           1302.734375,
           100
          ],
          [
           3590.3225806451615,
           99.15695937873357
          ],
          [
           3600,
           100
          ],
          [
           307.7235772357724,
           100
          ],
          [
           950,
           100
          ],
          [
           3050,
           100
          ],
          [
           5100,
           100
          ],
          [
           35000,
           100
          ],
          [
           23450,
           96.125
          ],
          [
           1500,
           100
          ],
          [
           16875,
           100
          ],
          [
           150,
           100
          ],
          [
           1370,
           100
          ],
          [
           30000,
           100
          ],
          [
           6581.410256410257,
           98.7948717948718
          ],
          [
           2237.5,
           100
          ],
          [
           7778.333333333333,
           100
          ],
          [
           17025,
           100
          ],
          [
           13287.5,
           100
          ]
         ],
         "geo": "geo",
         "hoverlabel": {
          "namelength": 0
         },
         "hovertemplate": "<b>%{hovertext}</b><br><br>Avg money raised pro project, $=%{customdata[0]}<br>Avg share gathered, %=%{customdata[1]}<br>Country code=%{location}<br># of projects=%{z}",
         "hovertext": [
          "Burkina Faso",
          "Ghana",
          "Guatemala",
          "Haiti",
          "Honduras",
          "India",
          "Indonesia",
          "Kenya",
          "Lao People's Democratic Republic",
          "Liberia",
          "Madagascar",
          "Mexico",
          "Namibia",
          "Nigeria",
          "Pakistan",
          "Palestine",
          "Peru",
          "Philippines",
          "Rwanda",
          "Sierra Leone",
          "Tanzania",
          "The Democratic Republic of the Congo",
          "Uganda",
          "Zambia",
          "Zimbabwe"
         ],
         "locations": [
          "BFA",
          "GHA",
          "GTM",
          "HTI",
          "HND",
          "IND",
          "IDN",
          "KEN",
          "LAO",
          "LBR",
          "MDG",
          "MEX",
          "NAM",
          "NGA",
          "PAK",
          "PSE",
          "PER",
          "PHL",
          "RWA",
          "SLE",
          "TZA",
          "COD",
          "UGA",
          "ZMB",
          "ZWE"
         ],
         "name": "",
         "type": "choropleth",
         "z": [
          3,
          22,
          1,
          89,
          3,
          8,
          64,
          186,
          3,
          123,
          1,
          2,
          1,
          1,
          2,
          1,
          3,
          1,
          5,
          1,
          39,
          4,
          15,
          3,
          4
         ]
        }
       ],
       "layout": {
        "coloraxis": {
         "colorbar": {
          "title": {
           "text": "# of projects"
          }
         },
         "colorscale": [
          [
           0,
           "#0d0887"
          ],
          [
           0.1111111111111111,
           "#46039f"
          ],
          [
           0.2222222222222222,
           "#7201a8"
          ],
          [
           0.3333333333333333,
           "#9c179e"
          ],
          [
           0.4444444444444444,
           "#bd3786"
          ],
          [
           0.5555555555555556,
           "#d8576b"
          ],
          [
           0.6666666666666666,
           "#ed7953"
          ],
          [
           0.7777777777777778,
           "#fb9f3a"
          ],
          [
           0.8888888888888888,
           "#fdca26"
          ],
          [
           1,
           "#f0f921"
          ]
         ]
        },
        "geo": {
         "center": {},
         "domain": {
          "x": [
           0,
           1
          ],
          "y": [
           0,
           1
          ]
         },
         "projection": {
          "type": "robinson"
         }
        },
        "legend": {
         "tracegroupgap": 0
        },
        "template": {
         "data": {
          "bar": [
           {
            "error_x": {
             "color": "#2a3f5f"
            },
            "error_y": {
             "color": "#2a3f5f"
            },
            "marker": {
             "line": {
              "color": "#E5ECF6",
              "width": 0.5
             }
            },
            "type": "bar"
           }
          ],
          "barpolar": [
           {
            "marker": {
             "line": {
              "color": "#E5ECF6",
              "width": 0.5
             }
            },
            "type": "barpolar"
           }
          ],
          "carpet": [
           {
            "aaxis": {
             "endlinecolor": "#2a3f5f",
             "gridcolor": "white",
             "linecolor": "white",
             "minorgridcolor": "white",
             "startlinecolor": "#2a3f5f"
            },
            "baxis": {
             "endlinecolor": "#2a3f5f",
             "gridcolor": "white",
             "linecolor": "white",
             "minorgridcolor": "white",
             "startlinecolor": "#2a3f5f"
            },
            "type": "carpet"
           }
          ],
          "choropleth": [
           {
            "colorbar": {
             "outlinewidth": 0,
             "ticks": ""
            },
            "type": "choropleth"
           }
          ],
          "contour": [
           {
            "colorbar": {
             "outlinewidth": 0,
             "ticks": ""
            },
            "colorscale": [
             [
              0,
              "#0d0887"
             ],
             [
              0.1111111111111111,
              "#46039f"
             ],
             [
              0.2222222222222222,
              "#7201a8"
             ],
             [
              0.3333333333333333,
              "#9c179e"
             ],
             [
              0.4444444444444444,
              "#bd3786"
             ],
             [
              0.5555555555555556,
              "#d8576b"
             ],
             [
              0.6666666666666666,
              "#ed7953"
             ],
             [
              0.7777777777777778,
              "#fb9f3a"
             ],
             [
              0.8888888888888888,
              "#fdca26"
             ],
             [
              1,
              "#f0f921"
             ]
            ],
            "type": "contour"
           }
          ],
          "contourcarpet": [
           {
            "colorbar": {
             "outlinewidth": 0,
             "ticks": ""
            },
            "type": "contourcarpet"
           }
          ],
          "heatmap": [
           {
            "colorbar": {
             "outlinewidth": 0,
             "ticks": ""
            },
            "colorscale": [
             [
              0,
              "#0d0887"
             ],
             [
              0.1111111111111111,
              "#46039f"
             ],
             [
              0.2222222222222222,
              "#7201a8"
             ],
             [
              0.3333333333333333,
              "#9c179e"
             ],
             [
              0.4444444444444444,
              "#bd3786"
             ],
             [
              0.5555555555555556,
              "#d8576b"
             ],
             [
              0.6666666666666666,
              "#ed7953"
             ],
             [
              0.7777777777777778,
              "#fb9f3a"
             ],
             [
              0.8888888888888888,
              "#fdca26"
             ],
             [
              1,
              "#f0f921"
             ]
            ],
            "type": "heatmap"
           }
          ],
          "heatmapgl": [
           {
            "colorbar": {
             "outlinewidth": 0,
             "ticks": ""
            },
            "colorscale": [
             [
              0,
              "#0d0887"
             ],
             [
              0.1111111111111111,
              "#46039f"
             ],
             [
              0.2222222222222222,
              "#7201a8"
             ],
             [
              0.3333333333333333,
              "#9c179e"
             ],
             [
              0.4444444444444444,
              "#bd3786"
             ],
             [
              0.5555555555555556,
              "#d8576b"
             ],
             [
              0.6666666666666666,
              "#ed7953"
             ],
             [
              0.7777777777777778,
              "#fb9f3a"
             ],
             [
              0.8888888888888888,
              "#fdca26"
             ],
             [
              1,
              "#f0f921"
             ]
            ],
            "type": "heatmapgl"
           }
          ],
          "histogram": [
           {
            "marker": {
             "colorbar": {
              "outlinewidth": 0,
              "ticks": ""
             }
            },
            "type": "histogram"
           }
          ],
          "histogram2d": [
           {
            "colorbar": {
             "outlinewidth": 0,
             "ticks": ""
            },
            "colorscale": [
             [
              0,
              "#0d0887"
             ],
             [
              0.1111111111111111,
              "#46039f"
             ],
             [
              0.2222222222222222,
              "#7201a8"
             ],
             [
              0.3333333333333333,
              "#9c179e"
             ],
             [
              0.4444444444444444,
              "#bd3786"
             ],
             [
              0.5555555555555556,
              "#d8576b"
             ],
             [
              0.6666666666666666,
              "#ed7953"
             ],
             [
              0.7777777777777778,
              "#fb9f3a"
             ],
             [
              0.8888888888888888,
              "#fdca26"
             ],
             [
              1,
              "#f0f921"
             ]
            ],
            "type": "histogram2d"
           }
          ],
          "histogram2dcontour": [
           {
            "colorbar": {
             "outlinewidth": 0,
             "ticks": ""
            },
            "colorscale": [
             [
              0,
              "#0d0887"
             ],
             [
              0.1111111111111111,
              "#46039f"
             ],
             [
              0.2222222222222222,
              "#7201a8"
             ],
             [
              0.3333333333333333,
              "#9c179e"
             ],
             [
              0.4444444444444444,
              "#bd3786"
             ],
             [
              0.5555555555555556,
              "#d8576b"
             ],
             [
              0.6666666666666666,
              "#ed7953"
             ],
             [
              0.7777777777777778,
              "#fb9f3a"
             ],
             [
              0.8888888888888888,
              "#fdca26"
             ],
             [
              1,
              "#f0f921"
             ]
            ],
            "type": "histogram2dcontour"
           }
          ],
          "mesh3d": [
           {
            "colorbar": {
             "outlinewidth": 0,
             "ticks": ""
            },
            "type": "mesh3d"
           }
          ],
          "parcoords": [
           {
            "line": {
             "colorbar": {
              "outlinewidth": 0,
              "ticks": ""
             }
            },
            "type": "parcoords"
           }
          ],
          "pie": [
           {
            "automargin": true,
            "type": "pie"
           }
          ],
          "scatter": [
           {
            "marker": {
             "colorbar": {
              "outlinewidth": 0,
              "ticks": ""
             }
            },
            "type": "scatter"
           }
          ],
          "scatter3d": [
           {
            "line": {
             "colorbar": {
              "outlinewidth": 0,
              "ticks": ""
             }
            },
            "marker": {
             "colorbar": {
              "outlinewidth": 0,
              "ticks": ""
             }
            },
            "type": "scatter3d"
           }
          ],
          "scattercarpet": [
           {
            "marker": {
             "colorbar": {
              "outlinewidth": 0,
              "ticks": ""
             }
            },
            "type": "scattercarpet"
           }
          ],
          "scattergeo": [
           {
            "marker": {
             "colorbar": {
              "outlinewidth": 0,
              "ticks": ""
             }
            },
            "type": "scattergeo"
           }
          ],
          "scattergl": [
           {
            "marker": {
             "colorbar": {
              "outlinewidth": 0,
              "ticks": ""
             }
            },
            "type": "scattergl"
           }
          ],
          "scattermapbox": [
           {
            "marker": {
             "colorbar": {
              "outlinewidth": 0,
              "ticks": ""
             }
            },
            "type": "scattermapbox"
           }
          ],
          "scatterpolar": [
           {
            "marker": {
             "colorbar": {
              "outlinewidth": 0,
              "ticks": ""
             }
            },
            "type": "scatterpolar"
           }
          ],
          "scatterpolargl": [
           {
            "marker": {
             "colorbar": {
              "outlinewidth": 0,
              "ticks": ""
             }
            },
            "type": "scatterpolargl"
           }
          ],
          "scatterternary": [
           {
            "marker": {
             "colorbar": {
              "outlinewidth": 0,
              "ticks": ""
             }
            },
            "type": "scatterternary"
           }
          ],
          "surface": [
           {
            "colorbar": {
             "outlinewidth": 0,
             "ticks": ""
            },
            "colorscale": [
             [
              0,
              "#0d0887"
             ],
             [
              0.1111111111111111,
              "#46039f"
             ],
             [
              0.2222222222222222,
              "#7201a8"
             ],
             [
              0.3333333333333333,
              "#9c179e"
             ],
             [
              0.4444444444444444,
              "#bd3786"
             ],
             [
              0.5555555555555556,
              "#d8576b"
             ],
             [
              0.6666666666666666,
              "#ed7953"
             ],
             [
              0.7777777777777778,
              "#fb9f3a"
             ],
             [
              0.8888888888888888,
              "#fdca26"
             ],
             [
              1,
              "#f0f921"
             ]
            ],
            "type": "surface"
           }
          ],
          "table": [
           {
            "cells": {
             "fill": {
              "color": "#EBF0F8"
             },
             "line": {
              "color": "white"
             }
            },
            "header": {
             "fill": {
              "color": "#C8D4E3"
             },
             "line": {
              "color": "white"
             }
            },
            "type": "table"
           }
          ]
         },
         "layout": {
          "annotationdefaults": {
           "arrowcolor": "#2a3f5f",
           "arrowhead": 0,
           "arrowwidth": 1
          },
          "coloraxis": {
           "colorbar": {
            "outlinewidth": 0,
            "ticks": ""
           }
          },
          "colorscale": {
           "diverging": [
            [
             0,
             "#8e0152"
            ],
            [
             0.1,
             "#c51b7d"
            ],
            [
             0.2,
             "#de77ae"
            ],
            [
             0.3,
             "#f1b6da"
            ],
            [
             0.4,
             "#fde0ef"
            ],
            [
             0.5,
             "#f7f7f7"
            ],
            [
             0.6,
             "#e6f5d0"
            ],
            [
             0.7,
             "#b8e186"
            ],
            [
             0.8,
             "#7fbc41"
            ],
            [
             0.9,
             "#4d9221"
            ],
            [
             1,
             "#276419"
            ]
           ],
           "sequential": [
            [
             0,
             "#0d0887"
            ],
            [
             0.1111111111111111,
             "#46039f"
            ],
            [
             0.2222222222222222,
             "#7201a8"
            ],
            [
             0.3333333333333333,
             "#9c179e"
            ],
            [
             0.4444444444444444,
             "#bd3786"
            ],
            [
             0.5555555555555556,
             "#d8576b"
            ],
            [
             0.6666666666666666,
             "#ed7953"
            ],
            [
             0.7777777777777778,
             "#fb9f3a"
            ],
            [
             0.8888888888888888,
             "#fdca26"
            ],
            [
             1,
             "#f0f921"
            ]
           ],
           "sequentialminus": [
            [
             0,
             "#0d0887"
            ],
            [
             0.1111111111111111,
             "#46039f"
            ],
            [
             0.2222222222222222,
             "#7201a8"
            ],
            [
             0.3333333333333333,
             "#9c179e"
            ],
            [
             0.4444444444444444,
             "#bd3786"
            ],
            [
             0.5555555555555556,
             "#d8576b"
            ],
            [
             0.6666666666666666,
             "#ed7953"
            ],
            [
             0.7777777777777778,
             "#fb9f3a"
            ],
            [
             0.8888888888888888,
             "#fdca26"
            ],
            [
             1,
             "#f0f921"
            ]
           ]
          },
          "colorway": [
           "#636efa",
           "#EF553B",
           "#00cc96",
           "#ab63fa",
           "#FFA15A",
           "#19d3f3",
           "#FF6692",
           "#B6E880",
           "#FF97FF",
           "#FECB52"
          ],
          "font": {
           "color": "#2a3f5f"
          },
          "geo": {
           "bgcolor": "white",
           "lakecolor": "white",
           "landcolor": "#E5ECF6",
           "showlakes": true,
           "showland": true,
           "subunitcolor": "white"
          },
          "hoverlabel": {
           "align": "left"
          },
          "hovermode": "closest",
          "mapbox": {
           "style": "light"
          },
          "paper_bgcolor": "white",
          "plot_bgcolor": "#E5ECF6",
          "polar": {
           "angularaxis": {
            "gridcolor": "white",
            "linecolor": "white",
            "ticks": ""
           },
           "bgcolor": "#E5ECF6",
           "radialaxis": {
            "gridcolor": "white",
            "linecolor": "white",
            "ticks": ""
           }
          },
          "scene": {
           "xaxis": {
            "backgroundcolor": "#E5ECF6",
            "gridcolor": "white",
            "gridwidth": 2,
            "linecolor": "white",
            "showbackground": true,
            "ticks": "",
            "zerolinecolor": "white"
           },
           "yaxis": {
            "backgroundcolor": "#E5ECF6",
            "gridcolor": "white",
            "gridwidth": 2,
            "linecolor": "white",
            "showbackground": true,
            "ticks": "",
            "zerolinecolor": "white"
           },
           "zaxis": {
            "backgroundcolor": "#E5ECF6",
            "gridcolor": "white",
            "gridwidth": 2,
            "linecolor": "white",
            "showbackground": true,
            "ticks": "",
            "zerolinecolor": "white"
           }
          },
          "shapedefaults": {
           "line": {
            "color": "#2a3f5f"
           }
          },
          "ternary": {
           "aaxis": {
            "gridcolor": "white",
            "linecolor": "white",
            "ticks": ""
           },
           "baxis": {
            "gridcolor": "white",
            "linecolor": "white",
            "ticks": ""
           },
           "bgcolor": "#E5ECF6",
           "caxis": {
            "gridcolor": "white",
            "linecolor": "white",
            "ticks": ""
           }
          },
          "title": {
           "x": 0.05
          },
          "xaxis": {
           "automargin": true,
           "gridcolor": "white",
           "linecolor": "white",
           "ticks": "",
           "title": {
            "standoff": 15
           },
           "zerolinecolor": "white",
           "zerolinewidth": 2
          },
          "yaxis": {
           "automargin": true,
           "gridcolor": "white",
           "linecolor": "white",
           "ticks": "",
           "title": {
            "standoff": 15
           },
           "zerolinecolor": "white",
           "zerolinewidth": 2
          }
         }
        },
        "title": {
         "text": "Renewable Energy Products by origin"
        }
       }
      },
      "text/html": [
       "<div>\n",
       "        \n",
       "        \n",
       "            <div id=\"0cfc41c1-f5e9-40fa-af68-7a237e0181c0\" class=\"plotly-graph-div\" style=\"height:525px; width:100%;\"></div>\n",
       "            <script type=\"text/javascript\">\n",
       "                require([\"plotly\"], function(Plotly) {\n",
       "                    window.PLOTLYENV=window.PLOTLYENV || {};\n",
       "                    \n",
       "                if (document.getElementById(\"0cfc41c1-f5e9-40fa-af68-7a237e0181c0\")) {\n",
       "                    Plotly.newPlot(\n",
       "                        '0cfc41c1-f5e9-40fa-af68-7a237e0181c0',\n",
       "                        [{\"coloraxis\": \"coloraxis\", \"customdata\": [[875.0, 100.0], [3179.5454545454545, 100.0], [30000.0, 100.0], [2096.9101123595506, 100.0], [741.6666666666666, 100.0], [4715.625, 100.0], [1302.734375, 100.0], [3590.3225806451615, 99.15695937873357], [3600.0, 100.0], [307.7235772357724, 100.0], [950.0, 100.0], [3050.0, 100.0], [5100.0, 100.0], [35000.0, 100.0], [23450.0, 96.125], [1500.0, 100.0], [16875.0, 100.0], [150.0, 100.0], [1370.0, 100.0], [30000.0, 100.0], [6581.410256410257, 98.7948717948718], [2237.5, 100.0], [7778.333333333333, 100.0], [17025.0, 100.0], [13287.5, 100.0]], \"geo\": \"geo\", \"hoverlabel\": {\"namelength\": 0}, \"hovertemplate\": \"<b>%{hovertext}</b><br><br>Avg money raised pro project, $=%{customdata[0]}<br>Avg share gathered, %=%{customdata[1]}<br>Country code=%{location}<br># of projects=%{z}\", \"hovertext\": [\"Burkina Faso\", \"Ghana\", \"Guatemala\", \"Haiti\", \"Honduras\", \"India\", \"Indonesia\", \"Kenya\", \"Lao People's Democratic Republic\", \"Liberia\", \"Madagascar\", \"Mexico\", \"Namibia\", \"Nigeria\", \"Pakistan\", \"Palestine\", \"Peru\", \"Philippines\", \"Rwanda\", \"Sierra Leone\", \"Tanzania\", \"The Democratic Republic of the Congo\", \"Uganda\", \"Zambia\", \"Zimbabwe\"], \"locations\": [\"BFA\", \"GHA\", \"GTM\", \"HTI\", \"HND\", \"IND\", \"IDN\", \"KEN\", \"LAO\", \"LBR\", \"MDG\", \"MEX\", \"NAM\", \"NGA\", \"PAK\", \"PSE\", \"PER\", \"PHL\", \"RWA\", \"SLE\", \"TZA\", \"COD\", \"UGA\", \"ZMB\", \"ZWE\"], \"name\": \"\", \"type\": \"choropleth\", \"z\": [3.0, 22.0, 1.0, 89.0, 3.0, 8.0, 64.0, 186.0, 3.0, 123.0, 1.0, 2.0, 1.0, 1.0, 2.0, 1.0, 3.0, 1.0, 5.0, 1.0, 39.0, 4.0, 15.0, 3.0, 4.0]}],\n",
       "                        {\"coloraxis\": {\"colorbar\": {\"title\": {\"text\": \"# of projects\"}}, \"colorscale\": [[0.0, \"#0d0887\"], [0.1111111111111111, \"#46039f\"], [0.2222222222222222, \"#7201a8\"], [0.3333333333333333, \"#9c179e\"], [0.4444444444444444, \"#bd3786\"], [0.5555555555555556, \"#d8576b\"], [0.6666666666666666, \"#ed7953\"], [0.7777777777777778, \"#fb9f3a\"], [0.8888888888888888, \"#fdca26\"], [1.0, \"#f0f921\"]]}, \"geo\": {\"center\": {}, \"domain\": {\"x\": [0.0, 1.0], \"y\": [0.0, 1.0]}, \"projection\": {\"type\": \"robinson\"}}, \"legend\": {\"tracegroupgap\": 0}, \"template\": {\"data\": {\"bar\": [{\"error_x\": {\"color\": \"#2a3f5f\"}, \"error_y\": {\"color\": \"#2a3f5f\"}, \"marker\": {\"line\": {\"color\": \"#E5ECF6\", \"width\": 0.5}}, \"type\": \"bar\"}], \"barpolar\": [{\"marker\": {\"line\": {\"color\": \"#E5ECF6\", \"width\": 0.5}}, \"type\": \"barpolar\"}], \"carpet\": [{\"aaxis\": {\"endlinecolor\": \"#2a3f5f\", \"gridcolor\": \"white\", \"linecolor\": \"white\", \"minorgridcolor\": \"white\", \"startlinecolor\": \"#2a3f5f\"}, \"baxis\": {\"endlinecolor\": \"#2a3f5f\", \"gridcolor\": \"white\", \"linecolor\": \"white\", \"minorgridcolor\": \"white\", \"startlinecolor\": \"#2a3f5f\"}, \"type\": \"carpet\"}], \"choropleth\": [{\"colorbar\": {\"outlinewidth\": 0, \"ticks\": \"\"}, \"type\": \"choropleth\"}], \"contour\": [{\"colorbar\": {\"outlinewidth\": 0, \"ticks\": \"\"}, \"colorscale\": [[0.0, \"#0d0887\"], [0.1111111111111111, \"#46039f\"], [0.2222222222222222, \"#7201a8\"], [0.3333333333333333, \"#9c179e\"], [0.4444444444444444, \"#bd3786\"], [0.5555555555555556, \"#d8576b\"], [0.6666666666666666, \"#ed7953\"], [0.7777777777777778, \"#fb9f3a\"], [0.8888888888888888, \"#fdca26\"], [1.0, \"#f0f921\"]], \"type\": \"contour\"}], \"contourcarpet\": [{\"colorbar\": {\"outlinewidth\": 0, \"ticks\": \"\"}, \"type\": \"contourcarpet\"}], \"heatmap\": [{\"colorbar\": {\"outlinewidth\": 0, \"ticks\": \"\"}, \"colorscale\": [[0.0, \"#0d0887\"], [0.1111111111111111, \"#46039f\"], [0.2222222222222222, \"#7201a8\"], [0.3333333333333333, \"#9c179e\"], [0.4444444444444444, \"#bd3786\"], [0.5555555555555556, \"#d8576b\"], [0.6666666666666666, \"#ed7953\"], [0.7777777777777778, \"#fb9f3a\"], [0.8888888888888888, \"#fdca26\"], [1.0, \"#f0f921\"]], \"type\": \"heatmap\"}], \"heatmapgl\": [{\"colorbar\": {\"outlinewidth\": 0, \"ticks\": \"\"}, \"colorscale\": [[0.0, \"#0d0887\"], [0.1111111111111111, \"#46039f\"], [0.2222222222222222, \"#7201a8\"], [0.3333333333333333, \"#9c179e\"], [0.4444444444444444, \"#bd3786\"], [0.5555555555555556, \"#d8576b\"], [0.6666666666666666, \"#ed7953\"], [0.7777777777777778, \"#fb9f3a\"], [0.8888888888888888, \"#fdca26\"], [1.0, \"#f0f921\"]], \"type\": \"heatmapgl\"}], \"histogram\": [{\"marker\": {\"colorbar\": {\"outlinewidth\": 0, \"ticks\": \"\"}}, \"type\": \"histogram\"}], \"histogram2d\": [{\"colorbar\": {\"outlinewidth\": 0, \"ticks\": \"\"}, \"colorscale\": [[0.0, \"#0d0887\"], [0.1111111111111111, \"#46039f\"], [0.2222222222222222, \"#7201a8\"], [0.3333333333333333, \"#9c179e\"], [0.4444444444444444, \"#bd3786\"], [0.5555555555555556, \"#d8576b\"], [0.6666666666666666, \"#ed7953\"], [0.7777777777777778, \"#fb9f3a\"], [0.8888888888888888, \"#fdca26\"], [1.0, \"#f0f921\"]], \"type\": \"histogram2d\"}], \"histogram2dcontour\": [{\"colorbar\": {\"outlinewidth\": 0, \"ticks\": \"\"}, \"colorscale\": [[0.0, \"#0d0887\"], [0.1111111111111111, \"#46039f\"], [0.2222222222222222, \"#7201a8\"], [0.3333333333333333, \"#9c179e\"], [0.4444444444444444, \"#bd3786\"], [0.5555555555555556, \"#d8576b\"], [0.6666666666666666, \"#ed7953\"], [0.7777777777777778, \"#fb9f3a\"], [0.8888888888888888, \"#fdca26\"], [1.0, \"#f0f921\"]], \"type\": \"histogram2dcontour\"}], \"mesh3d\": [{\"colorbar\": {\"outlinewidth\": 0, \"ticks\": \"\"}, \"type\": \"mesh3d\"}], \"parcoords\": [{\"line\": {\"colorbar\": {\"outlinewidth\": 0, \"ticks\": \"\"}}, \"type\": \"parcoords\"}], \"pie\": [{\"automargin\": true, \"type\": \"pie\"}], \"scatter\": [{\"marker\": {\"colorbar\": {\"outlinewidth\": 0, \"ticks\": \"\"}}, \"type\": \"scatter\"}], \"scatter3d\": [{\"line\": {\"colorbar\": {\"outlinewidth\": 0, \"ticks\": \"\"}}, \"marker\": {\"colorbar\": {\"outlinewidth\": 0, \"ticks\": \"\"}}, \"type\": \"scatter3d\"}], \"scattercarpet\": [{\"marker\": {\"colorbar\": {\"outlinewidth\": 0, \"ticks\": \"\"}}, \"type\": \"scattercarpet\"}], \"scattergeo\": [{\"marker\": {\"colorbar\": {\"outlinewidth\": 0, \"ticks\": \"\"}}, \"type\": \"scattergeo\"}], \"scattergl\": [{\"marker\": {\"colorbar\": {\"outlinewidth\": 0, \"ticks\": \"\"}}, \"type\": \"scattergl\"}], \"scattermapbox\": [{\"marker\": {\"colorbar\": {\"outlinewidth\": 0, \"ticks\": \"\"}}, \"type\": \"scattermapbox\"}], \"scatterpolar\": [{\"marker\": {\"colorbar\": {\"outlinewidth\": 0, \"ticks\": \"\"}}, \"type\": \"scatterpolar\"}], \"scatterpolargl\": [{\"marker\": {\"colorbar\": {\"outlinewidth\": 0, \"ticks\": \"\"}}, \"type\": \"scatterpolargl\"}], \"scatterternary\": [{\"marker\": {\"colorbar\": {\"outlinewidth\": 0, \"ticks\": \"\"}}, \"type\": \"scatterternary\"}], \"surface\": [{\"colorbar\": {\"outlinewidth\": 0, \"ticks\": \"\"}, \"colorscale\": [[0.0, \"#0d0887\"], [0.1111111111111111, \"#46039f\"], [0.2222222222222222, \"#7201a8\"], [0.3333333333333333, \"#9c179e\"], [0.4444444444444444, \"#bd3786\"], [0.5555555555555556, \"#d8576b\"], [0.6666666666666666, \"#ed7953\"], [0.7777777777777778, \"#fb9f3a\"], [0.8888888888888888, \"#fdca26\"], [1.0, \"#f0f921\"]], \"type\": \"surface\"}], \"table\": [{\"cells\": {\"fill\": {\"color\": \"#EBF0F8\"}, \"line\": {\"color\": \"white\"}}, \"header\": {\"fill\": {\"color\": \"#C8D4E3\"}, \"line\": {\"color\": \"white\"}}, \"type\": \"table\"}]}, \"layout\": {\"annotationdefaults\": {\"arrowcolor\": \"#2a3f5f\", \"arrowhead\": 0, \"arrowwidth\": 1}, \"coloraxis\": {\"colorbar\": {\"outlinewidth\": 0, \"ticks\": \"\"}}, \"colorscale\": {\"diverging\": [[0, \"#8e0152\"], [0.1, \"#c51b7d\"], [0.2, \"#de77ae\"], [0.3, \"#f1b6da\"], [0.4, \"#fde0ef\"], [0.5, \"#f7f7f7\"], [0.6, \"#e6f5d0\"], [0.7, \"#b8e186\"], [0.8, \"#7fbc41\"], [0.9, \"#4d9221\"], [1, \"#276419\"]], \"sequential\": [[0.0, \"#0d0887\"], [0.1111111111111111, \"#46039f\"], [0.2222222222222222, \"#7201a8\"], [0.3333333333333333, \"#9c179e\"], [0.4444444444444444, \"#bd3786\"], [0.5555555555555556, \"#d8576b\"], [0.6666666666666666, \"#ed7953\"], [0.7777777777777778, \"#fb9f3a\"], [0.8888888888888888, \"#fdca26\"], [1.0, \"#f0f921\"]], \"sequentialminus\": [[0.0, \"#0d0887\"], [0.1111111111111111, \"#46039f\"], [0.2222222222222222, \"#7201a8\"], [0.3333333333333333, \"#9c179e\"], [0.4444444444444444, \"#bd3786\"], [0.5555555555555556, \"#d8576b\"], [0.6666666666666666, \"#ed7953\"], [0.7777777777777778, \"#fb9f3a\"], [0.8888888888888888, \"#fdca26\"], [1.0, \"#f0f921\"]]}, \"colorway\": [\"#636efa\", \"#EF553B\", \"#00cc96\", \"#ab63fa\", \"#FFA15A\", \"#19d3f3\", \"#FF6692\", \"#B6E880\", \"#FF97FF\", \"#FECB52\"], \"font\": {\"color\": \"#2a3f5f\"}, \"geo\": {\"bgcolor\": \"white\", \"lakecolor\": \"white\", \"landcolor\": \"#E5ECF6\", \"showlakes\": true, \"showland\": true, \"subunitcolor\": \"white\"}, \"hoverlabel\": {\"align\": \"left\"}, \"hovermode\": \"closest\", \"mapbox\": {\"style\": \"light\"}, \"paper_bgcolor\": \"white\", \"plot_bgcolor\": \"#E5ECF6\", \"polar\": {\"angularaxis\": {\"gridcolor\": \"white\", \"linecolor\": \"white\", \"ticks\": \"\"}, \"bgcolor\": \"#E5ECF6\", \"radialaxis\": {\"gridcolor\": \"white\", \"linecolor\": \"white\", \"ticks\": \"\"}}, \"scene\": {\"xaxis\": {\"backgroundcolor\": \"#E5ECF6\", \"gridcolor\": \"white\", \"gridwidth\": 2, \"linecolor\": \"white\", \"showbackground\": true, \"ticks\": \"\", \"zerolinecolor\": \"white\"}, \"yaxis\": {\"backgroundcolor\": \"#E5ECF6\", \"gridcolor\": \"white\", \"gridwidth\": 2, \"linecolor\": \"white\", \"showbackground\": true, \"ticks\": \"\", \"zerolinecolor\": \"white\"}, \"zaxis\": {\"backgroundcolor\": \"#E5ECF6\", \"gridcolor\": \"white\", \"gridwidth\": 2, \"linecolor\": \"white\", \"showbackground\": true, \"ticks\": \"\", \"zerolinecolor\": \"white\"}}, \"shapedefaults\": {\"line\": {\"color\": \"#2a3f5f\"}}, \"ternary\": {\"aaxis\": {\"gridcolor\": \"white\", \"linecolor\": \"white\", \"ticks\": \"\"}, \"baxis\": {\"gridcolor\": \"white\", \"linecolor\": \"white\", \"ticks\": \"\"}, \"bgcolor\": \"#E5ECF6\", \"caxis\": {\"gridcolor\": \"white\", \"linecolor\": \"white\", \"ticks\": \"\"}}, \"title\": {\"x\": 0.05}, \"xaxis\": {\"automargin\": true, \"gridcolor\": \"white\", \"linecolor\": \"white\", \"ticks\": \"\", \"title\": {\"standoff\": 15}, \"zerolinecolor\": \"white\", \"zerolinewidth\": 2}, \"yaxis\": {\"automargin\": true, \"gridcolor\": \"white\", \"linecolor\": \"white\", \"ticks\": \"\", \"title\": {\"standoff\": 15}, \"zerolinecolor\": \"white\", \"zerolinewidth\": 2}}}, \"title\": {\"text\": \"Renewable Energy Products by origin\"}},\n",
       "                        {\"responsive\": true}\n",
       "                    ).then(function(){\n",
       "                            \n",
       "var gd = document.getElementById('0cfc41c1-f5e9-40fa-af68-7a237e0181c0');\n",
       "var x = new MutationObserver(function (mutations, observer) {{\n",
       "        var display = window.getComputedStyle(gd).display;\n",
       "        if (!display || display === 'none') {{\n",
       "            console.log([gd, 'removed!']);\n",
       "            Plotly.purge(gd);\n",
       "            observer.disconnect();\n",
       "        }}\n",
       "}});\n",
       "\n",
       "// Listen for the removal of the full notebook cells\n",
       "var notebookContainer = gd.closest('#notebook-container');\n",
       "if (notebookContainer) {{\n",
       "    x.observe(notebookContainer, {childList: true});\n",
       "}}\n",
       "\n",
       "// Listen for the clearing of the current output cell\n",
       "var outputEl = gd.closest('.output');\n",
       "if (outputEl) {{\n",
       "    x.observe(outputEl, {childList: true});\n",
       "}}\n",
       "\n",
       "                        })\n",
       "                };\n",
       "                });\n",
       "            </script>\n",
       "        </div>"
      ]
     },
     "metadata": {},
     "output_type": "display_data"
    }
   ],
   "source": [
    "fig = px.choropleth(renewable, locations=\"Country code\",\n",
    "                    color='# of projects',\n",
    "                    hover_name=\"Country\",\n",
    "                    hover_data=['Avg money raised pro project, $', 'Avg share gathered, %'],\n",
    "                    title='Renewable Energy Products by origin', \n",
    "                    color_continuous_scale=px.colors.sequential.Plasma,\n",
    "                    projection='robinson'\n",
    "    )\n",
    "fig.show()"
   ]
  },
  {
   "cell_type": "markdown",
   "metadata": {},
   "source": [
    "Out of 585 projects, 186 are in Kenya, 123 in Liberia, 89 on Haiti. \n",
    "Why are there so many initiatives coming from these countries? I would look in depth but need more information:\n",
    "Who are the the clients? Do their businesses really operate in these countries or they are only registered there?\n",
    "Is there anything happening in particular, for example, in connection to govermental policy which is promoting\n",
    "Renewable Energy? Should we expect more such pitches?\n",
    "And - any similar tendencies in other countries? Why the projects or at least pitches on our platform so geographically concentrated?\n",
    "\n",
    "##### Potentially, we can grow an entirely separate branch of business related to projects in Renewable Energy only, leaving our current platform for everything else."
   ]
  },
  {
   "cell_type": "markdown",
   "metadata": {},
   "source": [
    "#### Understanding unsuccessful projects: any visible tendencies?"
   ]
  },
  {
   "cell_type": "markdown",
   "metadata": {},
   "source": [
    "Projects from which countries are on average less successful in gathering funds?"
   ]
  },
  {
   "cell_type": "code",
   "execution_count": 58,
   "metadata": {},
   "outputs": [
    {
     "data": {
      "application/vnd.plotly.v1+json": {
       "config": {
        "plotlyServerURL": "https://plot.ly"
       },
       "data": [
        {
         "coloraxis": "coloraxis",
         "customdata": [
          [
           2
          ],
          [
           1934
          ],
          [
           8631
          ],
          [
           1945
          ],
          [
           125
          ],
          [
           497
          ],
          [
           2
          ],
          [
           8806
          ],
          [
           284
          ],
          [
           2460
          ],
          [
           880
          ],
          [
           34836
          ],
          [
           2230
          ],
          [
           10
          ],
          [
           134
          ],
          [
           21995
          ],
          [
           128
          ],
          [
           1561
          ],
          [
           1
          ],
          [
           496
          ],
          [
           13521
          ],
          [
           1639
          ],
          [
           39875
          ],
          [
           2409
          ],
          [
           4374
          ],
          [
           1
          ],
          [
           7310
          ],
          [
           3618
          ],
          [
           6557
          ],
          [
           11237
          ],
          [
           6214
          ],
          [
           993
          ],
          [
           190
          ],
          [
           4167
          ],
          [
           75825
          ],
          [
           1419
          ],
          [
           5774
          ],
          [
           1486
          ],
          [
           8792
          ],
          [
           422
          ],
          [
           3682
          ],
          [
           3821
          ],
          [
           1320
          ],
          [
           6639
          ],
          [
           1
          ],
          [
           5741
          ],
          [
           348
          ],
          [
           964
          ],
          [
           3483
          ],
          [
           1870
          ],
          [
           8
          ],
          [
           717
          ],
          [
           11781
          ],
          [
           10136
          ],
          [
           26857
          ],
          [
           8167
          ],
          [
           193
          ],
          [
           11903
          ],
          [
           22233
          ],
          [
           160441
          ],
          [
           68
          ],
          [
           6735
          ],
          [
           16
          ],
          [
           7396
          ],
          [
           3269
          ],
          [
           5415
          ],
          [
           554
          ],
          [
           75
          ],
          [
           378
          ],
          [
           160
          ],
          [
           223
          ],
          [
           19580
          ],
          [
           5219
          ],
          [
           180
          ],
          [
           3073
          ],
          [
           2690
          ],
          [
           5749
          ],
          [
           1703
          ],
          [
           20601
          ],
          [
           963
          ],
          [
           6093
          ],
          [
           4
          ],
          [
           10843
          ],
          [
           2
          ],
          [
           2313
          ],
          [
           784
          ],
          [
           4034
          ]
         ],
         "geo": "geo",
         "hoverlabel": {
          "namelength": 0
         },
         "hovertemplate": "<b>%{hovertext}</b><br><br># of projects=%{customdata[0]}<br>Country code=%{location}<br>Avg share gathered, %=%{z}",
         "hovertext": [
          "Afghanistan",
          "Albania",
          "Armenia",
          "Azerbaijan",
          "Belize",
          "Benin",
          "Bhutan",
          "Bolivia",
          "Brazil",
          "Burkina Faso",
          "Burundi",
          "Cambodia",
          "Cameroon",
          "Chile",
          "China",
          "Colombia",
          "Congo",
          "Costa Rica",
          "Cote D'Ivoire",
          "Dominican Republic",
          "Ecuador",
          "Egypt",
          "El Salvador",
          "Georgia",
          "Ghana",
          "Guam",
          "Guatemala",
          "Haiti",
          "Honduras",
          "India",
          "Indonesia",
          "Iraq",
          "Israel",
          "Jordan",
          "Kenya",
          "Kosovo",
          "Kyrgyzstan",
          "Lao People's Democratic Republic",
          "Lebanon",
          "Lesotho",
          "Liberia",
          "Madagascar",
          "Malawi",
          "Mali",
          "Mauritania",
          "Mexico",
          "Moldova",
          "Mongolia",
          "Mozambique",
          "Myanmar (Burma)",
          "Namibia",
          "Nepal",
          "Nicaragua",
          "Nigeria",
          "Pakistan",
          "Palestine",
          "Panama",
          "Paraguay",
          "Peru",
          "Philippines",
          "Puerto Rico",
          "Rwanda",
          "Saint Vincent and the Grenadines",
          "Samoa",
          "Senegal",
          "Sierra Leone",
          "Solomon Islands",
          "Somalia",
          "South Africa",
          "South Sudan",
          "Suriname",
          "Tajikistan",
          "Tanzania",
          "Thailand",
          "The Democratic Republic of the Congo",
          "Timor-Leste",
          "Togo",
          "Turkey",
          "Uganda",
          "Ukraine",
          "United States",
          "Vanuatu",
          "Vietnam",
          "Virgin Islands",
          "Yemen",
          "Zambia",
          "Zimbabwe"
         ],
         "locations": [
          "AFG",
          "ALB",
          "ARM",
          "AZE",
          "BLZ",
          "BEN",
          "BTN",
          "BOL",
          "BRA",
          "BFA",
          "BDI",
          "KHM",
          "CMR",
          "CHL",
          "CHN",
          "COL",
          "COG",
          "CRI",
          "CIV",
          "DOM",
          "ECU",
          "EGY",
          "SLV",
          "GEO",
          "GHA",
          "GUM",
          "GTM",
          "HTI",
          "HND",
          "IND",
          "IDN",
          "IRQ",
          "ISR",
          "JOR",
          "KEN",
          "SRB",
          "KGZ",
          "LAO",
          "LBN",
          "LSO",
          "LBR",
          "MDG",
          "MWI",
          "MLI",
          "MRT",
          "MEX",
          "MDA",
          "MNG",
          "MOZ",
          "MMR",
          "NAM",
          "NPL",
          "NIC",
          "NGA",
          "PAK",
          "PSE",
          "PAN",
          "PRY",
          "PER",
          "PHL",
          "PRI",
          "RWA",
          "VCT",
          "WSM",
          "SEN",
          "SLE",
          "SLB",
          "SOM",
          "ZAF",
          "SSD",
          "SUR",
          "TJK",
          "TZA",
          "THA",
          "COD",
          "TLS",
          "TGO",
          "TUR",
          "UGA",
          "UKR",
          "USA",
          "VUT",
          "VNM",
          "VIR",
          "YEM",
          "ZMB",
          "ZWE"
         ],
         "name": "",
         "type": "choropleth",
         "z": [
          100,
          94.44194254965072,
          88.45747227615101,
          93.24691524584071,
          100,
          99.82001558744967,
          78.125,
          93.03306056434634,
          99.85635703275122,
          98.27641647599643,
          96.98299032736543,
          97.3820415513614,
          95.54286817360467,
          90.70605908863294,
          99.34235074626865,
          90.45468545752075,
          100,
          95.1963478375967,
          100,
          98.15089298670974,
          97.60082095592243,
          97.98405832126683,
          90.84044092481159,
          95.6868544110676,
          98.45309938618554,
          9.186046511627907,
          96.54305198889456,
          98.74373731733813,
          95.9294601107752,
          98.60688795212918,
          94.74962205266843,
          99.33726562125354,
          100,
          96.09480846393899,
          95.77443842573513,
          93.34801284975612,
          95.89549852549962,
          99.85842171039982,
          96.10645453165291,
          100,
          97.8466856103312,
          99.16766676889056,
          98.3209182796855,
          96.35994339177425,
          100,
          97.1751251218191,
          96.83821734893309,
          97.51333132978567,
          94.08228129183722,
          89.59836674591887,
          100,
          100,
          95.00941654245169,
          93.2260148917166,
          95.73067656534813,
          93.33871447239319,
          100,
          98.75424636346841,
          98.71120156584786,
          99.11397689056837,
          78.86099041889484,
          95.88046083464027,
          100,
          94.69927703156647,
          95.76728969576106,
          95.86731637175912,
          96.89787585212004,
          100,
          100,
          100,
          98.49736427219246,
          94.32132192808692,
          97.4176779272053,
          99.5756172839506,
          97.8163588946146,
          96.22832580987786,
          98.03352535832589,
          99.9657467214719,
          94.4102116250795,
          97.34658527076236,
          70.14351087989999,
          100,
          95.03576423060522,
          0,
          97.13245475956488,
          96.0884562444636,
          98.73269854173562
         ]
        }
       ],
       "layout": {
        "coloraxis": {
         "colorbar": {
          "title": {
           "text": "Avg share gathered, %"
          }
         },
         "colorscale": [
          [
           0,
           "#0d0887"
          ],
          [
           0.1111111111111111,
           "#46039f"
          ],
          [
           0.2222222222222222,
           "#7201a8"
          ],
          [
           0.3333333333333333,
           "#9c179e"
          ],
          [
           0.4444444444444444,
           "#bd3786"
          ],
          [
           0.5555555555555556,
           "#d8576b"
          ],
          [
           0.6666666666666666,
           "#ed7953"
          ],
          [
           0.7777777777777778,
           "#fb9f3a"
          ],
          [
           0.8888888888888888,
           "#fdca26"
          ],
          [
           1,
           "#f0f921"
          ]
         ]
        },
        "geo": {
         "center": {},
         "domain": {
          "x": [
           0,
           1
          ],
          "y": [
           0,
           1
          ]
         },
         "projection": {
          "type": "robinson"
         }
        },
        "legend": {
         "tracegroupgap": 0
        },
        "template": {
         "data": {
          "bar": [
           {
            "error_x": {
             "color": "#2a3f5f"
            },
            "error_y": {
             "color": "#2a3f5f"
            },
            "marker": {
             "line": {
              "color": "#E5ECF6",
              "width": 0.5
             }
            },
            "type": "bar"
           }
          ],
          "barpolar": [
           {
            "marker": {
             "line": {
              "color": "#E5ECF6",
              "width": 0.5
             }
            },
            "type": "barpolar"
           }
          ],
          "carpet": [
           {
            "aaxis": {
             "endlinecolor": "#2a3f5f",
             "gridcolor": "white",
             "linecolor": "white",
             "minorgridcolor": "white",
             "startlinecolor": "#2a3f5f"
            },
            "baxis": {
             "endlinecolor": "#2a3f5f",
             "gridcolor": "white",
             "linecolor": "white",
             "minorgridcolor": "white",
             "startlinecolor": "#2a3f5f"
            },
            "type": "carpet"
           }
          ],
          "choropleth": [
           {
            "colorbar": {
             "outlinewidth": 0,
             "ticks": ""
            },
            "type": "choropleth"
           }
          ],
          "contour": [
           {
            "colorbar": {
             "outlinewidth": 0,
             "ticks": ""
            },
            "colorscale": [
             [
              0,
              "#0d0887"
             ],
             [
              0.1111111111111111,
              "#46039f"
             ],
             [
              0.2222222222222222,
              "#7201a8"
             ],
             [
              0.3333333333333333,
              "#9c179e"
             ],
             [
              0.4444444444444444,
              "#bd3786"
             ],
             [
              0.5555555555555556,
              "#d8576b"
             ],
             [
              0.6666666666666666,
              "#ed7953"
             ],
             [
              0.7777777777777778,
              "#fb9f3a"
             ],
             [
              0.8888888888888888,
              "#fdca26"
             ],
             [
              1,
              "#f0f921"
             ]
            ],
            "type": "contour"
           }
          ],
          "contourcarpet": [
           {
            "colorbar": {
             "outlinewidth": 0,
             "ticks": ""
            },
            "type": "contourcarpet"
           }
          ],
          "heatmap": [
           {
            "colorbar": {
             "outlinewidth": 0,
             "ticks": ""
            },
            "colorscale": [
             [
              0,
              "#0d0887"
             ],
             [
              0.1111111111111111,
              "#46039f"
             ],
             [
              0.2222222222222222,
              "#7201a8"
             ],
             [
              0.3333333333333333,
              "#9c179e"
             ],
             [
              0.4444444444444444,
              "#bd3786"
             ],
             [
              0.5555555555555556,
              "#d8576b"
             ],
             [
              0.6666666666666666,
              "#ed7953"
             ],
             [
              0.7777777777777778,
              "#fb9f3a"
             ],
             [
              0.8888888888888888,
              "#fdca26"
             ],
             [
              1,
              "#f0f921"
             ]
            ],
            "type": "heatmap"
           }
          ],
          "heatmapgl": [
           {
            "colorbar": {
             "outlinewidth": 0,
             "ticks": ""
            },
            "colorscale": [
             [
              0,
              "#0d0887"
             ],
             [
              0.1111111111111111,
              "#46039f"
             ],
             [
              0.2222222222222222,
              "#7201a8"
             ],
             [
              0.3333333333333333,
              "#9c179e"
             ],
             [
              0.4444444444444444,
              "#bd3786"
             ],
             [
              0.5555555555555556,
              "#d8576b"
             ],
             [
              0.6666666666666666,
              "#ed7953"
             ],
             [
              0.7777777777777778,
              "#fb9f3a"
             ],
             [
              0.8888888888888888,
              "#fdca26"
             ],
             [
              1,
              "#f0f921"
             ]
            ],
            "type": "heatmapgl"
           }
          ],
          "histogram": [
           {
            "marker": {
             "colorbar": {
              "outlinewidth": 0,
              "ticks": ""
             }
            },
            "type": "histogram"
           }
          ],
          "histogram2d": [
           {
            "colorbar": {
             "outlinewidth": 0,
             "ticks": ""
            },
            "colorscale": [
             [
              0,
              "#0d0887"
             ],
             [
              0.1111111111111111,
              "#46039f"
             ],
             [
              0.2222222222222222,
              "#7201a8"
             ],
             [
              0.3333333333333333,
              "#9c179e"
             ],
             [
              0.4444444444444444,
              "#bd3786"
             ],
             [
              0.5555555555555556,
              "#d8576b"
             ],
             [
              0.6666666666666666,
              "#ed7953"
             ],
             [
              0.7777777777777778,
              "#fb9f3a"
             ],
             [
              0.8888888888888888,
              "#fdca26"
             ],
             [
              1,
              "#f0f921"
             ]
            ],
            "type": "histogram2d"
           }
          ],
          "histogram2dcontour": [
           {
            "colorbar": {
             "outlinewidth": 0,
             "ticks": ""
            },
            "colorscale": [
             [
              0,
              "#0d0887"
             ],
             [
              0.1111111111111111,
              "#46039f"
             ],
             [
              0.2222222222222222,
              "#7201a8"
             ],
             [
              0.3333333333333333,
              "#9c179e"
             ],
             [
              0.4444444444444444,
              "#bd3786"
             ],
             [
              0.5555555555555556,
              "#d8576b"
             ],
             [
              0.6666666666666666,
              "#ed7953"
             ],
             [
              0.7777777777777778,
              "#fb9f3a"
             ],
             [
              0.8888888888888888,
              "#fdca26"
             ],
             [
              1,
              "#f0f921"
             ]
            ],
            "type": "histogram2dcontour"
           }
          ],
          "mesh3d": [
           {
            "colorbar": {
             "outlinewidth": 0,
             "ticks": ""
            },
            "type": "mesh3d"
           }
          ],
          "parcoords": [
           {
            "line": {
             "colorbar": {
              "outlinewidth": 0,
              "ticks": ""
             }
            },
            "type": "parcoords"
           }
          ],
          "pie": [
           {
            "automargin": true,
            "type": "pie"
           }
          ],
          "scatter": [
           {
            "marker": {
             "colorbar": {
              "outlinewidth": 0,
              "ticks": ""
             }
            },
            "type": "scatter"
           }
          ],
          "scatter3d": [
           {
            "line": {
             "colorbar": {
              "outlinewidth": 0,
              "ticks": ""
             }
            },
            "marker": {
             "colorbar": {
              "outlinewidth": 0,
              "ticks": ""
             }
            },
            "type": "scatter3d"
           }
          ],
          "scattercarpet": [
           {
            "marker": {
             "colorbar": {
              "outlinewidth": 0,
              "ticks": ""
             }
            },
            "type": "scattercarpet"
           }
          ],
          "scattergeo": [
           {
            "marker": {
             "colorbar": {
              "outlinewidth": 0,
              "ticks": ""
             }
            },
            "type": "scattergeo"
           }
          ],
          "scattergl": [
           {
            "marker": {
             "colorbar": {
              "outlinewidth": 0,
              "ticks": ""
             }
            },
            "type": "scattergl"
           }
          ],
          "scattermapbox": [
           {
            "marker": {
             "colorbar": {
              "outlinewidth": 0,
              "ticks": ""
             }
            },
            "type": "scattermapbox"
           }
          ],
          "scatterpolar": [
           {
            "marker": {
             "colorbar": {
              "outlinewidth": 0,
              "ticks": ""
             }
            },
            "type": "scatterpolar"
           }
          ],
          "scatterpolargl": [
           {
            "marker": {
             "colorbar": {
              "outlinewidth": 0,
              "ticks": ""
             }
            },
            "type": "scatterpolargl"
           }
          ],
          "scatterternary": [
           {
            "marker": {
             "colorbar": {
              "outlinewidth": 0,
              "ticks": ""
             }
            },
            "type": "scatterternary"
           }
          ],
          "surface": [
           {
            "colorbar": {
             "outlinewidth": 0,
             "ticks": ""
            },
            "colorscale": [
             [
              0,
              "#0d0887"
             ],
             [
              0.1111111111111111,
              "#46039f"
             ],
             [
              0.2222222222222222,
              "#7201a8"
             ],
             [
              0.3333333333333333,
              "#9c179e"
             ],
             [
              0.4444444444444444,
              "#bd3786"
             ],
             [
              0.5555555555555556,
              "#d8576b"
             ],
             [
              0.6666666666666666,
              "#ed7953"
             ],
             [
              0.7777777777777778,
              "#fb9f3a"
             ],
             [
              0.8888888888888888,
              "#fdca26"
             ],
             [
              1,
              "#f0f921"
             ]
            ],
            "type": "surface"
           }
          ],
          "table": [
           {
            "cells": {
             "fill": {
              "color": "#EBF0F8"
             },
             "line": {
              "color": "white"
             }
            },
            "header": {
             "fill": {
              "color": "#C8D4E3"
             },
             "line": {
              "color": "white"
             }
            },
            "type": "table"
           }
          ]
         },
         "layout": {
          "annotationdefaults": {
           "arrowcolor": "#2a3f5f",
           "arrowhead": 0,
           "arrowwidth": 1
          },
          "coloraxis": {
           "colorbar": {
            "outlinewidth": 0,
            "ticks": ""
           }
          },
          "colorscale": {
           "diverging": [
            [
             0,
             "#8e0152"
            ],
            [
             0.1,
             "#c51b7d"
            ],
            [
             0.2,
             "#de77ae"
            ],
            [
             0.3,
             "#f1b6da"
            ],
            [
             0.4,
             "#fde0ef"
            ],
            [
             0.5,
             "#f7f7f7"
            ],
            [
             0.6,
             "#e6f5d0"
            ],
            [
             0.7,
             "#b8e186"
            ],
            [
             0.8,
             "#7fbc41"
            ],
            [
             0.9,
             "#4d9221"
            ],
            [
             1,
             "#276419"
            ]
           ],
           "sequential": [
            [
             0,
             "#0d0887"
            ],
            [
             0.1111111111111111,
             "#46039f"
            ],
            [
             0.2222222222222222,
             "#7201a8"
            ],
            [
             0.3333333333333333,
             "#9c179e"
            ],
            [
             0.4444444444444444,
             "#bd3786"
            ],
            [
             0.5555555555555556,
             "#d8576b"
            ],
            [
             0.6666666666666666,
             "#ed7953"
            ],
            [
             0.7777777777777778,
             "#fb9f3a"
            ],
            [
             0.8888888888888888,
             "#fdca26"
            ],
            [
             1,
             "#f0f921"
            ]
           ],
           "sequentialminus": [
            [
             0,
             "#0d0887"
            ],
            [
             0.1111111111111111,
             "#46039f"
            ],
            [
             0.2222222222222222,
             "#7201a8"
            ],
            [
             0.3333333333333333,
             "#9c179e"
            ],
            [
             0.4444444444444444,
             "#bd3786"
            ],
            [
             0.5555555555555556,
             "#d8576b"
            ],
            [
             0.6666666666666666,
             "#ed7953"
            ],
            [
             0.7777777777777778,
             "#fb9f3a"
            ],
            [
             0.8888888888888888,
             "#fdca26"
            ],
            [
             1,
             "#f0f921"
            ]
           ]
          },
          "colorway": [
           "#636efa",
           "#EF553B",
           "#00cc96",
           "#ab63fa",
           "#FFA15A",
           "#19d3f3",
           "#FF6692",
           "#B6E880",
           "#FF97FF",
           "#FECB52"
          ],
          "font": {
           "color": "#2a3f5f"
          },
          "geo": {
           "bgcolor": "white",
           "lakecolor": "white",
           "landcolor": "#E5ECF6",
           "showlakes": true,
           "showland": true,
           "subunitcolor": "white"
          },
          "hoverlabel": {
           "align": "left"
          },
          "hovermode": "closest",
          "mapbox": {
           "style": "light"
          },
          "paper_bgcolor": "white",
          "plot_bgcolor": "#E5ECF6",
          "polar": {
           "angularaxis": {
            "gridcolor": "white",
            "linecolor": "white",
            "ticks": ""
           },
           "bgcolor": "#E5ECF6",
           "radialaxis": {
            "gridcolor": "white",
            "linecolor": "white",
            "ticks": ""
           }
          },
          "scene": {
           "xaxis": {
            "backgroundcolor": "#E5ECF6",
            "gridcolor": "white",
            "gridwidth": 2,
            "linecolor": "white",
            "showbackground": true,
            "ticks": "",
            "zerolinecolor": "white"
           },
           "yaxis": {
            "backgroundcolor": "#E5ECF6",
            "gridcolor": "white",
            "gridwidth": 2,
            "linecolor": "white",
            "showbackground": true,
            "ticks": "",
            "zerolinecolor": "white"
           },
           "zaxis": {
            "backgroundcolor": "#E5ECF6",
            "gridcolor": "white",
            "gridwidth": 2,
            "linecolor": "white",
            "showbackground": true,
            "ticks": "",
            "zerolinecolor": "white"
           }
          },
          "shapedefaults": {
           "line": {
            "color": "#2a3f5f"
           }
          },
          "ternary": {
           "aaxis": {
            "gridcolor": "white",
            "linecolor": "white",
            "ticks": ""
           },
           "baxis": {
            "gridcolor": "white",
            "linecolor": "white",
            "ticks": ""
           },
           "bgcolor": "#E5ECF6",
           "caxis": {
            "gridcolor": "white",
            "linecolor": "white",
            "ticks": ""
           }
          },
          "title": {
           "x": 0.05
          },
          "xaxis": {
           "automargin": true,
           "gridcolor": "white",
           "linecolor": "white",
           "ticks": "",
           "title": {
            "standoff": 15
           },
           "zerolinecolor": "white",
           "zerolinewidth": 2
          },
          "yaxis": {
           "automargin": true,
           "gridcolor": "white",
           "linecolor": "white",
           "ticks": "",
           "title": {
            "standoff": 15
           },
           "zerolinecolor": "white",
           "zerolinewidth": 2
          }
         }
        },
        "title": {
         "text": "Effectiveness of fundrising"
        }
       }
      },
      "text/html": [
       "<div>\n",
       "        \n",
       "        \n",
       "            <div id=\"c5182c7b-0a79-48d6-9996-b9f0222411f5\" class=\"plotly-graph-div\" style=\"height:525px; width:100%;\"></div>\n",
       "            <script type=\"text/javascript\">\n",
       "                require([\"plotly\"], function(Plotly) {\n",
       "                    window.PLOTLYENV=window.PLOTLYENV || {};\n",
       "                    \n",
       "                if (document.getElementById(\"c5182c7b-0a79-48d6-9996-b9f0222411f5\")) {\n",
       "                    Plotly.newPlot(\n",
       "                        'c5182c7b-0a79-48d6-9996-b9f0222411f5',\n",
       "                        [{\"coloraxis\": \"coloraxis\", \"customdata\": [[2.0], [1934.0], [8631.0], [1945.0], [125.0], [497.0], [2.0], [8806.0], [284.0], [2460.0], [880.0], [34836.0], [2230.0], [10.0], [134.0], [21995.0], [128.0], [1561.0], [1.0], [496.0], [13521.0], [1639.0], [39875.0], [2409.0], [4374.0], [1.0], [7310.0], [3618.0], [6557.0], [11237.0], [6214.0], [993.0], [190.0], [4167.0], [75825.0], [1419.0], [5774.0], [1486.0], [8792.0], [422.0], [3682.0], [3821.0], [1320.0], [6639.0], [1.0], [5741.0], [348.0], [964.0], [3483.0], [1870.0], [8.0], [717.0], [11781.0], [10136.0], [26857.0], [8167.0], [193.0], [11903.0], [22233.0], [160441.0], [68.0], [6735.0], [16.0], [7396.0], [3269.0], [5415.0], [554.0], [75.0], [378.0], [160.0], [223.0], [19580.0], [5219.0], [180.0], [3073.0], [2690.0], [5749.0], [1703.0], [20601.0], [963.0], [6093.0], [4.0], [10843.0], [2.0], [2313.0], [784.0], [4034.0]], \"geo\": \"geo\", \"hoverlabel\": {\"namelength\": 0}, \"hovertemplate\": \"<b>%{hovertext}</b><br><br># of projects=%{customdata[0]}<br>Country code=%{location}<br>Avg share gathered, %=%{z}\", \"hovertext\": [\"Afghanistan\", \"Albania\", \"Armenia\", \"Azerbaijan\", \"Belize\", \"Benin\", \"Bhutan\", \"Bolivia\", \"Brazil\", \"Burkina Faso\", \"Burundi\", \"Cambodia\", \"Cameroon\", \"Chile\", \"China\", \"Colombia\", \"Congo\", \"Costa Rica\", \"Cote D'Ivoire\", \"Dominican Republic\", \"Ecuador\", \"Egypt\", \"El Salvador\", \"Georgia\", \"Ghana\", \"Guam\", \"Guatemala\", \"Haiti\", \"Honduras\", \"India\", \"Indonesia\", \"Iraq\", \"Israel\", \"Jordan\", \"Kenya\", \"Kosovo\", \"Kyrgyzstan\", \"Lao People's Democratic Republic\", \"Lebanon\", \"Lesotho\", \"Liberia\", \"Madagascar\", \"Malawi\", \"Mali\", \"Mauritania\", \"Mexico\", \"Moldova\", \"Mongolia\", \"Mozambique\", \"Myanmar (Burma)\", \"Namibia\", \"Nepal\", \"Nicaragua\", \"Nigeria\", \"Pakistan\", \"Palestine\", \"Panama\", \"Paraguay\", \"Peru\", \"Philippines\", \"Puerto Rico\", \"Rwanda\", \"Saint Vincent and the Grenadines\", \"Samoa\", \"Senegal\", \"Sierra Leone\", \"Solomon Islands\", \"Somalia\", \"South Africa\", \"South Sudan\", \"Suriname\", \"Tajikistan\", \"Tanzania\", \"Thailand\", \"The Democratic Republic of the Congo\", \"Timor-Leste\", \"Togo\", \"Turkey\", \"Uganda\", \"Ukraine\", \"United States\", \"Vanuatu\", \"Vietnam\", \"Virgin Islands\", \"Yemen\", \"Zambia\", \"Zimbabwe\"], \"locations\": [\"AFG\", \"ALB\", \"ARM\", \"AZE\", \"BLZ\", \"BEN\", \"BTN\", \"BOL\", \"BRA\", \"BFA\", \"BDI\", \"KHM\", \"CMR\", \"CHL\", \"CHN\", \"COL\", \"COG\", \"CRI\", \"CIV\", \"DOM\", \"ECU\", \"EGY\", \"SLV\", \"GEO\", \"GHA\", \"GUM\", \"GTM\", \"HTI\", \"HND\", \"IND\", \"IDN\", \"IRQ\", \"ISR\", \"JOR\", \"KEN\", \"SRB\", \"KGZ\", \"LAO\", \"LBN\", \"LSO\", \"LBR\", \"MDG\", \"MWI\", \"MLI\", \"MRT\", \"MEX\", \"MDA\", \"MNG\", \"MOZ\", \"MMR\", \"NAM\", \"NPL\", \"NIC\", \"NGA\", \"PAK\", \"PSE\", \"PAN\", \"PRY\", \"PER\", \"PHL\", \"PRI\", \"RWA\", \"VCT\", \"WSM\", \"SEN\", \"SLE\", \"SLB\", \"SOM\", \"ZAF\", \"SSD\", \"SUR\", \"TJK\", \"TZA\", \"THA\", \"COD\", \"TLS\", \"TGO\", \"TUR\", \"UGA\", \"UKR\", \"USA\", \"VUT\", \"VNM\", \"VIR\", \"YEM\", \"ZMB\", \"ZWE\"], \"name\": \"\", \"type\": \"choropleth\", \"z\": [100.0, 94.44194254965072, 88.45747227615101, 93.24691524584071, 100.0, 99.82001558744967, 78.125, 93.03306056434634, 99.85635703275122, 98.27641647599643, 96.98299032736543, 97.3820415513614, 95.54286817360467, 90.70605908863294, 99.34235074626865, 90.45468545752075, 100.0, 95.1963478375967, 100.0, 98.15089298670974, 97.60082095592243, 97.98405832126683, 90.84044092481159, 95.6868544110676, 98.45309938618554, 9.186046511627907, 96.54305198889456, 98.74373731733813, 95.9294601107752, 98.60688795212918, 94.74962205266843, 99.33726562125354, 100.0, 96.09480846393899, 95.77443842573513, 93.34801284975612, 95.89549852549962, 99.85842171039982, 96.10645453165291, 100.0, 97.8466856103312, 99.16766676889056, 98.3209182796855, 96.35994339177425, 100.0, 97.1751251218191, 96.83821734893309, 97.51333132978567, 94.08228129183722, 89.59836674591887, 100.0, 100.0, 95.00941654245169, 93.2260148917166, 95.73067656534813, 93.33871447239319, 100.0, 98.75424636346841, 98.71120156584786, 99.11397689056837, 78.86099041889484, 95.88046083464027, 100.0, 94.69927703156647, 95.76728969576106, 95.86731637175912, 96.89787585212004, 100.0, 100.0, 100.0, 98.49736427219246, 94.32132192808692, 97.4176779272053, 99.5756172839506, 97.8163588946146, 96.22832580987786, 98.03352535832589, 99.9657467214719, 94.4102116250795, 97.34658527076236, 70.14351087989999, 100.0, 95.03576423060522, 0.0, 97.13245475956488, 96.0884562444636, 98.73269854173562]}],\n",
       "                        {\"coloraxis\": {\"colorbar\": {\"title\": {\"text\": \"Avg share gathered, %\"}}, \"colorscale\": [[0.0, \"#0d0887\"], [0.1111111111111111, \"#46039f\"], [0.2222222222222222, \"#7201a8\"], [0.3333333333333333, \"#9c179e\"], [0.4444444444444444, \"#bd3786\"], [0.5555555555555556, \"#d8576b\"], [0.6666666666666666, \"#ed7953\"], [0.7777777777777778, \"#fb9f3a\"], [0.8888888888888888, \"#fdca26\"], [1.0, \"#f0f921\"]]}, \"geo\": {\"center\": {}, \"domain\": {\"x\": [0.0, 1.0], \"y\": [0.0, 1.0]}, \"projection\": {\"type\": \"robinson\"}}, \"legend\": {\"tracegroupgap\": 0}, \"template\": {\"data\": {\"bar\": [{\"error_x\": {\"color\": \"#2a3f5f\"}, \"error_y\": {\"color\": \"#2a3f5f\"}, \"marker\": {\"line\": {\"color\": \"#E5ECF6\", \"width\": 0.5}}, \"type\": \"bar\"}], \"barpolar\": [{\"marker\": {\"line\": {\"color\": \"#E5ECF6\", \"width\": 0.5}}, \"type\": \"barpolar\"}], \"carpet\": [{\"aaxis\": {\"endlinecolor\": \"#2a3f5f\", \"gridcolor\": \"white\", \"linecolor\": \"white\", \"minorgridcolor\": \"white\", \"startlinecolor\": \"#2a3f5f\"}, \"baxis\": {\"endlinecolor\": \"#2a3f5f\", \"gridcolor\": \"white\", \"linecolor\": \"white\", \"minorgridcolor\": \"white\", \"startlinecolor\": \"#2a3f5f\"}, \"type\": \"carpet\"}], \"choropleth\": [{\"colorbar\": {\"outlinewidth\": 0, \"ticks\": \"\"}, \"type\": \"choropleth\"}], \"contour\": [{\"colorbar\": {\"outlinewidth\": 0, \"ticks\": \"\"}, \"colorscale\": [[0.0, \"#0d0887\"], [0.1111111111111111, \"#46039f\"], [0.2222222222222222, \"#7201a8\"], [0.3333333333333333, \"#9c179e\"], [0.4444444444444444, \"#bd3786\"], [0.5555555555555556, \"#d8576b\"], [0.6666666666666666, \"#ed7953\"], [0.7777777777777778, \"#fb9f3a\"], [0.8888888888888888, \"#fdca26\"], [1.0, \"#f0f921\"]], \"type\": \"contour\"}], \"contourcarpet\": [{\"colorbar\": {\"outlinewidth\": 0, \"ticks\": \"\"}, \"type\": \"contourcarpet\"}], \"heatmap\": [{\"colorbar\": {\"outlinewidth\": 0, \"ticks\": \"\"}, \"colorscale\": [[0.0, \"#0d0887\"], [0.1111111111111111, \"#46039f\"], [0.2222222222222222, \"#7201a8\"], [0.3333333333333333, \"#9c179e\"], [0.4444444444444444, \"#bd3786\"], [0.5555555555555556, \"#d8576b\"], [0.6666666666666666, \"#ed7953\"], [0.7777777777777778, \"#fb9f3a\"], [0.8888888888888888, \"#fdca26\"], [1.0, \"#f0f921\"]], \"type\": \"heatmap\"}], \"heatmapgl\": [{\"colorbar\": {\"outlinewidth\": 0, \"ticks\": \"\"}, \"colorscale\": [[0.0, \"#0d0887\"], [0.1111111111111111, \"#46039f\"], [0.2222222222222222, \"#7201a8\"], [0.3333333333333333, \"#9c179e\"], [0.4444444444444444, \"#bd3786\"], [0.5555555555555556, \"#d8576b\"], [0.6666666666666666, \"#ed7953\"], [0.7777777777777778, \"#fb9f3a\"], [0.8888888888888888, \"#fdca26\"], [1.0, \"#f0f921\"]], \"type\": \"heatmapgl\"}], \"histogram\": [{\"marker\": {\"colorbar\": {\"outlinewidth\": 0, \"ticks\": \"\"}}, \"type\": \"histogram\"}], \"histogram2d\": [{\"colorbar\": {\"outlinewidth\": 0, \"ticks\": \"\"}, \"colorscale\": [[0.0, \"#0d0887\"], [0.1111111111111111, \"#46039f\"], [0.2222222222222222, \"#7201a8\"], [0.3333333333333333, \"#9c179e\"], [0.4444444444444444, \"#bd3786\"], [0.5555555555555556, \"#d8576b\"], [0.6666666666666666, \"#ed7953\"], [0.7777777777777778, \"#fb9f3a\"], [0.8888888888888888, \"#fdca26\"], [1.0, \"#f0f921\"]], \"type\": \"histogram2d\"}], \"histogram2dcontour\": [{\"colorbar\": {\"outlinewidth\": 0, \"ticks\": \"\"}, \"colorscale\": [[0.0, \"#0d0887\"], [0.1111111111111111, \"#46039f\"], [0.2222222222222222, \"#7201a8\"], [0.3333333333333333, \"#9c179e\"], [0.4444444444444444, \"#bd3786\"], [0.5555555555555556, \"#d8576b\"], [0.6666666666666666, \"#ed7953\"], [0.7777777777777778, \"#fb9f3a\"], [0.8888888888888888, \"#fdca26\"], [1.0, \"#f0f921\"]], \"type\": \"histogram2dcontour\"}], \"mesh3d\": [{\"colorbar\": {\"outlinewidth\": 0, \"ticks\": \"\"}, \"type\": \"mesh3d\"}], \"parcoords\": [{\"line\": {\"colorbar\": {\"outlinewidth\": 0, \"ticks\": \"\"}}, \"type\": \"parcoords\"}], \"pie\": [{\"automargin\": true, \"type\": \"pie\"}], \"scatter\": [{\"marker\": {\"colorbar\": {\"outlinewidth\": 0, \"ticks\": \"\"}}, \"type\": \"scatter\"}], \"scatter3d\": [{\"line\": {\"colorbar\": {\"outlinewidth\": 0, \"ticks\": \"\"}}, \"marker\": {\"colorbar\": {\"outlinewidth\": 0, \"ticks\": \"\"}}, \"type\": \"scatter3d\"}], \"scattercarpet\": [{\"marker\": {\"colorbar\": {\"outlinewidth\": 0, \"ticks\": \"\"}}, \"type\": \"scattercarpet\"}], \"scattergeo\": [{\"marker\": {\"colorbar\": {\"outlinewidth\": 0, \"ticks\": \"\"}}, \"type\": \"scattergeo\"}], \"scattergl\": [{\"marker\": {\"colorbar\": {\"outlinewidth\": 0, \"ticks\": \"\"}}, \"type\": \"scattergl\"}], \"scattermapbox\": [{\"marker\": {\"colorbar\": {\"outlinewidth\": 0, \"ticks\": \"\"}}, \"type\": \"scattermapbox\"}], \"scatterpolar\": [{\"marker\": {\"colorbar\": {\"outlinewidth\": 0, \"ticks\": \"\"}}, \"type\": \"scatterpolar\"}], \"scatterpolargl\": [{\"marker\": {\"colorbar\": {\"outlinewidth\": 0, \"ticks\": \"\"}}, \"type\": \"scatterpolargl\"}], \"scatterternary\": [{\"marker\": {\"colorbar\": {\"outlinewidth\": 0, \"ticks\": \"\"}}, \"type\": \"scatterternary\"}], \"surface\": [{\"colorbar\": {\"outlinewidth\": 0, \"ticks\": \"\"}, \"colorscale\": [[0.0, \"#0d0887\"], [0.1111111111111111, \"#46039f\"], [0.2222222222222222, \"#7201a8\"], [0.3333333333333333, \"#9c179e\"], [0.4444444444444444, \"#bd3786\"], [0.5555555555555556, \"#d8576b\"], [0.6666666666666666, \"#ed7953\"], [0.7777777777777778, \"#fb9f3a\"], [0.8888888888888888, \"#fdca26\"], [1.0, \"#f0f921\"]], \"type\": \"surface\"}], \"table\": [{\"cells\": {\"fill\": {\"color\": \"#EBF0F8\"}, \"line\": {\"color\": \"white\"}}, \"header\": {\"fill\": {\"color\": \"#C8D4E3\"}, \"line\": {\"color\": \"white\"}}, \"type\": \"table\"}]}, \"layout\": {\"annotationdefaults\": {\"arrowcolor\": \"#2a3f5f\", \"arrowhead\": 0, \"arrowwidth\": 1}, \"coloraxis\": {\"colorbar\": {\"outlinewidth\": 0, \"ticks\": \"\"}}, \"colorscale\": {\"diverging\": [[0, \"#8e0152\"], [0.1, \"#c51b7d\"], [0.2, \"#de77ae\"], [0.3, \"#f1b6da\"], [0.4, \"#fde0ef\"], [0.5, \"#f7f7f7\"], [0.6, \"#e6f5d0\"], [0.7, \"#b8e186\"], [0.8, \"#7fbc41\"], [0.9, \"#4d9221\"], [1, \"#276419\"]], \"sequential\": [[0.0, \"#0d0887\"], [0.1111111111111111, \"#46039f\"], [0.2222222222222222, \"#7201a8\"], [0.3333333333333333, \"#9c179e\"], [0.4444444444444444, \"#bd3786\"], [0.5555555555555556, \"#d8576b\"], [0.6666666666666666, \"#ed7953\"], [0.7777777777777778, \"#fb9f3a\"], [0.8888888888888888, \"#fdca26\"], [1.0, \"#f0f921\"]], \"sequentialminus\": [[0.0, \"#0d0887\"], [0.1111111111111111, \"#46039f\"], [0.2222222222222222, \"#7201a8\"], [0.3333333333333333, \"#9c179e\"], [0.4444444444444444, \"#bd3786\"], [0.5555555555555556, \"#d8576b\"], [0.6666666666666666, \"#ed7953\"], [0.7777777777777778, \"#fb9f3a\"], [0.8888888888888888, \"#fdca26\"], [1.0, \"#f0f921\"]]}, \"colorway\": [\"#636efa\", \"#EF553B\", \"#00cc96\", \"#ab63fa\", \"#FFA15A\", \"#19d3f3\", \"#FF6692\", \"#B6E880\", \"#FF97FF\", \"#FECB52\"], \"font\": {\"color\": \"#2a3f5f\"}, \"geo\": {\"bgcolor\": \"white\", \"lakecolor\": \"white\", \"landcolor\": \"#E5ECF6\", \"showlakes\": true, \"showland\": true, \"subunitcolor\": \"white\"}, \"hoverlabel\": {\"align\": \"left\"}, \"hovermode\": \"closest\", \"mapbox\": {\"style\": \"light\"}, \"paper_bgcolor\": \"white\", \"plot_bgcolor\": \"#E5ECF6\", \"polar\": {\"angularaxis\": {\"gridcolor\": \"white\", \"linecolor\": \"white\", \"ticks\": \"\"}, \"bgcolor\": \"#E5ECF6\", \"radialaxis\": {\"gridcolor\": \"white\", \"linecolor\": \"white\", \"ticks\": \"\"}}, \"scene\": {\"xaxis\": {\"backgroundcolor\": \"#E5ECF6\", \"gridcolor\": \"white\", \"gridwidth\": 2, \"linecolor\": \"white\", \"showbackground\": true, \"ticks\": \"\", \"zerolinecolor\": \"white\"}, \"yaxis\": {\"backgroundcolor\": \"#E5ECF6\", \"gridcolor\": \"white\", \"gridwidth\": 2, \"linecolor\": \"white\", \"showbackground\": true, \"ticks\": \"\", \"zerolinecolor\": \"white\"}, \"zaxis\": {\"backgroundcolor\": \"#E5ECF6\", \"gridcolor\": \"white\", \"gridwidth\": 2, \"linecolor\": \"white\", \"showbackground\": true, \"ticks\": \"\", \"zerolinecolor\": \"white\"}}, \"shapedefaults\": {\"line\": {\"color\": \"#2a3f5f\"}}, \"ternary\": {\"aaxis\": {\"gridcolor\": \"white\", \"linecolor\": \"white\", \"ticks\": \"\"}, \"baxis\": {\"gridcolor\": \"white\", \"linecolor\": \"white\", \"ticks\": \"\"}, \"bgcolor\": \"#E5ECF6\", \"caxis\": {\"gridcolor\": \"white\", \"linecolor\": \"white\", \"ticks\": \"\"}}, \"title\": {\"x\": 0.05}, \"xaxis\": {\"automargin\": true, \"gridcolor\": \"white\", \"linecolor\": \"white\", \"ticks\": \"\", \"title\": {\"standoff\": 15}, \"zerolinecolor\": \"white\", \"zerolinewidth\": 2}, \"yaxis\": {\"automargin\": true, \"gridcolor\": \"white\", \"linecolor\": \"white\", \"ticks\": \"\", \"title\": {\"standoff\": 15}, \"zerolinecolor\": \"white\", \"zerolinewidth\": 2}}}, \"title\": {\"text\": \"Effectiveness of fundrising\"}},\n",
       "                        {\"responsive\": true}\n",
       "                    ).then(function(){\n",
       "                            \n",
       "var gd = document.getElementById('c5182c7b-0a79-48d6-9996-b9f0222411f5');\n",
       "var x = new MutationObserver(function (mutations, observer) {{\n",
       "        var display = window.getComputedStyle(gd).display;\n",
       "        if (!display || display === 'none') {{\n",
       "            console.log([gd, 'removed!']);\n",
       "            Plotly.purge(gd);\n",
       "            observer.disconnect();\n",
       "        }}\n",
       "}});\n",
       "\n",
       "// Listen for the removal of the full notebook cells\n",
       "var notebookContainer = gd.closest('#notebook-container');\n",
       "if (notebookContainer) {{\n",
       "    x.observe(notebookContainer, {childList: true});\n",
       "}}\n",
       "\n",
       "// Listen for the clearing of the current output cell\n",
       "var outputEl = gd.closest('.output');\n",
       "if (outputEl) {{\n",
       "    x.observe(outputEl, {childList: true});\n",
       "}}\n",
       "\n",
       "                        })\n",
       "                };\n",
       "                });\n",
       "            </script>\n",
       "        </div>"
      ]
     },
     "metadata": {},
     "output_type": "display_data"
    }
   ],
   "source": [
    "fig = px.choropleth(countries, locations=\"Country code\",\n",
    "                    color='Avg share gathered, %',\n",
    "                    hover_name=\"Country\",\n",
    "                    hover_data=[\"# of projects\"],\n",
    "                    title='Effectiveness of fundrising', \n",
    "                    color_continuous_scale=px.colors.sequential.Plasma,\n",
    "                    projection='robinson'\n",
    "    )\n",
    "fig.show()"
   ]
  },
  {
   "cell_type": "markdown",
   "metadata": {},
   "source": [
    "Definitely USA: only 70% are raised on average. Which activities are so unsuccessful in USA?"
   ]
  },
  {
   "cell_type": "code",
   "execution_count": 59,
   "metadata": {},
   "outputs": [],
   "source": [
    "def success_pivot(variable):\n",
    "    table = pd.pivot_table(usa, values='sector', index=variable, columns='success', aggfunc='count', margins=True)\n",
    "    table = table.loc[table['All'] >= 10]\n",
    "    table['uns_row_%'] = round((table['unsuccessful']/(table['All']))*100, 1)\n",
    "    table['ps_row_%'] = round((table['partly successful']/(table['All']))*100, 1)\n",
    "    table['ms_row_%'] = round((table['mostly successful']/(table['All']))*100, 1)\n",
    "    table['succ_row_%'] = round((table['successful']/(table['All']))*100, 1)\n",
    "    return table.sort_values(by='succ_row_%', ascending=True).head(10)"
   ]
  },
  {
   "cell_type": "code",
   "execution_count": 60,
   "metadata": {},
   "outputs": [
    {
     "data": {
      "text/html": [
       "<div>\n",
       "<style scoped>\n",
       "    .dataframe tbody tr th:only-of-type {\n",
       "        vertical-align: middle;\n",
       "    }\n",
       "\n",
       "    .dataframe tbody tr th {\n",
       "        vertical-align: top;\n",
       "    }\n",
       "\n",
       "    .dataframe thead th {\n",
       "        text-align: right;\n",
       "    }\n",
       "</style>\n",
       "<table border=\"1\" class=\"dataframe\">\n",
       "  <thead>\n",
       "    <tr style=\"text-align: right;\">\n",
       "      <th>success</th>\n",
       "      <th>unsuccessful</th>\n",
       "      <th>partly successful</th>\n",
       "      <th>mostly successful</th>\n",
       "      <th>successful</th>\n",
       "      <th>All</th>\n",
       "      <th>uns_row_%</th>\n",
       "      <th>ps_row_%</th>\n",
       "      <th>ms_row_%</th>\n",
       "      <th>succ_row_%</th>\n",
       "    </tr>\n",
       "    <tr>\n",
       "      <th>activity</th>\n",
       "      <th></th>\n",
       "      <th></th>\n",
       "      <th></th>\n",
       "      <th></th>\n",
       "      <th></th>\n",
       "      <th></th>\n",
       "      <th></th>\n",
       "      <th></th>\n",
       "      <th></th>\n",
       "    </tr>\n",
       "  </thead>\n",
       "  <tbody>\n",
       "    <tr>\n",
       "      <td>Technology</td>\n",
       "      <td>72.0</td>\n",
       "      <td>26.0</td>\n",
       "      <td>10.0</td>\n",
       "      <td>64.0</td>\n",
       "      <td>172</td>\n",
       "      <td>41.9</td>\n",
       "      <td>15.1</td>\n",
       "      <td>5.8</td>\n",
       "      <td>37.2</td>\n",
       "    </tr>\n",
       "    <tr>\n",
       "      <td>Entertainment</td>\n",
       "      <td>77.0</td>\n",
       "      <td>14.0</td>\n",
       "      <td>4.0</td>\n",
       "      <td>79.0</td>\n",
       "      <td>174</td>\n",
       "      <td>44.3</td>\n",
       "      <td>8.0</td>\n",
       "      <td>2.3</td>\n",
       "      <td>45.4</td>\n",
       "    </tr>\n",
       "    <tr>\n",
       "      <td>Property</td>\n",
       "      <td>13.0</td>\n",
       "      <td>2.0</td>\n",
       "      <td>3.0</td>\n",
       "      <td>15.0</td>\n",
       "      <td>33</td>\n",
       "      <td>39.4</td>\n",
       "      <td>6.1</td>\n",
       "      <td>9.1</td>\n",
       "      <td>45.5</td>\n",
       "    </tr>\n",
       "    <tr>\n",
       "      <td>Retail</td>\n",
       "      <td>51.0</td>\n",
       "      <td>24.0</td>\n",
       "      <td>18.0</td>\n",
       "      <td>80.0</td>\n",
       "      <td>173</td>\n",
       "      <td>29.5</td>\n",
       "      <td>13.9</td>\n",
       "      <td>10.4</td>\n",
       "      <td>46.2</td>\n",
       "    </tr>\n",
       "    <tr>\n",
       "      <td>Grocery Store</td>\n",
       "      <td>7.0</td>\n",
       "      <td>7.0</td>\n",
       "      <td>1.0</td>\n",
       "      <td>15.0</td>\n",
       "      <td>30</td>\n",
       "      <td>23.3</td>\n",
       "      <td>23.3</td>\n",
       "      <td>3.3</td>\n",
       "      <td>50.0</td>\n",
       "    </tr>\n",
       "    <tr>\n",
       "      <td>Communications</td>\n",
       "      <td>29.0</td>\n",
       "      <td>8.0</td>\n",
       "      <td>4.0</td>\n",
       "      <td>45.0</td>\n",
       "      <td>86</td>\n",
       "      <td>33.7</td>\n",
       "      <td>9.3</td>\n",
       "      <td>4.7</td>\n",
       "      <td>52.3</td>\n",
       "    </tr>\n",
       "    <tr>\n",
       "      <td>Home Appliances</td>\n",
       "      <td>NaN</td>\n",
       "      <td>2.0</td>\n",
       "      <td>4.0</td>\n",
       "      <td>7.0</td>\n",
       "      <td>13</td>\n",
       "      <td>NaN</td>\n",
       "      <td>15.4</td>\n",
       "      <td>30.8</td>\n",
       "      <td>53.8</td>\n",
       "    </tr>\n",
       "    <tr>\n",
       "      <td>Services</td>\n",
       "      <td>371.0</td>\n",
       "      <td>124.0</td>\n",
       "      <td>75.0</td>\n",
       "      <td>753.0</td>\n",
       "      <td>1323</td>\n",
       "      <td>28.0</td>\n",
       "      <td>9.4</td>\n",
       "      <td>5.7</td>\n",
       "      <td>56.9</td>\n",
       "    </tr>\n",
       "    <tr>\n",
       "      <td>Transportation</td>\n",
       "      <td>37.0</td>\n",
       "      <td>6.0</td>\n",
       "      <td>7.0</td>\n",
       "      <td>68.0</td>\n",
       "      <td>118</td>\n",
       "      <td>31.4</td>\n",
       "      <td>5.1</td>\n",
       "      <td>5.9</td>\n",
       "      <td>57.6</td>\n",
       "    </tr>\n",
       "    <tr>\n",
       "      <td>Cleaning Services</td>\n",
       "      <td>31.0</td>\n",
       "      <td>11.0</td>\n",
       "      <td>4.0</td>\n",
       "      <td>69.0</td>\n",
       "      <td>115</td>\n",
       "      <td>27.0</td>\n",
       "      <td>9.6</td>\n",
       "      <td>3.5</td>\n",
       "      <td>60.0</td>\n",
       "    </tr>\n",
       "  </tbody>\n",
       "</table>\n",
       "</div>"
      ],
      "text/plain": [
       "success            unsuccessful  partly successful  mostly successful  \\\n",
       "activity                                                                \n",
       "Technology                 72.0               26.0               10.0   \n",
       "Entertainment              77.0               14.0                4.0   \n",
       "Property                   13.0                2.0                3.0   \n",
       "Retail                     51.0               24.0               18.0   \n",
       "Grocery Store               7.0                7.0                1.0   \n",
       "Communications             29.0                8.0                4.0   \n",
       "Home Appliances             NaN                2.0                4.0   \n",
       "Services                  371.0              124.0               75.0   \n",
       "Transportation             37.0                6.0                7.0   \n",
       "Cleaning Services          31.0               11.0                4.0   \n",
       "\n",
       "success            successful   All  uns_row_%  ps_row_%  ms_row_%  succ_row_%  \n",
       "activity                                                                        \n",
       "Technology               64.0   172       41.9      15.1       5.8        37.2  \n",
       "Entertainment            79.0   174       44.3       8.0       2.3        45.4  \n",
       "Property                 15.0    33       39.4       6.1       9.1        45.5  \n",
       "Retail                   80.0   173       29.5      13.9      10.4        46.2  \n",
       "Grocery Store            15.0    30       23.3      23.3       3.3        50.0  \n",
       "Communications           45.0    86       33.7       9.3       4.7        52.3  \n",
       "Home Appliances           7.0    13        NaN      15.4      30.8        53.8  \n",
       "Services                753.0  1323       28.0       9.4       5.7        56.9  \n",
       "Transportation           68.0   118       31.4       5.1       5.9        57.6  \n",
       "Cleaning Services        69.0   115       27.0       9.6       3.5        60.0  "
      ]
     },
     "execution_count": 60,
     "metadata": {},
     "output_type": "execute_result"
    }
   ],
   "source": [
    "# USA - how activities are distributed by success of crowdfunding? (Only where there were 10 or more pitches.)\n",
    "success_pivot('activity')"
   ]
  },
  {
   "cell_type": "markdown",
   "metadata": {},
   "source": [
    "Projects related to the following activities fail in the USA most often: Technology, followed by Entertainment, Property, Retail. Remarkable are also projects related to Services because of their big volume."
   ]
  },
  {
   "cell_type": "markdown",
   "metadata": {},
   "source": [
    "Does this dataset provide any evidence about important differences between successful and unsuccessful projects?\n",
    "##### I am focusing on the USA.\n",
    "I won't usa ANOVA or other tests, will only look at percentages and try to see tendencies."
   ]
  },
  {
   "cell_type": "markdown",
   "metadata": {},
   "source": [
    "Mean, min, max 'loan_amount'? \n",
    "Differences in means (min, max) of 'term_in_months' or 'lender_count'?\n",
    "Anything to do with 'repayment_interval'?"
   ]
  },
  {
   "cell_type": "code",
   "execution_count": 61,
   "metadata": {},
   "outputs": [],
   "source": [
    "def descr_table(variable):    \n",
    "    table = usa.groupby('success').agg({variable: ['size', 'min', 'mean', 'median', 'max']})\n",
    "    return table"
   ]
  },
  {
   "cell_type": "code",
   "execution_count": 62,
   "metadata": {},
   "outputs": [
    {
     "data": {
      "text/html": [
       "<div>\n",
       "<style scoped>\n",
       "    .dataframe tbody tr th:only-of-type {\n",
       "        vertical-align: middle;\n",
       "    }\n",
       "\n",
       "    .dataframe tbody tr th {\n",
       "        vertical-align: top;\n",
       "    }\n",
       "\n",
       "    .dataframe thead tr th {\n",
       "        text-align: left;\n",
       "    }\n",
       "\n",
       "    .dataframe thead tr:last-of-type th {\n",
       "        text-align: right;\n",
       "    }\n",
       "</style>\n",
       "<table border=\"1\" class=\"dataframe\">\n",
       "  <thead>\n",
       "    <tr>\n",
       "      <th></th>\n",
       "      <th colspan=\"5\" halign=\"left\">lender_count</th>\n",
       "    </tr>\n",
       "    <tr>\n",
       "      <th></th>\n",
       "      <th>size</th>\n",
       "      <th>min</th>\n",
       "      <th>mean</th>\n",
       "      <th>median</th>\n",
       "      <th>max</th>\n",
       "    </tr>\n",
       "    <tr>\n",
       "      <th>success</th>\n",
       "      <th></th>\n",
       "      <th></th>\n",
       "      <th></th>\n",
       "      <th></th>\n",
       "      <th></th>\n",
       "    </tr>\n",
       "  </thead>\n",
       "  <tbody>\n",
       "    <tr>\n",
       "      <td>unsuccessful</td>\n",
       "      <td>1409</td>\n",
       "      <td>0</td>\n",
       "      <td>1.935415</td>\n",
       "      <td>0</td>\n",
       "      <td>55</td>\n",
       "    </tr>\n",
       "    <tr>\n",
       "      <td>partly successful</td>\n",
       "      <td>463</td>\n",
       "      <td>1</td>\n",
       "      <td>36.146868</td>\n",
       "      <td>34</td>\n",
       "      <td>187</td>\n",
       "    </tr>\n",
       "    <tr>\n",
       "      <td>mostly successful</td>\n",
       "      <td>288</td>\n",
       "      <td>1</td>\n",
       "      <td>72.357639</td>\n",
       "      <td>64</td>\n",
       "      <td>268</td>\n",
       "    </tr>\n",
       "    <tr>\n",
       "      <td>successful</td>\n",
       "      <td>3933</td>\n",
       "      <td>1</td>\n",
       "      <td>100.178998</td>\n",
       "      <td>87</td>\n",
       "      <td>507</td>\n",
       "    </tr>\n",
       "  </tbody>\n",
       "</table>\n",
       "</div>"
      ],
      "text/plain": [
       "                  lender_count                            \n",
       "                          size min        mean median  max\n",
       "success                                                   \n",
       "unsuccessful              1409   0    1.935415      0   55\n",
       "partly successful          463   1   36.146868     34  187\n",
       "mostly successful          288   1   72.357639     64  268\n",
       "successful                3933   1  100.178998     87  507"
      ]
     },
     "execution_count": 62,
     "metadata": {},
     "output_type": "execute_result"
    }
   ],
   "source": [
    "# Differences in means (min, max) of 'lender_count'\n",
    "descr_table('lender_count')"
   ]
  },
  {
   "cell_type": "markdown",
   "metadata": {},
   "source": [
    "As expected, the number of investors is strongly correlated to the share of money raised. No suprise.\n",
    "But why are they attracted to some projects and not to others? Because of their spheres / topics / purposes?.."
   ]
  },
  {
   "cell_type": "code",
   "execution_count": 63,
   "metadata": {},
   "outputs": [
    {
     "data": {
      "text/html": [
       "<div>\n",
       "<style scoped>\n",
       "    .dataframe tbody tr th:only-of-type {\n",
       "        vertical-align: middle;\n",
       "    }\n",
       "\n",
       "    .dataframe tbody tr th {\n",
       "        vertical-align: top;\n",
       "    }\n",
       "\n",
       "    .dataframe thead tr th {\n",
       "        text-align: left;\n",
       "    }\n",
       "\n",
       "    .dataframe thead tr:last-of-type th {\n",
       "        text-align: right;\n",
       "    }\n",
       "</style>\n",
       "<table border=\"1\" class=\"dataframe\">\n",
       "  <thead>\n",
       "    <tr>\n",
       "      <th></th>\n",
       "      <th colspan=\"5\" halign=\"left\">loan_amount</th>\n",
       "    </tr>\n",
       "    <tr>\n",
       "      <th></th>\n",
       "      <th>size</th>\n",
       "      <th>min</th>\n",
       "      <th>mean</th>\n",
       "      <th>median</th>\n",
       "      <th>max</th>\n",
       "    </tr>\n",
       "    <tr>\n",
       "      <th>success</th>\n",
       "      <th></th>\n",
       "      <th></th>\n",
       "      <th></th>\n",
       "      <th></th>\n",
       "      <th></th>\n",
       "    </tr>\n",
       "  </thead>\n",
       "  <tbody>\n",
       "    <tr>\n",
       "      <td>unsuccessful</td>\n",
       "      <td>1409</td>\n",
       "      <td>125</td>\n",
       "      <td>4262.313698</td>\n",
       "      <td>4975</td>\n",
       "      <td>10000</td>\n",
       "    </tr>\n",
       "    <tr>\n",
       "      <td>partly successful</td>\n",
       "      <td>463</td>\n",
       "      <td>500</td>\n",
       "      <td>5665.010799</td>\n",
       "      <td>5000</td>\n",
       "      <td>10000</td>\n",
       "    </tr>\n",
       "    <tr>\n",
       "      <td>mostly successful</td>\n",
       "      <td>288</td>\n",
       "      <td>500</td>\n",
       "      <td>5741.145833</td>\n",
       "      <td>5000</td>\n",
       "      <td>10000</td>\n",
       "    </tr>\n",
       "    <tr>\n",
       "      <td>successful</td>\n",
       "      <td>3933</td>\n",
       "      <td>200</td>\n",
       "      <td>5393.954996</td>\n",
       "      <td>5000</td>\n",
       "      <td>10000</td>\n",
       "    </tr>\n",
       "  </tbody>\n",
       "</table>\n",
       "</div>"
      ],
      "text/plain": [
       "                  loan_amount                                \n",
       "                         size  min         mean median    max\n",
       "success                                                      \n",
       "unsuccessful             1409  125  4262.313698   4975  10000\n",
       "partly successful         463  500  5665.010799   5000  10000\n",
       "mostly successful         288  500  5741.145833   5000  10000\n",
       "successful               3933  200  5393.954996   5000  10000"
      ]
     },
     "execution_count": 63,
     "metadata": {},
     "output_type": "execute_result"
    }
   ],
   "source": [
    "# Mean, min, max 'loan_amount'\n",
    "descr_table('loan_amount')"
   ]
  },
  {
   "cell_type": "markdown",
   "metadata": {},
   "source": [
    "No big difference between successful and unsuccessful projects.\n",
    "Unsuccessful ones claim even lower loan amount (if we take means) but I don't think this parameter matters, at least on its own, without interplay with something else."
   ]
  },
  {
   "cell_type": "code",
   "execution_count": 64,
   "metadata": {},
   "outputs": [
    {
     "data": {
      "text/html": [
       "<div>\n",
       "<style scoped>\n",
       "    .dataframe tbody tr th:only-of-type {\n",
       "        vertical-align: middle;\n",
       "    }\n",
       "\n",
       "    .dataframe tbody tr th {\n",
       "        vertical-align: top;\n",
       "    }\n",
       "\n",
       "    .dataframe thead tr th {\n",
       "        text-align: left;\n",
       "    }\n",
       "\n",
       "    .dataframe thead tr:last-of-type th {\n",
       "        text-align: right;\n",
       "    }\n",
       "</style>\n",
       "<table border=\"1\" class=\"dataframe\">\n",
       "  <thead>\n",
       "    <tr>\n",
       "      <th></th>\n",
       "      <th colspan=\"5\" halign=\"left\">term_in_months</th>\n",
       "    </tr>\n",
       "    <tr>\n",
       "      <th></th>\n",
       "      <th>size</th>\n",
       "      <th>min</th>\n",
       "      <th>mean</th>\n",
       "      <th>median</th>\n",
       "      <th>max</th>\n",
       "    </tr>\n",
       "    <tr>\n",
       "      <th>success</th>\n",
       "      <th></th>\n",
       "      <th></th>\n",
       "      <th></th>\n",
       "      <th></th>\n",
       "      <th></th>\n",
       "    </tr>\n",
       "  </thead>\n",
       "  <tbody>\n",
       "    <tr>\n",
       "      <td>unsuccessful</td>\n",
       "      <td>1409</td>\n",
       "      <td>6</td>\n",
       "      <td>24.129879</td>\n",
       "      <td>24</td>\n",
       "      <td>63</td>\n",
       "    </tr>\n",
       "    <tr>\n",
       "      <td>partly successful</td>\n",
       "      <td>463</td>\n",
       "      <td>12</td>\n",
       "      <td>27.645788</td>\n",
       "      <td>24</td>\n",
       "      <td>63</td>\n",
       "    </tr>\n",
       "    <tr>\n",
       "      <td>mostly successful</td>\n",
       "      <td>288</td>\n",
       "      <td>6</td>\n",
       "      <td>29.482639</td>\n",
       "      <td>26</td>\n",
       "      <td>63</td>\n",
       "    </tr>\n",
       "    <tr>\n",
       "      <td>successful</td>\n",
       "      <td>3933</td>\n",
       "      <td>3</td>\n",
       "      <td>27.751589</td>\n",
       "      <td>24</td>\n",
       "      <td>63</td>\n",
       "    </tr>\n",
       "  </tbody>\n",
       "</table>\n",
       "</div>"
      ],
      "text/plain": [
       "                  term_in_months                          \n",
       "                            size min       mean median max\n",
       "success                                                   \n",
       "unsuccessful                1409   6  24.129879     24  63\n",
       "partly successful            463  12  27.645788     24  63\n",
       "mostly successful            288   6  29.482639     26  63\n",
       "successful                  3933   3  27.751589     24  63"
      ]
     },
     "execution_count": 64,
     "metadata": {},
     "output_type": "execute_result"
    }
   ],
   "source": [
    "# Differences in means (min, max) of 'term_in_months'?\n",
    "descr_table('term_in_months')\n",
    "# I don't see any tendency here as well."
   ]
  },
  {
   "cell_type": "code",
   "execution_count": 65,
   "metadata": {},
   "outputs": [
    {
     "data": {
      "text/html": [
       "<div>\n",
       "<style scoped>\n",
       "    .dataframe tbody tr th:only-of-type {\n",
       "        vertical-align: middle;\n",
       "    }\n",
       "\n",
       "    .dataframe tbody tr th {\n",
       "        vertical-align: top;\n",
       "    }\n",
       "\n",
       "    .dataframe thead th {\n",
       "        text-align: right;\n",
       "    }\n",
       "</style>\n",
       "<table border=\"1\" class=\"dataframe\">\n",
       "  <thead>\n",
       "    <tr style=\"text-align: right;\">\n",
       "      <th>success</th>\n",
       "      <th>unsuccessful</th>\n",
       "      <th>partly successful</th>\n",
       "      <th>mostly successful</th>\n",
       "      <th>successful</th>\n",
       "      <th>All</th>\n",
       "      <th>uns_row_%</th>\n",
       "      <th>ps_row_%</th>\n",
       "      <th>ms_row_%</th>\n",
       "      <th>succ_row_%</th>\n",
       "    </tr>\n",
       "    <tr>\n",
       "      <th>repayment_interval</th>\n",
       "      <th></th>\n",
       "      <th></th>\n",
       "      <th></th>\n",
       "      <th></th>\n",
       "      <th></th>\n",
       "      <th></th>\n",
       "      <th></th>\n",
       "      <th></th>\n",
       "      <th></th>\n",
       "    </tr>\n",
       "  </thead>\n",
       "  <tbody>\n",
       "    <tr>\n",
       "      <td>bullet</td>\n",
       "      <td>1405.0</td>\n",
       "      <td>388.0</td>\n",
       "      <td>156.0</td>\n",
       "      <td>46.0</td>\n",
       "      <td>1995</td>\n",
       "      <td>70.4</td>\n",
       "      <td>19.4</td>\n",
       "      <td>7.8</td>\n",
       "      <td>2.3</td>\n",
       "    </tr>\n",
       "    <tr>\n",
       "      <td>All</td>\n",
       "      <td>1409.0</td>\n",
       "      <td>463.0</td>\n",
       "      <td>288.0</td>\n",
       "      <td>3933.0</td>\n",
       "      <td>6093</td>\n",
       "      <td>23.1</td>\n",
       "      <td>7.6</td>\n",
       "      <td>4.7</td>\n",
       "      <td>64.5</td>\n",
       "    </tr>\n",
       "    <tr>\n",
       "      <td>monthly</td>\n",
       "      <td>4.0</td>\n",
       "      <td>75.0</td>\n",
       "      <td>132.0</td>\n",
       "      <td>3869.0</td>\n",
       "      <td>4080</td>\n",
       "      <td>0.1</td>\n",
       "      <td>1.8</td>\n",
       "      <td>3.2</td>\n",
       "      <td>94.8</td>\n",
       "    </tr>\n",
       "    <tr>\n",
       "      <td>irregular</td>\n",
       "      <td>NaN</td>\n",
       "      <td>NaN</td>\n",
       "      <td>NaN</td>\n",
       "      <td>18.0</td>\n",
       "      <td>18</td>\n",
       "      <td>NaN</td>\n",
       "      <td>NaN</td>\n",
       "      <td>NaN</td>\n",
       "      <td>100.0</td>\n",
       "    </tr>\n",
       "  </tbody>\n",
       "</table>\n",
       "</div>"
      ],
      "text/plain": [
       "success             unsuccessful  partly successful  mostly successful  \\\n",
       "repayment_interval                                                       \n",
       "bullet                    1405.0              388.0              156.0   \n",
       "All                       1409.0              463.0              288.0   \n",
       "monthly                      4.0               75.0              132.0   \n",
       "irregular                    NaN                NaN                NaN   \n",
       "\n",
       "success             successful   All  uns_row_%  ps_row_%  ms_row_%  \\\n",
       "repayment_interval                                                    \n",
       "bullet                    46.0  1995       70.4      19.4       7.8   \n",
       "All                     3933.0  6093       23.1       7.6       4.7   \n",
       "monthly                 3869.0  4080        0.1       1.8       3.2   \n",
       "irregular                 18.0    18        NaN       NaN       NaN   \n",
       "\n",
       "success             succ_row_%  \n",
       "repayment_interval              \n",
       "bullet                     2.3  \n",
       "All                       64.5  \n",
       "monthly                   94.8  \n",
       "irregular                100.0  "
      ]
     },
     "execution_count": 65,
     "metadata": {},
     "output_type": "execute_result"
    }
   ],
   "source": [
    "# Anything to do with 'repayment_interval'?\n",
    "success_pivot('repayment_interval')"
   ]
  },
  {
   "cell_type": "markdown",
   "metadata": {},
   "source": [
    "Unsuccessful projects are more often associated with 'bullet' payment mode. Does it mean that enterprisers just pay this small money (if they got any) immediately after they realize that they won't succeed? Can be.\n",
    "By the way, weekly interval doesn't appear in the USA at all (but it is seldom anyway). \n",
    "Otherwise I cannot make any reasonable conclusion. I believe it has to do something rather with the topic (and quality of its presentation)."
   ]
  },
  {
   "cell_type": "markdown",
   "metadata": {},
   "source": [
    "From this database alone, I don't understand why some projects in the USA are more successful than others. We know that projects related to Technology, Entertainment, Property, Retail, Services fail in the USA most often.\n",
    "\n",
    "Are these projects (or generally projects related to more or less all activities in the USA) pitched by the entrepreneurs with much different quality? Is it just too many ideas coming from USA, - many of them not described and pitched well enough, - simply because of especially high value of entrepreneurship in this country?\n",
    "\n",
    "Do they demand more money than investors believe reasonable? Or do investors for some reasons show less interest for the abovementioned topics?\n",
    "\n",
    "##### These are questions for a separate study. Maybe we could change our marketing / information strategy in the USA, making it more clear to potential users how projects should be presented, to look attractive enough for investors."
   ]
  },
  {
   "cell_type": "markdown",
   "metadata": {},
   "source": [
    "### Summary"
   ]
  },
  {
   "cell_type": "markdown",
   "metadata": {},
   "source": [
    "##### 1. Most projects (93%) were successful in crowdfunding - our platform does its job well.\n",
    "##### 2. Ventures from developed countries (EU, Japan, Australia, Canada) do not use our service or don't know us: we need to approach them.\n",
    "##### 3. The biggest share in the total volume of projects we manage belongs to projects related to 'Farming', 'General Store', 'Agriculture', 'Housing', 'Clothing'.\n",
    "##### 4. The most lucrative projects which attract on average much more money than others and bring the highest provision / profit belong however to other spheres: ‘Landscaping / Gardening’, ‘Renewable Energy Products’, ‘Technology’, ‘Communications’, ‘Child Care’, ‘Cleaning Services’’. However, unfortunately, they are very seldom pitched on our platform, compared to projects in many other activities. We need more such projects on our platform and should try to attract ventures doing projects connected to these activities.\n",
    "##### 5. We can consider increasing commission on these projects: the typically high number of interested investors and usual success in crowdfunding both suggest that slightly increased commission should not be a barrier to entrepreneurs or investors.\n",
    "##### 6. Our focus number one should be projects related to Renewable Energy Products: they are popular among investors and are able to raise big money. We need to find ventures which are initiating projects related to Renewable Energy Products and try to make them using our service.\n",
    "##### 7. Too many projects from USA are failing to raise enough or even little money. Further research is needed on reasons for it, in order to find ways to help American entrepreneurs find investors which would help us achieve more sound results on the US market."
   ]
  }
 ],
 "metadata": {
  "hide_input": false,
  "kernelspec": {
   "display_name": "Python 3",
   "language": "python",
   "name": "python3"
  },
  "language_info": {
   "codemirror_mode": {
    "name": "ipython",
    "version": 3
   },
   "file_extension": ".py",
   "mimetype": "text/x-python",
   "name": "python",
   "nbconvert_exporter": "python",
   "pygments_lexer": "ipython3",
   "version": "3.7.4"
  },
  "nbTranslate": {
   "displayLangs": [
    "*"
   ],
   "hotkey": "alt-t",
   "langInMainMenu": true,
   "sourceLang": "en",
   "targetLang": "fr",
   "useGoogleTranslate": true
  },
  "toc": {
   "base_numbering": 1,
   "nav_menu": {},
   "number_sections": true,
   "sideBar": true,
   "skip_h1_title": false,
   "title_cell": "Table of Contents",
   "title_sidebar": "Contents",
   "toc_cell": false,
   "toc_position": {},
   "toc_section_display": true,
   "toc_window_display": false
  },
  "varInspector": {
   "cols": {
    "lenName": 16,
    "lenType": 16,
    "lenVar": 40
   },
   "kernels_config": {
    "python": {
     "delete_cmd_postfix": "",
     "delete_cmd_prefix": "del ",
     "library": "var_list.py",
     "varRefreshCmd": "print(var_dic_list())"
    },
    "r": {
     "delete_cmd_postfix": ") ",
     "delete_cmd_prefix": "rm(",
     "library": "var_list.r",
     "varRefreshCmd": "cat(var_dic_list()) "
    }
   },
   "types_to_exclude": [
    "module",
    "function",
    "builtin_function_or_method",
    "instance",
    "_Feature"
   ],
   "window_display": false
  }
 },
 "nbformat": 4,
 "nbformat_minor": 4
}
